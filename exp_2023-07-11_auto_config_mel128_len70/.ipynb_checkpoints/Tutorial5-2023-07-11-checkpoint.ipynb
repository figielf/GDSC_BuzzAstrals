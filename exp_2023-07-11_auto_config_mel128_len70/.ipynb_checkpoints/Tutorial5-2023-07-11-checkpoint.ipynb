{
 "cells": [
  {
   "cell_type": "markdown",
   "id": "b97b856e-d267-44fa-9666-d4cf436470f6",
   "metadata": {},
   "source": [
    "# Tutorial 5 - Getting better results with SageMaker training jobs"
   ]
  },
  {
   "cell_type": "markdown",
   "id": "0ecb3c7b-b471-48a0-a64b-07aee90ccf22",
   "metadata": {},
   "source": [
    "In the last tutorial, we trained and evaluated the first model on a small sample of data. While it is possible to train a model within [Sagemaker Studio](https://www.youtube.com/watch?v=uQc8Itd4UTs&list=PLhr1KZpdzukcOr_6j_zmSrvYnLUtgqsZz) it's better to use a Sagemaker training job instead. Sagemaker training jobs have several advantages over a normal notebook. To name few of them:\n",
    "\n",
    "- provide you with a nice overview of all the training you ran\n",
    "- automatically store the results of a training run (metrics, [logs](https://console.aws.amazon.com/cloudwatch) and models)\n",
    "- do not automatically shut down after a few hours (which we enabled in the notebooks)\n",
    "- allows running multiple training jobs in parallel (if you have sufficient GPUs allocated)\n",
    "\n",
    "In this notebook, we will convert the approach from tutorial 4 into a Sagemaker training job and train our model on the full data set. During the training, the logs are sent to [Cloudwatch](https://console.aws.amazon.com/cloudwatch) - AWS monitoring service. After the training is completed, the model is saved and automatically uploaded to S3. From there we'll retrieve the model and evaluate it.\n",
    "\n",
    "**NOTE: We will NOT need a GPU for this tutorial notebook. Pick a non-GPU instance type to save costs.**"
   ]
  },
  {
   "cell_type": "markdown",
   "id": "a30592f3-1c00-45b7-a6a6-66691ddeebff",
   "metadata": {},
   "source": [
    "## Setup\n",
    "\n",
    "First, we need to import required libraries and functions."
   ]
  },
  {
   "cell_type": "code",
   "execution_count": 2,
   "id": "40745116-f24d-4e57-8ce4-6e39d3badec0",
   "metadata": {
    "tags": []
   },
   "outputs": [],
   "source": [
    "%load_ext autoreload\n",
    "%autoreload 2"
   ]
  },
  {
   "cell_type": "code",
   "execution_count": 3,
   "id": "6729fb30-c66a-4a08-b618-250967909456",
   "metadata": {
    "tags": []
   },
   "outputs": [],
   "source": [
    "import os  "
   ]
  },
  {
   "cell_type": "code",
   "execution_count": 4,
   "id": "1da96692-6164-49fc-881f-663b022185a7",
   "metadata": {
    "tags": []
   },
   "outputs": [
    {
     "data": {
      "text/plain": [
       "'/root/data/experiments/exp_2023-07-11_auto_config_mel128_len70'"
      ]
     },
     "execution_count": 4,
     "metadata": {},
     "output_type": "execute_result"
    }
   ],
   "source": [
    "os.getcwd() "
   ]
  },
  {
   "cell_type": "code",
   "execution_count": 5,
   "id": "60d1e3ca-df58-418e-8b76-770c30dfcefe",
   "metadata": {
    "tags": []
   },
   "outputs": [],
   "source": [
    "import sys                                                                             # Python system library needed to load custom functions\n",
    "import numpy as np                                                                     # for performing calculations on numerical arrays\n",
    "import pandas as pd                                                                    # home of the DataFrame construct, _the_ most important object for Data Science\n",
    "import seaborn as sns                                                                  # additional plotting library\n",
    "import matplotlib.pyplot as plt                                                        # allows creation of insightful plots\n",
    "import os                                                                              # for changing the directory\n",
    "\n",
    "import sagemaker                                                                       # dedicated sagemaker library to execute training jobs\n",
    "import boto3                                                                           # for interacting with S3 buckets\n",
    "\n",
    "from sagemaker.huggingface import HuggingFace                                           # for executing the trainig jobs\n",
    "from sklearn.metrics import precision_recall_fscore_support, accuracy_score             # tools to understand how our model is performing\n",
    "\n",
    "#sys.path.append('')                                                               # Add the source directory to the PYTHONPATH. This allows to import local functions and modules.\n",
    "from config import DEFAULT_BUCKET, DEFAULT_REGION  \n",
    "from gdsc_utils import create_encrypted_bucket, download_and_extract_model, PROJECT_DIR # functions to create S3 buckets and to help with downloading models. Importing our root directory\n",
    "from gdsc_eval import plot_confusion_matrix                                             # function for creating confusion matrix                                     # importing the bucket name that contains data for the challenge and the default region\n",
    "os.chdir(PROJECT_DIR)                                                                   # changing our directory to root"
   ]
  },
  {
   "cell_type": "code",
   "execution_count": 6,
   "id": "548c87e9-b9cb-434e-b708-d2d1e715048b",
   "metadata": {
    "tags": []
   },
   "outputs": [],
   "source": [
    "# feature_extractor = ASTFeatureExtractor.from_pretrained(\"MIT/ast-finetuned-audioset-10-10-0.4593\", mean=dataset_mean, std=dataset_std, num_mel_bins=256)\n",
    "\n",
    "# config = ASTConfig.from_pretrained(\"MIT/ast-finetuned-audioset-10-10-0.4593\", \n",
    "#                                    num_labels=num_labels, \n",
    "#                                    label2id=label2id, \n",
    "#                                    id2label=id2label,\n",
    "#                                    num_mel_bins = 256)\n",
    "# model = ASTForAudioClassification.from_pretrained(\"MIT/ast-finetuned-audioset-10-10-0.4593\", config = config, ignore_mismatched_sizes=True)"
   ]
  },
  {
   "cell_type": "markdown",
   "id": "0aa3cff6-ab5b-4670-ba36-6b426d5a7c7e",
   "metadata": {
    "tags": []
   },
   "source": [
    "# Running the Training Script\n",
    "\n",
    "The training job will run on a virtual machine (called an instance) in the AWS cloud. An overview of all your training jobs can be found in the [AWS console](https://us-east-1.console.aws.amazon.com/sagemaker/home?region=us-east-1#/jobs) (you may have to change the region) after you logged into your account. You can also navigate directly to *Amazon SageMaker > Training > Training jobs* and click on the name of the latest training job.\n",
    "\n",
    "To start, we need to set the name of our experiment. Keep in mind that every experiment should have a unique name. Since we advise you to use a separate Python script for each training, we'll use the name of the training script as the name of the experiment."
   ]
  },
  {
   "cell_type": "code",
   "execution_count": 7,
   "id": "1973311c-bf2b-4e95-9fad-ff0bfb51d342",
   "metadata": {
    "tags": []
   },
   "outputs": [
    {
     "data": {
      "text/plain": [
       "'baseline-ast-train'"
      ]
     },
     "execution_count": 7,
     "metadata": {},
     "output_type": "execute_result"
    }
   ],
   "source": [
    "entry_point = 'baseline_ast_train.py'\n",
    "exp_name = entry_point.split('.')[0].replace('_', '-')  # AWS does not allow . and _ as experiment names\n",
    "exp_name"
   ]
  },
  {
   "cell_type": "markdown",
   "id": "56a4a5fa-e822-44b9-aa47-e8833b514ad8",
   "metadata": {},
   "source": [
    "Next, we need to define the AWS settings for the job."
   ]
  },
  {
   "cell_type": "code",
   "execution_count": 8,
   "id": "dc19b0a2-0e01-40d4-be62-89c505fc3073",
   "metadata": {
    "tags": []
   },
   "outputs": [],
   "source": [
    "account_id = boto3.client('sts').get_caller_identity().get('Account')\n",
    "role = sagemaker.get_execution_role()"
   ]
  },
  {
   "cell_type": "markdown",
   "id": "ba884f95-09e4-40e9-af7a-f4c6e81e565e",
   "metadata": {},
   "source": [
    "We will also need to download the data to train a model. Luckily, Sagemaker has built-in functionality for this. \n",
    "Via the ```input_channels``` parameter we can specify multiple S3 locations. The contents are downloaded in the training job and made available under the provided name (dictionary key).\n",
    "In the example below, Sagemaker will download the complete content of the training data bucket, store it on the instance and, save its location in an environment variable called ```SM_CHANNEL_DATA```.<br>\n",
    "You can define up to 20 different channels."
   ]
  },
  {
   "cell_type": "code",
   "execution_count": 9,
   "id": "19516277-f734-4365-bf88-b06fa8c78df3",
   "metadata": {
    "tags": []
   },
   "outputs": [
    {
     "data": {
      "text/plain": [
       "'gdsc.data.public.us-east-1'"
      ]
     },
     "execution_count": 9,
     "metadata": {},
     "output_type": "execute_result"
    }
   ],
   "source": [
    "DEFAULT_BUCKET"
   ]
  },
  {
   "cell_type": "markdown",
   "id": "22b0110d-7500-48ce-aad4-c4ee3f70f013",
   "metadata": {},
   "source": [
    "Below is the required structure in our **S3_bucket** that needs to be followed to create the HuggingFace dataset without any issues. The *metadata.csv* file should contain two columns:\n",
    "- file_name - the name of the file,\n",
    "- label - the ground truth label for that file.\n",
    "\n",
    "As we do not have labels for the test set, we only include the *file_name* column in the *metadata.csv* in the test directory.\n",
    "\n",
    "```\n",
    "S3_bucket/\n",
    "    └── data/\n",
    "        |── labels.json\n",
    "        └── train/\n",
    "            |── train_file_1.wav\n",
    "            |── train_file_2.wav\n",
    "            |── ...\n",
    "            |── metadata.csv\n",
    "        └── val/\n",
    "            |── val_file_1.wav\n",
    "            |── val_file_2.wav\n",
    "            |── ...\n",
    "            |── metadata.csv\n",
    "        └── test/\n",
    "            |── test_file_1.wav\n",
    "            |── test_file_2.wav\n",
    "            |── ...\n",
    "            |── metadata.csv\n",
    "```"
   ]
  },
  {
   "cell_type": "code",
   "execution_count": 10,
   "id": "b71b55d6-3556-4612-8f06-0ed1091782e3",
   "metadata": {
    "tags": []
   },
   "outputs": [],
   "source": [
    "DEFAULT_BUCKET = 'sagemaker-us-east-1-292159885427/original_dataset'"
   ]
  },
  {
   "cell_type": "code",
   "execution_count": 11,
   "id": "75e3e65c-7832-4e5e-9ce1-ebce1600a11c",
   "metadata": {
    "tags": []
   },
   "outputs": [
    {
     "data": {
      "text/plain": [
       "{'data': 's3://sagemaker-us-east-1-292159885427/original_dataset'}"
      ]
     },
     "execution_count": 11,
     "metadata": {},
     "output_type": "execute_result"
    }
   ],
   "source": [
    "input_channels = {    \n",
    "    \"data\": f\"s3://{DEFAULT_BUCKET}\"    \n",
    "}\n",
    "input_channels"
   ]
  },
  {
   "cell_type": "markdown",
   "id": "da305191-4387-46b6-b9a4-9ac9f9955ab6",
   "metadata": {},
   "source": [
    "We also specify where Sagemaker should store the results of the training job - i.e. the weights of the trained model. You will also see the link at the bottom of the training job overview page. If you already created a specific bucket for that purpose change ```s3_output_location``` variable to this bucket name"
   ]
  },
  {
   "cell_type": "code",
   "execution_count": 12,
   "id": "76aa836b-0eac-45fd-a928-f8175567c516",
   "metadata": {
    "tags": []
   },
   "outputs": [
    {
     "data": {
      "text/plain": [
       "'s3://sagemaker-us-east-1-292159885427/baseline-ast-train'"
      ]
     },
     "execution_count": 12,
     "metadata": {},
     "output_type": "execute_result"
    }
   ],
   "source": [
    "# We need to create our own s3 bucket if it doesn't exist yet:\n",
    "sagemaker_bucket = f\"sagemaker-{DEFAULT_REGION}-{account_id}\"\n",
    "create_encrypted_bucket(sagemaker_bucket)\n",
    "\n",
    "s3_output_location = f\"s3://{sagemaker_bucket}/{exp_name}\"\n",
    "s3_output_location"
   ]
  },
  {
   "cell_type": "markdown",
   "id": "3d88063a-d310-4871-8cf9-7a39abeeca7a",
   "metadata": {},
   "source": [
    "Using the <b>argparse</b> module in our training script, we can define the parameters that will be passed to the script. These parameters can include hyperparameters sent by the user, which are passed as command-line arguments to the script. Please go to the *baseline_ast_train.py* file located in the *src* and inspect the lines from 114 to 130, to see the whole list of possible arguments that you can pass to the script we've prepared."
   ]
  },
  {
   "cell_type": "code",
   "execution_count": 13,
   "id": "8de7da21-feda-4c38-9dca-e977f7186839",
   "metadata": {
    "tags": []
   },
   "outputs": [],
   "source": [
    "hyperparameters={\n",
    "    \"epochs\":10,                                                   # number of training epochs\n",
    "    \"patience\":3,                                                  # early stopping - how many epoch without improvement will stop the training\n",
    "    \"train_batch_size\":4,                                          # training batch size\n",
    "    \"model_name\":\"MIT/ast-finetuned-audioset-10-10-0.4593\",        # name of the pretrained model from HuggingFace\n",
    "    \"train_dir\":\"train\",                                           # folder name with training data\n",
    "    \"val_dir\":\"val\",                                               # folder name with validation data\n",
    "    \"test_dir\":\"test\",                                             # folder name with test data\n",
    "    \"train_dataset_mean\":-10.924984355631484,                       # mean value of spectrograms of our resampled data \n",
    "    \"train_dataset_std\":2.6720462120627158,                         # standard deviation value of spectrograms of our resampled data\n",
    "    \"learning_rate\":2e-5,\n",
    "    \"num_mel_bins\":128,\n",
    "    \"max_length\":70  \n",
    "}"
   ]
  },
  {
   "cell_type": "markdown",
   "id": "3d738979-5f62-46fc-913d-a647080b73fc",
   "metadata": {},
   "source": [
    "Finally, we need to specify which metrics we want Sagemaker to automatically track. For this, we need to set up [regular expressions](https://en.wikipedia.org/wiki/Regular_expression) that will be applied to the logs.\n",
    "The corresponding values will then be stored and made visible in the training job."
   ]
  },
  {
   "cell_type": "code",
   "execution_count": 14,
   "id": "fb052cbf-8e3b-4061-a5ea-1ea6ed233edd",
   "metadata": {
    "tags": []
   },
   "outputs": [],
   "source": [
    "metric_definitions=[\n",
    "    {'Name': 'loss', 'Regex': \"'loss': ([0-9]+(.|e\\-)[0-9]+),?\"},\n",
    "    {'Name': 'learning_rate', 'Regex': \"'learning_rate': ([0-9]+(.|e\\-)[0-9]+),?\"},\n",
    "    {'Name': 'eval_loss', 'Regex': \"'eval_loss': ([0-9]+(.|e\\-)[0-9]+),?\"},\n",
    "    {'Name': 'eval_accuracy', 'Regex': \"'eval_accuracy': ([0-9]+(.|e\\-)[0-9]+),?\"},\n",
    "    {'Name': 'eval_f1', 'Regex': \"'eval_f1': ([0-9]+(.|e\\-)[0-9]+),?\"},\n",
    "    {'Name': 'eval_precision', 'Regex': \"'eval_precision': ([0-9]+(.|e\\-)[0-9]+),?\"},\n",
    "    {'Name': 'eval_recall', 'Regex': \"'eval_recall': ([0-9]+(.|e\\-)[0-9]+),?\"},\n",
    "    {'Name': 'epoch', 'Regex': \"'epoch': ([0-9]+(.|e\\-)[0-9]+),?\"}]"
   ]
  },
  {
   "cell_type": "markdown",
   "id": "f798b487-0627-4c34-8192-604b1180021b",
   "metadata": {},
   "source": [
    "After all the necessary preparations, we are now ready to define a *SageMaker Estimator* which handles end-to-end Amazon SageMaker training and deployment tasks. While there are multiple available Estimators in SageMaker, we need to use the one that is compatible with our training script, so in our case, we will use the ```HuggingFace``` estimator.\n",
    "\n",
    "- SageMaker takes care of installing all the necessary libraries for the training job, but if there are any additional modules you want to use in the job, you can define them in ```src/requirements.txt```.\n",
    "- All the steps defined in our entry point will run during the training jobs. Therefore, if you want to change anything in the training process, you should define it in the Python script.\n",
    "- To start the job, we can call ```estimator.fit().``` With this command, the whole content of the src directory will be uploaded to the training instance. Therefore, if you want to use any additional functions, you should define them in src.\n",
    "- Note that interrupting the training job in the notebook won't stop it. If you don't want your job to finish, you have to stop it in the UI. Also, you can run only one job at a time.\n",
    "- When your training job is completed, your model will be stored as a .tar file in S3. The ```s3_output_location``` determines the location, and you can find it in the folder ```<your-training-job>/output```. You can download your model from there and test it locally. If there is no output folder, make sure to check the logs in the AWS console, as your training job may have failed."
   ]
  },
  {
   "cell_type": "code",
   "execution_count": 15,
   "id": "b2ecb685-813d-426f-8499-2b6e2cab5df6",
   "metadata": {
    "tags": []
   },
   "outputs": [],
   "source": [
    "INSTANCE_TYPE = \"ml.g4dn.xlarge\" # CHANGED !!! \n",
    "SOURCE_DIR = \"exp_2023-07-11_auto_config_mel128_len70\""
   ]
  },
  {
   "cell_type": "code",
   "execution_count": 16,
   "id": "cee902e6-d4c3-4d68-a1a6-b4f47021cb1c",
   "metadata": {
    "tags": []
   },
   "outputs": [],
   "source": [
    "image_uri = '954362353459.dkr.ecr.us-east-1.amazonaws.com/sm-training-custom:latest'\n",
    "\n",
    "huggingface_estimator = HuggingFace(\n",
    "    entry_point=entry_point,                # fine-tuning script to use in training job\n",
    "    source_dir=SOURCE_DIR,           # directory where fine-tuning script is stored. This directory will be downloaded to training instance\n",
    "    instance_type=INSTANCE_TYPE,         # instance type - ml.g4dn.xlarge is a GPU instance so the training will be faster \n",
    "    output_path = s3_output_location,       # outputbucket to store our model after training\n",
    "    instance_count=1,                       # number of instances. We are limited to 1 instance\n",
    "    role=role,                              # IAM role used in training job to acccess AWS resources (S3)\n",
    "    image_uri = image_uri,                  # passing our custom image with the required libraries\n",
    "    py_version=\"py310\",                     # Python version \n",
    "    hyperparameters=hyperparameters,        # hyperparameters to use in training job\n",
    "    metric_definitions = metric_definitions # metrics we want to extract from logs. It will be visible in SageMaker training job UI\n",
    ")"
   ]
  },
  {
   "cell_type": "markdown",
   "id": "fcd4b54a-eae4-4f60-bd0e-6f3a3d9d68e1",
   "metadata": {
    "tags": []
   },
   "source": [
    "After we created the estimator, we will need to call the *fit* method to start the training job. As this might take a while, we can set ```wait=False``` so our notebook will not wait for the training job to finish and we can continue working, but for the sake of the tutorial let's set it to ```True```."
   ]
  },
  {
   "cell_type": "code",
   "execution_count": 17,
   "id": "ce4bdcc7-ba86-494e-8310-91373b10e4a3",
   "metadata": {
    "tags": []
   },
   "outputs": [
    {
     "name": "stdout",
     "output_type": "stream",
     "text": [
      "Using provided s3_resource\n"
     ]
    },
    {
     "name": "stderr",
     "output_type": "stream",
     "text": [
      "INFO:sagemaker:Creating training-job with name: sm-training-custom-2023-07-11-07-47-41-336\n"
     ]
    },
    {
     "name": "stdout",
     "output_type": "stream",
     "text": [
      "2023-07-11 07:47:41 Starting - Starting the training job...\n",
      "2023-07-11 07:47:57 Starting - Preparing the instances for training......\n",
      "2023-07-11 07:49:09 Downloading - Downloading input data.....................\n",
      "2023-07-11 07:52:25 Training - Training image download completed. Training in progress.\u001b[34mbash: cannot set terminal process group (-1): Inappropriate ioctl for device\u001b[0m\n",
      "\u001b[34mbash: no job control in this shell\u001b[0m\n",
      "\u001b[34m2023-07-11 07:52:29,909 sagemaker-training-toolkit INFO     Imported framework sagemaker_pytorch_container.training\u001b[0m\n",
      "\u001b[34m2023-07-11 07:52:29,927 sagemaker-training-toolkit INFO     No Neurons detected (normal if no neurons installed)\u001b[0m\n",
      "\u001b[34m2023-07-11 07:52:29,936 sagemaker_pytorch_container.training INFO     Block until all host DNS lookups succeed.\u001b[0m\n",
      "\u001b[34m2023-07-11 07:52:29,943 sagemaker_pytorch_container.training INFO     Invoking user training script.\u001b[0m\n",
      "\u001b[34m2023-07-11 07:52:31,888 sagemaker-training-toolkit INFO     No Neurons detected (normal if no neurons installed)\u001b[0m\n",
      "\u001b[34m2023-07-11 07:52:31,915 sagemaker-training-toolkit INFO     No Neurons detected (normal if no neurons installed)\u001b[0m\n",
      "\u001b[34m2023-07-11 07:52:31,942 sagemaker-training-toolkit INFO     No Neurons detected (normal if no neurons installed)\u001b[0m\n",
      "\u001b[34m2023-07-11 07:52:31,952 sagemaker-training-toolkit INFO     Invoking user script\u001b[0m\n",
      "\u001b[34mTraining Env:\u001b[0m\n",
      "\u001b[34m{\n",
      "    \"additional_framework_parameters\": {},\n",
      "    \"channel_input_dirs\": {\n",
      "        \"data\": \"/opt/ml/input/data/data\"\n",
      "    },\n",
      "    \"current_host\": \"algo-1\",\n",
      "    \"current_instance_group\": \"homogeneousCluster\",\n",
      "    \"current_instance_group_hosts\": [\n",
      "        \"algo-1\"\n",
      "    ],\n",
      "    \"current_instance_type\": \"ml.g4dn.xlarge\",\n",
      "    \"distribution_hosts\": [],\n",
      "    \"distribution_instance_groups\": [],\n",
      "    \"framework_module\": \"sagemaker_pytorch_container.training:main\",\n",
      "    \"hosts\": [\n",
      "        \"algo-1\"\n",
      "    ],\n",
      "    \"hyperparameters\": {\n",
      "        \"epochs\": 10,\n",
      "        \"learning_rate\": 2e-05,\n",
      "        \"max_length\": 70,\n",
      "        \"model_name\": \"MIT/ast-finetuned-audioset-10-10-0.4593\",\n",
      "        \"num_mel_bins\": 128,\n",
      "        \"patience\": 3,\n",
      "        \"test_dir\": \"test\",\n",
      "        \"train_batch_size\": 4,\n",
      "        \"train_dataset_mean\": -10.924984355631484,\n",
      "        \"train_dataset_std\": 2.6720462120627158,\n",
      "        \"train_dir\": \"train\",\n",
      "        \"val_dir\": \"val\"\n",
      "    },\n",
      "    \"input_config_dir\": \"/opt/ml/input/config\",\n",
      "    \"input_data_config\": {\n",
      "        \"data\": {\n",
      "            \"TrainingInputMode\": \"File\",\n",
      "            \"S3DistributionType\": \"FullyReplicated\",\n",
      "            \"RecordWrapperType\": \"None\"\n",
      "        }\n",
      "    },\n",
      "    \"input_dir\": \"/opt/ml/input\",\n",
      "    \"instance_groups\": [\n",
      "        \"homogeneousCluster\"\n",
      "    ],\n",
      "    \"instance_groups_dict\": {\n",
      "        \"homogeneousCluster\": {\n",
      "            \"instance_group_name\": \"homogeneousCluster\",\n",
      "            \"instance_type\": \"ml.g4dn.xlarge\",\n",
      "            \"hosts\": [\n",
      "                \"algo-1\"\n",
      "            ]\n",
      "        }\n",
      "    },\n",
      "    \"is_hetero\": false,\n",
      "    \"is_master\": true,\n",
      "    \"is_modelparallel_enabled\": null,\n",
      "    \"is_smddpmprun_installed\": false,\n",
      "    \"job_name\": \"sm-training-custom-2023-07-11-07-47-41-336\",\n",
      "    \"log_level\": 20,\n",
      "    \"master_hostname\": \"algo-1\",\n",
      "    \"model_dir\": \"/opt/ml/model\",\n",
      "    \"module_dir\": \"s3://sagemaker-us-east-1-292159885427/sm-training-custom-2023-07-11-07-47-41-336/source/sourcedir.tar.gz\",\n",
      "    \"module_name\": \"baseline_ast_train\",\n",
      "    \"network_interface_name\": \"eth0\",\n",
      "    \"num_cpus\": 4,\n",
      "    \"num_gpus\": 1,\n",
      "    \"num_neurons\": 0,\n",
      "    \"output_data_dir\": \"/opt/ml/output/data\",\n",
      "    \"output_dir\": \"/opt/ml/output\",\n",
      "    \"output_intermediate_dir\": \"/opt/ml/output/intermediate\",\n",
      "    \"resource_config\": {\n",
      "        \"current_host\": \"algo-1\",\n",
      "        \"current_instance_type\": \"ml.g4dn.xlarge\",\n",
      "        \"current_group_name\": \"homogeneousCluster\",\n",
      "        \"hosts\": [\n",
      "            \"algo-1\"\n",
      "        ],\n",
      "        \"instance_groups\": [\n",
      "            {\n",
      "                \"instance_group_name\": \"homogeneousCluster\",\n",
      "                \"instance_type\": \"ml.g4dn.xlarge\",\n",
      "                \"hosts\": [\n",
      "                    \"algo-1\"\n",
      "                ]\n",
      "            }\n",
      "        ],\n",
      "        \"network_interface_name\": \"eth0\"\n",
      "    },\n",
      "    \"user_entry_point\": \"baseline_ast_train.py\"\u001b[0m\n",
      "\u001b[34m}\u001b[0m\n",
      "\u001b[34mEnvironment variables:\u001b[0m\n",
      "\u001b[34mSM_HOSTS=[\"algo-1\"]\u001b[0m\n",
      "\u001b[34mSM_NETWORK_INTERFACE_NAME=eth0\u001b[0m\n",
      "\u001b[34mSM_HPS={\"epochs\":10,\"learning_rate\":2e-05,\"max_length\":70,\"model_name\":\"MIT/ast-finetuned-audioset-10-10-0.4593\",\"num_mel_bins\":128,\"patience\":3,\"test_dir\":\"test\",\"train_batch_size\":4,\"train_dataset_mean\":-10.924984355631484,\"train_dataset_std\":2.6720462120627158,\"train_dir\":\"train\",\"val_dir\":\"val\"}\u001b[0m\n",
      "\u001b[34mSM_USER_ENTRY_POINT=baseline_ast_train.py\u001b[0m\n",
      "\u001b[34mSM_FRAMEWORK_PARAMS={}\u001b[0m\n",
      "\u001b[34mSM_RESOURCE_CONFIG={\"current_group_name\":\"homogeneousCluster\",\"current_host\":\"algo-1\",\"current_instance_type\":\"ml.g4dn.xlarge\",\"hosts\":[\"algo-1\"],\"instance_groups\":[{\"hosts\":[\"algo-1\"],\"instance_group_name\":\"homogeneousCluster\",\"instance_type\":\"ml.g4dn.xlarge\"}],\"network_interface_name\":\"eth0\"}\u001b[0m\n",
      "\u001b[34mSM_INPUT_DATA_CONFIG={\"data\":{\"RecordWrapperType\":\"None\",\"S3DistributionType\":\"FullyReplicated\",\"TrainingInputMode\":\"File\"}}\u001b[0m\n",
      "\u001b[34mSM_OUTPUT_DATA_DIR=/opt/ml/output/data\u001b[0m\n",
      "\u001b[34mSM_CHANNELS=[\"data\"]\u001b[0m\n",
      "\u001b[34mSM_CURRENT_HOST=algo-1\u001b[0m\n",
      "\u001b[34mSM_CURRENT_INSTANCE_TYPE=ml.g4dn.xlarge\u001b[0m\n",
      "\u001b[34mSM_CURRENT_INSTANCE_GROUP=homogeneousCluster\u001b[0m\n",
      "\u001b[34mSM_CURRENT_INSTANCE_GROUP_HOSTS=[\"algo-1\"]\u001b[0m\n",
      "\u001b[34mSM_INSTANCE_GROUPS=[\"homogeneousCluster\"]\u001b[0m\n",
      "\u001b[34mSM_INSTANCE_GROUPS_DICT={\"homogeneousCluster\":{\"hosts\":[\"algo-1\"],\"instance_group_name\":\"homogeneousCluster\",\"instance_type\":\"ml.g4dn.xlarge\"}}\u001b[0m\n",
      "\u001b[34mSM_DISTRIBUTION_INSTANCE_GROUPS=[]\u001b[0m\n",
      "\u001b[34mSM_IS_HETERO=false\u001b[0m\n",
      "\u001b[34mSM_MODULE_NAME=baseline_ast_train\u001b[0m\n",
      "\u001b[34mSM_LOG_LEVEL=20\u001b[0m\n",
      "\u001b[34mSM_FRAMEWORK_MODULE=sagemaker_pytorch_container.training:main\u001b[0m\n",
      "\u001b[34mSM_INPUT_DIR=/opt/ml/input\u001b[0m\n",
      "\u001b[34mSM_INPUT_CONFIG_DIR=/opt/ml/input/config\u001b[0m\n",
      "\u001b[34mSM_OUTPUT_DIR=/opt/ml/output\u001b[0m\n",
      "\u001b[34mSM_NUM_CPUS=4\u001b[0m\n",
      "\u001b[34mSM_NUM_GPUS=1\u001b[0m\n",
      "\u001b[34mSM_NUM_NEURONS=0\u001b[0m\n",
      "\u001b[34mSM_MODEL_DIR=/opt/ml/model\u001b[0m\n",
      "\u001b[34mSM_MODULE_DIR=s3://sagemaker-us-east-1-292159885427/sm-training-custom-2023-07-11-07-47-41-336/source/sourcedir.tar.gz\u001b[0m\n",
      "\u001b[34mSM_TRAINING_ENV={\"additional_framework_parameters\":{},\"channel_input_dirs\":{\"data\":\"/opt/ml/input/data/data\"},\"current_host\":\"algo-1\",\"current_instance_group\":\"homogeneousCluster\",\"current_instance_group_hosts\":[\"algo-1\"],\"current_instance_type\":\"ml.g4dn.xlarge\",\"distribution_hosts\":[],\"distribution_instance_groups\":[],\"framework_module\":\"sagemaker_pytorch_container.training:main\",\"hosts\":[\"algo-1\"],\"hyperparameters\":{\"epochs\":10,\"learning_rate\":2e-05,\"max_length\":70,\"model_name\":\"MIT/ast-finetuned-audioset-10-10-0.4593\",\"num_mel_bins\":128,\"patience\":3,\"test_dir\":\"test\",\"train_batch_size\":4,\"train_dataset_mean\":-10.924984355631484,\"train_dataset_std\":2.6720462120627158,\"train_dir\":\"train\",\"val_dir\":\"val\"},\"input_config_dir\":\"/opt/ml/input/config\",\"input_data_config\":{\"data\":{\"RecordWrapperType\":\"None\",\"S3DistributionType\":\"FullyReplicated\",\"TrainingInputMode\":\"File\"}},\"input_dir\":\"/opt/ml/input\",\"instance_groups\":[\"homogeneousCluster\"],\"instance_groups_dict\":{\"homogeneousCluster\":{\"hosts\":[\"algo-1\"],\"instance_group_name\":\"homogeneousCluster\",\"instance_type\":\"ml.g4dn.xlarge\"}},\"is_hetero\":false,\"is_master\":true,\"is_modelparallel_enabled\":null,\"is_smddpmprun_installed\":false,\"job_name\":\"sm-training-custom-2023-07-11-07-47-41-336\",\"log_level\":20,\"master_hostname\":\"algo-1\",\"model_dir\":\"/opt/ml/model\",\"module_dir\":\"s3://sagemaker-us-east-1-292159885427/sm-training-custom-2023-07-11-07-47-41-336/source/sourcedir.tar.gz\",\"module_name\":\"baseline_ast_train\",\"network_interface_name\":\"eth0\",\"num_cpus\":4,\"num_gpus\":1,\"num_neurons\":0,\"output_data_dir\":\"/opt/ml/output/data\",\"output_dir\":\"/opt/ml/output\",\"output_intermediate_dir\":\"/opt/ml/output/intermediate\",\"resource_config\":{\"current_group_name\":\"homogeneousCluster\",\"current_host\":\"algo-1\",\"current_instance_type\":\"ml.g4dn.xlarge\",\"hosts\":[\"algo-1\"],\"instance_groups\":[{\"hosts\":[\"algo-1\"],\"instance_group_name\":\"homogeneousCluster\",\"instance_type\":\"ml.g4dn.xlarge\"}],\"network_interface_name\":\"eth0\"},\"user_entry_point\":\"baseline_ast_train.py\"}\u001b[0m\n",
      "\u001b[34mSM_USER_ARGS=[\"--epochs\",\"10\",\"--learning_rate\",\"2e-05\",\"--max_length\",\"70\",\"--model_name\",\"MIT/ast-finetuned-audioset-10-10-0.4593\",\"--num_mel_bins\",\"128\",\"--patience\",\"3\",\"--test_dir\",\"test\",\"--train_batch_size\",\"4\",\"--train_dataset_mean\",\"-10.924984355631484\",\"--train_dataset_std\",\"2.6720462120627158\",\"--train_dir\",\"train\",\"--val_dir\",\"val\"]\u001b[0m\n",
      "\u001b[34mSM_OUTPUT_INTERMEDIATE_DIR=/opt/ml/output/intermediate\u001b[0m\n",
      "\u001b[34mSM_CHANNEL_DATA=/opt/ml/input/data/data\u001b[0m\n",
      "\u001b[34mSM_HP_EPOCHS=10\u001b[0m\n",
      "\u001b[34mSM_HP_LEARNING_RATE=2e-05\u001b[0m\n",
      "\u001b[34mSM_HP_MAX_LENGTH=70\u001b[0m\n",
      "\u001b[34mSM_HP_MODEL_NAME=MIT/ast-finetuned-audioset-10-10-0.4593\u001b[0m\n",
      "\u001b[34mSM_HP_NUM_MEL_BINS=128\u001b[0m\n",
      "\u001b[34mSM_HP_PATIENCE=3\u001b[0m\n",
      "\u001b[34mSM_HP_TEST_DIR=test\u001b[0m\n",
      "\u001b[34mSM_HP_TRAIN_BATCH_SIZE=4\u001b[0m\n",
      "\u001b[34mSM_HP_TRAIN_DATASET_MEAN=-10.924984355631484\u001b[0m\n",
      "\u001b[34mSM_HP_TRAIN_DATASET_STD=2.6720462120627158\u001b[0m\n",
      "\u001b[34mSM_HP_TRAIN_DIR=train\u001b[0m\n",
      "\u001b[34mSM_HP_VAL_DIR=val\u001b[0m\n",
      "\u001b[34mPYTHONPATH=/opt/ml/code:/opt/conda/bin:/opt/conda/lib/python310.zip:/opt/conda/lib/python3.10:/opt/conda/lib/python3.10/lib-dynload:/opt/conda/lib/python3.10/site-packages\u001b[0m\n",
      "\u001b[34mInvoking script with the following command:\u001b[0m\n",
      "\u001b[34m/opt/conda/bin/python3.10 baseline_ast_train.py --epochs 10 --learning_rate 2e-05 --max_length 70 --model_name MIT/ast-finetuned-audioset-10-10-0.4593 --num_mel_bins 128 --patience 3 --test_dir test --train_batch_size 4 --train_dataset_mean -10.924984355631484 --train_dataset_std 2.6720462120627158 --train_dir train --val_dir val\u001b[0m\n",
      "\u001b[34m2023-07-11 07:52:32,011 sagemaker-training-toolkit INFO     Exceptions not imported for SageMaker TF as Tensorflow is not installed.\u001b[0m\n",
      "\u001b[34m2023-07-11 07:52:38,092 - __main__ - INFO - Torch version\u001b[0m\n",
      "\u001b[34m2023-07-11 07:52:38,092 - __main__ - INFO - 1.13.1+cu117\u001b[0m\n",
      "\u001b[34m2023-07-11 07:52:38,092 - __main__ - INFO - Torch sees CUDA?\u001b[0m\n",
      "\u001b[34m2023-07-11 07:52:38,166 - __main__ - INFO - True\u001b[0m\n",
      "\u001b[34mDownloading (…)rocessor_config.json:   0%|          | 0.00/297 [00:00<?, ?B/s]\u001b[0m\n",
      "\u001b[34mDownloading (…)rocessor_config.json: 100%|██████████| 297/297 [00:00<00:00, 2.13MB/s]\u001b[0m\n",
      "\u001b[34m2023-07-11 07:52:38,220 - __main__ - INFO -  feature extractor loaded with dataset mean: -10.924984355631484 and standard deviation: 2.6720462120627158\u001b[0m\n",
      "\u001b[34mResolving data files:   0%|          | 0/1753 [00:00<?, ?it/s]\u001b[0m\n",
      "\u001b[34mResolving data files:  79%|███████▊  | 1379/1753 [00:00<00:00, 13604.90it/s]\u001b[0m\n",
      "\u001b[34mResolving data files: 100%|██████████| 1753/1753 [00:00<00:00, 15679.52it/s]\u001b[0m\n",
      "\u001b[34mDownloading and preparing dataset audiofolder/default to /root/.cache/huggingface/datasets/audiofolder/default-2bfca98a52a4145d/0.0.0/6cbdd16f8688354c63b4e2a36e1585d05de285023ee6443ffd71c4182055c0fc...\u001b[0m\n",
      "\u001b[34mDownloading data files:   0%|          | 0/1753 [00:00<?, ?it/s]\u001b[0m\n",
      "\u001b[34mDownloading data files: 100%|██████████| 1753/1753 [00:00<00:00, 86949.40it/s]\u001b[0m\n",
      "\u001b[34mDownloading data files: 0it [00:00, ?it/s]\u001b[0m\n",
      "\u001b[34mDownloading data files: 0it [00:00, ?it/s]\u001b[0m\n",
      "\u001b[34mExtracting data files: 0it [00:00, ?it/s]\u001b[0m\n",
      "\u001b[34mExtracting data files: 0it [00:00, ?it/s]\u001b[0m\n",
      "\u001b[34mGenerating train split: 0 examples [00:00, ? examples/s]\u001b[0m\n",
      "\u001b[34mGenerating train split: 1079 examples [00:00, 10752.56 examples/s]\u001b[0m\n",
      "\u001b[34mDataset audiofolder downloaded and prepared to /root/.cache/huggingface/datasets/audiofolder/default-2bfca98a52a4145d/0.0.0/6cbdd16f8688354c63b4e2a36e1585d05de285023ee6443ffd71c4182055c0fc. Subsequent calls will reuse this data.\u001b[0m\n",
      "\u001b[34m0%|          | 0/1 [00:00<?, ?it/s]\u001b[0m\n",
      "\u001b[34m100%|██████████| 1/1 [00:00<00:00, 97.02it/s]\u001b[0m\n",
      "\u001b[34m2023-07-11 07:52:39,950 - __main__ - INFO -  loaded train dataset length is: 1752\u001b[0m\n",
      "\u001b[34m2023-07-11 07:52:39,957 - __main__ - INFO -  train dataset sampling rate casted to: 22050\u001b[0m\n",
      "\u001b[34mMap:   0%|          | 0/1752 [00:00<?, ? examples/s]\u001b[0m\n",
      "\u001b[34mMap:   2%|▏         | 32/1752 [00:08<07:45,  3.69 examples/s]\u001b[0m\n",
      "\u001b[34mMap:   4%|▎         | 64/1752 [00:09<03:27,  8.14 examples/s]\u001b[0m\n",
      "\u001b[34mMap:   5%|▌         | 96/1752 [00:11<02:43, 10.10 examples/s]\u001b[0m\n",
      "\u001b[34mMap:   7%|▋         | 128/1752 [00:12<01:49, 14.85 examples/s]\u001b[0m\n",
      "\u001b[34mMap:   9%|▉         | 160/1752 [00:14<01:43, 15.36 examples/s]\u001b[0m\n",
      "\u001b[34mMap:  11%|█         | 192/1752 [00:15<01:38, 15.86 examples/s]\u001b[0m\n",
      "\u001b[34mMap:  13%|█▎        | 224/1752 [00:17<01:23, 18.36 examples/s]\u001b[0m\n",
      "\u001b[34mMap:  15%|█▍        | 256/1752 [00:17<01:06, 22.63 examples/s]\u001b[0m\n",
      "\u001b[34mMap:  16%|█▋        | 288/1752 [00:20<01:20, 18.20 examples/s]\u001b[0m\n",
      "\u001b[34mMap:  18%|█▊        | 320/1752 [00:21<01:07, 21.18 examples/s]\u001b[0m\n",
      "\u001b[34mMap:  20%|██        | 352/1752 [00:22<01:00, 23.15 examples/s]\u001b[0m\n",
      "\u001b[34mMap:  22%|██▏       | 384/1752 [00:24<01:02, 21.74 examples/s]\u001b[0m\n",
      "\u001b[34mMap:  24%|██▎       | 416/1752 [00:27<01:29, 14.94 examples/s]\u001b[0m\n",
      "\u001b[34mMap:  26%|██▌       | 448/1752 [00:29<01:16, 17.00 examples/s]\u001b[0m\n",
      "\u001b[34mMap:  27%|██▋       | 480/1752 [00:33<01:44, 12.18 examples/s]\u001b[0m\n",
      "\u001b[34mMap:  29%|██▉       | 512/1752 [00:34<01:20, 15.49 examples/s]\u001b[0m\n",
      "\u001b[34mMap:  31%|███       | 544/1752 [00:35<01:12, 16.61 examples/s]\u001b[0m\n",
      "\u001b[34mMap:  33%|███▎      | 576/1752 [00:36<00:57, 20.59 examples/s]\u001b[0m\n",
      "\u001b[34mMap:  35%|███▍      | 608/1752 [00:39<01:10, 16.17 examples/s]\u001b[0m\n",
      "\u001b[34mMap:  37%|███▋      | 640/1752 [00:40<00:56, 19.68 examples/s]\u001b[0m\n",
      "\u001b[34mMap:  38%|███▊      | 672/1752 [00:41<00:54, 19.71 examples/s]\u001b[0m\n",
      "\u001b[34mMap:  40%|████      | 704/1752 [00:43<00:49, 21.28 examples/s]\u001b[0m\n",
      "\u001b[34mMap:  42%|████▏     | 736/1752 [00:44<00:45, 22.12 examples/s]\u001b[0m\n",
      "\u001b[34mMap:  44%|████▍     | 768/1752 [00:45<00:42, 23.21 examples/s]\u001b[0m\n",
      "\u001b[34mMap:  46%|████▌     | 800/1752 [00:46<00:38, 24.81 examples/s]\u001b[0m\n",
      "\u001b[34mMap:  47%|████▋     | 832/1752 [00:48<00:40, 22.57 examples/s]\u001b[0m\n",
      "\u001b[34mMap:  49%|████▉     | 864/1752 [00:48<00:31, 27.84 examples/s]\u001b[0m\n",
      "\u001b[34mMap:  51%|█████     | 896/1752 [00:50<00:33, 25.68 examples/s]\u001b[0m\n",
      "\u001b[34mMap:  53%|█████▎    | 928/1752 [00:51<00:31, 25.80 examples/s]\u001b[0m\n",
      "\u001b[34mMap:  55%|█████▍    | 960/1752 [00:53<00:32, 24.40 examples/s]\u001b[0m\n",
      "\u001b[34mMap:  57%|█████▋    | 992/1752 [00:54<00:28, 27.09 examples/s]\u001b[0m\n",
      "\u001b[34mMap:  58%|█████▊    | 1024/1752 [00:55<00:26, 27.18 examples/s]\u001b[0m\n",
      "\u001b[34mMap:  60%|██████    | 1056/1752 [00:57<00:34, 20.42 examples/s]\u001b[0m\n",
      "\u001b[34mMap:  62%|██████▏   | 1088/1752 [00:59<00:32, 20.74 examples/s]\u001b[0m\n",
      "\u001b[34mMap:  64%|██████▍   | 1120/1752 [01:00<00:29, 21.79 examples/s]\u001b[0m\n",
      "\u001b[34mMap:  66%|██████▌   | 1152/1752 [01:01<00:25, 23.60 examples/s]\u001b[0m\n",
      "\u001b[34mMap:  68%|██████▊   | 1184/1752 [01:02<00:20, 27.23 examples/s]\u001b[0m\n",
      "\u001b[34mMap:  69%|██████▉   | 1216/1752 [01:03<00:17, 30.40 examples/s]\u001b[0m\n",
      "\u001b[34mMap:  71%|███████   | 1248/1752 [01:04<00:18, 26.88 examples/s]\u001b[0m\n",
      "\u001b[34mMap:  73%|███████▎  | 1280/1752 [01:05<00:14, 32.75 examples/s]\u001b[0m\n",
      "\u001b[34mMap:  75%|███████▍  | 1312/1752 [01:05<00:13, 33.39 examples/s]\u001b[0m\n",
      "\u001b[34mMap:  77%|███████▋  | 1344/1752 [01:06<00:10, 37.89 examples/s]\u001b[0m\n",
      "\u001b[34mMap:  79%|███████▊  | 1376/1752 [01:07<00:11, 33.29 examples/s]\u001b[0m\n",
      "\u001b[34mMap:  80%|████████  | 1408/1752 [01:08<00:09, 34.84 examples/s]\u001b[0m\n",
      "\u001b[34mMap:  82%|████████▏ | 1440/1752 [01:09<00:08, 37.48 examples/s]\u001b[0m\n",
      "\u001b[34mMap:  84%|████████▍ | 1472/1752 [01:10<00:08, 33.84 examples/s]\u001b[0m\n",
      "\u001b[34mMap:  86%|████████▌ | 1504/1752 [01:11<00:08, 30.32 examples/s]\u001b[0m\n",
      "\u001b[34mMap:  88%|████████▊ | 1536/1752 [01:13<00:07, 27.53 examples/s]\u001b[0m\n",
      "\u001b[34mMap:  89%|████████▉ | 1568/1752 [01:13<00:05, 31.36 examples/s]\u001b[0m\n",
      "\u001b[34mMap:  91%|█████████▏| 1600/1752 [01:15<00:05, 27.96 examples/s]\u001b[0m\n",
      "\u001b[34mMap:  93%|█████████▎| 1632/1752 [01:16<00:04, 29.00 examples/s]\u001b[0m\n",
      "\u001b[34mMap:  95%|█████████▍| 1664/1752 [01:17<00:02, 30.46 examples/s]\u001b[0m\n",
      "\u001b[34mMap:  97%|█████████▋| 1696/1752 [01:17<00:01, 34.89 examples/s]\u001b[0m\n",
      "\u001b[34mMap:  99%|█████████▊| 1728/1752 [01:20<00:01, 22.86 examples/s]\u001b[0m\n",
      "\u001b[34mMap: 100%|██████████| 1752/1752 [01:22<00:00, 17.06 examples/s]\u001b[0m\n",
      "\u001b[34m2023-07-11 07:54:02,867 - __main__ - INFO -  done extracting features for train dataset\u001b[0m\n",
      "\u001b[34mResolving data files:   0%|          | 0/580 [00:00<?, ?it/s]\u001b[0m\n",
      "\u001b[34mResolving data files: 100%|██████████| 580/580 [00:00<00:00, 105576.61it/s]\u001b[0m\n",
      "\u001b[34mDownloading and preparing dataset audiofolder/default to /root/.cache/huggingface/datasets/audiofolder/default-204ff2e94c7cd46d/0.0.0/6cbdd16f8688354c63b4e2a36e1585d05de285023ee6443ffd71c4182055c0fc...\u001b[0m\n",
      "\u001b[34mDownloading data files:   0%|          | 0/580 [00:00<?, ?it/s]\u001b[0m\n",
      "\u001b[34mDownloading data files: 100%|██████████| 580/580 [00:00<00:00, 73468.72it/s]\u001b[0m\n",
      "\u001b[34mDownloading data files: 0it [00:00, ?it/s]\u001b[0m\n",
      "\u001b[34mDownloading data files: 0it [00:00, ?it/s]\u001b[0m\n",
      "\u001b[34mExtracting data files: 0it [00:00, ?it/s]\u001b[0m\n",
      "\u001b[34mExtracting data files: 0it [00:00, ?it/s]\u001b[0m\n",
      "\u001b[34mGenerating train split: 0 examples [00:00, ? examples/s]\u001b[0m\n",
      "\u001b[34mDataset audiofolder downloaded and prepared to /root/.cache/huggingface/datasets/audiofolder/default-204ff2e94c7cd46d/0.0.0/6cbdd16f8688354c63b4e2a36e1585d05de285023ee6443ffd71c4182055c0fc. Subsequent calls will reuse this data.\u001b[0m\n",
      "\u001b[34m0%|          | 0/1 [00:00<?, ?it/s]\u001b[0m\n",
      "\u001b[34m100%|██████████| 1/1 [00:00<00:00, 360.12it/s]\u001b[0m\n",
      "\u001b[34m2023-07-11 07:54:03,522 - __main__ - INFO -  loaded validation dataset length is: 579\u001b[0m\n",
      "\u001b[34m2023-07-11 07:54:03,533 - __main__ - INFO -  validation dataset sampling rate casted to: 22050\u001b[0m\n",
      "\u001b[34mMap:   0%|          | 0/579 [00:00<?, ? examples/s]\u001b[0m\n",
      "\u001b[34mMap:   6%|▌         | 32/579 [00:01<00:18, 30.34 examples/s]\u001b[0m\n",
      "\u001b[34mMap:  11%|█         | 64/579 [00:02<00:20, 25.06 examples/s]\u001b[0m\n",
      "\u001b[34mMap:  17%|█▋        | 96/579 [00:02<00:13, 35.38 examples/s]\u001b[0m\n",
      "\u001b[34mMap:  22%|██▏       | 128/579 [00:03<00:11, 40.31 examples/s]\u001b[0m\n",
      "\u001b[34mMap:  28%|██▊       | 160/579 [00:04<00:11, 36.43 examples/s]\u001b[0m\n",
      "\u001b[34mMap:  33%|███▎      | 192/579 [00:06<00:16, 24.12 examples/s]\u001b[0m\n",
      "\u001b[34mMap:  39%|███▊      | 224/579 [00:07<00:13, 25.53 examples/s]\u001b[0m\n",
      "\u001b[34mMap:  44%|████▍     | 256/579 [00:11<00:20, 16.10 examples/s]\u001b[0m\n",
      "\u001b[34mMap:  50%|████▉     | 288/579 [00:13<00:19, 15.16 examples/s]\u001b[0m\n",
      "\u001b[34mMap:  55%|█████▌    | 320/579 [00:15<00:15, 16.93 examples/s]\u001b[0m\n",
      "\u001b[34mMap:  61%|██████    | 352/579 [00:15<00:10, 22.11 examples/s]\u001b[0m\n",
      "\u001b[34mMap:  66%|██████▋   | 384/579 [00:17<00:09, 21.06 examples/s]\u001b[0m\n",
      "\u001b[34mMap:  72%|███████▏  | 416/579 [00:18<00:06, 23.91 examples/s]\u001b[0m\n",
      "\u001b[34mMap:  77%|███████▋  | 448/579 [00:19<00:04, 27.66 examples/s]\u001b[0m\n",
      "\u001b[34mMap:  83%|████████▎ | 480/579 [00:19<00:03, 29.63 examples/s]\u001b[0m\n",
      "\u001b[34mMap:  88%|████████▊ | 512/579 [00:20<00:02, 30.97 examples/s]\u001b[0m\n",
      "\u001b[34mMap:  94%|█████████▍| 544/579 [00:21<00:01, 33.60 examples/s]\u001b[0m\n",
      "\u001b[34mMap:  99%|█████████▉| 576/579 [00:21<00:00, 43.41 examples/s]\u001b[0m\n",
      "\u001b[34m2023-07-11 07:54:25,427 - __main__ - INFO -  done extracting features for validation dataset\u001b[0m\n",
      "\u001b[34mResolving data files:   0%|          | 0/557 [00:00<?, ?it/s]\u001b[0m\n",
      "\u001b[34mResolving data files: 100%|██████████| 557/557 [00:00<00:00, 124931.94it/s]\u001b[0m\n",
      "\u001b[34mDownloading and preparing dataset audiofolder/default to /root/.cache/huggingface/datasets/audiofolder/default-8d7bc0124541196e/0.0.0/6cbdd16f8688354c63b4e2a36e1585d05de285023ee6443ffd71c4182055c0fc...\u001b[0m\n",
      "\u001b[34mDownloading data files:   0%|          | 0/557 [00:00<?, ?it/s]\u001b[0m\n",
      "\u001b[34mDownloading data files: 100%|██████████| 557/557 [00:00<00:00, 89844.53it/s]\u001b[0m\n",
      "\u001b[34mDownloading data files: 0it [00:00, ?it/s]\u001b[0m\n",
      "\u001b[34mDownloading data files: 0it [00:00, ?it/s]\u001b[0m\n",
      "\u001b[34mExtracting data files: 0it [00:00, ?it/s]\u001b[0m\n",
      "\u001b[34mExtracting data files: 0it [00:00, ?it/s]\u001b[0m\n",
      "\u001b[34mGenerating train split: 0 examples [00:00, ? examples/s]\u001b[0m\n",
      "\u001b[34mDataset audiofolder downloaded and prepared to /root/.cache/huggingface/datasets/audiofolder/default-8d7bc0124541196e/0.0.0/6cbdd16f8688354c63b4e2a36e1585d05de285023ee6443ffd71c4182055c0fc. Subsequent calls will reuse this data.\u001b[0m\n",
      "\u001b[34m0%|          | 0/1 [00:00<?, ?it/s]\u001b[0m\n",
      "\u001b[34m100%|██████████| 1/1 [00:00<00:00, 373.39it/s]\u001b[0m\n",
      "\u001b[34m2023-07-11 07:54:25,974 - __main__ - INFO -  loaded test dataset length is: 556\u001b[0m\n",
      "\u001b[34m2023-07-11 07:54:25,984 - __main__ - INFO -  test dataset sampling rate casted to: 22050\u001b[0m\n",
      "\u001b[34mMap:   0%|          | 0/556 [00:00<?, ? examples/s]\u001b[0m\n",
      "\u001b[34mMap:   6%|▌         | 32/556 [00:00<00:13, 38.54 examples/s]\u001b[0m\n",
      "\u001b[34mMap:  12%|█▏        | 64/556 [00:01<00:11, 41.11 examples/s]\u001b[0m\n",
      "\u001b[34mMap:  17%|█▋        | 96/556 [00:02<00:11, 41.03 examples/s]\u001b[0m\n",
      "\u001b[34mMap:  23%|██▎       | 128/556 [00:02<00:09, 45.21 examples/s]\u001b[0m\n",
      "\u001b[34mMap:  29%|██▉       | 160/556 [00:03<00:09, 39.91 examples/s]\u001b[0m\n",
      "\u001b[34mMap:  35%|███▍      | 192/556 [00:04<00:09, 39.25 examples/s]\u001b[0m\n",
      "\u001b[34mMap:  40%|████      | 224/556 [00:05<00:08, 37.80 examples/s]\u001b[0m\n",
      "\u001b[34mMap:  46%|████▌     | 256/556 [00:06<00:07, 39.11 examples/s]\u001b[0m\n",
      "\u001b[34mMap:  52%|█████▏    | 288/556 [00:08<00:09, 27.44 examples/s]\u001b[0m\n",
      "\u001b[34mMap:  58%|█████▊    | 320/556 [00:08<00:07, 33.11 examples/s]\u001b[0m\n",
      "\u001b[34mMap:  63%|██████▎   | 352/556 [00:10<00:07, 27.46 examples/s]\u001b[0m\n",
      "\u001b[34mMap:  69%|██████▉   | 384/556 [00:11<00:05, 31.91 examples/s]\u001b[0m\n",
      "\u001b[34mMap:  75%|███████▍  | 416/556 [00:11<00:04, 33.51 examples/s]\u001b[0m\n",
      "\u001b[34mMap:  81%|████████  | 448/556 [00:12<00:03, 33.32 examples/s]\u001b[0m\n",
      "\u001b[34mMap:  86%|████████▋ | 480/556 [00:14<00:02, 30.05 examples/s]\u001b[0m\n",
      "\u001b[34mMap:  92%|█████████▏| 512/556 [00:15<00:01, 31.85 examples/s]\u001b[0m\n",
      "\u001b[34mMap:  98%|█████████▊| 544/556 [00:16<00:00, 30.27 examples/s]\u001b[0m\n",
      "\u001b[34mMap: 100%|██████████| 556/556 [00:16<00:00, 30.06 examples/s]\u001b[0m\n",
      "\u001b[34m2023-07-11 07:54:42,705 - __main__ - INFO -  done extracting features for test dataset\u001b[0m\n",
      "\u001b[34mDownloading (…)lve/main/config.json:   0%|          | 0.00/26.8k [00:00<?, ?B/s]\u001b[0m\n",
      "\u001b[34mDownloading (…)lve/main/config.json: 100%|██████████| 26.8k/26.8k [00:00<00:00, 103MB/s]\u001b[0m\n",
      "\u001b[34mDownloading pytorch_model.bin:   0%|          | 0.00/346M [00:00<?, ?B/s]\u001b[0m\n",
      "\u001b[34mDownloading pytorch_model.bin:  18%|█▊        | 62.9M/346M [00:00<00:00, 542MB/s]\u001b[0m\n",
      "\u001b[34mDownloading pytorch_model.bin:  36%|███▋      | 126M/346M [00:00<00:00, 555MB/s]\u001b[0m\n",
      "\u001b[34mDownloading pytorch_model.bin:  54%|█████▍    | 189M/346M [00:00<00:00, 570MB/s]\u001b[0m\n",
      "\u001b[34mDownloading pytorch_model.bin:  73%|███████▎  | 252M/346M [00:00<00:00, 580MB/s]\u001b[0m\n",
      "\u001b[34mDownloading pytorch_model.bin:  91%|█████████ | 315M/346M [00:00<00:00, 585MB/s]\u001b[0m\n",
      "\u001b[34mDownloading pytorch_model.bin: 100%|██████████| 346M/346M [00:00<00:00, 569MB/s]\u001b[0m\n",
      "\u001b[34mSome weights of ASTForAudioClassification were not initialized from the model checkpoint at MIT/ast-finetuned-audioset-10-10-0.4593 and are newly initialized because the shapes did not match:\u001b[0m\n",
      "\u001b[34m- audio_spectrogram_transformer.embeddings.position_embeddings: found shape torch.Size([1, 1214, 768]) in the checkpoint and torch.Size([1, 74, 768]) in the model instantiated\u001b[0m\n",
      "\u001b[34m- classifier.dense.weight: found shape torch.Size([527, 768]) in the checkpoint and torch.Size([66, 768]) in the model instantiated\u001b[0m\n",
      "\u001b[34m- classifier.dense.bias: found shape torch.Size([527]) in the checkpoint and torch.Size([66]) in the model instantiated\u001b[0m\n",
      "\u001b[34mYou should probably TRAIN this model on a down-stream task to be able to use it for predictions and inference.\u001b[0m\n",
      "\u001b[34mSome weights of ASTForAudioClassification were not initialized from the model checkpoint at MIT/ast-finetuned-audioset-10-10-0.4593 and are newly initialized because the shapes did not match:\u001b[0m\n",
      "\u001b[34m- audio_spectrogram_transformer.embeddings.position_embeddings: found shape torch.Size([1, 1214, 768]) in the checkpoint and torch.Size([1, 74, 768]) in the model instantiated\u001b[0m\n",
      "\u001b[34m- classifier.dense.weight: found shape torch.Size([527, 768]) in the checkpoint and torch.Size([66, 768]) in the model instantiated\u001b[0m\n",
      "\u001b[34m- classifier.dense.bias: found shape torch.Size([527]) in the checkpoint and torch.Size([66]) in the model instantiated\u001b[0m\n",
      "\u001b[34mYou should probably TRAIN this model on a down-stream task to be able to use it for predictions and inference.\u001b[0m\n",
      "\u001b[34m2023-07-11 07:54:46,675 - __main__ - INFO -  starting training proccess for 10 epoch(s)\u001b[0m\n",
      "\u001b[34m{'loss': 4.2726, 'learning_rate': 1.995433789954338e-05, 'epoch': 0.02}\u001b[0m\n",
      "\u001b[34m{'loss': 4.0485, 'learning_rate': 1.990867579908676e-05, 'epoch': 0.05}\u001b[0m\n",
      "\u001b[34m{'loss': 4.0702, 'learning_rate': 1.9863013698630137e-05, 'epoch': 0.07}\u001b[0m\n",
      "\u001b[34m{'loss': 3.94, 'learning_rate': 1.981735159817352e-05, 'epoch': 0.09}\u001b[0m\n",
      "\u001b[34m{'loss': 4.1754, 'learning_rate': 1.9771689497716898e-05, 'epoch': 0.11}\u001b[0m\n",
      "\u001b[34m{'loss': 3.9933, 'learning_rate': 1.9726027397260276e-05, 'epoch': 0.14}\u001b[0m\n",
      "\u001b[34m{'loss': 3.7036, 'learning_rate': 1.9680365296803655e-05, 'epoch': 0.16}\u001b[0m\n",
      "\u001b[34m{'loss': 3.7977, 'learning_rate': 1.9634703196347033e-05, 'epoch': 0.18}\u001b[0m\n",
      "\u001b[34m{'loss': 3.7962, 'learning_rate': 1.9589041095890412e-05, 'epoch': 0.21}\u001b[0m\n",
      "\u001b[34m{'loss': 3.623, 'learning_rate': 1.954337899543379e-05, 'epoch': 0.23}\u001b[0m\n",
      "\u001b[34m{'loss': 3.2566, 'learning_rate': 1.949771689497717e-05, 'epoch': 0.25}\u001b[0m\n",
      "\u001b[34m{'loss': 3.61, 'learning_rate': 1.945205479452055e-05, 'epoch': 0.27}\u001b[0m\n",
      "\u001b[34m{'loss': 3.5101, 'learning_rate': 1.940639269406393e-05, 'epoch': 0.3}\u001b[0m\n",
      "\u001b[34m{'loss': 3.2399, 'learning_rate': 1.9360730593607308e-05, 'epoch': 0.32}\u001b[0m\n",
      "\u001b[34m{'loss': 3.6567, 'learning_rate': 1.9315068493150686e-05, 'epoch': 0.34}\u001b[0m\n",
      "\u001b[34m{'loss': 3.7236, 'learning_rate': 1.9269406392694065e-05, 'epoch': 0.37}\u001b[0m\n",
      "\u001b[34m{'loss': 3.6192, 'learning_rate': 1.9223744292237447e-05, 'epoch': 0.39}\u001b[0m\n",
      "\u001b[34m{'loss': 3.6639, 'learning_rate': 1.9178082191780822e-05, 'epoch': 0.41}\u001b[0m\n",
      "\u001b[34m{'loss': 3.1157, 'learning_rate': 1.91324200913242e-05, 'epoch': 0.43}\u001b[0m\n",
      "\u001b[34m{'loss': 3.1864, 'learning_rate': 1.9086757990867582e-05, 'epoch': 0.46}\u001b[0m\n",
      "\u001b[34m{'loss': 3.2411, 'learning_rate': 1.904109589041096e-05, 'epoch': 0.48}\u001b[0m\n",
      "\u001b[34m{'loss': 2.9583, 'learning_rate': 1.899543378995434e-05, 'epoch': 0.5}\u001b[0m\n",
      "\u001b[34m{'loss': 2.7507, 'learning_rate': 1.8949771689497718e-05, 'epoch': 0.53}\u001b[0m\n",
      "\u001b[34m{'loss': 3.2737, 'learning_rate': 1.8904109589041096e-05, 'epoch': 0.55}\u001b[0m\n",
      "\u001b[34m{'loss': 2.6172, 'learning_rate': 1.8858447488584478e-05, 'epoch': 0.57}\u001b[0m\n",
      "\u001b[34m{'loss': 3.1161, 'learning_rate': 1.8812785388127853e-05, 'epoch': 0.59}\u001b[0m\n",
      "\u001b[34m{'loss': 3.0247, 'learning_rate': 1.8767123287671235e-05, 'epoch': 0.62}\u001b[0m\n",
      "\u001b[34m{'loss': 3.4431, 'learning_rate': 1.8721461187214614e-05, 'epoch': 0.64}\u001b[0m\n",
      "\u001b[34m{'loss': 3.4099, 'learning_rate': 1.8675799086757992e-05, 'epoch': 0.66}\u001b[0m\n",
      "\u001b[34m{'loss': 3.1418, 'learning_rate': 1.863013698630137e-05, 'epoch': 0.68}\u001b[0m\n",
      "\u001b[34m{'loss': 3.1254, 'learning_rate': 1.858447488584475e-05, 'epoch': 0.71}\u001b[0m\n",
      "\u001b[34m{'loss': 2.8394, 'learning_rate': 1.8538812785388128e-05, 'epoch': 0.73}\u001b[0m\n",
      "\u001b[34m{'loss': 2.92, 'learning_rate': 1.849315068493151e-05, 'epoch': 0.75}\u001b[0m\n",
      "\u001b[34m{'loss': 2.9252, 'learning_rate': 1.8447488584474885e-05, 'epoch': 0.78}\u001b[0m\n",
      "\u001b[34m{'loss': 2.5697, 'learning_rate': 1.8401826484018267e-05, 'epoch': 0.8}\u001b[0m\n",
      "\u001b[34m{'loss': 2.5526, 'learning_rate': 1.8356164383561645e-05, 'epoch': 0.82}\u001b[0m\n",
      "\u001b[34m{'loss': 3.1974, 'learning_rate': 1.8310502283105024e-05, 'epoch': 0.84}\u001b[0m\n",
      "\u001b[34m{'loss': 2.723, 'learning_rate': 1.8264840182648402e-05, 'epoch': 0.87}\u001b[0m\n",
      "\u001b[34m{'loss': 2.7644, 'learning_rate': 1.821917808219178e-05, 'epoch': 0.89}\u001b[0m\n",
      "\u001b[34m{'loss': 2.6383, 'learning_rate': 1.8173515981735163e-05, 'epoch': 0.91}\u001b[0m\n",
      "\u001b[34m{'loss': 2.605, 'learning_rate': 1.812785388127854e-05, 'epoch': 0.94}\u001b[0m\n",
      "\u001b[34m{'loss': 3.0696, 'learning_rate': 1.808219178082192e-05, 'epoch': 0.96}\u001b[0m\n",
      "\u001b[34m{'loss': 2.9196, 'learning_rate': 1.80365296803653e-05, 'epoch': 0.98}\u001b[0m\n",
      "\u001b[34m/opt/conda/lib/python3.10/site-packages/sklearn/metrics/_classification.py:1344: UndefinedMetricWarning: Precision and F-score are ill-defined and being set to 0.0 in labels with no predicted samples. Use `zero_division` parameter to control this behavior.\n",
      "  _warn_prf(average, modifier, msg_start, len(result))\u001b[0m\n",
      "\u001b[34m{'eval_loss': 2.8162193298339844, 'eval_accuracy': 0.24870466321243523, 'eval_f1': 0.18498569929662648, 'eval_precision': 0.21079527745536922, 'eval_recall': 0.2142849167229972, 'eval_runtime': 4.7719, 'eval_samples_per_second': 121.335, 'eval_steps_per_second': 2.096, 'epoch': 1.0}\u001b[0m\n",
      "\u001b[34m{'loss': 2.6323, 'learning_rate': 1.7990867579908677e-05, 'epoch': 1.0}\u001b[0m\n",
      "\u001b[34m{'loss': 2.36, 'learning_rate': 1.7945205479452055e-05, 'epoch': 1.03}\u001b[0m\n",
      "\u001b[34m{'loss': 2.4504, 'learning_rate': 1.7899543378995434e-05, 'epoch': 1.05}\u001b[0m\n",
      "\u001b[34m{'loss': 2.343, 'learning_rate': 1.7853881278538812e-05, 'epoch': 1.07}\u001b[0m\n",
      "\u001b[34m{'loss': 2.3606, 'learning_rate': 1.7808219178082194e-05, 'epoch': 1.1}\u001b[0m\n",
      "\u001b[34m{'loss': 2.4613, 'learning_rate': 1.7762557077625573e-05, 'epoch': 1.12}\u001b[0m\n",
      "\u001b[34m{'loss': 2.1255, 'learning_rate': 1.771689497716895e-05, 'epoch': 1.14}\u001b[0m\n",
      "\u001b[34m{'loss': 2.3664, 'learning_rate': 1.767123287671233e-05, 'epoch': 1.16}\u001b[0m\n",
      "\u001b[34m{'loss': 2.5365, 'learning_rate': 1.762557077625571e-05, 'epoch': 1.19}\u001b[0m\n",
      "\u001b[34m{'loss': 2.2954, 'learning_rate': 1.757990867579909e-05, 'epoch': 1.21}\u001b[0m\n",
      "\u001b[34m{'loss': 2.0339, 'learning_rate': 1.7534246575342465e-05, 'epoch': 1.23}\u001b[0m\n",
      "\u001b[34m{'loss': 2.4805, 'learning_rate': 1.7488584474885847e-05, 'epoch': 1.26}\u001b[0m\n",
      "\u001b[34m{'loss': 2.0196, 'learning_rate': 1.7442922374429226e-05, 'epoch': 1.28}\u001b[0m\n",
      "\u001b[34m{'loss': 2.1023, 'learning_rate': 1.7397260273972604e-05, 'epoch': 1.3}\u001b[0m\n",
      "\u001b[34m{'loss': 2.5577, 'learning_rate': 1.7351598173515983e-05, 'epoch': 1.32}\u001b[0m\n",
      "\u001b[34m{'loss': 2.1545, 'learning_rate': 1.730593607305936e-05, 'epoch': 1.35}\u001b[0m\n",
      "\u001b[34m{'loss': 2.2638, 'learning_rate': 1.726027397260274e-05, 'epoch': 1.37}\u001b[0m\n",
      "\u001b[34m{'loss': 2.0898, 'learning_rate': 1.7214611872146122e-05, 'epoch': 1.39}\u001b[0m\n",
      "\u001b[34m{'loss': 1.7495, 'learning_rate': 1.7168949771689497e-05, 'epoch': 1.42}\u001b[0m\n",
      "\u001b[34m{'loss': 2.4509, 'learning_rate': 1.712328767123288e-05, 'epoch': 1.44}\u001b[0m\n",
      "\u001b[34m{'loss': 2.0397, 'learning_rate': 1.7077625570776257e-05, 'epoch': 1.46}\u001b[0m\n",
      "\u001b[34m{'loss': 2.3573, 'learning_rate': 1.7031963470319636e-05, 'epoch': 1.48}\u001b[0m\n",
      "\u001b[34m{'loss': 2.0026, 'learning_rate': 1.6986301369863014e-05, 'epoch': 1.51}\u001b[0m\n",
      "\u001b[34m{'loss': 2.1564, 'learning_rate': 1.6940639269406393e-05, 'epoch': 1.53}\u001b[0m\n",
      "\u001b[34m{'loss': 2.2244, 'learning_rate': 1.6894977168949775e-05, 'epoch': 1.55}\u001b[0m\n",
      "\u001b[34m{'loss': 2.3417, 'learning_rate': 1.6849315068493153e-05, 'epoch': 1.58}\u001b[0m\n",
      "\u001b[34m{'loss': 2.2259, 'learning_rate': 1.680365296803653e-05, 'epoch': 1.6}\u001b[0m\n",
      "\u001b[34m{'loss': 1.9436, 'learning_rate': 1.675799086757991e-05, 'epoch': 1.62}\u001b[0m\n",
      "\u001b[34m{'loss': 1.9664, 'learning_rate': 1.671232876712329e-05, 'epoch': 1.64}\u001b[0m\n",
      "\u001b[34m{'loss': 1.5786, 'learning_rate': 1.6666666666666667e-05, 'epoch': 1.67}\u001b[0m\n",
      "\u001b[34m{'loss': 2.1201, 'learning_rate': 1.6621004566210046e-05, 'epoch': 1.69}\u001b[0m\n",
      "\u001b[34m{'loss': 2.2329, 'learning_rate': 1.6575342465753425e-05, 'epoch': 1.71}\u001b[0m\n",
      "\u001b[34m{'loss': 1.738, 'learning_rate': 1.6529680365296806e-05, 'epoch': 1.74}\u001b[0m\n",
      "\u001b[34m{'loss': 2.115, 'learning_rate': 1.6484018264840185e-05, 'epoch': 1.76}\u001b[0m\n",
      "\u001b[34m{'loss': 1.9542, 'learning_rate': 1.6438356164383563e-05, 'epoch': 1.78}\u001b[0m\n",
      "\u001b[34m{'loss': 1.5456, 'learning_rate': 1.6392694063926942e-05, 'epoch': 1.8}\u001b[0m\n",
      "\u001b[34m{'loss': 1.6979, 'learning_rate': 1.634703196347032e-05, 'epoch': 1.83}\u001b[0m\n",
      "\u001b[34m{'loss': 2.1886, 'learning_rate': 1.6301369863013702e-05, 'epoch': 1.85}\u001b[0m\n",
      "\u001b[34m{'loss': 1.8855, 'learning_rate': 1.6255707762557078e-05, 'epoch': 1.87}\u001b[0m\n",
      "\u001b[34m{'loss': 2.0387, 'learning_rate': 1.6210045662100456e-05, 'epoch': 1.89}\u001b[0m\n",
      "\u001b[34m{'loss': 1.7396, 'learning_rate': 1.6164383561643838e-05, 'epoch': 1.92}\u001b[0m\n",
      "\u001b[34m{'loss': 1.8105, 'learning_rate': 1.6118721461187216e-05, 'epoch': 1.94}\u001b[0m\n",
      "\u001b[34m{'loss': 2.2986, 'learning_rate': 1.6073059360730595e-05, 'epoch': 1.96}\u001b[0m\n",
      "\u001b[34m{'loss': 1.7575, 'learning_rate': 1.6027397260273974e-05, 'epoch': 1.99}\u001b[0m\n",
      "\u001b[34m/opt/conda/lib/python3.10/site-packages/sklearn/metrics/_classification.py:1344: UndefinedMetricWarning: Precision and F-score are ill-defined and being set to 0.0 in labels with no predicted samples. Use `zero_division` parameter to control this behavior.\n",
      "  _warn_prf(average, modifier, msg_start, len(result))\u001b[0m\n",
      "\u001b[34m{'eval_loss': 2.500763177871704, 'eval_accuracy': 0.35751295336787564, 'eval_f1': 0.29364649733009174, 'eval_precision': 0.3557083529162582, 'eval_recall': 0.317524258756255, 'eval_runtime': 5.0664, 'eval_samples_per_second': 114.282, 'eval_steps_per_second': 1.974, 'epoch': 2.0}\u001b[0m\n",
      "\u001b[34m{'loss': 1.3521, 'learning_rate': 1.5981735159817352e-05, 'epoch': 2.01}\u001b[0m\n",
      "\u001b[34m{'loss': 1.2588, 'learning_rate': 1.5936073059360734e-05, 'epoch': 2.03}\u001b[0m\n",
      "\u001b[34m{'loss': 1.1635, 'learning_rate': 1.589041095890411e-05, 'epoch': 2.05}\u001b[0m\n",
      "\u001b[34m{'loss': 1.4365, 'learning_rate': 1.584474885844749e-05, 'epoch': 2.08}\u001b[0m\n",
      "\u001b[34m{'loss': 1.3374, 'learning_rate': 1.579908675799087e-05, 'epoch': 2.1}\u001b[0m\n",
      "\u001b[34m{'loss': 1.2529, 'learning_rate': 1.5753424657534248e-05, 'epoch': 2.12}\u001b[0m\n",
      "\u001b[34m{'loss': 1.2747, 'learning_rate': 1.5707762557077627e-05, 'epoch': 2.15}\u001b[0m\n",
      "\u001b[34m{'loss': 1.3148, 'learning_rate': 1.5662100456621005e-05, 'epoch': 2.17}\u001b[0m\n",
      "\u001b[34m{'loss': 1.2908, 'learning_rate': 1.5616438356164384e-05, 'epoch': 2.19}\u001b[0m\n",
      "\u001b[34m{'loss': 1.5974, 'learning_rate': 1.5570776255707765e-05, 'epoch': 2.21}\u001b[0m\n",
      "\u001b[34m{'loss': 1.5877, 'learning_rate': 1.552511415525114e-05, 'epoch': 2.24}\u001b[0m\n",
      "\u001b[34m{'loss': 1.3345, 'learning_rate': 1.5479452054794523e-05, 'epoch': 2.26}\u001b[0m\n",
      "\u001b[34m{'loss': 1.8123, 'learning_rate': 1.54337899543379e-05, 'epoch': 2.28}\u001b[0m\n",
      "\u001b[34m{'loss': 1.6038, 'learning_rate': 1.538812785388128e-05, 'epoch': 2.31}\u001b[0m\n",
      "\u001b[34m{'loss': 1.5399, 'learning_rate': 1.5342465753424658e-05, 'epoch': 2.33}\u001b[0m\n",
      "\u001b[34m{'loss': 1.3227, 'learning_rate': 1.5296803652968037e-05, 'epoch': 2.35}\u001b[0m\n",
      "\u001b[34m{'loss': 1.5051, 'learning_rate': 1.5251141552511417e-05, 'epoch': 2.37}\u001b[0m\n",
      "\u001b[34m{'loss': 1.1518, 'learning_rate': 1.5205479452054797e-05, 'epoch': 2.4}\u001b[0m\n",
      "\u001b[34m{'loss': 1.1792, 'learning_rate': 1.5159817351598174e-05, 'epoch': 2.42}\u001b[0m\n",
      "\u001b[34m{'loss': 1.1715, 'learning_rate': 1.5114155251141554e-05, 'epoch': 2.44}\u001b[0m\n",
      "\u001b[34m{'loss': 1.598, 'learning_rate': 1.5068493150684933e-05, 'epoch': 2.47}\u001b[0m\n",
      "\u001b[34m{'loss': 1.2031, 'learning_rate': 1.5022831050228313e-05, 'epoch': 2.49}\u001b[0m\n",
      "\u001b[34m{'loss': 1.6561, 'learning_rate': 1.497716894977169e-05, 'epoch': 2.51}\u001b[0m\n",
      "\u001b[34m{'loss': 1.5822, 'learning_rate': 1.493150684931507e-05, 'epoch': 2.53}\u001b[0m\n",
      "\u001b[34m{'loss': 1.368, 'learning_rate': 1.4885844748858448e-05, 'epoch': 2.56}\u001b[0m\n",
      "\u001b[34m{'loss': 1.3174, 'learning_rate': 1.4840182648401829e-05, 'epoch': 2.58}\u001b[0m\n",
      "\u001b[34m{'loss': 1.574, 'learning_rate': 1.4794520547945205e-05, 'epoch': 2.6}\u001b[0m\n",
      "\u001b[34m{'loss': 1.4357, 'learning_rate': 1.4748858447488586e-05, 'epoch': 2.63}\u001b[0m\n",
      "\u001b[34m{'loss': 1.1502, 'learning_rate': 1.4703196347031964e-05, 'epoch': 2.65}\u001b[0m\n",
      "\u001b[34m{'loss': 1.0794, 'learning_rate': 1.4657534246575344e-05, 'epoch': 2.67}\u001b[0m\n",
      "\u001b[34m{'loss': 1.3887, 'learning_rate': 1.4611872146118721e-05, 'epoch': 2.69}\u001b[0m\n",
      "\u001b[34m{'loss': 1.3662, 'learning_rate': 1.4566210045662101e-05, 'epoch': 2.72}\u001b[0m\n",
      "\u001b[34m{'loss': 1.1948, 'learning_rate': 1.4520547945205482e-05, 'epoch': 2.74}\u001b[0m\n",
      "\u001b[34m{'loss': 1.374, 'learning_rate': 1.447488584474886e-05, 'epoch': 2.76}\u001b[0m\n",
      "\u001b[34m{'loss': 1.5212, 'learning_rate': 1.4429223744292239e-05, 'epoch': 2.79}\u001b[0m\n",
      "\u001b[34m{'loss': 1.2675, 'learning_rate': 1.4383561643835617e-05, 'epoch': 2.81}\u001b[0m\n",
      "\u001b[34m{'loss': 1.366, 'learning_rate': 1.4337899543378997e-05, 'epoch': 2.83}\u001b[0m\n",
      "\u001b[34m{'loss': 1.1423, 'learning_rate': 1.4292237442922376e-05, 'epoch': 2.85}\u001b[0m\n",
      "\u001b[34m{'loss': 0.9393, 'learning_rate': 1.4246575342465754e-05, 'epoch': 2.88}\u001b[0m\n",
      "\u001b[34m{'loss': 1.0902, 'learning_rate': 1.4200913242009133e-05, 'epoch': 2.9}\u001b[0m\n",
      "\u001b[34m{'loss': 1.1936, 'learning_rate': 1.4155251141552513e-05, 'epoch': 2.92}\u001b[0m\n",
      "\u001b[34m{'loss': 1.5444, 'learning_rate': 1.4109589041095892e-05, 'epoch': 2.95}\u001b[0m\n",
      "\u001b[34m{'loss': 1.5576, 'learning_rate': 1.406392694063927e-05, 'epoch': 2.97}\u001b[0m\n",
      "\u001b[34m{'loss': 1.1143, 'learning_rate': 1.4018264840182649e-05, 'epoch': 2.99}\u001b[0m\n",
      "\u001b[34m/opt/conda/lib/python3.10/site-packages/sklearn/metrics/_classification.py:1344: UndefinedMetricWarning: Precision and F-score are ill-defined and being set to 0.0 in labels with no predicted samples. Use `zero_division` parameter to control this behavior.\n",
      "  _warn_prf(average, modifier, msg_start, len(result))\u001b[0m\n",
      "\u001b[34m{'eval_loss': 2.328557252883911, 'eval_accuracy': 0.38169257340241797, 'eval_f1': 0.3945906252604212, 'eval_precision': 0.5023120055728816, 'eval_recall': 0.39081399218530727, 'eval_runtime': 4.9765, 'eval_samples_per_second': 116.348, 'eval_steps_per_second': 2.009, 'epoch': 3.0}\u001b[0m\n",
      "\u001b[34m{'loss': 0.9648, 'learning_rate': 1.3972602739726029e-05, 'epoch': 3.01}\u001b[0m\n",
      "\u001b[34m{'loss': 0.97, 'learning_rate': 1.3926940639269409e-05, 'epoch': 3.04}\u001b[0m\n",
      "\u001b[34m{'loss': 0.9916, 'learning_rate': 1.3881278538812786e-05, 'epoch': 3.06}\u001b[0m\n",
      "\u001b[34m{'loss': 0.8968, 'learning_rate': 1.3835616438356164e-05, 'epoch': 3.08}\u001b[0m\n",
      "\u001b[34m{'loss': 1.3264, 'learning_rate': 1.3789954337899545e-05, 'epoch': 3.11}\u001b[0m\n",
      "\u001b[34m{'loss': 1.0993, 'learning_rate': 1.3744292237442925e-05, 'epoch': 3.13}\u001b[0m\n",
      "\u001b[34m{'loss': 1.0147, 'learning_rate': 1.3698630136986302e-05, 'epoch': 3.15}\u001b[0m\n",
      "\u001b[34m{'loss': 1.0709, 'learning_rate': 1.3652968036529682e-05, 'epoch': 3.17}\u001b[0m\n",
      "\u001b[34m{'loss': 0.771, 'learning_rate': 1.360730593607306e-05, 'epoch': 3.2}\u001b[0m\n",
      "\u001b[34m{'loss': 1.0876, 'learning_rate': 1.356164383561644e-05, 'epoch': 3.22}\u001b[0m\n",
      "\u001b[34m{'loss': 1.0227, 'learning_rate': 1.3515981735159818e-05, 'epoch': 3.24}\u001b[0m\n",
      "\u001b[34m{'loss': 0.7935, 'learning_rate': 1.3470319634703198e-05, 'epoch': 3.26}\u001b[0m\n",
      "\u001b[34m{'loss': 1.0304, 'learning_rate': 1.3424657534246576e-05, 'epoch': 3.29}\u001b[0m\n",
      "\u001b[34m{'loss': 0.8322, 'learning_rate': 1.3378995433789956e-05, 'epoch': 3.31}\u001b[0m\n",
      "\u001b[34m{'loss': 0.9604, 'learning_rate': 1.3333333333333333e-05, 'epoch': 3.33}\u001b[0m\n",
      "\u001b[34m{'loss': 0.8533, 'learning_rate': 1.3287671232876714e-05, 'epoch': 3.36}\u001b[0m\n",
      "\u001b[34m{'loss': 0.5987, 'learning_rate': 1.3242009132420092e-05, 'epoch': 3.38}\u001b[0m\n",
      "\u001b[34m{'loss': 0.5756, 'learning_rate': 1.3196347031963472e-05, 'epoch': 3.4}\u001b[0m\n",
      "\u001b[34m{'loss': 0.7337, 'learning_rate': 1.3150684931506849e-05, 'epoch': 3.42}\u001b[0m\n",
      "\u001b[34m{'loss': 0.9879, 'learning_rate': 1.310502283105023e-05, 'epoch': 3.45}\u001b[0m\n",
      "\u001b[34m{'loss': 0.9467, 'learning_rate': 1.305936073059361e-05, 'epoch': 3.47}\u001b[0m\n",
      "\u001b[34m{'loss': 1.1716, 'learning_rate': 1.3013698630136988e-05, 'epoch': 3.49}\u001b[0m\n",
      "\u001b[34m{'loss': 0.9489, 'learning_rate': 1.2968036529680365e-05, 'epoch': 3.52}\u001b[0m\n",
      "\u001b[34m{'loss': 0.8108, 'learning_rate': 1.2922374429223745e-05, 'epoch': 3.54}\u001b[0m\n",
      "\u001b[34m{'loss': 0.8762, 'learning_rate': 1.2876712328767125e-05, 'epoch': 3.56}\u001b[0m\n",
      "\u001b[34m{'loss': 0.7415, 'learning_rate': 1.2831050228310504e-05, 'epoch': 3.58}\u001b[0m\n",
      "\u001b[34m{'loss': 0.6055, 'learning_rate': 1.2785388127853882e-05, 'epoch': 3.61}\u001b[0m\n",
      "\u001b[34m{'loss': 0.9541, 'learning_rate': 1.273972602739726e-05, 'epoch': 3.63}\u001b[0m\n",
      "\u001b[34m{'loss': 0.8926, 'learning_rate': 1.2694063926940641e-05, 'epoch': 3.65}\u001b[0m\n",
      "\u001b[34m{'loss': 0.8645, 'learning_rate': 1.264840182648402e-05, 'epoch': 3.68}\u001b[0m\n",
      "\u001b[34m{'loss': 0.6343, 'learning_rate': 1.2602739726027398e-05, 'epoch': 3.7}\u001b[0m\n",
      "\u001b[34m{'loss': 0.7213, 'learning_rate': 1.2557077625570777e-05, 'epoch': 3.72}\u001b[0m\n",
      "\u001b[34m{'loss': 0.8011, 'learning_rate': 1.2511415525114157e-05, 'epoch': 3.74}\u001b[0m\n",
      "\u001b[34m{'loss': 0.7935, 'learning_rate': 1.2465753424657537e-05, 'epoch': 3.77}\u001b[0m\n",
      "\u001b[34m{'loss': 0.8405, 'learning_rate': 1.2420091324200914e-05, 'epoch': 3.79}\u001b[0m\n",
      "\u001b[34m{'loss': 0.7636, 'learning_rate': 1.2374429223744292e-05, 'epoch': 3.81}\u001b[0m\n",
      "\u001b[34m{'loss': 0.7279, 'learning_rate': 1.2328767123287673e-05, 'epoch': 3.84}\u001b[0m\n",
      "\u001b[34m{'loss': 1.3164, 'learning_rate': 1.2283105022831053e-05, 'epoch': 3.86}\u001b[0m\n",
      "\u001b[34m{'loss': 1.0244, 'learning_rate': 1.223744292237443e-05, 'epoch': 3.88}\u001b[0m\n",
      "\u001b[34m{'loss': 0.7967, 'learning_rate': 1.219178082191781e-05, 'epoch': 3.9}\u001b[0m\n",
      "\u001b[34m{'loss': 0.5841, 'learning_rate': 1.2146118721461188e-05, 'epoch': 3.93}\u001b[0m\n",
      "\u001b[34m{'loss': 0.7315, 'learning_rate': 1.2100456621004569e-05, 'epoch': 3.95}\u001b[0m\n",
      "\u001b[34m{'loss': 0.7434, 'learning_rate': 1.2054794520547945e-05, 'epoch': 3.97}\u001b[0m\n",
      "\u001b[34m{'loss': 0.8645, 'learning_rate': 1.2009132420091326e-05, 'epoch': 4.0}\u001b[0m\n",
      "\u001b[34m/opt/conda/lib/python3.10/site-packages/sklearn/metrics/_classification.py:1344: UndefinedMetricWarning: Precision and F-score are ill-defined and being set to 0.0 in labels with no predicted samples. Use `zero_division` parameter to control this behavior.\n",
      "  _warn_prf(average, modifier, msg_start, len(result))\u001b[0m\n",
      "\u001b[34m{'eval_loss': 2.2751896381378174, 'eval_accuracy': 0.4265975820379965, 'eval_f1': 0.416280941958887, 'eval_precision': 0.5109301335159296, 'eval_recall': 0.41007260386298616, 'eval_runtime': 5.0143, 'eval_samples_per_second': 115.47, 'eval_steps_per_second': 1.994, 'epoch': 4.0}\u001b[0m\n",
      "\u001b[34m{'loss': 0.7612, 'learning_rate': 1.1963470319634704e-05, 'epoch': 4.02}\u001b[0m\n",
      "\u001b[34m{'loss': 0.4682, 'learning_rate': 1.1917808219178084e-05, 'epoch': 4.04}\u001b[0m\n",
      "\u001b[34m{'loss': 0.373, 'learning_rate': 1.1872146118721461e-05, 'epoch': 4.06}\u001b[0m\n",
      "\u001b[34m{'loss': 0.4063, 'learning_rate': 1.1826484018264841e-05, 'epoch': 4.09}\u001b[0m\n",
      "\u001b[34m{'loss': 0.408, 'learning_rate': 1.178082191780822e-05, 'epoch': 4.11}\u001b[0m\n",
      "\u001b[34m{'loss': 0.5163, 'learning_rate': 1.17351598173516e-05, 'epoch': 4.13}\u001b[0m\n",
      "\u001b[34m{'loss': 0.4933, 'learning_rate': 1.1689497716894977e-05, 'epoch': 4.16}\u001b[0m\n",
      "\u001b[34m{'loss': 0.5932, 'learning_rate': 1.1643835616438357e-05, 'epoch': 4.18}\u001b[0m\n",
      "\u001b[34m{'loss': 0.8704, 'learning_rate': 1.1598173515981737e-05, 'epoch': 4.2}\u001b[0m\n",
      "\u001b[34m{'loss': 0.4374, 'learning_rate': 1.1552511415525116e-05, 'epoch': 4.22}\u001b[0m\n",
      "\u001b[34m{'loss': 0.5367, 'learning_rate': 1.1506849315068493e-05, 'epoch': 4.25}\u001b[0m\n",
      "\u001b[34m{'loss': 0.2447, 'learning_rate': 1.1461187214611873e-05, 'epoch': 4.27}\u001b[0m\n",
      "\u001b[34m{'loss': 0.755, 'learning_rate': 1.1415525114155253e-05, 'epoch': 4.29}\u001b[0m\n",
      "\u001b[34m{'loss': 0.6911, 'learning_rate': 1.1369863013698632e-05, 'epoch': 4.32}\u001b[0m\n",
      "\u001b[34m{'loss': 0.641, 'learning_rate': 1.132420091324201e-05, 'epoch': 4.34}\u001b[0m\n",
      "\u001b[34m{'loss': 0.4216, 'learning_rate': 1.1278538812785389e-05, 'epoch': 4.36}\u001b[0m\n",
      "\u001b[34m{'loss': 0.2678, 'learning_rate': 1.1232876712328769e-05, 'epoch': 4.38}\u001b[0m\n",
      "\u001b[34m{'loss': 0.548, 'learning_rate': 1.1187214611872147e-05, 'epoch': 4.41}\u001b[0m\n",
      "\u001b[34m{'loss': 0.6272, 'learning_rate': 1.1141552511415526e-05, 'epoch': 4.43}\u001b[0m\n",
      "\u001b[34m{'loss': 0.5629, 'learning_rate': 1.1095890410958904e-05, 'epoch': 4.45}\u001b[0m\n",
      "\u001b[34m{'loss': 0.5987, 'learning_rate': 1.1050228310502285e-05, 'epoch': 4.47}\u001b[0m\n",
      "\u001b[34m{'loss': 0.635, 'learning_rate': 1.1004566210045663e-05, 'epoch': 4.5}\u001b[0m\n",
      "\u001b[34m{'loss': 0.5035, 'learning_rate': 1.0958904109589042e-05, 'epoch': 4.52}\u001b[0m\n",
      "\u001b[34m{'loss': 0.6442, 'learning_rate': 1.091324200913242e-05, 'epoch': 4.54}\u001b[0m\n",
      "\u001b[34m{'loss': 0.5371, 'learning_rate': 1.08675799086758e-05, 'epoch': 4.57}\u001b[0m\n",
      "\u001b[34m{'loss': 0.5562, 'learning_rate': 1.082191780821918e-05, 'epoch': 4.59}\u001b[0m\n",
      "\u001b[34m{'loss': 0.6988, 'learning_rate': 1.0776255707762558e-05, 'epoch': 4.61}\u001b[0m\n",
      "\u001b[34m{'loss': 0.5704, 'learning_rate': 1.0730593607305938e-05, 'epoch': 4.63}\u001b[0m\n",
      "\u001b[34m{'loss': 0.6153, 'learning_rate': 1.0684931506849316e-05, 'epoch': 4.66}\u001b[0m\n",
      "\u001b[34m{'loss': 0.5496, 'learning_rate': 1.0639269406392696e-05, 'epoch': 4.68}\u001b[0m\n",
      "\u001b[34m{'loss': 0.68, 'learning_rate': 1.0593607305936073e-05, 'epoch': 4.7}\u001b[0m\n",
      "\u001b[34m{'loss': 0.5676, 'learning_rate': 1.0547945205479453e-05, 'epoch': 4.73}\u001b[0m\n",
      "\u001b[34m{'loss': 0.593, 'learning_rate': 1.0502283105022832e-05, 'epoch': 4.75}\u001b[0m\n",
      "\u001b[34m{'loss': 0.4862, 'learning_rate': 1.0456621004566212e-05, 'epoch': 4.77}\u001b[0m\n",
      "\u001b[34m{'loss': 0.5199, 'learning_rate': 1.0410958904109589e-05, 'epoch': 4.79}\u001b[0m\n",
      "\u001b[34m{'loss': 0.5583, 'learning_rate': 1.036529680365297e-05, 'epoch': 4.82}\u001b[0m\n",
      "\u001b[34m{'loss': 0.8021, 'learning_rate': 1.0319634703196348e-05, 'epoch': 4.84}\u001b[0m\n",
      "\u001b[34m{'loss': 0.3845, 'learning_rate': 1.0273972602739728e-05, 'epoch': 4.86}\u001b[0m\n",
      "\u001b[34m{'loss': 0.2485, 'learning_rate': 1.0228310502283105e-05, 'epoch': 4.89}\u001b[0m\n",
      "\u001b[34m{'loss': 0.6102, 'learning_rate': 1.0182648401826485e-05, 'epoch': 4.91}\u001b[0m\n",
      "\u001b[34m{'loss': 0.4815, 'learning_rate': 1.0136986301369864e-05, 'epoch': 4.93}\u001b[0m\n",
      "\u001b[34m{'loss': 0.7938, 'learning_rate': 1.0091324200913244e-05, 'epoch': 4.95}\u001b[0m\n",
      "\u001b[34m{'loss': 0.3333, 'learning_rate': 1.004566210045662e-05, 'epoch': 4.98}\u001b[0m\n",
      "\u001b[34m{'loss': 0.626, 'learning_rate': 1e-05, 'epoch': 5.0}\u001b[0m\n",
      "\u001b[34m/opt/conda/lib/python3.10/site-packages/sklearn/metrics/_classification.py:1344: UndefinedMetricWarning: Precision and F-score are ill-defined and being set to 0.0 in labels with no predicted samples. Use `zero_division` parameter to control this behavior.\n",
      "  _warn_prf(average, modifier, msg_start, len(result))\u001b[0m\n",
      "\u001b[34m{'eval_loss': 2.4321060180664062, 'eval_accuracy': 0.41278065630397237, 'eval_f1': 0.41884948635452046, 'eval_precision': 0.4878120196302015, 'eval_recall': 0.41494063221667876, 'eval_runtime': 5.0338, 'eval_samples_per_second': 115.023, 'eval_steps_per_second': 1.987, 'epoch': 5.0}\u001b[0m\n",
      "\u001b[34m{'loss': 0.345, 'learning_rate': 9.95433789954338e-06, 'epoch': 5.02}\u001b[0m\n",
      "\u001b[34m{'loss': 0.3594, 'learning_rate': 9.90867579908676e-06, 'epoch': 5.05}\u001b[0m\n",
      "\u001b[34m{'loss': 0.2607, 'learning_rate': 9.863013698630138e-06, 'epoch': 5.07}\u001b[0m\n",
      "\u001b[34m{'loss': 0.3322, 'learning_rate': 9.817351598173517e-06, 'epoch': 5.09}\u001b[0m\n",
      "\u001b[34m{'loss': 0.5849, 'learning_rate': 9.771689497716895e-06, 'epoch': 5.11}\u001b[0m\n",
      "\u001b[34m{'loss': 0.4148, 'learning_rate': 9.726027397260275e-06, 'epoch': 5.14}\u001b[0m\n",
      "\u001b[34m{'loss': 0.3517, 'learning_rate': 9.680365296803654e-06, 'epoch': 5.16}\u001b[0m\n",
      "\u001b[34m{'loss': 0.3642, 'learning_rate': 9.634703196347032e-06, 'epoch': 5.18}\u001b[0m\n",
      "\u001b[34m{'loss': 0.575, 'learning_rate': 9.589041095890411e-06, 'epoch': 5.21}\u001b[0m\n",
      "\u001b[34m{'loss': 0.2576, 'learning_rate': 9.543378995433791e-06, 'epoch': 5.23}\u001b[0m\n",
      "\u001b[34m{'loss': 0.2852, 'learning_rate': 9.49771689497717e-06, 'epoch': 5.25}\u001b[0m\n",
      "\u001b[34m{'loss': 0.1413, 'learning_rate': 9.452054794520548e-06, 'epoch': 5.27}\u001b[0m\n",
      "\u001b[34m{'loss': 0.2193, 'learning_rate': 9.406392694063927e-06, 'epoch': 5.3}\u001b[0m\n",
      "\u001b[34m{'loss': 0.3153, 'learning_rate': 9.360730593607307e-06, 'epoch': 5.32}\u001b[0m\n",
      "\u001b[34m{'loss': 0.4065, 'learning_rate': 9.315068493150685e-06, 'epoch': 5.34}\u001b[0m\n",
      "\u001b[34m{'loss': 0.2274, 'learning_rate': 9.269406392694064e-06, 'epoch': 5.37}\u001b[0m\n",
      "\u001b[34m{'loss': 0.3205, 'learning_rate': 9.223744292237442e-06, 'epoch': 5.39}\u001b[0m\n",
      "\u001b[34m{'loss': 0.327, 'learning_rate': 9.178082191780823e-06, 'epoch': 5.41}\u001b[0m\n",
      "\u001b[34m{'loss': 0.3049, 'learning_rate': 9.132420091324201e-06, 'epoch': 5.43}\u001b[0m\n",
      "\u001b[34m{'loss': 0.1868, 'learning_rate': 9.086757990867581e-06, 'epoch': 5.46}\u001b[0m\n",
      "\u001b[34m{'loss': 0.2329, 'learning_rate': 9.04109589041096e-06, 'epoch': 5.48}\u001b[0m\n",
      "\u001b[34m{'loss': 0.1919, 'learning_rate': 8.995433789954338e-06, 'epoch': 5.5}\u001b[0m\n",
      "\u001b[34m{'loss': 0.3389, 'learning_rate': 8.949771689497717e-06, 'epoch': 5.53}\u001b[0m\n",
      "\u001b[34m{'loss': 0.2355, 'learning_rate': 8.904109589041097e-06, 'epoch': 5.55}\u001b[0m\n",
      "\u001b[34m{'loss': 0.2728, 'learning_rate': 8.858447488584476e-06, 'epoch': 5.57}\u001b[0m\n",
      "\u001b[34m{'loss': 0.3191, 'learning_rate': 8.812785388127854e-06, 'epoch': 5.59}\u001b[0m\n",
      "\u001b[34m{'loss': 0.171, 'learning_rate': 8.767123287671233e-06, 'epoch': 5.62}\u001b[0m\n",
      "\u001b[34m{'loss': 0.6724, 'learning_rate': 8.721461187214613e-06, 'epoch': 5.64}\u001b[0m\n",
      "\u001b[34m{'loss': 0.2533, 'learning_rate': 8.675799086757991e-06, 'epoch': 5.66}\u001b[0m\n",
      "\u001b[34m{'loss': 0.2685, 'learning_rate': 8.63013698630137e-06, 'epoch': 5.68}\u001b[0m\n",
      "\u001b[34m{'loss': 0.3101, 'learning_rate': 8.584474885844748e-06, 'epoch': 5.71}\u001b[0m\n",
      "\u001b[34m{'loss': 0.3449, 'learning_rate': 8.538812785388129e-06, 'epoch': 5.73}\u001b[0m\n",
      "\u001b[34m{'loss': 0.1442, 'learning_rate': 8.493150684931507e-06, 'epoch': 5.75}\u001b[0m\n",
      "\u001b[34m{'loss': 0.5144, 'learning_rate': 8.447488584474887e-06, 'epoch': 5.78}\u001b[0m\n",
      "\u001b[34m{'loss': 0.2914, 'learning_rate': 8.401826484018264e-06, 'epoch': 5.8}\u001b[0m\n",
      "\u001b[34m{'loss': 0.2647, 'learning_rate': 8.356164383561644e-06, 'epoch': 5.82}\u001b[0m\n",
      "\u001b[34m{'loss': 0.2347, 'learning_rate': 8.310502283105023e-06, 'epoch': 5.84}\u001b[0m\n",
      "\u001b[34m{'loss': 0.517, 'learning_rate': 8.264840182648403e-06, 'epoch': 5.87}\u001b[0m\n",
      "\u001b[34m{'loss': 0.087, 'learning_rate': 8.219178082191782e-06, 'epoch': 5.89}\u001b[0m\n",
      "\u001b[34m{'loss': 0.2206, 'learning_rate': 8.17351598173516e-06, 'epoch': 5.91}\u001b[0m\n",
      "\u001b[34m{'loss': 0.1545, 'learning_rate': 8.127853881278539e-06, 'epoch': 5.94}\u001b[0m\n",
      "\u001b[34m{'loss': 0.2015, 'learning_rate': 8.082191780821919e-06, 'epoch': 5.96}\u001b[0m\n",
      "\u001b[34m{'loss': 0.3068, 'learning_rate': 8.036529680365297e-06, 'epoch': 5.98}\u001b[0m\n",
      "\u001b[34m/opt/conda/lib/python3.10/site-packages/sklearn/metrics/_classification.py:1344: UndefinedMetricWarning: Precision and F-score are ill-defined and being set to 0.0 in labels with no predicted samples. Use `zero_division` parameter to control this behavior.\n",
      "  _warn_prf(average, modifier, msg_start, len(result))\u001b[0m\n",
      "\u001b[34m{'eval_loss': 2.4835898876190186, 'eval_accuracy': 0.44041450777202074, 'eval_f1': 0.44842392013144944, 'eval_precision': 0.5336040194332025, 'eval_recall': 0.4396309381031416, 'eval_runtime': 5.0842, 'eval_samples_per_second': 113.882, 'eval_steps_per_second': 1.967, 'epoch': 6.0}\u001b[0m\n",
      "\u001b[34m{'loss': 0.3343, 'learning_rate': 7.990867579908676e-06, 'epoch': 6.0}\u001b[0m\n",
      "\u001b[34m{'loss': 0.0632, 'learning_rate': 7.945205479452055e-06, 'epoch': 6.03}\u001b[0m\n",
      "\u001b[34m{'loss': 0.1679, 'learning_rate': 7.899543378995435e-06, 'epoch': 6.05}\u001b[0m\n",
      "\u001b[34m{'loss': 0.2691, 'learning_rate': 7.853881278538813e-06, 'epoch': 6.07}\u001b[0m\n",
      "\u001b[34m{'loss': 0.0717, 'learning_rate': 7.808219178082192e-06, 'epoch': 6.1}\u001b[0m\n",
      "\u001b[34m{'loss': 0.0791, 'learning_rate': 7.76255707762557e-06, 'epoch': 6.12}\u001b[0m\n",
      "\u001b[34m{'loss': 0.1598, 'learning_rate': 7.71689497716895e-06, 'epoch': 6.14}\u001b[0m\n",
      "\u001b[34m{'loss': 0.3584, 'learning_rate': 7.671232876712329e-06, 'epoch': 6.16}\u001b[0m\n",
      "\u001b[34m{'loss': 0.1613, 'learning_rate': 7.625570776255708e-06, 'epoch': 6.19}\u001b[0m\n",
      "\u001b[34m{'loss': 0.0555, 'learning_rate': 7.579908675799087e-06, 'epoch': 6.21}\u001b[0m\n",
      "\u001b[34m{'loss': 0.2852, 'learning_rate': 7.534246575342466e-06, 'epoch': 6.23}\u001b[0m\n",
      "\u001b[34m{'loss': 0.2939, 'learning_rate': 7.488584474885845e-06, 'epoch': 6.26}\u001b[0m\n",
      "\u001b[34m{'loss': 0.0389, 'learning_rate': 7.442922374429224e-06, 'epoch': 6.28}\u001b[0m\n",
      "\u001b[34m{'loss': 0.2316, 'learning_rate': 7.397260273972603e-06, 'epoch': 6.3}\u001b[0m\n",
      "\u001b[34m{'loss': 0.0641, 'learning_rate': 7.351598173515982e-06, 'epoch': 6.32}\u001b[0m\n",
      "\u001b[34m{'loss': 0.3179, 'learning_rate': 7.305936073059361e-06, 'epoch': 6.35}\u001b[0m\n",
      "\u001b[34m{'loss': 0.1854, 'learning_rate': 7.260273972602741e-06, 'epoch': 6.37}\u001b[0m\n",
      "\u001b[34m{'loss': 0.1393, 'learning_rate': 7.214611872146119e-06, 'epoch': 6.39}\u001b[0m\n",
      "\u001b[34m{'loss': 0.1388, 'learning_rate': 7.168949771689499e-06, 'epoch': 6.42}\u001b[0m\n",
      "\u001b[34m{'loss': 0.1713, 'learning_rate': 7.123287671232877e-06, 'epoch': 6.44}\u001b[0m\n",
      "\u001b[34m{'loss': 0.2372, 'learning_rate': 7.077625570776257e-06, 'epoch': 6.46}\u001b[0m\n",
      "\u001b[34m{'loss': 0.2088, 'learning_rate': 7.031963470319635e-06, 'epoch': 6.48}\u001b[0m\n",
      "\u001b[34m{'loss': 0.0701, 'learning_rate': 6.9863013698630145e-06, 'epoch': 6.51}\u001b[0m\n",
      "\u001b[34m{'loss': 0.28, 'learning_rate': 6.940639269406393e-06, 'epoch': 6.53}\u001b[0m\n",
      "\u001b[34m{'loss': 0.1349, 'learning_rate': 6.894977168949772e-06, 'epoch': 6.55}\u001b[0m\n",
      "\u001b[34m{'loss': 0.3102, 'learning_rate': 6.849315068493151e-06, 'epoch': 6.58}\u001b[0m\n",
      "\u001b[34m{'loss': 0.3017, 'learning_rate': 6.80365296803653e-06, 'epoch': 6.6}\u001b[0m\n",
      "\u001b[34m{'loss': 0.1543, 'learning_rate': 6.757990867579909e-06, 'epoch': 6.62}\u001b[0m\n",
      "\u001b[34m{'loss': 0.0885, 'learning_rate': 6.712328767123288e-06, 'epoch': 6.64}\u001b[0m\n",
      "\u001b[34m{'loss': 0.3054, 'learning_rate': 6.666666666666667e-06, 'epoch': 6.67}\u001b[0m\n",
      "\u001b[34m{'loss': 0.0848, 'learning_rate': 6.621004566210046e-06, 'epoch': 6.69}\u001b[0m\n",
      "\u001b[34m{'loss': 0.1712, 'learning_rate': 6.5753424657534245e-06, 'epoch': 6.71}\u001b[0m\n",
      "\u001b[34m{'loss': 0.152, 'learning_rate': 6.529680365296805e-06, 'epoch': 6.74}\u001b[0m\n",
      "\u001b[34m{'loss': 0.0548, 'learning_rate': 6.484018264840182e-06, 'epoch': 6.76}\u001b[0m\n",
      "\u001b[34m{'loss': 0.2017, 'learning_rate': 6.438356164383563e-06, 'epoch': 6.78}\u001b[0m\n",
      "\u001b[34m{'loss': 0.1887, 'learning_rate': 6.392694063926941e-06, 'epoch': 6.8}\u001b[0m\n",
      "\u001b[34m{'loss': 0.0763, 'learning_rate': 6.3470319634703205e-06, 'epoch': 6.83}\u001b[0m\n",
      "\u001b[34m{'loss': 0.097, 'learning_rate': 6.301369863013699e-06, 'epoch': 6.85}\u001b[0m\n",
      "\u001b[34m{'loss': 0.1142, 'learning_rate': 6.255707762557078e-06, 'epoch': 6.87}\u001b[0m\n",
      "\u001b[34m{'loss': 0.1293, 'learning_rate': 6.210045662100457e-06, 'epoch': 6.89}\u001b[0m\n",
      "\u001b[34m{'loss': 0.149, 'learning_rate': 6.164383561643836e-06, 'epoch': 6.92}\u001b[0m\n",
      "\u001b[34m{'loss': 0.078, 'learning_rate': 6.118721461187215e-06, 'epoch': 6.94}\u001b[0m\n",
      "\u001b[34m{'loss': 0.0619, 'learning_rate': 6.073059360730594e-06, 'epoch': 6.96}\u001b[0m\n",
      "\u001b[34m{'loss': 0.0287, 'learning_rate': 6.027397260273973e-06, 'epoch': 6.99}\u001b[0m\n",
      "\u001b[34m/opt/conda/lib/python3.10/site-packages/sklearn/metrics/_classification.py:1344: UndefinedMetricWarning: Precision and F-score are ill-defined and being set to 0.0 in labels with no predicted samples. Use `zero_division` parameter to control this behavior.\n",
      "  _warn_prf(average, modifier, msg_start, len(result))\u001b[0m\n",
      "\u001b[34m{'eval_loss': 2.449805736541748, 'eval_accuracy': 0.46632124352331605, 'eval_f1': 0.47043293218695836, 'eval_precision': 0.5494236794174923, 'eval_recall': 0.4584739115909192, 'eval_runtime': 5.1195, 'eval_samples_per_second': 113.097, 'eval_steps_per_second': 1.953, 'epoch': 7.0}\u001b[0m\n",
      "\u001b[34m{'train_runtime': 377.584, 'train_samples_per_second': 46.4, 'train_steps_per_second': 11.6, 'train_loss': 1.2349516163930656, 'epoch': 7.0}\u001b[0m\n",
      "\u001b[34m2023-07-11 08:01:04,274 - __main__ - INFO -  training job done. Preparing predictions for validation set.\u001b[0m\n",
      "\u001b[34mMap:   0%|          | 0/579 [00:00<?, ? examples/s]\u001b[0m\n",
      "\u001b[34mMap:  11%|█         | 64/579 [00:00<00:02, 188.91 examples/s]\u001b[0m\n",
      "\u001b[34mMap:  22%|██▏       | 128/579 [00:00<00:02, 189.36 examples/s]\u001b[0m\n",
      "\u001b[34mMap:  33%|███▎      | 192/579 [00:01<00:02, 187.87 examples/s]\u001b[0m\n",
      "\u001b[34mMap:  44%|████▍     | 256/579 [00:01<00:01, 189.25 examples/s]\u001b[0m\n",
      "\u001b[34mMap:  55%|█████▌    | 320/579 [00:01<00:01, 188.54 examples/s]\u001b[0m\n",
      "\u001b[34mMap:  66%|██████▋   | 384/579 [00:02<00:01, 186.54 examples/s]\u001b[0m\n",
      "\u001b[34mMap:  77%|███████▋  | 448/579 [00:02<00:00, 186.03 examples/s]\u001b[0m\n",
      "\u001b[34mMap:  88%|████████▊ | 512/579 [00:02<00:00, 187.76 examples/s]\u001b[0m\n",
      "\u001b[34mMap:  99%|█████████▉| 576/579 [00:03<00:00, 187.44 examples/s]\u001b[0m\n",
      "\u001b[34m2023-07-11 08:01:10,069 - __main__ - INFO -  predictions for the validation set done and saved\u001b[0m\n",
      "\u001b[34m2023-07-11 08:01:10,069 - __main__ - INFO -  preparing predictions for test set.\u001b[0m\n",
      "\u001b[34mMap:   0%|          | 0/556 [00:00<?, ? examples/s]\u001b[0m\n",
      "\u001b[34mMap:  12%|█▏        | 64/556 [00:00<00:02, 186.57 examples/s]\u001b[0m\n",
      "\u001b[34mMap:  23%|██▎       | 128/556 [00:00<00:02, 188.44 examples/s]\u001b[0m\n",
      "\u001b[34mMap:  35%|███▍      | 192/556 [00:01<00:01, 186.70 examples/s]\u001b[0m\n",
      "\u001b[34mMap:  46%|████▌     | 256/556 [00:01<00:01, 188.21 examples/s]\u001b[0m\n",
      "\u001b[34mMap:  58%|█████▊    | 320/556 [00:01<00:01, 188.53 examples/s]\u001b[0m\n",
      "\u001b[34mMap:  69%|██████▉   | 384/556 [00:02<00:00, 187.88 examples/s]\u001b[0m\n",
      "\u001b[34mMap:  81%|████████  | 448/556 [00:02<00:00, 187.10 examples/s]\u001b[0m\n",
      "\u001b[34mMap:  92%|█████████▏| 512/556 [00:02<00:00, 187.88 examples/s]\u001b[0m\n",
      "\u001b[34mMap: 100%|██████████| 556/556 [00:02<00:00, 190.97 examples/s]\u001b[0m\n",
      "\u001b[34m2023-07-11 08:01:15,817 - __main__ - INFO -  prepared predictions for test set and saved it to the output directory. Training job completed\u001b[0m\n",
      "\n",
      "2023-07-11 08:01:22 Uploading - Uploading generated training model\u001b[34m2023-07-11 08:01:17,790 sagemaker-training-toolkit INFO     Waiting for the process to finish and give a return code.\u001b[0m\n",
      "\u001b[34m2023-07-11 08:01:17,790 sagemaker-training-toolkit INFO     Done waiting for a return code. Received 0 from exiting process.\u001b[0m\n",
      "\u001b[34m2023-07-11 08:01:17,791 sagemaker-training-toolkit INFO     Reporting training SUCCESS\u001b[0m\n",
      "\n",
      "2023-07-11 08:08:14 Completed - Training job completed\n",
      "Training seconds: 1144\n",
      "Billable seconds: 1144\n"
     ]
    }
   ],
   "source": [
    "huggingface_estimator.fit(input_channels, wait=True)"
   ]
  },
  {
   "cell_type": "code",
   "execution_count": 18,
   "id": "d9677df1-ec12-471c-b953-7ad9c660b618",
   "metadata": {
    "tags": []
   },
   "outputs": [
    {
     "name": "stdout",
     "output_type": "stream",
     "text": [
      "s3://sagemaker-us-east-1-292159885427/baseline-ast-train/sm-training-custom-2023-07-11-07-47-41-336/output/model.tar.gz\n"
     ]
    }
   ],
   "source": [
    "# save the model location to the filesystem so that we can use it later\n",
    "model_location = f'{s3_output_location}/{huggingface_estimator._hyperparameters[\"sagemaker_job_name\"]}/output/model.tar.gz'\n",
    "print(model_location)"
   ]
  },
  {
   "cell_type": "code",
   "execution_count": 19,
   "id": "75a22b14-1bc5-4f97-b05f-b01a9278f2d5",
   "metadata": {
    "tags": []
   },
   "outputs": [],
   "source": [
    "# saving the csv file under the appropriate location. Create the folder if it doesn't exist \n",
    "model_folder_path =f\"models/{huggingface_estimator._hyperparameters['sagemaker_job_name']}\"\n",
    "\n",
    "if not os.path.exists(model_folder_path):\n",
    "    os.makedirs(model_folder_path)\n",
    "    \n",
    "with open(f'{model_folder_path}/model_location.txt', 'w+') as f:\n",
    "    f.write(model_location)"
   ]
  },
  {
   "cell_type": "markdown",
   "id": "f7d4a9cd-4b06-4bb7-8b25-0148a211cdbe",
   "metadata": {},
   "source": [
    "One important question that we haven't answered to far is *How can I see how the training is doing?* After all you need see if there are any issues or if the training is going well.\n",
    "This can be done as follows:\n",
    "\n",
    "1. Go to the AWS Console\n",
    "2. Search for AWS Sagemaker and go to the Service\n",
    "3. On the left panel click on Training -> Training Jobs\n",
    "4. Your training job should the one at the very top. Click it.\n",
    "5. The details page has a link *View logs* in the *Monitor* section (scroll down). Click this to see the logs. \n",
    "\n",
    "The default configuration for this tutorial will train your model for approximately 7 epochs. This should take less than 2 hours and give you an indication if an idea is working or not.\n",
    "Training for longer does not necessary help. **To save time and money we suggest to start with a few epochs and only train models for longer where you are certain that there is a significant benefit.** After all, you only have a limited budget."
   ]
  },
  {
   "cell_type": "markdown",
   "id": "ffebf51b-3553-48e4-8f65-f884fd054615",
   "metadata": {},
   "source": [
    "## Key takeaways:\n",
    "\n",
    "- We utilize **SageMaker Training jobs** to train our model, which takes place on a separate virtual machine (instance). The steps outlined in the training script (baseline_ast_train.py) will be executed there. If you wish to alter the training process, modify the training script accordingly (and we'd suggest you to save it under a new name).\n",
    "- You can monitor the job's progress in the [*SageMaker Trainings UI*]('https://us-east-1.console.aws.amazon.com/sagemaker/home?region=us-east-1#/jobs'). In the **Monitoring** section, you can keep track of metrics during the training process.\n",
    "- If you want to stop the training, you must do so in the [*SageMaker Trainings UI*]('https://us-east-1.console.aws.amazon.com/sagemaker/home?region=us-east-1#/jobs'). Stopping the job in the notebook alone will not suffice.\n",
    "- You can alter the input data to use your own S3 bucket if you have created the dataset differently.\n",
    "- Keep in mind that you can experiment with the **hyperparameters** of the model.\n",
    "- Since we employ a GPU instance for the training process, bear in mind that we pay for each second of training. If you do not see any improvement in longer trainings (more epochs), focus on other tasks such as data preprocessing."
   ]
  },
  {
   "cell_type": "markdown",
   "id": "7f6c3134-0d58-49d2-8b80-0aaa9c511b32",
   "metadata": {
    "tags": []
   },
   "source": [
    "# A new submission with our newly trained model!\n",
    "\n",
    "After the training job is finished - which should take in our case less than 2 hours! - you can download the results of the training job.\n",
    "\n",
    "*Note: Check the AWS training job console to see the status of your training job*\n",
    "\n",
    "First we need to specify where the results where stored. We stored the model location to the local filesystem, we only need to read it. If that didn't work, make sure to check the Sagemaker Training section in the AWS console. The model location will look similar to this:```s3://sagemaker-us-east-1-192475648101/train/huggingface-pytorch-training-2023-05-05-13-44-42-427/output/model.tar.gz```"
   ]
  },
  {
   "cell_type": "code",
   "execution_count": 20,
   "id": "44b43838-716c-47cf-823f-a8f40eb36854",
   "metadata": {
    "tags": []
   },
   "outputs": [],
   "source": [
    "# read the model location from the filesystem\n",
    "with open(f'{model_folder_path}/model_location.txt', 'r') as f:\n",
    "    model_location = f.read()"
   ]
  },
  {
   "cell_type": "markdown",
   "id": "07ed3eec-008b-4ce3-8057-b40801d25b37",
   "metadata": {},
   "source": [
    "We prepared a custom function that downloads the results to our local directory. "
   ]
  },
  {
   "cell_type": "code",
   "execution_count": 21,
   "id": "d4cc86cd-a683-41be-8dd0-8c960d90bcb7",
   "metadata": {
    "tags": []
   },
   "outputs": [
    {
     "data": {
      "text/plain": [
       "'models/sm-training-custom-2023-07-11-07-47-41-336'"
      ]
     },
     "execution_count": 21,
     "metadata": {},
     "output_type": "execute_result"
    }
   ],
   "source": [
    "local_model_dir = download_and_extract_model(model_uri=model_location, local_dir='models')\n",
    "local_model_dir"
   ]
  },
  {
   "cell_type": "markdown",
   "id": "5732e186-0d63-4999-97a1-4215208aa31b",
   "metadata": {},
   "source": [
    "To confirm that everything ran correctly, please navigate to the *models* directory. There, you should find the following files:\n",
    "\n",
    "- *checkpoint-###* folders\n",
    "- *prediction_val.csv*\n",
    "- *prediction_test.csv*\n",
    "- *model.tar.gz*\n",
    "\n",
    "The checkpoint folders contain the model's weights, which can be loaded to generate predictions from different epochs. In the training script, we set ```load_best_model_at_end``` to **True**, which ensures that the model is loaded with the best checkpoint based on the validation loss. After loading the checkpoint, we generated predictions for both the validation and test sets, which can be found in the same directory where you extracted the model.\n",
    "\n",
    "With everything set up, let's proceed to loading the test set predictions!"
   ]
  },
  {
   "cell_type": "code",
   "execution_count": 22,
   "id": "df1cbbaa-4e29-460c-8c96-ea305ec5cc91",
   "metadata": {
    "tags": []
   },
   "outputs": [
    {
     "data": {
      "text/html": [
       "<div>\n",
       "<style scoped>\n",
       "    .dataframe tbody tr th:only-of-type {\n",
       "        vertical-align: middle;\n",
       "    }\n",
       "\n",
       "    .dataframe tbody tr th {\n",
       "        vertical-align: top;\n",
       "    }\n",
       "\n",
       "    .dataframe thead th {\n",
       "        text-align: right;\n",
       "    }\n",
       "</style>\n",
       "<table border=\"1\" class=\"dataframe\">\n",
       "  <thead>\n",
       "    <tr style=\"text-align: right;\">\n",
       "      <th></th>\n",
       "      <th>file_name</th>\n",
       "      <th>predicted_class_id</th>\n",
       "    </tr>\n",
       "  </thead>\n",
       "  <tbody>\n",
       "    <tr>\n",
       "      <th>0</th>\n",
       "      <td>0.wav</td>\n",
       "      <td>14</td>\n",
       "    </tr>\n",
       "    <tr>\n",
       "      <th>1</th>\n",
       "      <td>1.wav</td>\n",
       "      <td>12</td>\n",
       "    </tr>\n",
       "    <tr>\n",
       "      <th>2</th>\n",
       "      <td>10.wav</td>\n",
       "      <td>26</td>\n",
       "    </tr>\n",
       "    <tr>\n",
       "      <th>3</th>\n",
       "      <td>100.wav</td>\n",
       "      <td>9</td>\n",
       "    </tr>\n",
       "    <tr>\n",
       "      <th>4</th>\n",
       "      <td>101.wav</td>\n",
       "      <td>56</td>\n",
       "    </tr>\n",
       "  </tbody>\n",
       "</table>\n",
       "</div>"
      ],
      "text/plain": [
       "  file_name  predicted_class_id\n",
       "0     0.wav                  14\n",
       "1     1.wav                  12\n",
       "2    10.wav                  26\n",
       "3   100.wav                   9\n",
       "4   101.wav                  56"
      ]
     },
     "execution_count": 22,
     "metadata": {},
     "output_type": "execute_result"
    }
   ],
   "source": [
    "test_preds = pd.read_csv(f'{local_model_dir}/prediction_test.csv', index_col = False)\n",
    "test_preds.head()"
   ]
  },
  {
   "cell_type": "markdown",
   "id": "bf337940-786e-411f-8863-ed3e7cb6dd44",
   "metadata": {},
   "source": [
    "You can upload this file to the [GDSC website](https://gdsc.ce.capgemini.com/) what score did you get? Do you see a big difference between this model and the one trained on a small sample of data?\n",
    "\n",
    "Please keep in mind that the submission file must adhere to the following format:\n",
    "\n",
    "- A *file_name* column, indicating the file for which the prediction was generated\n",
    "- A *predicted_class_id* column, containing the predicted ID for that file.\n",
    "\n",
    "**If the submission file deviates from this format, there is a risk of encountering problems when running the evaluation function.**"
   ]
  },
  {
   "cell_type": "markdown",
   "id": "c92ab41e-6ecc-4f81-8e84-f856f2426957",
   "metadata": {
    "tags": []
   },
   "source": [
    "# Error analysis on Validation set\n",
    "\n",
    "Error analysis is an essential part of machine learning, as it helps us to identify and diagnose problems that may arise during the training and testing stages of a machine learning model. By analyzing the errors, we can gain insights into the performance of the model, and we can make informed decisions about how to improve its accuracy and effectiveness.\n",
    "\n",
    "There are several reasons why error analysis is necessary in machine learning and how can it help with improving model performance:\n",
    "\n",
    "- Identify the sources of errors: By analyzing the errors, we can identify the sources of errors, such as data quality issues. This helps us to understand where the model is failing and how we can improve it.\n",
    "\n",
    "- Improve model accuracy: Error analysis can help us to fine-tune the model by identifying which features or parameters are causing errors, and adjusting them to improve accuracy.\n",
    "\n",
    "- Evaluate model performance: Error analysis helps us to evaluate the performance of the model against the desired outcome. It also allows us to compare the performance of different models and select the best one for our use case.\n",
    "\n",
    "As we prepared predictions on the validation set we can use them for the error analysis. Let's give it a try! \n",
    "\n",
    "\n",
    "First of all we should load ```prediction_val.csv``` file and inspect it"
   ]
  },
  {
   "cell_type": "code",
   "execution_count": 23,
   "id": "7d3dff0a-bf49-41b8-8b18-a725fb24e769",
   "metadata": {
    "tags": []
   },
   "outputs": [
    {
     "data": {
      "text/html": [
       "<div>\n",
       "<style scoped>\n",
       "    .dataframe tbody tr th:only-of-type {\n",
       "        vertical-align: middle;\n",
       "    }\n",
       "\n",
       "    .dataframe tbody tr th {\n",
       "        vertical-align: top;\n",
       "    }\n",
       "\n",
       "    .dataframe thead th {\n",
       "        text-align: right;\n",
       "    }\n",
       "</style>\n",
       "<table border=\"1\" class=\"dataframe\">\n",
       "  <thead>\n",
       "    <tr style=\"text-align: right;\">\n",
       "      <th></th>\n",
       "      <th>label</th>\n",
       "      <th>file_name</th>\n",
       "      <th>predicted_class_id</th>\n",
       "      <th>loss</th>\n",
       "    </tr>\n",
       "  </thead>\n",
       "  <tbody>\n",
       "    <tr>\n",
       "      <th>0</th>\n",
       "      <td>0</td>\n",
       "      <td>Achetadomesticus_XC751734-dat001-055_edit1.wav</td>\n",
       "      <td>0</td>\n",
       "      <td>0.179763</td>\n",
       "    </tr>\n",
       "    <tr>\n",
       "      <th>1</th>\n",
       "      <td>0</td>\n",
       "      <td>Achetadomesticus_XC751734-dat001-055_edit2.wav</td>\n",
       "      <td>29</td>\n",
       "      <td>3.666681</td>\n",
       "    </tr>\n",
       "    <tr>\n",
       "      <th>2</th>\n",
       "      <td>0</td>\n",
       "      <td>Achetadomesticus_XC751734-dat001-055_edit3.wav</td>\n",
       "      <td>0</td>\n",
       "      <td>0.049777</td>\n",
       "    </tr>\n",
       "    <tr>\n",
       "      <th>3</th>\n",
       "      <td>0</td>\n",
       "      <td>Achetadomesticus_XC751734-dat001-055_edit4.wav</td>\n",
       "      <td>26</td>\n",
       "      <td>5.340854</td>\n",
       "    </tr>\n",
       "    <tr>\n",
       "      <th>4</th>\n",
       "      <td>0</td>\n",
       "      <td>Achetadomesticus_XC751736-dat001-057.wav</td>\n",
       "      <td>0</td>\n",
       "      <td>0.080277</td>\n",
       "    </tr>\n",
       "  </tbody>\n",
       "</table>\n",
       "</div>"
      ],
      "text/plain": [
       "   label                                       file_name  predicted_class_id   \n",
       "0      0  Achetadomesticus_XC751734-dat001-055_edit1.wav                   0  \\\n",
       "1      0  Achetadomesticus_XC751734-dat001-055_edit2.wav                  29   \n",
       "2      0  Achetadomesticus_XC751734-dat001-055_edit3.wav                   0   \n",
       "3      0  Achetadomesticus_XC751734-dat001-055_edit4.wav                  26   \n",
       "4      0        Achetadomesticus_XC751736-dat001-057.wav                   0   \n",
       "\n",
       "       loss  \n",
       "0  0.179763  \n",
       "1  3.666681  \n",
       "2  0.049777  \n",
       "3  5.340854  \n",
       "4  0.080277  "
      ]
     },
     "execution_count": 23,
     "metadata": {},
     "output_type": "execute_result"
    }
   ],
   "source": [
    "val_preds = pd.read_csv(f'{local_model_dir}/prediction_val.csv', index_col = False)\n",
    "val_preds.head()"
   ]
  },
  {
   "cell_type": "markdown",
   "id": "fab4e386-54e1-4b4e-960d-2e63167d1bf1",
   "metadata": {},
   "source": [
    "This dataframe contains two additional columns that will be useful for Error Analysis:\n",
    "\n",
    "- label - the ground truth label\n",
    "- loss - the degree to which the model's prediction differs from the actual class"
   ]
  },
  {
   "cell_type": "markdown",
   "id": "f7d029a3-1ff0-4437-8009-3ff6b27feca7",
   "metadata": {},
   "source": [
    "Before looking in depth at the loss values let's use our function imported from the *gdsc_eval.py* module to generate a **Confusion matrix** plot, which will provide greater insight into the model's performance for specific classes. \n",
    "\n",
    "Note from the docstring in the *gdsc_eval.py* that the last argument tells us if we want to normalize the values of the matrix over the true labels, predicted labels, the whole population or just give absolute values. Try to plot the confusion matrix with different normalizations and see if you can understand what do they mean. If you feel like something is not clear - post a comment on the Team's channel and start a conversation!"
   ]
  },
  {
   "cell_type": "code",
   "execution_count": 24,
   "id": "511bd128-1174-4fb8-b1ed-98dbb360e586",
   "metadata": {
    "tags": []
   },
   "outputs": [
    {
     "data": {
      "image/png": "[encoded data removed]",
      "text/plain": [
       "<Figure size 2000x2000 with 2 Axes>"
      ]
     },
     "metadata": {},
     "output_type": "display_data"
    }
   ],
   "source": [
    "plot_confusion_matrix(val_preds['label'], val_preds['predicted_class_id'], normalize=None)"
   ]
  },
  {
   "cell_type": "markdown",
   "id": "61d442c6-5912-4cf8-af1e-845dd8661820",
   "metadata": {},
   "source": [
    "While the majority of the classes are accurately classified, there are a few that remain misclassified. Additionally, the model appears to have difficulty distinguishing between certain classes, would you be able to identify them? Maybe they are similar to each other?\n",
    "\n",
    "We will now examine the losses for individual predictions. Generally speaking, the model's confidence in a given prediction increases as the loss decreases. Let's see which are the top 10 classes with the highest loss values!"
   ]
  },
  {
   "cell_type": "code",
   "execution_count": 25,
   "id": "8793df32-4e2f-4301-964d-ec04d0e11a49",
   "metadata": {
    "tags": []
   },
   "outputs": [
    {
     "data": {
      "text/html": [
       "<div>\n",
       "<style scoped>\n",
       "    .dataframe tbody tr th:only-of-type {\n",
       "        vertical-align: middle;\n",
       "    }\n",
       "\n",
       "    .dataframe tbody tr th {\n",
       "        vertical-align: top;\n",
       "    }\n",
       "\n",
       "    .dataframe thead th {\n",
       "        text-align: right;\n",
       "    }\n",
       "</style>\n",
       "<table border=\"1\" class=\"dataframe\">\n",
       "  <thead>\n",
       "    <tr style=\"text-align: right;\">\n",
       "      <th></th>\n",
       "      <th>0</th>\n",
       "      <th>1</th>\n",
       "      <th>2</th>\n",
       "      <th>3</th>\n",
       "      <th>4</th>\n",
       "      <th>5</th>\n",
       "      <th>6</th>\n",
       "      <th>7</th>\n",
       "      <th>8</th>\n",
       "      <th>9</th>\n",
       "    </tr>\n",
       "  </thead>\n",
       "  <tbody>\n",
       "    <tr>\n",
       "      <th>label</th>\n",
       "      <td>39.00</td>\n",
       "      <td>9.00</td>\n",
       "      <td>10.00</td>\n",
       "      <td>55.00</td>\n",
       "      <td>56.00</td>\n",
       "      <td>12.00</td>\n",
       "      <td>5.00</td>\n",
       "      <td>33.00</td>\n",
       "      <td>7.00</td>\n",
       "      <td>17.00</td>\n",
       "    </tr>\n",
       "    <tr>\n",
       "      <th>count</th>\n",
       "      <td>19.00</td>\n",
       "      <td>23.00</td>\n",
       "      <td>23.00</td>\n",
       "      <td>12.00</td>\n",
       "      <td>14.00</td>\n",
       "      <td>8.00</td>\n",
       "      <td>13.00</td>\n",
       "      <td>18.00</td>\n",
       "      <td>6.00</td>\n",
       "      <td>19.00</td>\n",
       "    </tr>\n",
       "    <tr>\n",
       "      <th>mean</th>\n",
       "      <td>3.34</td>\n",
       "      <td>2.44</td>\n",
       "      <td>2.21</td>\n",
       "      <td>4.06</td>\n",
       "      <td>3.24</td>\n",
       "      <td>5.15</td>\n",
       "      <td>3.12</td>\n",
       "      <td>2.24</td>\n",
       "      <td>6.61</td>\n",
       "      <td>2.01</td>\n",
       "    </tr>\n",
       "    <tr>\n",
       "      <th>sum</th>\n",
       "      <td>63.48</td>\n",
       "      <td>56.14</td>\n",
       "      <td>50.76</td>\n",
       "      <td>48.74</td>\n",
       "      <td>45.39</td>\n",
       "      <td>41.17</td>\n",
       "      <td>40.61</td>\n",
       "      <td>40.30</td>\n",
       "      <td>39.67</td>\n",
       "      <td>38.18</td>\n",
       "    </tr>\n",
       "  </tbody>\n",
       "</table>\n",
       "</div>"
      ],
      "text/plain": [
       "           0      1      2      3      4      5      6      7      8      9\n",
       "label  39.00   9.00  10.00  55.00  56.00  12.00   5.00  33.00   7.00  17.00\n",
       "count  19.00  23.00  23.00  12.00  14.00   8.00  13.00  18.00   6.00  19.00\n",
       "mean    3.34   2.44   2.21   4.06   3.24   5.15   3.12   2.24   6.61   2.01\n",
       "sum    63.48  56.14  50.76  48.74  45.39  41.17  40.61  40.30  39.67  38.18"
      ]
     },
     "execution_count": 25,
     "metadata": {},
     "output_type": "execute_result"
    }
   ],
   "source": [
    "# Classes sorted by the highest sum of loss\n",
    "(\n",
    "    val_preds.groupby(\"label\")[[\"loss\"]]\n",
    "    .agg([\"count\", \"mean\", \"sum\"])\n",
    "    .droplevel(level=0, axis=1)  # Get rid of multi-level columns\n",
    "    .sort_values(by=\"sum\", ascending=False)\n",
    "    .reset_index()\n",
    "    .round(2)\n",
    "    .head(10)\n",
    "    .T\n",
    ")"
   ]
  },
  {
   "cell_type": "markdown",
   "id": "91a74d02-7a7b-4172-9312-96c80ec2a559",
   "metadata": {},
   "source": [
    "Since we only have a limited number of examples for certain classes, it might be more meaningful to focus on the average loss value instead. This approach could provide a more accurate representation of the model's performance for those classes with minimal validation examples."
   ]
  },
  {
   "cell_type": "code",
   "execution_count": 26,
   "id": "f4254a3b-ba73-4100-8cec-4a68986a236c",
   "metadata": {
    "tags": []
   },
   "outputs": [
    {
     "data": {
      "text/html": [
       "<div>\n",
       "<style scoped>\n",
       "    .dataframe tbody tr th:only-of-type {\n",
       "        vertical-align: middle;\n",
       "    }\n",
       "\n",
       "    .dataframe tbody tr th {\n",
       "        vertical-align: top;\n",
       "    }\n",
       "\n",
       "    .dataframe thead th {\n",
       "        text-align: right;\n",
       "    }\n",
       "</style>\n",
       "<table border=\"1\" class=\"dataframe\">\n",
       "  <thead>\n",
       "    <tr style=\"text-align: right;\">\n",
       "      <th></th>\n",
       "      <th>0</th>\n",
       "      <th>1</th>\n",
       "      <th>2</th>\n",
       "      <th>3</th>\n",
       "      <th>4</th>\n",
       "      <th>5</th>\n",
       "      <th>6</th>\n",
       "      <th>7</th>\n",
       "      <th>8</th>\n",
       "      <th>9</th>\n",
       "    </tr>\n",
       "  </thead>\n",
       "  <tbody>\n",
       "    <tr>\n",
       "      <th>label</th>\n",
       "      <td>7.00</td>\n",
       "      <td>12.00</td>\n",
       "      <td>4.0</td>\n",
       "      <td>28.00</td>\n",
       "      <td>41.00</td>\n",
       "      <td>59.00</td>\n",
       "      <td>43.00</td>\n",
       "      <td>55.00</td>\n",
       "      <td>8.00</td>\n",
       "      <td>6.00</td>\n",
       "    </tr>\n",
       "    <tr>\n",
       "      <th>count</th>\n",
       "      <td>6.00</td>\n",
       "      <td>8.00</td>\n",
       "      <td>3.0</td>\n",
       "      <td>4.00</td>\n",
       "      <td>4.00</td>\n",
       "      <td>6.00</td>\n",
       "      <td>6.00</td>\n",
       "      <td>12.00</td>\n",
       "      <td>8.00</td>\n",
       "      <td>9.00</td>\n",
       "    </tr>\n",
       "    <tr>\n",
       "      <th>mean</th>\n",
       "      <td>6.61</td>\n",
       "      <td>5.15</td>\n",
       "      <td>4.7</td>\n",
       "      <td>4.63</td>\n",
       "      <td>4.58</td>\n",
       "      <td>4.39</td>\n",
       "      <td>4.14</td>\n",
       "      <td>4.06</td>\n",
       "      <td>3.95</td>\n",
       "      <td>3.80</td>\n",
       "    </tr>\n",
       "    <tr>\n",
       "      <th>sum</th>\n",
       "      <td>39.67</td>\n",
       "      <td>41.17</td>\n",
       "      <td>14.1</td>\n",
       "      <td>18.53</td>\n",
       "      <td>18.33</td>\n",
       "      <td>26.35</td>\n",
       "      <td>24.86</td>\n",
       "      <td>48.74</td>\n",
       "      <td>31.64</td>\n",
       "      <td>34.16</td>\n",
       "    </tr>\n",
       "  </tbody>\n",
       "</table>\n",
       "</div>"
      ],
      "text/plain": [
       "           0      1     2      3      4      5      6      7      8      9\n",
       "label   7.00  12.00   4.0  28.00  41.00  59.00  43.00  55.00   8.00   6.00\n",
       "count   6.00   8.00   3.0   4.00   4.00   6.00   6.00  12.00   8.00   9.00\n",
       "mean    6.61   5.15   4.7   4.63   4.58   4.39   4.14   4.06   3.95   3.80\n",
       "sum    39.67  41.17  14.1  18.53  18.33  26.35  24.86  48.74  31.64  34.16"
      ]
     },
     "execution_count": 26,
     "metadata": {},
     "output_type": "execute_result"
    }
   ],
   "source": [
    "# Classes sorted by highest mean of loss\n",
    "(\n",
    "    val_preds.groupby(\"label\")[[\"loss\"]]\n",
    "    .agg([\"count\", \"mean\", \"sum\"])\n",
    "    .droplevel(level=0, axis=1)\n",
    "    .sort_values(by=\"mean\", ascending=False)\n",
    "    .reset_index()\n",
    "    .round(2)\n",
    "    .head(10)\n",
    "    .T\n",
    ")"
   ]
  },
  {
   "cell_type": "markdown",
   "id": "b63580a9-248b-40f0-bb4a-a632f4466518",
   "metadata": {},
   "source": [
    "The above tables give us an idea which classes are the most problematic. To investigate this further, we suggest plotting the examples with the highest loss and some of the examples of the class that the files were missclassified with. Try to identify any patterns or issues within the data. It is possible that this could be related to the quality of the data, and further analysis may be required."
   ]
  },
  {
   "cell_type": "markdown",
   "id": "c265af1e-6ced-4083-97ca-3cc0bd9bd818",
   "metadata": {
    "jp-MarkdownHeadingCollapsed": true,
    "tags": []
   },
   "source": [
    "## Exercises:\n",
    "\n",
    "- Conduct your own Error Analysis based on the validation dataset predictions. Explore classes with the highest and lowest losses, and visualize spectrograms of these classes using the functions from the 2nd tutorial on EDA. Identify any classes that the model is consistently misclassifying and investigate whether these classes are similar to each other.\n",
    "- Experiment with different hyperparameters during the training process to see how they affect model performance.\n",
    "- Check out the [HuggingFace model Hub]('https://huggingface.co/models?pipeline_tag=audio-classification&sort=downloads'), where you can test out various audio classification models."
   ]
  },
  {
   "cell_type": "markdown",
   "id": "ee8964f5-191e-41da-82ed-2fd7a2a8db60",
   "metadata": {
    "jp-MarkdownHeadingCollapsed": true,
    "tags": []
   },
   "source": [
    "# What's next?\n",
    "\n",
    "Phew! That was a long journey! From analyzing the metadata to getting first results. But the work is not yet done - honestly it has just started! You may wonder how to improve the results we have obtained. Well, there are few possibilities:\n",
    "\n",
    "## Different preprocessing\n",
    "\n",
    "Maybe it's worth to go back to the documentation of the [ASTFeatureExtractor](https://huggingface.co/docs/transformers/main/en/model_doc/audio-spectrogram-transformer#transformers.ASTFeatureExtractor). There are some hyperparameters that you can tweak like *max_length* of the file taken as the input.\n",
    "\n",
    "## Data Augmentation\n",
    "\n",
    "In the gdsc docker image provided by us you will find libraries like [torchaudio](https://pytorch.org/audio/stable/index.html) and [librosa](https://librosa.org/doc/main/index.html). Thsoe serve you the purpose of augmenting your dataset with use of various preprocessing steps. Maybe after inspecting the missclassifications you will come up with different methods for tweaking some audio features of the arrays?\n",
    "\n",
    "Just please note that only the torchaudio library works with GPU, librosa will work only with CPU, which will make your training much slower.\n",
    "\n",
    "## Other models\n",
    "\n",
    "The AST model is not the only one out there. Try to inspect other architectures. Maybe one of them will be the winning one! Here are two example sources you can inspect (feel free to find more!):\n",
    "\n",
    "#### Hugging Face Model Hub\n",
    "\n",
    "The [Hugging Face Model Hub](https://huggingface.co/models?pipeline_tag=audio-classification&sort=downloads) has a variety of different models. Try to inspect few of them.  \n",
    "\n",
    "#### Papers with code\n",
    "\n",
    "The Papers with code site offers benchmarks of different models on different datasets. Here is an example of [benchmarking models on AudioSet dataset](https://paperswithcode.com/sota/audio-classification-on-audioset). This may be a bit advanced, but you can try to implement the code found in the repositories for a model that gives high scores."
   ]
  }
 ],
 "metadata": {
  "availableInstances": [
   {
    "_defaultOrder": 0,
    "_isFastLaunch": true,
    "category": "General purpose",
    "gpuNum": 0,
    "hideHardwareSpecs": false,
    "memoryGiB": 4,
    "name": "ml.t3.medium",
    "vcpuNum": 2
   },
   {
    "_defaultOrder": 1,
    "_isFastLaunch": false,
    "category": "General purpose",
    "gpuNum": 0,
    "hideHardwareSpecs": false,
    "memoryGiB": 8,
    "name": "ml.t3.large",
    "vcpuNum": 2
   },
   {
    "_defaultOrder": 2,
    "_isFastLaunch": false,
    "category": "General purpose",
    "gpuNum": 0,
    "hideHardwareSpecs": false,
    "memoryGiB": 16,
    "name": "ml.t3.xlarge",
    "vcpuNum": 4
   },
   {
    "_defaultOrder": 3,
    "_isFastLaunch": false,
    "category": "General purpose",
    "gpuNum": 0,
    "hideHardwareSpecs": false,
    "memoryGiB": 32,
    "name": "ml.t3.2xlarge",
    "vcpuNum": 8
   },
   {
    "_defaultOrder": 4,
    "_isFastLaunch": true,
    "category": "General purpose",
    "gpuNum": 0,
    "hideHardwareSpecs": false,
    "memoryGiB": 8,
    "name": "ml.m5.large",
    "vcpuNum": 2
   },
   {
    "_defaultOrder": 5,
    "_isFastLaunch": false,
    "category": "General purpose",
    "gpuNum": 0,
    "hideHardwareSpecs": false,
    "memoryGiB": 16,
    "name": "ml.m5.xlarge",
    "vcpuNum": 4
   },
   {
    "_defaultOrder": 6,
    "_isFastLaunch": false,
    "category": "General purpose",
    "gpuNum": 0,
    "hideHardwareSpecs": false,
    "memoryGiB": 32,
    "name": "ml.m5.2xlarge",
    "vcpuNum": 8
   },
   {
    "_defaultOrder": 7,
    "_isFastLaunch": false,
    "category": "General purpose",
    "gpuNum": 0,
    "hideHardwareSpecs": false,
    "memoryGiB": 64,
    "name": "ml.m5.4xlarge",
    "vcpuNum": 16
   },
   {
    "_defaultOrder": 8,
    "_isFastLaunch": false,
    "category": "General purpose",
    "gpuNum": 0,
    "hideHardwareSpecs": false,
    "memoryGiB": 128,
    "name": "ml.m5.8xlarge",
    "vcpuNum": 32
   },
   {
    "_defaultOrder": 9,
    "_isFastLaunch": false,
    "category": "General purpose",
    "gpuNum": 0,
    "hideHardwareSpecs": false,
    "memoryGiB": 192,
    "name": "ml.m5.12xlarge",
    "vcpuNum": 48
   },
   {
    "_defaultOrder": 10,
    "_isFastLaunch": false,
    "category": "General purpose",
    "gpuNum": 0,
    "hideHardwareSpecs": false,
    "memoryGiB": 256,
    "name": "ml.m5.16xlarge",
    "vcpuNum": 64
   },
   {
    "_defaultOrder": 11,
    "_isFastLaunch": false,
    "category": "General purpose",
    "gpuNum": 0,
    "hideHardwareSpecs": false,
    "memoryGiB": 384,
    "name": "ml.m5.24xlarge",
    "vcpuNum": 96
   },
   {
    "_defaultOrder": 12,
    "_isFastLaunch": false,
    "category": "General purpose",
    "gpuNum": 0,
    "hideHardwareSpecs": false,
    "memoryGiB": 8,
    "name": "ml.m5d.large",
    "vcpuNum": 2
   },
   {
    "_defaultOrder": 13,
    "_isFastLaunch": false,
    "category": "General purpose",
    "gpuNum": 0,
    "hideHardwareSpecs": false,
    "memoryGiB": 16,
    "name": "ml.m5d.xlarge",
    "vcpuNum": 4
   },
   {
    "_defaultOrder": 14,
    "_isFastLaunch": false,
    "category": "General purpose",
    "gpuNum": 0,
    "hideHardwareSpecs": false,
    "memoryGiB": 32,
    "name": "ml.m5d.2xlarge",
    "vcpuNum": 8
   },
   {
    "_defaultOrder": 15,
    "_isFastLaunch": false,
    "category": "General purpose",
    "gpuNum": 0,
    "hideHardwareSpecs": false,
    "memoryGiB": 64,
    "name": "ml.m5d.4xlarge",
    "vcpuNum": 16
   },
   {
    "_defaultOrder": 16,
    "_isFastLaunch": false,
    "category": "General purpose",
    "gpuNum": 0,
    "hideHardwareSpecs": false,
    "memoryGiB": 128,
    "name": "ml.m5d.8xlarge",
    "vcpuNum": 32
   },
   {
    "_defaultOrder": 17,
    "_isFastLaunch": false,
    "category": "General purpose",
    "gpuNum": 0,
    "hideHardwareSpecs": false,
    "memoryGiB": 192,
    "name": "ml.m5d.12xlarge",
    "vcpuNum": 48
   },
   {
    "_defaultOrder": 18,
    "_isFastLaunch": false,
    "category": "General purpose",
    "gpuNum": 0,
    "hideHardwareSpecs": false,
    "memoryGiB": 256,
    "name": "ml.m5d.16xlarge",
    "vcpuNum": 64
   },
   {
    "_defaultOrder": 19,
    "_isFastLaunch": false,
    "category": "General purpose",
    "gpuNum": 0,
    "hideHardwareSpecs": false,
    "memoryGiB": 384,
    "name": "ml.m5d.24xlarge",
    "vcpuNum": 96
   },
   {
    "_defaultOrder": 20,
    "_isFastLaunch": false,
    "category": "General purpose",
    "gpuNum": 0,
    "hideHardwareSpecs": true,
    "memoryGiB": 0,
    "name": "ml.geospatial.interactive",
    "supportedImageNames": [
     "sagemaker-geospatial-v1-0"
    ],
    "vcpuNum": 0
   },
   {
    "_defaultOrder": 21,
    "_isFastLaunch": true,
    "category": "Compute optimized",
    "gpuNum": 0,
    "hideHardwareSpecs": false,
    "memoryGiB": 4,
    "name": "ml.c5.large",
    "vcpuNum": 2
   },
   {
    "_defaultOrder": 22,
    "_isFastLaunch": false,
    "category": "Compute optimized",
    "gpuNum": 0,
    "hideHardwareSpecs": false,
    "memoryGiB": 8,
    "name": "ml.c5.xlarge",
    "vcpuNum": 4
   },
   {
    "_defaultOrder": 23,
    "_isFastLaunch": false,
    "category": "Compute optimized",
    "gpuNum": 0,
    "hideHardwareSpecs": false,
    "memoryGiB": 16,
    "name": "ml.c5.2xlarge",
    "vcpuNum": 8
   },
   {
    "_defaultOrder": 24,
    "_isFastLaunch": false,
    "category": "Compute optimized",
    "gpuNum": 0,
    "hideHardwareSpecs": false,
    "memoryGiB": 32,
    "name": "ml.c5.4xlarge",
    "vcpuNum": 16
   },
   {
    "_defaultOrder": 25,
    "_isFastLaunch": false,
    "category": "Compute optimized",
    "gpuNum": 0,
    "hideHardwareSpecs": false,
    "memoryGiB": 72,
    "name": "ml.c5.9xlarge",
    "vcpuNum": 36
   },
   {
    "_defaultOrder": 26,
    "_isFastLaunch": false,
    "category": "Compute optimized",
    "gpuNum": 0,
    "hideHardwareSpecs": false,
    "memoryGiB": 96,
    "name": "ml.c5.12xlarge",
    "vcpuNum": 48
   },
   {
    "_defaultOrder": 27,
    "_isFastLaunch": false,
    "category": "Compute optimized",
    "gpuNum": 0,
    "hideHardwareSpecs": false,
    "memoryGiB": 144,
    "name": "ml.c5.18xlarge",
    "vcpuNum": 72
   },
   {
    "_defaultOrder": 28,
    "_isFastLaunch": false,
    "category": "Compute optimized",
    "gpuNum": 0,
    "hideHardwareSpecs": false,
    "memoryGiB": 192,
    "name": "ml.c5.24xlarge",
    "vcpuNum": 96
   },
   {
    "_defaultOrder": 29,
    "_isFastLaunch": true,
    "category": "Accelerated computing",
    "gpuNum": 1,
    "hideHardwareSpecs": false,
    "memoryGiB": 16,
    "name": "ml.g4dn.xlarge",
    "vcpuNum": 4
   },
   {
    "_defaultOrder": 30,
    "_isFastLaunch": false,
    "category": "Accelerated computing",
    "gpuNum": 1,
    "hideHardwareSpecs": false,
    "memoryGiB": 32,
    "name": "ml.g4dn.2xlarge",
    "vcpuNum": 8
   },
   {
    "_defaultOrder": 31,
    "_isFastLaunch": false,
    "category": "Accelerated computing",
    "gpuNum": 1,
    "hideHardwareSpecs": false,
    "memoryGiB": 64,
    "name": "ml.g4dn.4xlarge",
    "vcpuNum": 16
   },
   {
    "_defaultOrder": 32,
    "_isFastLaunch": false,
    "category": "Accelerated computing",
    "gpuNum": 1,
    "hideHardwareSpecs": false,
    "memoryGiB": 128,
    "name": "ml.g4dn.8xlarge",
    "vcpuNum": 32
   },
   {
    "_defaultOrder": 33,
    "_isFastLaunch": false,
    "category": "Accelerated computing",
    "gpuNum": 4,
    "hideHardwareSpecs": false,
    "memoryGiB": 192,
    "name": "ml.g4dn.12xlarge",
    "vcpuNum": 48
   },
   {
    "_defaultOrder": 34,
    "_isFastLaunch": false,
    "category": "Accelerated computing",
    "gpuNum": 1,
    "hideHardwareSpecs": false,
    "memoryGiB": 256,
    "name": "ml.g4dn.16xlarge",
    "vcpuNum": 64
   },
   {
    "_defaultOrder": 35,
    "_isFastLaunch": false,
    "category": "Accelerated computing",
    "gpuNum": 1,
    "hideHardwareSpecs": false,
    "memoryGiB": 61,
    "name": "ml.p3.2xlarge",
    "vcpuNum": 8
   },
   {
    "_defaultOrder": 36,
    "_isFastLaunch": false,
    "category": "Accelerated computing",
    "gpuNum": 4,
    "hideHardwareSpecs": false,
    "memoryGiB": 244,
    "name": "ml.p3.8xlarge",
    "vcpuNum": 32
   },
   {
    "_defaultOrder": 37,
    "_isFastLaunch": false,
    "category": "Accelerated computing",
    "gpuNum": 8,
    "hideHardwareSpecs": false,
    "memoryGiB": 488,
    "name": "ml.p3.16xlarge",
    "vcpuNum": 64
   },
   {
    "_defaultOrder": 38,
    "_isFastLaunch": false,
    "category": "Accelerated computing",
    "gpuNum": 8,
    "hideHardwareSpecs": false,
    "memoryGiB": 768,
    "name": "ml.p3dn.24xlarge",
    "vcpuNum": 96
   },
   {
    "_defaultOrder": 39,
    "_isFastLaunch": false,
    "category": "Memory Optimized",
    "gpuNum": 0,
    "hideHardwareSpecs": false,
    "memoryGiB": 16,
    "name": "ml.r5.large",
    "vcpuNum": 2
   },
   {
    "_defaultOrder": 40,
    "_isFastLaunch": false,
    "category": "Memory Optimized",
    "gpuNum": 0,
    "hideHardwareSpecs": false,
    "memoryGiB": 32,
    "name": "ml.r5.xlarge",
    "vcpuNum": 4
   },
   {
    "_defaultOrder": 41,
    "_isFastLaunch": false,
    "category": "Memory Optimized",
    "gpuNum": 0,
    "hideHardwareSpecs": false,
    "memoryGiB": 64,
    "name": "ml.r5.2xlarge",
    "vcpuNum": 8
   },
   {
    "_defaultOrder": 42,
    "_isFastLaunch": false,
    "category": "Memory Optimized",
    "gpuNum": 0,
    "hideHardwareSpecs": false,
    "memoryGiB": 128,
    "name": "ml.r5.4xlarge",
    "vcpuNum": 16
   },
   {
    "_defaultOrder": 43,
    "_isFastLaunch": false,
    "category": "Memory Optimized",
    "gpuNum": 0,
    "hideHardwareSpecs": false,
    "memoryGiB": 256,
    "name": "ml.r5.8xlarge",
    "vcpuNum": 32
   },
   {
    "_defaultOrder": 44,
    "_isFastLaunch": false,
    "category": "Memory Optimized",
    "gpuNum": 0,
    "hideHardwareSpecs": false,
    "memoryGiB": 384,
    "name": "ml.r5.12xlarge",
    "vcpuNum": 48
   },
   {
    "_defaultOrder": 45,
    "_isFastLaunch": false,
    "category": "Memory Optimized",
    "gpuNum": 0,
    "hideHardwareSpecs": false,
    "memoryGiB": 512,
    "name": "ml.r5.16xlarge",
    "vcpuNum": 64
   },
   {
    "_defaultOrder": 46,
    "_isFastLaunch": false,
    "category": "Memory Optimized",
    "gpuNum": 0,
    "hideHardwareSpecs": false,
    "memoryGiB": 768,
    "name": "ml.r5.24xlarge",
    "vcpuNum": 96
   },
   {
    "_defaultOrder": 47,
    "_isFastLaunch": false,
    "category": "Accelerated computing",
    "gpuNum": 1,
    "hideHardwareSpecs": false,
    "memoryGiB": 16,
    "name": "ml.g5.xlarge",
    "vcpuNum": 4
   },
   {
    "_defaultOrder": 48,
    "_isFastLaunch": false,
    "category": "Accelerated computing",
    "gpuNum": 1,
    "hideHardwareSpecs": false,
    "memoryGiB": 32,
    "name": "ml.g5.2xlarge",
    "vcpuNum": 8
   },
   {
    "_defaultOrder": 49,
    "_isFastLaunch": false,
    "category": "Accelerated computing",
    "gpuNum": 1,
    "hideHardwareSpecs": false,
    "memoryGiB": 64,
    "name": "ml.g5.4xlarge",
    "vcpuNum": 16
   },
   {
    "_defaultOrder": 50,
    "_isFastLaunch": false,
    "category": "Accelerated computing",
    "gpuNum": 1,
    "hideHardwareSpecs": false,
    "memoryGiB": 128,
    "name": "ml.g5.8xlarge",
    "vcpuNum": 32
   },
   {
    "_defaultOrder": 51,
    "_isFastLaunch": false,
    "category": "Accelerated computing",
    "gpuNum": 1,
    "hideHardwareSpecs": false,
    "memoryGiB": 256,
    "name": "ml.g5.16xlarge",
    "vcpuNum": 64
   },
   {
    "_defaultOrder": 52,
    "_isFastLaunch": false,
    "category": "Accelerated computing",
    "gpuNum": 4,
    "hideHardwareSpecs": false,
    "memoryGiB": 192,
    "name": "ml.g5.12xlarge",
    "vcpuNum": 48
   },
   {
    "_defaultOrder": 53,
    "_isFastLaunch": false,
    "category": "Accelerated computing",
    "gpuNum": 4,
    "hideHardwareSpecs": false,
    "memoryGiB": 384,
    "name": "ml.g5.24xlarge",
    "vcpuNum": 96
   },
   {
    "_defaultOrder": 54,
    "_isFastLaunch": false,
    "category": "Accelerated computing",
    "gpuNum": 8,
    "hideHardwareSpecs": false,
    "memoryGiB": 768,
    "name": "ml.g5.48xlarge",
    "vcpuNum": 192
   },
   {
    "_defaultOrder": 55,
    "_isFastLaunch": false,
    "category": "Accelerated computing",
    "gpuNum": 8,
    "hideHardwareSpecs": false,
    "memoryGiB": 1152,
    "name": "ml.p4d.24xlarge",
    "vcpuNum": 96
   },
   {
    "_defaultOrder": 56,
    "_isFastLaunch": false,
    "category": "Accelerated computing",
    "gpuNum": 8,
    "hideHardwareSpecs": false,
    "memoryGiB": 1152,
    "name": "ml.p4de.24xlarge",
    "vcpuNum": 96
   }
  ],
  "kernelspec": {
   "display_name": "GDSC (custom-gdsc/1)",
   "language": "python",
   "name": "python3__SAGEMAKER_INTERNAL__arn:aws:sagemaker:us-east-1:292159885427:image-version/custom-gdsc/1"
  },
  "language_info": {
   "codemirror_mode": {
    "name": "ipython",
    "version": 3
   },
   "file_extension": ".py",
   "mimetype": "text/x-python",
   "name": "python",
   "nbconvert_exporter": "python",
   "pygments_lexer": "ipython3",
   "version": "3.10.8"
  },
  "lcc_arn": "arn:aws:sagemaker:us-east-1:292159885427:studio-lifecycle-config/clean-trash"
 },
 "nbformat": 4,
 "nbformat_minor": 5
}
