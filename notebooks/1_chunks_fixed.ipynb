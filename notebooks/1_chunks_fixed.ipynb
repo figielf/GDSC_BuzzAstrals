{
 "cells": [
  {
   "cell_type": "code",
   "execution_count": null,
   "id": "f4af40a8-db6b-4624-93a4-2d335ee4afa5",
   "metadata": {
    "tags": []
   },
   "outputs": [],
   "source": [
    "# !pip install pydub"
   ]
  },
  {
   "cell_type": "code",
   "execution_count": null,
   "id": "8fcf76e1-bba0-49ab-871a-8a8a08d848cf",
   "metadata": {
    "tags": []
   },
   "outputs": [],
   "source": [
    "import os\n",
    "import sys\n",
    "import numpy as np\n",
    "import pandas as pd\n",
    "\n",
    "from tqdm import tqdm\n",
    "#from pydub import AudioSegment\n",
    "from IPython.display import Audio as AudioI\n",
    "#from sklearn.model_selection import train_test_split\n",
    "\n",
    "curr_parh = os.getcwd()\n",
    "sys.path.append('../src')\n",
    "from config import DEFAULT_BUCKET, DEFAULT_REGION  \n",
    "from gdsc_utils import upload_to_s3, PROJECT_DIR"
   ]
  },
  {
   "cell_type": "code",
   "execution_count": null,
   "id": "386a1f4c-805f-4720-8e77-50df67f46822",
   "metadata": {},
   "outputs": [],
   "source": [
    "os.chdir(f'{curr_parh}/..')\n",
    "os.getcwd()"
   ]
  },
  {
   "cell_type": "code",
   "execution_count": null,
   "id": "49db9e47-7961-4e13-b68c-164f6e3e5742",
   "metadata": {
    "tags": []
   },
   "outputs": [],
   "source": [
    "threshold = 7\n",
    "path_trn_chunked = 'data/data_chunks_7sec_small/train_chunked/'\n",
    "path_val_chunked = 'data/data_chunks_7sec_small/val_chunked/'\n",
    "path_tst_chunked = 'data/data_chunks_7sec_small/test_chunked/'"
   ]
  },
  {
   "cell_type": "code",
   "execution_count": null,
   "id": "fa8732b7-3900-48c5-b7e0-a8f0aea5b3f1",
   "metadata": {
    "tags": []
   },
   "outputs": [],
   "source": [
    "def chunks(path_original, path_chunked, threshold, random_frac=None):\n",
    "    \n",
    "    mtd = pd.read_csv(path_original+'metadata.csv')             \n",
    "    label_flag = False\n",
    "    if 'label' in list(mtd.columns):\n",
    "        label_flag = True\n",
    "        \n",
    "    if (random_frac is not None) & (label_flag):        \n",
    "        _, file_tst = train_test_split(mtd.file_name, test_size=random_frac, stratify=mtd.label, random_state=42)\n",
    "        mtd = mtd[mtd.file_name.isin(file_tst.values)].reset_index(drop=True)\n",
    "    if (random_frac is not None) & (not label_flag):        \n",
    "        _, file_tst = train_test_split(mtd.file_name, test_size=random_frac, random_state=42)\n",
    "        mtd = mtd[mtd.file_name.isin(file_tst.values)].reset_index(drop=True)      \n",
    "        \n",
    "    if label_flag:    \n",
    "        new_metadata_chunked = pd.DataFrame(columns=['file_name', 'label'])\n",
    "    else:\n",
    "        new_metadata_chunked = pd.DataFrame(columns=['file_name'])\n",
    "    \n",
    "    \n",
    "    for i in tqdm(range(len(mtd))):\n",
    "        file_name = mtd.iloc[[i]]['file_name'].values[0]\n",
    "        if label_flag:\n",
    "            label = mtd.iloc[[i]]['label'].values[0]\n",
    "        audio = AudioSegment.from_wav(path_original+file_name)\n",
    "        length = len(audio)/1000\n",
    "        sec = threshold * 1000\n",
    "        if length > threshold:\n",
    "            n = int(length//threshold)\n",
    "            for j in range(0, n+1):\n",
    "                new_audio = audio[sec*j:sec*(j+1)]\n",
    "                new_filename = f'{file_name[:-4]}'+'_cut'+str(j)+'.wav'\n",
    "                new_path = f'{path_chunked+new_filename}'\n",
    "                new_len = len(new_audio) / 1000 \n",
    "                if new_len >= 1:\n",
    "                    new_audio.export(path_chunked+new_filename, format=\"wav\")\n",
    "                    if label_flag:\n",
    "                        new_metadata_chunked.loc[len(new_metadata_chunked)] = [new_filename, label]\n",
    "                    else:\n",
    "                        new_metadata_chunked.loc[len(new_metadata_chunked)] = [new_filename]                 \n",
    "        else:\n",
    "            audio.export(path_chunked + file_name, format=\"wav\")\n",
    "            if label_flag:\n",
    "                new_metadata_chunked.loc[len(new_metadata_chunked)] = [file_name, label]\n",
    "            else:\n",
    "                new_metadata_chunked.loc[len(new_metadata_chunked)] = [new_filename]            \n",
    "    return new_metadata_chunked"
   ]
  },
  {
   "cell_type": "code",
   "execution_count": null,
   "id": "049f8d61-301b-4130-bb03-cfe6db3c35d0",
   "metadata": {
    "tags": []
   },
   "outputs": [],
   "source": [
    "new_metadata_train_chunked = chunks(path_original='data/train/', path_chunked=path_trn_chunked, threshold=threshold, random_frac=0.3)\n",
    "new_metadata_train_chunked.to_csv(path_trn_chunked + 'metadata.csv', index=False)"
   ]
  },
  {
   "cell_type": "code",
   "execution_count": null,
   "id": "2a4a808a-60aa-4539-9952-ca8fe170e6f4",
   "metadata": {
    "tags": []
   },
   "outputs": [],
   "source": [
    "new_metadata_val_chunked = chunks(path_original='data/val/', path_chunked=path_val_chunked, threshold=threshold)\n",
    "new_metadata_val_chunked.to_csv(path_val_chunked + 'metadata.csv', index=False)"
   ]
  },
  {
   "cell_type": "code",
   "execution_count": null,
   "id": "bc7e859a-5a62-47c5-a90e-e1431eea9cc2",
   "metadata": {
    "tags": []
   },
   "outputs": [],
   "source": [
    "new_metadata_tst_chunked = chunks(path_original='data/test/', path_chunked=path_tst_chunked, threshold=threshold)\n",
    "new_metadata_tst_chunked.to_csv(path_tst_chunked + 'metadata.csv', index=False)"
   ]
  },
  {
   "cell_type": "code",
   "execution_count": null,
   "id": "1217134c-7c94-4df6-975c-dd89772a777d",
   "metadata": {
    "tags": []
   },
   "outputs": [],
   "source": [
    "new_metadata_train_chunked.shape, new_metadata_val_chunked.shape, new_metadata_tst_chunked.shape"
   ]
  },
  {
   "cell_type": "markdown",
   "id": "82ca3e8a-e06f-49e4-97ef-37cf8c80fb39",
   "metadata": {},
   "source": [
    "# Upload to S3 bucket"
   ]
  },
  {
   "cell_type": "code",
   "execution_count": null,
   "id": "f0ed85d1-fa64-41bf-84f1-1975e12d41c4",
   "metadata": {},
   "outputs": [],
   "source": [
    "path_local = '/root/data/data/data_chunks_7sec_small'\n",
    "path_s3 = 'data_chunks_7sec_small'"
   ]
  },
  {
   "cell_type": "code",
   "execution_count": null,
   "id": "9f2e1a56-7f11-46ca-b3e1-17ff0957b246",
   "metadata": {},
   "outputs": [],
   "source": [
    "for path, directories, files in os.walk(path_local+'/train_chunked'):\n",
    "    for file in tqdm(files):\n",
    "        if file != 'metadata-checkpoint.csv':\n",
    "            upload_to_s3(local_path=f'{path_local}/train_chunked/{file}',\n",
    "                         s3_path=f'{path_s3}/train/{file}',\n",
    "                         bucket='sagemaker-us-east-1-292159885427')"
   ]
  },
  {
   "cell_type": "code",
   "execution_count": null,
   "id": "ad0f283b-f105-4dd1-983e-2a492ae832ab",
   "metadata": {},
   "outputs": [],
   "source": [
    "for path, directories, files in os.walk('/root/data/data/val'):\n",
    "    for file in tqdm(files):\n",
    "        if file != 'metadata-checkpoint.csv':\n",
    "            upload_to_s3(local_path=f'/root/data/data/val/{file}',\n",
    "                         s3_path=f'{path_s3}/val/{file}',\n",
    "                         bucket='sagemaker-us-east-1-292159885427')"
   ]
  },
  {
   "cell_type": "code",
   "execution_count": null,
   "id": "7f4def91-19bc-418c-9416-bb26943b0fe5",
   "metadata": {},
   "outputs": [],
   "source": [
    "for path, directories, files in os.walk('/root/data/data/test'):\n",
    "    for file in tqdm(files):\n",
    "        if file != 'metadata-checkpoint.csv':\n",
    "            upload_to_s3(local_path=f'/root/data/data/test/{file}',\n",
    "                         s3_path=f'{path_s3}/test/{file}',\n",
    "                         bucket='sagemaker-us-east-1-292159885427')"
   ]
  },
  {
   "cell_type": "code",
   "execution_count": null,
   "id": "96c3e6f1-3985-49e0-bbed-db0e5f991a47",
   "metadata": {},
   "outputs": [],
   "source": [
    "upload_to_s3(local_path=f'/root/data/data/labels-BACKUP.json',\n",
    "             s3_path=f'{path_s3}/labels.json',\n",
    "             bucket='sagemaker-us-east-1-292159885427')"
   ]
  }
 ],
 "metadata": {
  "availableInstances": [
   {
    "_defaultOrder": 0,
    "_isFastLaunch": true,
    "category": "General purpose",
    "gpuNum": 0,
    "hideHardwareSpecs": false,
    "memoryGiB": 4,
    "name": "ml.t3.medium",
    "vcpuNum": 2
   },
   {
    "_defaultOrder": 1,
    "_isFastLaunch": false,
    "category": "General purpose",
    "gpuNum": 0,
    "hideHardwareSpecs": false,
    "memoryGiB": 8,
    "name": "ml.t3.large",
    "vcpuNum": 2
   },
   {
    "_defaultOrder": 2,
    "_isFastLaunch": false,
    "category": "General purpose",
    "gpuNum": 0,
    "hideHardwareSpecs": false,
    "memoryGiB": 16,
    "name": "ml.t3.xlarge",
    "vcpuNum": 4
   },
   {
    "_defaultOrder": 3,
    "_isFastLaunch": false,
    "category": "General purpose",
    "gpuNum": 0,
    "hideHardwareSpecs": false,
    "memoryGiB": 32,
    "name": "ml.t3.2xlarge",
    "vcpuNum": 8
   },
   {
    "_defaultOrder": 4,
    "_isFastLaunch": true,
    "category": "General purpose",
    "gpuNum": 0,
    "hideHardwareSpecs": false,
    "memoryGiB": 8,
    "name": "ml.m5.large",
    "vcpuNum": 2
   },
   {
    "_defaultOrder": 5,
    "_isFastLaunch": false,
    "category": "General purpose",
    "gpuNum": 0,
    "hideHardwareSpecs": false,
    "memoryGiB": 16,
    "name": "ml.m5.xlarge",
    "vcpuNum": 4
   },
   {
    "_defaultOrder": 6,
    "_isFastLaunch": false,
    "category": "General purpose",
    "gpuNum": 0,
    "hideHardwareSpecs": false,
    "memoryGiB": 32,
    "name": "ml.m5.2xlarge",
    "vcpuNum": 8
   },
   {
    "_defaultOrder": 7,
    "_isFastLaunch": false,
    "category": "General purpose",
    "gpuNum": 0,
    "hideHardwareSpecs": false,
    "memoryGiB": 64,
    "name": "ml.m5.4xlarge",
    "vcpuNum": 16
   },
   {
    "_defaultOrder": 8,
    "_isFastLaunch": false,
    "category": "General purpose",
    "gpuNum": 0,
    "hideHardwareSpecs": false,
    "memoryGiB": 128,
    "name": "ml.m5.8xlarge",
    "vcpuNum": 32
   },
   {
    "_defaultOrder": 9,
    "_isFastLaunch": false,
    "category": "General purpose",
    "gpuNum": 0,
    "hideHardwareSpecs": false,
    "memoryGiB": 192,
    "name": "ml.m5.12xlarge",
    "vcpuNum": 48
   },
   {
    "_defaultOrder": 10,
    "_isFastLaunch": false,
    "category": "General purpose",
    "gpuNum": 0,
    "hideHardwareSpecs": false,
    "memoryGiB": 256,
    "name": "ml.m5.16xlarge",
    "vcpuNum": 64
   },
   {
    "_defaultOrder": 11,
    "_isFastLaunch": false,
    "category": "General purpose",
    "gpuNum": 0,
    "hideHardwareSpecs": false,
    "memoryGiB": 384,
    "name": "ml.m5.24xlarge",
    "vcpuNum": 96
   },
   {
    "_defaultOrder": 12,
    "_isFastLaunch": false,
    "category": "General purpose",
    "gpuNum": 0,
    "hideHardwareSpecs": false,
    "memoryGiB": 8,
    "name": "ml.m5d.large",
    "vcpuNum": 2
   },
   {
    "_defaultOrder": 13,
    "_isFastLaunch": false,
    "category": "General purpose",
    "gpuNum": 0,
    "hideHardwareSpecs": false,
    "memoryGiB": 16,
    "name": "ml.m5d.xlarge",
    "vcpuNum": 4
   },
   {
    "_defaultOrder": 14,
    "_isFastLaunch": false,
    "category": "General purpose",
    "gpuNum": 0,
    "hideHardwareSpecs": false,
    "memoryGiB": 32,
    "name": "ml.m5d.2xlarge",
    "vcpuNum": 8
   },
   {
    "_defaultOrder": 15,
    "_isFastLaunch": false,
    "category": "General purpose",
    "gpuNum": 0,
    "hideHardwareSpecs": false,
    "memoryGiB": 64,
    "name": "ml.m5d.4xlarge",
    "vcpuNum": 16
   },
   {
    "_defaultOrder": 16,
    "_isFastLaunch": false,
    "category": "General purpose",
    "gpuNum": 0,
    "hideHardwareSpecs": false,
    "memoryGiB": 128,
    "name": "ml.m5d.8xlarge",
    "vcpuNum": 32
   },
   {
    "_defaultOrder": 17,
    "_isFastLaunch": false,
    "category": "General purpose",
    "gpuNum": 0,
    "hideHardwareSpecs": false,
    "memoryGiB": 192,
    "name": "ml.m5d.12xlarge",
    "vcpuNum": 48
   },
   {
    "_defaultOrder": 18,
    "_isFastLaunch": false,
    "category": "General purpose",
    "gpuNum": 0,
    "hideHardwareSpecs": false,
    "memoryGiB": 256,
    "name": "ml.m5d.16xlarge",
    "vcpuNum": 64
   },
   {
    "_defaultOrder": 19,
    "_isFastLaunch": false,
    "category": "General purpose",
    "gpuNum": 0,
    "hideHardwareSpecs": false,
    "memoryGiB": 384,
    "name": "ml.m5d.24xlarge",
    "vcpuNum": 96
   },
   {
    "_defaultOrder": 20,
    "_isFastLaunch": false,
    "category": "General purpose",
    "gpuNum": 0,
    "hideHardwareSpecs": true,
    "memoryGiB": 0,
    "name": "ml.geospatial.interactive",
    "supportedImageNames": [
     "sagemaker-geospatial-v1-0"
    ],
    "vcpuNum": 0
   },
   {
    "_defaultOrder": 21,
    "_isFastLaunch": true,
    "category": "Compute optimized",
    "gpuNum": 0,
    "hideHardwareSpecs": false,
    "memoryGiB": 4,
    "name": "ml.c5.large",
    "vcpuNum": 2
   },
   {
    "_defaultOrder": 22,
    "_isFastLaunch": false,
    "category": "Compute optimized",
    "gpuNum": 0,
    "hideHardwareSpecs": false,
    "memoryGiB": 8,
    "name": "ml.c5.xlarge",
    "vcpuNum": 4
   },
   {
    "_defaultOrder": 23,
    "_isFastLaunch": false,
    "category": "Compute optimized",
    "gpuNum": 0,
    "hideHardwareSpecs": false,
    "memoryGiB": 16,
    "name": "ml.c5.2xlarge",
    "vcpuNum": 8
   },
   {
    "_defaultOrder": 24,
    "_isFastLaunch": false,
    "category": "Compute optimized",
    "gpuNum": 0,
    "hideHardwareSpecs": false,
    "memoryGiB": 32,
    "name": "ml.c5.4xlarge",
    "vcpuNum": 16
   },
   {
    "_defaultOrder": 25,
    "_isFastLaunch": false,
    "category": "Compute optimized",
    "gpuNum": 0,
    "hideHardwareSpecs": false,
    "memoryGiB": 72,
    "name": "ml.c5.9xlarge",
    "vcpuNum": 36
   },
   {
    "_defaultOrder": 26,
    "_isFastLaunch": false,
    "category": "Compute optimized",
    "gpuNum": 0,
    "hideHardwareSpecs": false,
    "memoryGiB": 96,
    "name": "ml.c5.12xlarge",
    "vcpuNum": 48
   },
   {
    "_defaultOrder": 27,
    "_isFastLaunch": false,
    "category": "Compute optimized",
    "gpuNum": 0,
    "hideHardwareSpecs": false,
    "memoryGiB": 144,
    "name": "ml.c5.18xlarge",
    "vcpuNum": 72
   },
   {
    "_defaultOrder": 28,
    "_isFastLaunch": false,
    "category": "Compute optimized",
    "gpuNum": 0,
    "hideHardwareSpecs": false,
    "memoryGiB": 192,
    "name": "ml.c5.24xlarge",
    "vcpuNum": 96
   },
   {
    "_defaultOrder": 29,
    "_isFastLaunch": true,
    "category": "Accelerated computing",
    "gpuNum": 1,
    "hideHardwareSpecs": false,
    "memoryGiB": 16,
    "name": "ml.g4dn.xlarge",
    "vcpuNum": 4
   },
   {
    "_defaultOrder": 30,
    "_isFastLaunch": false,
    "category": "Accelerated computing",
    "gpuNum": 1,
    "hideHardwareSpecs": false,
    "memoryGiB": 32,
    "name": "ml.g4dn.2xlarge",
    "vcpuNum": 8
   },
   {
    "_defaultOrder": 31,
    "_isFastLaunch": false,
    "category": "Accelerated computing",
    "gpuNum": 1,
    "hideHardwareSpecs": false,
    "memoryGiB": 64,
    "name": "ml.g4dn.4xlarge",
    "vcpuNum": 16
   },
   {
    "_defaultOrder": 32,
    "_isFastLaunch": false,
    "category": "Accelerated computing",
    "gpuNum": 1,
    "hideHardwareSpecs": false,
    "memoryGiB": 128,
    "name": "ml.g4dn.8xlarge",
    "vcpuNum": 32
   },
   {
    "_defaultOrder": 33,
    "_isFastLaunch": false,
    "category": "Accelerated computing",
    "gpuNum": 4,
    "hideHardwareSpecs": false,
    "memoryGiB": 192,
    "name": "ml.g4dn.12xlarge",
    "vcpuNum": 48
   },
   {
    "_defaultOrder": 34,
    "_isFastLaunch": false,
    "category": "Accelerated computing",
    "gpuNum": 1,
    "hideHardwareSpecs": false,
    "memoryGiB": 256,
    "name": "ml.g4dn.16xlarge",
    "vcpuNum": 64
   },
   {
    "_defaultOrder": 35,
    "_isFastLaunch": false,
    "category": "Accelerated computing",
    "gpuNum": 1,
    "hideHardwareSpecs": false,
    "memoryGiB": 61,
    "name": "ml.p3.2xlarge",
    "vcpuNum": 8
   },
   {
    "_defaultOrder": 36,
    "_isFastLaunch": false,
    "category": "Accelerated computing",
    "gpuNum": 4,
    "hideHardwareSpecs": false,
    "memoryGiB": 244,
    "name": "ml.p3.8xlarge",
    "vcpuNum": 32
   },
   {
    "_defaultOrder": 37,
    "_isFastLaunch": false,
    "category": "Accelerated computing",
    "gpuNum": 8,
    "hideHardwareSpecs": false,
    "memoryGiB": 488,
    "name": "ml.p3.16xlarge",
    "vcpuNum": 64
   },
   {
    "_defaultOrder": 38,
    "_isFastLaunch": false,
    "category": "Accelerated computing",
    "gpuNum": 8,
    "hideHardwareSpecs": false,
    "memoryGiB": 768,
    "name": "ml.p3dn.24xlarge",
    "vcpuNum": 96
   },
   {
    "_defaultOrder": 39,
    "_isFastLaunch": false,
    "category": "Memory Optimized",
    "gpuNum": 0,
    "hideHardwareSpecs": false,
    "memoryGiB": 16,
    "name": "ml.r5.large",
    "vcpuNum": 2
   },
   {
    "_defaultOrder": 40,
    "_isFastLaunch": false,
    "category": "Memory Optimized",
    "gpuNum": 0,
    "hideHardwareSpecs": false,
    "memoryGiB": 32,
    "name": "ml.r5.xlarge",
    "vcpuNum": 4
   },
   {
    "_defaultOrder": 41,
    "_isFastLaunch": false,
    "category": "Memory Optimized",
    "gpuNum": 0,
    "hideHardwareSpecs": false,
    "memoryGiB": 64,
    "name": "ml.r5.2xlarge",
    "vcpuNum": 8
   },
   {
    "_defaultOrder": 42,
    "_isFastLaunch": false,
    "category": "Memory Optimized",
    "gpuNum": 0,
    "hideHardwareSpecs": false,
    "memoryGiB": 128,
    "name": "ml.r5.4xlarge",
    "vcpuNum": 16
   },
   {
    "_defaultOrder": 43,
    "_isFastLaunch": false,
    "category": "Memory Optimized",
    "gpuNum": 0,
    "hideHardwareSpecs": false,
    "memoryGiB": 256,
    "name": "ml.r5.8xlarge",
    "vcpuNum": 32
   },
   {
    "_defaultOrder": 44,
    "_isFastLaunch": false,
    "category": "Memory Optimized",
    "gpuNum": 0,
    "hideHardwareSpecs": false,
    "memoryGiB": 384,
    "name": "ml.r5.12xlarge",
    "vcpuNum": 48
   },
   {
    "_defaultOrder": 45,
    "_isFastLaunch": false,
    "category": "Memory Optimized",
    "gpuNum": 0,
    "hideHardwareSpecs": false,
    "memoryGiB": 512,
    "name": "ml.r5.16xlarge",
    "vcpuNum": 64
   },
   {
    "_defaultOrder": 46,
    "_isFastLaunch": false,
    "category": "Memory Optimized",
    "gpuNum": 0,
    "hideHardwareSpecs": false,
    "memoryGiB": 768,
    "name": "ml.r5.24xlarge",
    "vcpuNum": 96
   },
   {
    "_defaultOrder": 47,
    "_isFastLaunch": false,
    "category": "Accelerated computing",
    "gpuNum": 1,
    "hideHardwareSpecs": false,
    "memoryGiB": 16,
    "name": "ml.g5.xlarge",
    "vcpuNum": 4
   },
   {
    "_defaultOrder": 48,
    "_isFastLaunch": false,
    "category": "Accelerated computing",
    "gpuNum": 1,
    "hideHardwareSpecs": false,
    "memoryGiB": 32,
    "name": "ml.g5.2xlarge",
    "vcpuNum": 8
   },
   {
    "_defaultOrder": 49,
    "_isFastLaunch": false,
    "category": "Accelerated computing",
    "gpuNum": 1,
    "hideHardwareSpecs": false,
    "memoryGiB": 64,
    "name": "ml.g5.4xlarge",
    "vcpuNum": 16
   },
   {
    "_defaultOrder": 50,
    "_isFastLaunch": false,
    "category": "Accelerated computing",
    "gpuNum": 1,
    "hideHardwareSpecs": false,
    "memoryGiB": 128,
    "name": "ml.g5.8xlarge",
    "vcpuNum": 32
   },
   {
    "_defaultOrder": 51,
    "_isFastLaunch": false,
    "category": "Accelerated computing",
    "gpuNum": 1,
    "hideHardwareSpecs": false,
    "memoryGiB": 256,
    "name": "ml.g5.16xlarge",
    "vcpuNum": 64
   },
   {
    "_defaultOrder": 52,
    "_isFastLaunch": false,
    "category": "Accelerated computing",
    "gpuNum": 4,
    "hideHardwareSpecs": false,
    "memoryGiB": 192,
    "name": "ml.g5.12xlarge",
    "vcpuNum": 48
   },
   {
    "_defaultOrder": 53,
    "_isFastLaunch": false,
    "category": "Accelerated computing",
    "gpuNum": 4,
    "hideHardwareSpecs": false,
    "memoryGiB": 384,
    "name": "ml.g5.24xlarge",
    "vcpuNum": 96
   },
   {
    "_defaultOrder": 54,
    "_isFastLaunch": false,
    "category": "Accelerated computing",
    "gpuNum": 8,
    "hideHardwareSpecs": false,
    "memoryGiB": 768,
    "name": "ml.g5.48xlarge",
    "vcpuNum": 192
   },
   {
    "_defaultOrder": 55,
    "_isFastLaunch": false,
    "category": "Accelerated computing",
    "gpuNum": 8,
    "hideHardwareSpecs": false,
    "memoryGiB": 1152,
    "name": "ml.p4d.24xlarge",
    "vcpuNum": 96
   },
   {
    "_defaultOrder": 56,
    "_isFastLaunch": false,
    "category": "Accelerated computing",
    "gpuNum": 8,
    "hideHardwareSpecs": false,
    "memoryGiB": 1152,
    "name": "ml.p4de.24xlarge",
    "vcpuNum": 96
   }
  ],
  "kernelspec": {
   "display_name": "Python 3 (ipykernel)",
   "language": "python",
   "name": "python3"
  },
  "language_info": {
   "codemirror_mode": {
    "name": "ipython",
    "version": 3
   },
   "file_extension": ".py",
   "mimetype": "text/x-python",
   "name": "python",
   "nbconvert_exporter": "python",
   "pygments_lexer": "ipython3",
   "version": "3.11.4"
  },
  "lcc_arn": "arn:aws:sagemaker:us-east-1:292159885427:studio-lifecycle-config/clean-trash"
 },
 "nbformat": 4,
 "nbformat_minor": 5
}
