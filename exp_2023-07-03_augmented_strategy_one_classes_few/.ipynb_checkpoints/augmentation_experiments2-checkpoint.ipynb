{
 "cells": [
  {
   "cell_type": "code",
   "execution_count": 2,
   "id": "e2b146fb-4389-45ee-bbe6-daaf4a21c858",
   "metadata": {
    "tags": []
   },
   "outputs": [],
   "source": [
    "%load_ext autoreload\n",
    "%autoreload 2"
   ]
  },
  {
   "cell_type": "code",
   "execution_count": 3,
   "id": "7bfa5a0e-33df-45cb-8b65-28ce55be9338",
   "metadata": {},
   "outputs": [],
   "source": [
    "import sys # Python system library needed to load custom functions\n",
    "import math # module with access to mathematical functions\n",
    "import os # for changing the directory\n",
    "\n",
    "import time\n",
    "import numpy as np  # for performing calculations on numerical arrays\n",
    "import pandas as pd  # home of the DataFrame construct, _the_ most important object for Data Science\n",
    "\n",
    "from IPython.display import Audio as AudioI # for listening to our insects\n",
    "from scipy.fft import fft # function to calculate Fast Fourier Transform\n",
    "\n",
    "import matplotlib.pyplot as plt  # allows creation of insightful plots\n",
    "import seaborn as sns # another library to make even more beautiful plots\n",
    "\n",
    "sys.path.append('../src_old') # add the source directory to the PYTHONPATH. This allows to import local functions and modules.\n",
    "# enable rendering plots under the code cell that created it\n",
    "%matplotlib inline\n",
    "\n",
    "from eda_utils import show_sampling, signal_generator, plot_random_spec, plot_spec, plot_waveform # functions to create plots for and from audio data\n",
    "from gdsc_utils import download_directory, PROJECT_DIR # function to download GDSC data from S3 bucket and our root directory\n",
    "from config import DEFAULT_BUCKET  # S3 bucket with the GDSC data\n",
    "\n",
    "from datasets import load_dataset, Audio \n",
    "\n",
    "import librosa\n",
    "import soundfile as sf\n",
    "\n",
    "import torchaudio\n",
    "\n",
    "os.chdir(PROJECT_DIR) # changing our directory to root"
   ]
  },
  {
   "cell_type": "code",
   "execution_count": 4,
   "id": "7f87b3e4-b939-4f06-9405-419f3f8c661d",
   "metadata": {
    "tags": []
   },
   "outputs": [],
   "source": [
    "#from augmentation_utils import generate_augmented_data"
   ]
  },
  {
   "cell_type": "code",
   "execution_count": 5,
   "id": "5e0de903-ce1c-4920-9ef2-c7adb0a59c8c",
   "metadata": {
    "tags": []
   },
   "outputs": [],
   "source": [
    "import sagemaker                                                                       # dedicated sagemaker library to execute training jobs\n",
    "import boto3 \n",
    "\n",
    "from config import DEFAULT_BUCKET, DEFAULT_REGION  \n",
    "from gdsc_utils import upload_to_s3, PROJECT_DIR                                        # functions to create S3 buckets and to help with downloading models. Importing our root directory\n",
    "os.chdir(PROJECT_DIR)"
   ]
  },
  {
   "cell_type": "code",
   "execution_count": 6,
   "id": "bde9fc2d-44b1-4a21-b450-164ca24e4dcc",
   "metadata": {
    "tags": []
   },
   "outputs": [],
   "source": [
    "import shutil\n",
    "import tqdm"
   ]
  },
  {
   "cell_type": "code",
   "execution_count": 7,
   "id": "1fb1e0c8-5caf-4477-af29-929ce939f508",
   "metadata": {
    "tags": []
   },
   "outputs": [],
   "source": [
    "train_path = '../data/train'"
   ]
  },
  {
   "cell_type": "code",
   "execution_count": 8,
   "id": "9e88a77a-9628-4809-85e7-f99691975501",
   "metadata": {
    "tags": []
   },
   "outputs": [
    {
     "data": {
      "application/vnd.jupyter.widget-view+json": {
       "model_id": "3dd9cf9f5d884798ba7f3487bbea474f",
       "version_major": 2,
       "version_minor": 0
      },
      "text/plain": [
       "Resolving data files:   0%|          | 0/1753 [00:00<?, ?it/s]"
      ]
     },
     "metadata": {},
     "output_type": "display_data"
    },
    {
     "name": "stdout",
     "output_type": "stream",
     "text": [
      "Downloading and preparing dataset audiofolder/default to /root/.cache/huggingface/datasets/audiofolder/default-0bb5909dae519ccd/0.0.0/6cbdd16f8688354c63b4e2a36e1585d05de285023ee6443ffd71c4182055c0fc...\n"
     ]
    },
    {
     "data": {
      "application/vnd.jupyter.widget-view+json": {
       "model_id": "7231e902d4154b30807a0e69f0a8ff86",
       "version_major": 2,
       "version_minor": 0
      },
      "text/plain": [
       "Downloading data files:   0%|          | 0/1753 [00:00<?, ?it/s]"
      ]
     },
     "metadata": {},
     "output_type": "display_data"
    },
    {
     "data": {
      "application/vnd.jupyter.widget-view+json": {
       "model_id": "303342be865e496795acc6a17eeeeb25",
       "version_major": 2,
       "version_minor": 0
      },
      "text/plain": [
       "Downloading data files: 0it [00:00, ?it/s]"
      ]
     },
     "metadata": {},
     "output_type": "display_data"
    },
    {
     "data": {
      "application/vnd.jupyter.widget-view+json": {
       "model_id": "a30bcac330a24d3f96aec9f30e90037e",
       "version_major": 2,
       "version_minor": 0
      },
      "text/plain": [
       "Extracting data files: 0it [00:00, ?it/s]"
      ]
     },
     "metadata": {},
     "output_type": "display_data"
    },
    {
     "data": {
      "application/vnd.jupyter.widget-view+json": {
       "model_id": "",
       "version_major": 2,
       "version_minor": 0
      },
      "text/plain": [
       "Generating train split: 0 examples [00:00, ? examples/s]"
      ]
     },
     "metadata": {},
     "output_type": "display_data"
    },
    {
     "name": "stdout",
     "output_type": "stream",
     "text": [
      "Dataset audiofolder downloaded and prepared to /root/.cache/huggingface/datasets/audiofolder/default-0bb5909dae519ccd/0.0.0/6cbdd16f8688354c63b4e2a36e1585d05de285023ee6443ffd71c4182055c0fc. Subsequent calls will reuse this data.\n"
     ]
    },
    {
     "data": {
      "application/vnd.jupyter.widget-view+json": {
       "model_id": "eedfef77c55844709983e36e3ef073e9",
       "version_major": 2,
       "version_minor": 0
      },
      "text/plain": [
       "  0%|          | 0/1 [00:00<?, ?it/s]"
      ]
     },
     "metadata": {},
     "output_type": "display_data"
    }
   ],
   "source": [
    "train_dataset = load_dataset(\"audiofolder\", data_dir=train_path).get('train') #.shuffle(seed = 42)"
   ]
  },
  {
   "cell_type": "code",
   "execution_count": 9,
   "id": "4849da97-4181-46dd-986e-765fee99883b",
   "metadata": {
    "tags": []
   },
   "outputs": [
    {
     "data": {
      "text/plain": [
       "Dataset({\n",
       "    features: ['audio', 'label'],\n",
       "    num_rows: 1752\n",
       "})"
      ]
     },
     "execution_count": 9,
     "metadata": {},
     "output_type": "execute_result"
    }
   ],
   "source": [
    "train_dataset"
   ]
  },
  {
   "cell_type": "code",
   "execution_count": 10,
   "id": "c8f2a298-92fc-451b-9c18-57070d6c2d94",
   "metadata": {
    "tags": []
   },
   "outputs": [
    {
     "data": {
      "text/plain": [
       "{'audio': {'path': '/root/data/data/train/Achetadomesticus_XC489192-Achetadomesticus_poland_psz_20140510_22.00h_3498_edit1.wav',\n",
       "  'array': array([ 0.        ,  0.        ,  0.        , ..., -0.00015259,\n",
       "          0.00094604, -0.00158691]),\n",
       "  'sampling_rate': 44100},\n",
       " 'label': 0}"
      ]
     },
     "execution_count": 10,
     "metadata": {},
     "output_type": "execute_result"
    }
   ],
   "source": [
    "train_dataset[0]"
   ]
  },
  {
   "cell_type": "code",
   "execution_count": 11,
   "id": "e2f02d60-30a1-4eed-93cd-280f99a1be6f",
   "metadata": {
    "tags": []
   },
   "outputs": [],
   "source": [
    "metadata = pd.read_csv('/root/data/data/metadata.csv')"
   ]
  },
  {
   "cell_type": "code",
   "execution_count": 13,
   "id": "87d6df17-8ecd-4f7f-bec0-58e97c060939",
   "metadata": {
    "tags": []
   },
   "outputs": [
    {
     "data": {
      "application/vnd.jupyter.widget-view+json": {
       "model_id": "bdac25a329ee4d25be38a43e0d412f44",
       "version_major": 2,
       "version_minor": 0
      },
      "text/plain": [
       "Resolving data files:   0%|          | 0/580 [00:00<?, ?it/s]"
      ]
     },
     "metadata": {},
     "output_type": "display_data"
    },
    {
     "name": "stdout",
     "output_type": "stream",
     "text": [
      "Downloading and preparing dataset audiofolder/default to /root/.cache/huggingface/datasets/audiofolder/default-3bb25b14b41b1a03/0.0.0/6cbdd16f8688354c63b4e2a36e1585d05de285023ee6443ffd71c4182055c0fc...\n"
     ]
    },
    {
     "data": {
      "application/vnd.jupyter.widget-view+json": {
       "model_id": "1ff57c85bbdf417ba0b5d833275581de",
       "version_major": 2,
       "version_minor": 0
      },
      "text/plain": [
       "Downloading data files:   0%|          | 0/580 [00:00<?, ?it/s]"
      ]
     },
     "metadata": {},
     "output_type": "display_data"
    },
    {
     "data": {
      "application/vnd.jupyter.widget-view+json": {
       "model_id": "11ce858f3e764757b047e78575637013",
       "version_major": 2,
       "version_minor": 0
      },
      "text/plain": [
       "Downloading data files: 0it [00:00, ?it/s]"
      ]
     },
     "metadata": {},
     "output_type": "display_data"
    },
    {
     "data": {
      "application/vnd.jupyter.widget-view+json": {
       "model_id": "34147147442e4697b452232702a25a5c",
       "version_major": 2,
       "version_minor": 0
      },
      "text/plain": [
       "Extracting data files: 0it [00:00, ?it/s]"
      ]
     },
     "metadata": {},
     "output_type": "display_data"
    },
    {
     "data": {
      "application/vnd.jupyter.widget-view+json": {
       "model_id": "",
       "version_major": 2,
       "version_minor": 0
      },
      "text/plain": [
       "Generating train split: 0 examples [00:00, ? examples/s]"
      ]
     },
     "metadata": {},
     "output_type": "display_data"
    },
    {
     "name": "stdout",
     "output_type": "stream",
     "text": [
      "Dataset audiofolder downloaded and prepared to /root/.cache/huggingface/datasets/audiofolder/default-3bb25b14b41b1a03/0.0.0/6cbdd16f8688354c63b4e2a36e1585d05de285023ee6443ffd71c4182055c0fc. Subsequent calls will reuse this data.\n"
     ]
    },
    {
     "data": {
      "application/vnd.jupyter.widget-view+json": {
       "model_id": "0137151d180a4d0886f1bf6b4c1740fd",
       "version_major": 2,
       "version_minor": 0
      },
      "text/plain": [
       "  0%|          | 0/1 [00:00<?, ?it/s]"
      ]
     },
     "metadata": {},
     "output_type": "display_data"
    }
   ],
   "source": [
    "val_path = '../data/val'\n",
    "val_dataset = load_dataset(\"audiofolder\", data_dir=val_path).get('train')"
   ]
  },
  {
   "cell_type": "code",
   "execution_count": 14,
   "id": "5706f079-bafd-4b37-907d-2cec5f8b9b86",
   "metadata": {
    "tags": []
   },
   "outputs": [],
   "source": [
    "from datasets import concatenate_datasets"
   ]
  },
  {
   "cell_type": "code",
   "execution_count": 15,
   "id": "1e259332-07db-447a-bd90-c5e5bfe4a295",
   "metadata": {
    "tags": []
   },
   "outputs": [],
   "source": [
    "trv_dataset = concatenate_datasets([train_dataset, val_dataset]).shuffle(seed = 42)"
   ]
  },
  {
   "cell_type": "code",
   "execution_count": 17,
   "id": "9e8a4c7c-a8a4-4916-90d6-4afe8be17bdf",
   "metadata": {
    "tags": []
   },
   "outputs": [
    {
     "data": {
      "text/plain": [
       "((2331, 2), (1752, 2), (579, 2))"
      ]
     },
     "execution_count": 17,
     "metadata": {},
     "output_type": "execute_result"
    }
   ],
   "source": [
    "trv_dataset.shape, train_dataset.shape, val_dataset.shape"
   ]
  },
  {
   "cell_type": "code",
   "execution_count": null,
   "id": "6f2c446c-cc95-46dc-9e3e-b91a9de504d6",
   "metadata": {},
   "outputs": [],
   "source": []
  },
  {
   "cell_type": "code",
   "execution_count": 12,
   "id": "358bfc04-53d9-41e6-b962-984226e6b669",
   "metadata": {
    "tags": []
   },
   "outputs": [],
   "source": [
    "#metadata[(metadata.label==28) & (metadata.subset=='validation')].file_name.values"
   ]
  },
  {
   "cell_type": "code",
   "execution_count": 13,
   "id": "4c244aff-9706-4b4d-80f5-6ccfaafa7453",
   "metadata": {
    "tags": []
   },
   "outputs": [],
   "source": [
    "#metadata[(metadata.label==28) & (metadata.subset=='train')].file_name.values"
   ]
  },
  {
   "cell_type": "code",
   "execution_count": 31,
   "id": "15b2fa34-3fc5-4d7a-b86a-4f6163b09f11",
   "metadata": {
    "tags": []
   },
   "outputs": [],
   "source": [
    "# audio_trn = 'data/train/Gryllusbimaculatus_XC751730-dat007-026.wav' \n",
    "# audio_val = 'data/val/Gryllusbimaculatus_XC751729-dat007-025.wav'"
   ]
  },
  {
   "cell_type": "code",
   "execution_count": 14,
   "id": "db1a1024-3301-4ba3-8090-3adc7539ba9e",
   "metadata": {
    "tags": []
   },
   "outputs": [],
   "source": [
    "#AudioI(audio_trn)  #, rate=44100)"
   ]
  },
  {
   "cell_type": "code",
   "execution_count": 15,
   "id": "67dc7237-4684-4576-a970-881bcd7d79b7",
   "metadata": {
    "tags": []
   },
   "outputs": [],
   "source": [
    "#AudioI(audio_trn)"
   ]
  },
  {
   "cell_type": "code",
   "execution_count": 16,
   "id": "529b36f9-0c26-4a8e-9eb8-3b2d1842f976",
   "metadata": {
    "tags": []
   },
   "outputs": [],
   "source": [
    "#AudioI(audio_val)"
   ]
  },
  {
   "cell_type": "code",
   "execution_count": 17,
   "id": "eee56be6-d9c3-4bac-a7b0-0dd00dce1f3e",
   "metadata": {
    "tags": []
   },
   "outputs": [],
   "source": [
    "#plot_spec([audio_val])"
   ]
  },
  {
   "cell_type": "code",
   "execution_count": null,
   "id": "feb25e3d-e10d-42a7-a612-746df6241a83",
   "metadata": {},
   "outputs": [],
   "source": []
  },
  {
   "cell_type": "code",
   "execution_count": null,
   "id": "fa2b72e8-92b2-4f8e-a122-c61d0c300102",
   "metadata": {},
   "outputs": [],
   "source": []
  },
  {
   "cell_type": "code",
   "execution_count": 19,
   "id": "27ffd31d-76e3-462a-abde-b12c9459cade",
   "metadata": {
    "tags": []
   },
   "outputs": [],
   "source": [
    "def white_noise(signal, noise_factor_min=0.1, noise_factor_max=0.4, noise_factor=None): \n",
    "\n",
    "    noise = np.random.normal(0, signal.std(), signal.shape[0])\n",
    "    if noise_factor is None:\n",
    "        noise_factor = np.random.uniform(noise_factor_min, noise_factor_max)       \n",
    "    signal_augmented = signal + noise * noise_factor\n",
    "    return signal_augmented, noise_factor"
   ]
  },
  {
   "cell_type": "code",
   "execution_count": 20,
   "id": "9dbcd12a-ee32-451b-a2ec-3c2f8a1e0d3f",
   "metadata": {
    "tags": []
   },
   "outputs": [],
   "source": [
    "def time_stretch(signal, stretch_rate_min=1.05, stretch_rate_max=1.2, stretch_rate=None):    \n",
    "    if (stretch_rate_min) < 1 & (stretch_rate_max > 1):\n",
    "        raise ValueError(\"Both 'stretch_rate_min' and 'stretch_rate_max' must be either below 1 or above 1\")\n",
    "    if stretch_rate is None:\n",
    "        stretch_rate = np.random.uniform(stretch_rate_min, stretch_rate_max)\n",
    "    return librosa.effects.time_stretch(y=signal, rate=stretch_rate), stretch_rate"
   ]
  },
  {
   "cell_type": "code",
   "execution_count": 21,
   "id": "c3536664-626e-450e-a83b-c16af504d82e",
   "metadata": {
    "tags": []
   },
   "outputs": [],
   "source": [
    "def pitch_scale(signal, sr, n_steps_min=1, n_steps_max=2, n_steps=None):\n",
    "    if n_steps is None:\n",
    "        n_steps = np.random.uniform(n_steps_min, n_steps_max)    \n",
    "    return librosa.effects.pitch_shift(y=signal, sr=sr, n_steps=n_steps), n_steps  "
   ]
  },
  {
   "cell_type": "code",
   "execution_count": 22,
   "id": "f208ad47-28ec-460c-a4ff-6f7a203fee17",
   "metadata": {
    "tags": []
   },
   "outputs": [],
   "source": [
    "def polarity_inversion(signal):\n",
    "    return signal * -1"
   ]
  },
  {
   "cell_type": "code",
   "execution_count": 23,
   "id": "514eda25-ecd9-4ec7-8886-2dd41b708c67",
   "metadata": {
    "tags": []
   },
   "outputs": [],
   "source": [
    "def random_gain(signal, gain_min=1.5, gain_max=3, gain=None):\n",
    "  \n",
    "    if gain is None:  \n",
    "        gain = np.random.uniform(gain_min, gain_max)\n",
    "    return signal * gain, gain"
   ]
  },
  {
   "cell_type": "code",
   "execution_count": 24,
   "id": "c5a4bceb-7f00-4ead-8180-4e63c784a17a",
   "metadata": {},
   "outputs": [],
   "source": [
    "def augmentation(signal, sr, strategy='few'):\n",
    "    \n",
    "    if strategy == 'all':\n",
    "        aug_selection = np.array([1,2,3,4,5])\n",
    "    if strategy == 'few':\n",
    "        aug_selection = np.sort(np.random.choice(5, size=np.random.randint(1,5), replace=False)+1)    \n",
    "    elif strategy == 'one':\n",
    "        aug_selection = np.sort(np.random.choice(5, size=1, replace=False)+1)\n",
    "    signal_aug = signal.copy()\n",
    "    \n",
    "    params = []\n",
    "    \n",
    "    for i in np.sort(aug_selection):\n",
    "        if i == 1:\n",
    "            signal_aug, param = time_stretch(signal=signal_aug) \n",
    "            params.append(param)\n",
    "        if i == 2:\n",
    "            signal_aug, param = pitch_scale(signal=signal_aug, sr=sr) \n",
    "            params.append(param)\n",
    "        if i == 3:\n",
    "            signal_aug, param = random_gain(signal=signal_aug)\n",
    "            params.append(param)\n",
    "        if i == 4:\n",
    "            signal_aug, param = white_noise(signal=signal_aug)\n",
    "            params.append(param)\n",
    "        if i == 5:\n",
    "            signal_aug = polarity_inversion(signal=signal_aug) \n",
    "            params.append(None)\n",
    "    return  signal_aug, list(np.array(['ts', 'ps', 'rg', 'wn', 'pi'])[aug_selection-1]), params\n",
    "            "
   ]
  },
  {
   "cell_type": "code",
   "execution_count": 25,
   "id": "7fe68112-a92e-4a77-bc64-f22c85ac22c3",
   "metadata": {
    "tags": []
   },
   "outputs": [],
   "source": [
    "def generate_augmented_data(train_data, metadata, dir_source, dir_dest, labels_to_augment=None, strategy='all', fraction=0.5, seed=42):    \n",
    "    \n",
    "    np.random.seed(seed) \n",
    "    print('\\n--------- copying basic train set ---------')  \n",
    "    t = time.time()    \n",
    "#    shutil.copytree(dir_source + '/train', dir_dest + '/train')\n",
    "    print('Elapsed time:', round(time.time() - t, 2))\n",
    "    \n",
    "    print('\\n--------- copying validation set ---------')   \n",
    "    t = time.time()    \n",
    "#    shutil.copytree(dir_source + '/val', dir_dest + '/val')\n",
    "    print('Elapsed time:', round(time.time() - t, 2))    \n",
    " \n",
    "    print('\\n--------- copying test set ---------')  \n",
    "    t = time.time()    \n",
    "#    shutil.copytree(dir_source + '/test', dir_dest + '/test')\n",
    "    print('Elapsed time:', round(time.time() - t, 2))\n",
    "    \n",
    "    \n",
    "    sr = train_data[0]['audio']['sampling_rate']\n",
    "    \n",
    "    print('\\n--------- data preprocessing stage ---------')\n",
    "    t = time.time()\n",
    "    path_train_data = [train_data[i]['audio']['path'] for i in range(train_data.shape[0])]\n",
    "    path_train_data = np.array(path_train_data)\n",
    "    # if isinstance(metadata, str):\n",
    "    #     metadata = pd.read_csv(metadata)\n",
    "    df_audio = metadata[metadata.subset=='train']\n",
    "    df_audio = df_audio.assign(path_full_raw = '/root/data/' + df_audio.path)\n",
    "    df_audio = df_audio.assign(audio_rank_id = (df_audio.groupby('label')['file_name'].rank(method='first', na_option = 'bottom')-1).astype(int))\n",
    "        \n",
    "    df_audio_agg = df_audio.label.value_counts().reset_index(name='count').sort_values(by='label').reset_index(drop=True)\n",
    "    count_max = df_audio_agg['count'].max()\n",
    "    threshold = np.floor(count_max * fraction)\n",
    "    if labels_to_augment is not None:\n",
    "        #df_audio_agg = pd.merge(df_audio_agg, pd.DataFrame(dict(label=labels_to_augment)), on='label', how='inner')\n",
    "        df_audio_agg = df_audio_agg[df_audio_agg['label'].isin(labels_to_augment)]\n",
    "    \n",
    "    df_audio_agg['gap'] = np.where((threshold - df_audio_agg['count']) > 0, (threshold - df_audio_agg['count']).astype(int), 0)\n",
    "    df_audio_agg = df_audio_agg[df_audio_agg.gap > 0]\n",
    "\n",
    "    label = []\n",
    "    rank_id = []\n",
    "    for l, c, g in zip(df_audio_agg['label'], df_audio_agg['count'], df_audio_agg['gap']):\n",
    "        ind = np.random.choice(c, size=g, replace=True)\n",
    "        label.extend([l] * len(ind))\n",
    "        rank_id.extend(ind)\n",
    "    df_aug = pd.DataFrame(dict(label=label, audio_rank_id=rank_id))\n",
    "    df_aug = df_aug.assign(rank_id = (df_aug.groupby(['label', 'audio_rank_id'])['audio_rank_id'].rank(method='first', na_option = 'bottom')-1).astype(int))\n",
    "    \n",
    "    df_aug_final = pd.merge(df_audio, df_aug, on=['label', 'audio_rank_id'], how='inner')\n",
    "    df_aug_final = df_aug_final.assign(file_name = df_aug_final.file_name.apply(lambda x: x.split('.wav')[0]) + '_aug' + df_aug_final.rank_id.astype(str) + '.wav')    \n",
    "    df_aug_final = df_aug_final.assign(path = 'data/train/' + df_aug_final.file_name)  \n",
    "    print('Elapsed time:', round(time.time() - t, 2))\n",
    "    \n",
    "    \n",
    "    print('\\n--------- augmentation stage ---------')    \n",
    "    t = time.time()\n",
    "    df_aug_final = df_aug_final.assign(aug_type = None)\n",
    "    df_aug_final = df_aug_final.assign(aug_params = None)\n",
    "#   for row, (p, f) in enumerate(zip(df_aug_final.path_full_raw.iloc, df_aug_final.file_name.iloc)):\n",
    "    for row, (p, f) in enumerate(zip(df_aug_final.path_full_raw, df_aug_final.file_name)):        \n",
    "        i = int(np.where(path_train_data == p)[0][0])\n",
    "       # print(p, i)\n",
    "        sig_aug, type_aug, params_aug = augmentation(signal=train_data[i]['audio']['array'], sr=sr, strategy=strategy)   \n",
    "        # df_aug_final['num_frames'].iloc[row] = sig_aug.shape[0]\n",
    "        # df_aug_final['length'].iloc[row] = sig_aug.shape[0]/sr\n",
    "        \n",
    "        df_aug_final.iat[row, df_aug_final.columns.get_loc('num_frames')] = sig_aug.shape[0]  \n",
    "        df_aug_final.iat[row, df_aug_final.columns.get_loc('length')] = sig_aug.shape[0]/sr\n",
    "        \n",
    "        df_aug_final.iat[row, df_aug_final.columns.get_loc('aug_type')] = type_aug  \n",
    "        df_aug_final.iat[row, df_aug_final.columns.get_loc('aug_params')] = params_aug        \n",
    "        sf.write(dir_dest + '/train/' + f, sig_aug, sr)\n",
    "    #time.time() - t     \n",
    "    metadata_aug = pd.concat([metadata, df_aug_final[['file_name', 'unique_file', 'path', 'species', 'label', 'subset', 'sample_rate', 'num_frames', 'length']]], axis=0)\n",
    "    metadata_aug.to_csv(dir_dest + 'metadata.csv', index=False)\n",
    "    metadata_aug[metadata_aug.subset == 'train'][['file_name', 'label']].to_csv(dir_dest + '/train/' + 'metadata.csv', index=False)\n",
    "    shutil.copyfile(dir_source + 'labels.json', dir_dest + 'labels.json')\n",
    "    \n",
    "    df_aug_final[['file_name', 'aug_type', 'aug_params']].to_csv(dir_dest + 'aug_logs.csv', index=False)\n",
    "    \n",
    "    print('Elapsed time:', round(time.time() - t, 2))\n",
    "    \n",
    "    aug_summary = metadata_aug[metadata_aug.subset == 'train'].label.value_counts().reset_index().sort_values(by='label').reset_index(drop=True)\n",
    "    aug_summary.to_csv(dir_dest + 'aug_summary.csv', index=False)\n",
    "    "
   ]
  },
  {
   "cell_type": "code",
   "execution_count": 41,
   "id": "b40be809-1cbc-4fb8-9bec-1b6de08c8991",
   "metadata": {
    "tags": []
   },
   "outputs": [
    {
     "name": "stdout",
     "output_type": "stream",
     "text": [
      "\n",
      "--------- copying basic train set ---------\n",
      "Elapsed time: 0.0\n",
      "\n",
      "--------- copying validation set ---------\n",
      "Elapsed time: 0.0\n",
      "\n",
      "--------- copying test set ---------\n",
      "Elapsed time: 0.0\n",
      "\n",
      "--------- data preprocessing stage ---------\n",
      "Elapsed time: 15.86\n",
      "\n",
      "--------- augmentation stage ---------\n",
      "Elapsed time: 555.42\n"
     ]
    }
   ],
   "source": [
    "generate_augmented_data(train_data=train_dataset, \n",
    "                        metadata=metadata, \n",
    "                        dir_source='/root/data/data/', \n",
    "                        dir_dest='/root/data/data/augmented_strategy_one_classes_few/', \n",
    "                        labels_to_augment=[7,28,49,47,30],\n",
    "                        strategy='one',\n",
    "                        fraction=1,\n",
    "                        seed=42)"
   ]
  },
  {
   "cell_type": "code",
   "execution_count": 26,
   "id": "f7b2f228-dc03-4dfc-b0b9-b33e8ef10262",
   "metadata": {
    "tags": []
   },
   "outputs": [
    {
     "data": {
      "text/plain": [
       "'s3://sagemaker-us-east-1-292159885427/data_augmented_strategy_one_classes_few/labels.json'"
      ]
     },
     "execution_count": 26,
     "metadata": {},
     "output_type": "execute_result"
    }
   ],
   "source": [
    "upload_to_s3(local_path=f'/root/data/data/augmented_strategy_one_classes_few/labels.json',\n",
    "             s3_path=f'data_augmented_strategy_one_classes_few/labels.json',\n",
    "             bucket='sagemaker-us-east-1-292159885427')"
   ]
  },
  {
   "cell_type": "code",
   "execution_count": 28,
   "id": "c7e06d55-2268-4be2-bc44-b1a77b559362",
   "metadata": {},
   "outputs": [],
   "source": [
    "for path, directories, files in os.walk('/root/data/data/augmented_strategy_one_classes_few/train'):\n",
    "    for file in files:\n",
    "        if file != 'metadata-checkpoint.csv':\n",
    "            upload_to_s3(local_path=f'/root/data/data/augmented_strategy_one_classes_few/train/{file}',\n",
    "                         s3_path=f'data_augmented_strategy_one_classes_few/train/{file}',\n",
    "                         bucket='sagemaker-us-east-1-292159885427')"
   ]
  },
  {
   "cell_type": "code",
   "execution_count": 29,
   "id": "50dff3b5-bea5-4411-acad-242a5d0ce73c",
   "metadata": {
    "tags": []
   },
   "outputs": [],
   "source": [
    "for path, directories, files in os.walk('/root/data/data/augmented_strategy_one_classes_few/val'):\n",
    "    for file in files:\n",
    "        upload_to_s3(local_path=f'/root/data/data/augmented_strategy_one_classes_few/val/{file}',\n",
    "                     s3_path=f'data_augmented_strategy_one_classes_few/val/{file}',\n",
    "                     bucket='sagemaker-us-east-1-292159885427')"
   ]
  },
  {
   "cell_type": "code",
   "execution_count": 30,
   "id": "b79543f5-8f77-479c-a484-788bb5005f06",
   "metadata": {
    "tags": []
   },
   "outputs": [],
   "source": [
    "for path, directories, files in os.walk('/root/data/data/augmented_strategy_one_classes_few/test'):\n",
    "    for file in files:\n",
    "        upload_to_s3(local_path=f'/root/data/data/augmented_strategy_one_classes_few/test/{file}',\n",
    "                     s3_path=f'data_augmented_strategy_one_classes_few/test/{file}',\n",
    "                     bucket='sagemaker-us-east-1-292159885427')"
   ]
  },
  {
   "cell_type": "code",
   "execution_count": 27,
   "id": "659e4de1-60fb-490b-9b69-12700ba8e2d0",
   "metadata": {},
   "outputs": [
    {
     "data": {
      "text/plain": [
       "2179"
      ]
     },
     "execution_count": 27,
     "metadata": {},
     "output_type": "execute_result"
    }
   ],
   "source": [
    "l=0\n",
    "for file_name in os.listdir('/root/data/data/augmented_strategy_one_classes_few/train'):\n",
    "    l +=1\n",
    "l    "
   ]
  },
  {
   "cell_type": "code",
   "execution_count": null,
   "id": "925416e0-50b7-42b2-b865-4659fadb5143",
   "metadata": {},
   "outputs": [],
   "source": []
  }
 ],
 "metadata": {
  "availableInstances": [
   {
    "_defaultOrder": 0,
    "_isFastLaunch": true,
    "category": "General purpose",
    "gpuNum": 0,
    "hideHardwareSpecs": false,
    "memoryGiB": 4,
    "name": "ml.t3.medium",
    "vcpuNum": 2
   },
   {
    "_defaultOrder": 1,
    "_isFastLaunch": false,
    "category": "General purpose",
    "gpuNum": 0,
    "hideHardwareSpecs": false,
    "memoryGiB": 8,
    "name": "ml.t3.large",
    "vcpuNum": 2
   },
   {
    "_defaultOrder": 2,
    "_isFastLaunch": false,
    "category": "General purpose",
    "gpuNum": 0,
    "hideHardwareSpecs": false,
    "memoryGiB": 16,
    "name": "ml.t3.xlarge",
    "vcpuNum": 4
   },
   {
    "_defaultOrder": 3,
    "_isFastLaunch": false,
    "category": "General purpose",
    "gpuNum": 0,
    "hideHardwareSpecs": false,
    "memoryGiB": 32,
    "name": "ml.t3.2xlarge",
    "vcpuNum": 8
   },
   {
    "_defaultOrder": 4,
    "_isFastLaunch": true,
    "category": "General purpose",
    "gpuNum": 0,
    "hideHardwareSpecs": false,
    "memoryGiB": 8,
    "name": "ml.m5.large",
    "vcpuNum": 2
   },
   {
    "_defaultOrder": 5,
    "_isFastLaunch": false,
    "category": "General purpose",
    "gpuNum": 0,
    "hideHardwareSpecs": false,
    "memoryGiB": 16,
    "name": "ml.m5.xlarge",
    "vcpuNum": 4
   },
   {
    "_defaultOrder": 6,
    "_isFastLaunch": false,
    "category": "General purpose",
    "gpuNum": 0,
    "hideHardwareSpecs": false,
    "memoryGiB": 32,
    "name": "ml.m5.2xlarge",
    "vcpuNum": 8
   },
   {
    "_defaultOrder": 7,
    "_isFastLaunch": false,
    "category": "General purpose",
    "gpuNum": 0,
    "hideHardwareSpecs": false,
    "memoryGiB": 64,
    "name": "ml.m5.4xlarge",
    "vcpuNum": 16
   },
   {
    "_defaultOrder": 8,
    "_isFastLaunch": false,
    "category": "General purpose",
    "gpuNum": 0,
    "hideHardwareSpecs": false,
    "memoryGiB": 128,
    "name": "ml.m5.8xlarge",
    "vcpuNum": 32
   },
   {
    "_defaultOrder": 9,
    "_isFastLaunch": false,
    "category": "General purpose",
    "gpuNum": 0,
    "hideHardwareSpecs": false,
    "memoryGiB": 192,
    "name": "ml.m5.12xlarge",
    "vcpuNum": 48
   },
   {
    "_defaultOrder": 10,
    "_isFastLaunch": false,
    "category": "General purpose",
    "gpuNum": 0,
    "hideHardwareSpecs": false,
    "memoryGiB": 256,
    "name": "ml.m5.16xlarge",
    "vcpuNum": 64
   },
   {
    "_defaultOrder": 11,
    "_isFastLaunch": false,
    "category": "General purpose",
    "gpuNum": 0,
    "hideHardwareSpecs": false,
    "memoryGiB": 384,
    "name": "ml.m5.24xlarge",
    "vcpuNum": 96
   },
   {
    "_defaultOrder": 12,
    "_isFastLaunch": false,
    "category": "General purpose",
    "gpuNum": 0,
    "hideHardwareSpecs": false,
    "memoryGiB": 8,
    "name": "ml.m5d.large",
    "vcpuNum": 2
   },
   {
    "_defaultOrder": 13,
    "_isFastLaunch": false,
    "category": "General purpose",
    "gpuNum": 0,
    "hideHardwareSpecs": false,
    "memoryGiB": 16,
    "name": "ml.m5d.xlarge",
    "vcpuNum": 4
   },
   {
    "_defaultOrder": 14,
    "_isFastLaunch": false,
    "category": "General purpose",
    "gpuNum": 0,
    "hideHardwareSpecs": false,
    "memoryGiB": 32,
    "name": "ml.m5d.2xlarge",
    "vcpuNum": 8
   },
   {
    "_defaultOrder": 15,
    "_isFastLaunch": false,
    "category": "General purpose",
    "gpuNum": 0,
    "hideHardwareSpecs": false,
    "memoryGiB": 64,
    "name": "ml.m5d.4xlarge",
    "vcpuNum": 16
   },
   {
    "_defaultOrder": 16,
    "_isFastLaunch": false,
    "category": "General purpose",
    "gpuNum": 0,
    "hideHardwareSpecs": false,
    "memoryGiB": 128,
    "name": "ml.m5d.8xlarge",
    "vcpuNum": 32
   },
   {
    "_defaultOrder": 17,
    "_isFastLaunch": false,
    "category": "General purpose",
    "gpuNum": 0,
    "hideHardwareSpecs": false,
    "memoryGiB": 192,
    "name": "ml.m5d.12xlarge",
    "vcpuNum": 48
   },
   {
    "_defaultOrder": 18,
    "_isFastLaunch": false,
    "category": "General purpose",
    "gpuNum": 0,
    "hideHardwareSpecs": false,
    "memoryGiB": 256,
    "name": "ml.m5d.16xlarge",
    "vcpuNum": 64
   },
   {
    "_defaultOrder": 19,
    "_isFastLaunch": false,
    "category": "General purpose",
    "gpuNum": 0,
    "hideHardwareSpecs": false,
    "memoryGiB": 384,
    "name": "ml.m5d.24xlarge",
    "vcpuNum": 96
   },
   {
    "_defaultOrder": 20,
    "_isFastLaunch": false,
    "category": "General purpose",
    "gpuNum": 0,
    "hideHardwareSpecs": true,
    "memoryGiB": 0,
    "name": "ml.geospatial.interactive",
    "supportedImageNames": [
     "sagemaker-geospatial-v1-0"
    ],
    "vcpuNum": 0
   },
   {
    "_defaultOrder": 21,
    "_isFastLaunch": true,
    "category": "Compute optimized",
    "gpuNum": 0,
    "hideHardwareSpecs": false,
    "memoryGiB": 4,
    "name": "ml.c5.large",
    "vcpuNum": 2
   },
   {
    "_defaultOrder": 22,
    "_isFastLaunch": false,
    "category": "Compute optimized",
    "gpuNum": 0,
    "hideHardwareSpecs": false,
    "memoryGiB": 8,
    "name": "ml.c5.xlarge",
    "vcpuNum": 4
   },
   {
    "_defaultOrder": 23,
    "_isFastLaunch": false,
    "category": "Compute optimized",
    "gpuNum": 0,
    "hideHardwareSpecs": false,
    "memoryGiB": 16,
    "name": "ml.c5.2xlarge",
    "vcpuNum": 8
   },
   {
    "_defaultOrder": 24,
    "_isFastLaunch": false,
    "category": "Compute optimized",
    "gpuNum": 0,
    "hideHardwareSpecs": false,
    "memoryGiB": 32,
    "name": "ml.c5.4xlarge",
    "vcpuNum": 16
   },
   {
    "_defaultOrder": 25,
    "_isFastLaunch": false,
    "category": "Compute optimized",
    "gpuNum": 0,
    "hideHardwareSpecs": false,
    "memoryGiB": 72,
    "name": "ml.c5.9xlarge",
    "vcpuNum": 36
   },
   {
    "_defaultOrder": 26,
    "_isFastLaunch": false,
    "category": "Compute optimized",
    "gpuNum": 0,
    "hideHardwareSpecs": false,
    "memoryGiB": 96,
    "name": "ml.c5.12xlarge",
    "vcpuNum": 48
   },
   {
    "_defaultOrder": 27,
    "_isFastLaunch": false,
    "category": "Compute optimized",
    "gpuNum": 0,
    "hideHardwareSpecs": false,
    "memoryGiB": 144,
    "name": "ml.c5.18xlarge",
    "vcpuNum": 72
   },
   {
    "_defaultOrder": 28,
    "_isFastLaunch": false,
    "category": "Compute optimized",
    "gpuNum": 0,
    "hideHardwareSpecs": false,
    "memoryGiB": 192,
    "name": "ml.c5.24xlarge",
    "vcpuNum": 96
   },
   {
    "_defaultOrder": 29,
    "_isFastLaunch": true,
    "category": "Accelerated computing",
    "gpuNum": 1,
    "hideHardwareSpecs": false,
    "memoryGiB": 16,
    "name": "ml.g4dn.xlarge",
    "vcpuNum": 4
   },
   {
    "_defaultOrder": 30,
    "_isFastLaunch": false,
    "category": "Accelerated computing",
    "gpuNum": 1,
    "hideHardwareSpecs": false,
    "memoryGiB": 32,
    "name": "ml.g4dn.2xlarge",
    "vcpuNum": 8
   },
   {
    "_defaultOrder": 31,
    "_isFastLaunch": false,
    "category": "Accelerated computing",
    "gpuNum": 1,
    "hideHardwareSpecs": false,
    "memoryGiB": 64,
    "name": "ml.g4dn.4xlarge",
    "vcpuNum": 16
   },
   {
    "_defaultOrder": 32,
    "_isFastLaunch": false,
    "category": "Accelerated computing",
    "gpuNum": 1,
    "hideHardwareSpecs": false,
    "memoryGiB": 128,
    "name": "ml.g4dn.8xlarge",
    "vcpuNum": 32
   },
   {
    "_defaultOrder": 33,
    "_isFastLaunch": false,
    "category": "Accelerated computing",
    "gpuNum": 4,
    "hideHardwareSpecs": false,
    "memoryGiB": 192,
    "name": "ml.g4dn.12xlarge",
    "vcpuNum": 48
   },
   {
    "_defaultOrder": 34,
    "_isFastLaunch": false,
    "category": "Accelerated computing",
    "gpuNum": 1,
    "hideHardwareSpecs": false,
    "memoryGiB": 256,
    "name": "ml.g4dn.16xlarge",
    "vcpuNum": 64
   },
   {
    "_defaultOrder": 35,
    "_isFastLaunch": false,
    "category": "Accelerated computing",
    "gpuNum": 1,
    "hideHardwareSpecs": false,
    "memoryGiB": 61,
    "name": "ml.p3.2xlarge",
    "vcpuNum": 8
   },
   {
    "_defaultOrder": 36,
    "_isFastLaunch": false,
    "category": "Accelerated computing",
    "gpuNum": 4,
    "hideHardwareSpecs": false,
    "memoryGiB": 244,
    "name": "ml.p3.8xlarge",
    "vcpuNum": 32
   },
   {
    "_defaultOrder": 37,
    "_isFastLaunch": false,
    "category": "Accelerated computing",
    "gpuNum": 8,
    "hideHardwareSpecs": false,
    "memoryGiB": 488,
    "name": "ml.p3.16xlarge",
    "vcpuNum": 64
   },
   {
    "_defaultOrder": 38,
    "_isFastLaunch": false,
    "category": "Accelerated computing",
    "gpuNum": 8,
    "hideHardwareSpecs": false,
    "memoryGiB": 768,
    "name": "ml.p3dn.24xlarge",
    "vcpuNum": 96
   },
   {
    "_defaultOrder": 39,
    "_isFastLaunch": false,
    "category": "Memory Optimized",
    "gpuNum": 0,
    "hideHardwareSpecs": false,
    "memoryGiB": 16,
    "name": "ml.r5.large",
    "vcpuNum": 2
   },
   {
    "_defaultOrder": 40,
    "_isFastLaunch": false,
    "category": "Memory Optimized",
    "gpuNum": 0,
    "hideHardwareSpecs": false,
    "memoryGiB": 32,
    "name": "ml.r5.xlarge",
    "vcpuNum": 4
   },
   {
    "_defaultOrder": 41,
    "_isFastLaunch": false,
    "category": "Memory Optimized",
    "gpuNum": 0,
    "hideHardwareSpecs": false,
    "memoryGiB": 64,
    "name": "ml.r5.2xlarge",
    "vcpuNum": 8
   },
   {
    "_defaultOrder": 42,
    "_isFastLaunch": false,
    "category": "Memory Optimized",
    "gpuNum": 0,
    "hideHardwareSpecs": false,
    "memoryGiB": 128,
    "name": "ml.r5.4xlarge",
    "vcpuNum": 16
   },
   {
    "_defaultOrder": 43,
    "_isFastLaunch": false,
    "category": "Memory Optimized",
    "gpuNum": 0,
    "hideHardwareSpecs": false,
    "memoryGiB": 256,
    "name": "ml.r5.8xlarge",
    "vcpuNum": 32
   },
   {
    "_defaultOrder": 44,
    "_isFastLaunch": false,
    "category": "Memory Optimized",
    "gpuNum": 0,
    "hideHardwareSpecs": false,
    "memoryGiB": 384,
    "name": "ml.r5.12xlarge",
    "vcpuNum": 48
   },
   {
    "_defaultOrder": 45,
    "_isFastLaunch": false,
    "category": "Memory Optimized",
    "gpuNum": 0,
    "hideHardwareSpecs": false,
    "memoryGiB": 512,
    "name": "ml.r5.16xlarge",
    "vcpuNum": 64
   },
   {
    "_defaultOrder": 46,
    "_isFastLaunch": false,
    "category": "Memory Optimized",
    "gpuNum": 0,
    "hideHardwareSpecs": false,
    "memoryGiB": 768,
    "name": "ml.r5.24xlarge",
    "vcpuNum": 96
   },
   {
    "_defaultOrder": 47,
    "_isFastLaunch": false,
    "category": "Accelerated computing",
    "gpuNum": 1,
    "hideHardwareSpecs": false,
    "memoryGiB": 16,
    "name": "ml.g5.xlarge",
    "vcpuNum": 4
   },
   {
    "_defaultOrder": 48,
    "_isFastLaunch": false,
    "category": "Accelerated computing",
    "gpuNum": 1,
    "hideHardwareSpecs": false,
    "memoryGiB": 32,
    "name": "ml.g5.2xlarge",
    "vcpuNum": 8
   },
   {
    "_defaultOrder": 49,
    "_isFastLaunch": false,
    "category": "Accelerated computing",
    "gpuNum": 1,
    "hideHardwareSpecs": false,
    "memoryGiB": 64,
    "name": "ml.g5.4xlarge",
    "vcpuNum": 16
   },
   {
    "_defaultOrder": 50,
    "_isFastLaunch": false,
    "category": "Accelerated computing",
    "gpuNum": 1,
    "hideHardwareSpecs": false,
    "memoryGiB": 128,
    "name": "ml.g5.8xlarge",
    "vcpuNum": 32
   },
   {
    "_defaultOrder": 51,
    "_isFastLaunch": false,
    "category": "Accelerated computing",
    "gpuNum": 1,
    "hideHardwareSpecs": false,
    "memoryGiB": 256,
    "name": "ml.g5.16xlarge",
    "vcpuNum": 64
   },
   {
    "_defaultOrder": 52,
    "_isFastLaunch": false,
    "category": "Accelerated computing",
    "gpuNum": 4,
    "hideHardwareSpecs": false,
    "memoryGiB": 192,
    "name": "ml.g5.12xlarge",
    "vcpuNum": 48
   },
   {
    "_defaultOrder": 53,
    "_isFastLaunch": false,
    "category": "Accelerated computing",
    "gpuNum": 4,
    "hideHardwareSpecs": false,
    "memoryGiB": 384,
    "name": "ml.g5.24xlarge",
    "vcpuNum": 96
   },
   {
    "_defaultOrder": 54,
    "_isFastLaunch": false,
    "category": "Accelerated computing",
    "gpuNum": 8,
    "hideHardwareSpecs": false,
    "memoryGiB": 768,
    "name": "ml.g5.48xlarge",
    "vcpuNum": 192
   },
   {
    "_defaultOrder": 55,
    "_isFastLaunch": false,
    "category": "Accelerated computing",
    "gpuNum": 8,
    "hideHardwareSpecs": false,
    "memoryGiB": 1152,
    "name": "ml.p4d.24xlarge",
    "vcpuNum": 96
   },
   {
    "_defaultOrder": 56,
    "_isFastLaunch": false,
    "category": "Accelerated computing",
    "gpuNum": 8,
    "hideHardwareSpecs": false,
    "memoryGiB": 1152,
    "name": "ml.p4de.24xlarge",
    "vcpuNum": 96
   }
  ],
  "kernelspec": {
   "display_name": "GDSC (custom-gdsc/1)",
   "language": "python",
   "name": "python3__SAGEMAKER_INTERNAL__arn:aws:sagemaker:us-east-1:292159885427:image-version/custom-gdsc/1"
  },
  "language_info": {
   "codemirror_mode": {
    "name": "ipython",
    "version": 3
   },
   "file_extension": ".py",
   "mimetype": "text/x-python",
   "name": "python",
   "nbconvert_exporter": "python",
   "pygments_lexer": "ipython3",
   "version": "3.10.8"
  },
  "lcc_arn": "arn:aws:sagemaker:us-east-1:292159885427:studio-lifecycle-config/clean-trash"
 },
 "nbformat": 4,
 "nbformat_minor": 5
}
