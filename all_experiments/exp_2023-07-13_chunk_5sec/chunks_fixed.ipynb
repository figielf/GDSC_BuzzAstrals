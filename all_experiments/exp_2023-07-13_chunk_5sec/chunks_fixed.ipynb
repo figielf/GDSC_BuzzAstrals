{
 "cells": [
  {
   "cell_type": "code",
   "execution_count": 2,
   "id": "f4af40a8-db6b-4624-93a4-2d335ee4afa5",
   "metadata": {
    "tags": []
   },
   "outputs": [
    {
     "name": "stdout",
     "output_type": "stream",
     "text": [
      "Requirement already satisfied: pydub in /opt/conda/lib/python3.10/site-packages (0.25.1)\n",
      "\u001b[33mWARNING: Running pip as the 'root' user can result in broken permissions and conflicting behaviour with the system package manager. It is recommended to use a virtual environment instead: https://pip.pypa.io/warnings/venv\u001b[0m\u001b[33m\n",
      "\u001b[0m"
     ]
    }
   ],
   "source": [
    "!pip install pydub"
   ]
  },
  {
   "cell_type": "code",
   "execution_count": 3,
   "id": "8fcf76e1-bba0-49ab-871a-8a8a08d848cf",
   "metadata": {
    "tags": []
   },
   "outputs": [],
   "source": [
    "import os\n",
    "import pandas as pd\n",
    "from tqdm import tqdm\n",
    "from pydub import AudioSegment\n",
    "from IPython.display import Audio as AudioI"
   ]
  },
  {
   "cell_type": "code",
   "execution_count": 4,
   "id": "1f63c794-4a19-4926-83d5-1899e8cf7061",
   "metadata": {
    "tags": []
   },
   "outputs": [
    {
     "data": {
      "text/plain": [
       "'/root/data/experiments/exp_2023-07-13_chunk_5sec'"
      ]
     },
     "execution_count": 4,
     "metadata": {},
     "output_type": "execute_result"
    }
   ],
   "source": [
    "os.getcwd()"
   ]
  },
  {
   "cell_type": "code",
   "execution_count": 5,
   "id": "d9cc9662-7c2b-4c1d-91b8-5716179a0ac2",
   "metadata": {
    "tags": []
   },
   "outputs": [],
   "source": [
    "os.chdir('../..')"
   ]
  },
  {
   "cell_type": "code",
   "execution_count": 6,
   "id": "1576305e-245e-4388-9c05-5c5781fa5715",
   "metadata": {
    "tags": []
   },
   "outputs": [
    {
     "data": {
      "text/plain": [
       "'/root/data'"
      ]
     },
     "execution_count": 6,
     "metadata": {},
     "output_type": "execute_result"
    }
   ],
   "source": [
    "os.getcwd()"
   ]
  },
  {
   "cell_type": "code",
   "execution_count": 7,
   "id": "f5dab44e-5bff-46ee-ab5d-5fb9410b09d5",
   "metadata": {
    "tags": []
   },
   "outputs": [],
   "source": [
    "metadata = pd.read_csv('data/metadata-BACKUP.csv')\n",
    "metadata_train = pd.read_csv('data/train/metadata.csv')\n",
    "metadata_val = pd.read_csv('data/val/metadata.csv')"
   ]
  },
  {
   "cell_type": "code",
   "execution_count": 8,
   "id": "ff0d3e0a-2dec-4de4-8b04-e45793b41142",
   "metadata": {
    "tags": []
   },
   "outputs": [],
   "source": [
    "#metadata.head()"
   ]
  },
  {
   "cell_type": "code",
   "execution_count": 9,
   "id": "2085b10f-ad65-4491-af66-c340808e7968",
   "metadata": {
    "tags": []
   },
   "outputs": [],
   "source": [
    "#metadata_val.head()"
   ]
  },
  {
   "cell_type": "code",
   "execution_count": 10,
   "id": "3facbdc8-2f6c-42d3-9fbf-da1781695d26",
   "metadata": {
    "tags": []
   },
   "outputs": [],
   "source": [
    "new_metadata = pd.DataFrame(columns=['file_name', 'unique_file', 'path', 'species',\n",
    "                                    'label', 'subset', 'sample_rate', 'num_frames', 'length'])\n",
    "new_metadata_train_chunked = pd.DataFrame(columns=['file_name', 'label'])\n",
    "new_metadata_val_chunked = pd.DataFrame(columns=['file_name', 'label'])\n",
    "new_metadata_test_chunked = pd.DataFrame(columns=['file_name', 'label'])\n",
    "# new_metadata_val = pd.DataFrame(columns=['file_name', 'label'])\n",
    "# new_metadata_test = pd.DataFrame(columns=['file_name', 'label'])"
   ]
  },
  {
   "cell_type": "code",
   "execution_count": 11,
   "id": "49db9e47-7961-4e13-b68c-164f6e3e5742",
   "metadata": {
    "tags": []
   },
   "outputs": [],
   "source": [
    "threshold = 5\n",
    "path_metadata = 'data/data_chunks_5sec/'\n",
    "path_trn_chunked = 'data/data_chunks_5sec/train_chunked/'\n",
    "path_val_chunked = 'data/data_chunks_5sec/val_chunked/'\n",
    "path_tst_chunked = 'data/data_chunks_5sec/test_chunked/'\n",
    "# path_val = 'data/data_chunks_5sec/val/'\n",
    "# path_tst = 'data/data_chunks_5sec/test/'\n"
   ]
  },
  {
   "cell_type": "code",
   "execution_count": 12,
   "id": "8614cfe0-666f-4b44-9c85-968b5f614fda",
   "metadata": {
    "tags": []
   },
   "outputs": [
    {
     "name": "stderr",
     "output_type": "stream",
     "text": [
      "100%|██████████| 2331/2331 [10:15<00:00,  3.78it/s]\n"
     ]
    }
   ],
   "source": [
    "for i in tqdm(range(len(metadata))):\n",
    "    file_name = metadata.iloc[[i]]['file_name'].values[0]\n",
    "    unique_file = metadata.iloc[[i]]['unique_file'].values[0]\n",
    "    path = metadata.iloc[[i]]['path'].values[0]\n",
    "    species = metadata.iloc[[i]]['species'].values[0]\n",
    "    label = metadata.iloc[[i]]['label'].values[0]\n",
    "    subset = metadata.iloc[[i]]['subset'].values[0]\n",
    "    sample_rate = metadata.iloc[[i]]['sample_rate'].values[0]\n",
    "    num_frames = metadata.iloc[[i]]['num_frames'].values[0]\n",
    "    length = metadata.iloc[[i]]['length'].values[0]\n",
    "    audio = AudioSegment.from_wav(path)\n",
    "    sec = threshold * 1000\n",
    "    path_chunked = path_trn_chunked if subset=='train' else (path_val_chunked if subset=='validation' else path_tst_chunked) \n",
    "    if length > threshold:\n",
    "        n = int(length//threshold)\n",
    "        for j in range(0, n+1):\n",
    "            new_audio = audio[sec*j:sec*(j+1)]\n",
    "            new_filename = f'{file_name[:-4]}'+'_cut'+str(j)+'.wav'\n",
    "            new_path = f'{path_chunked+new_filename}'\n",
    "            new_len = len(new_audio) / 1000 \n",
    "            new_frames = int(44100 * new_len)\n",
    "            if new_len >= 1:\n",
    "                new_audio.export(path_chunked+new_filename, format=\"wav\")\n",
    "                if subset == 'train':\n",
    "                    new_metadata_train_chunked.loc[len(new_metadata_train_chunked)] = [new_filename, label]\n",
    "                elif subset == 'validation':\n",
    "                    new_metadata_val_chunked.loc[len(new_metadata_val_chunked)] = [new_filename, label] \n",
    "                else:\n",
    "                    new_metadata_test_chunked.loc[len(new_metadata_test_chunked)] = [new_filename, label]                 \n",
    "                new_path = f'{path_chunked+new_filename}'\n",
    "                new_row = [new_filename, unique_file, new_path, species, label, subset,\n",
    "                           sample_rate, new_frames, new_len]\n",
    "                new_metadata.loc[len(new_metadata)] = new_row\n",
    "    else:\n",
    "        audio.export(path_chunked + file_name, format=\"wav\")\n",
    "        if subset == 'train':\n",
    "            new_metadata_train_chunked.loc[len(new_metadata_train_chunked)] = [file_name, label]\n",
    "        elif subset == 'validation':\n",
    "            new_metadata_val_chunked.loc[len(new_metadata_val_chunked)] = [file_name, label]\n",
    "        else:\n",
    "            new_metadata_test_chunked.loc[len(new_metadata_test_chunked)] = [file_name, label] \n",
    "\n",
    "        new_path = f'{path + file_name}'\n",
    "        new_row = [file_name, unique_file, new_path, species, label, subset,\n",
    "                   sample_rate, num_frames, length]\n",
    "        new_metadata.loc[len(new_metadata)] = new_row"
   ]
  },
  {
   "cell_type": "code",
   "execution_count": 13,
   "id": "709311b3-6540-4c29-b9d4-781bb557eee0",
   "metadata": {
    "tags": []
   },
   "outputs": [
    {
     "data": {
      "text/plain": [
       "((11910, 2), (3650, 2), (15560, 9))"
      ]
     },
     "execution_count": 13,
     "metadata": {},
     "output_type": "execute_result"
    }
   ],
   "source": [
    "new_metadata_train_chunked.shape, new_metadata_val_chunked.shape, new_metadata.shape"
   ]
  },
  {
   "cell_type": "code",
   "execution_count": 14,
   "id": "e8386afa-8cec-469e-be37-83986f463342",
   "metadata": {
    "tags": []
   },
   "outputs": [],
   "source": [
    "#metadata[metadata.subset=='train'].length.apply(lambda x: ile(x, 5)).sum(), metadata[metadata.subset=='validation'].length.apply(lambda x: ile(x, 5)).sum()"
   ]
  },
  {
   "cell_type": "code",
   "execution_count": 15,
   "id": "e4aa95a4-a3fd-4772-9482-8fa48dd90b59",
   "metadata": {
    "tags": []
   },
   "outputs": [],
   "source": [
    "new_metadata.to_csv(path_metadata + 'metadata.csv', index=False)\n",
    "new_metadata_train_chunked.to_csv(path_trn_chunked + 'metadata.csv', index=False)\n",
    "new_metadata_val_chunked.to_csv(path_val_chunked + 'metadata.csv', index=False)"
   ]
  },
  {
   "cell_type": "code",
   "execution_count": 53,
   "id": "284d8aaf-775b-4b0d-8660-73897cb664d6",
   "metadata": {
    "tags": []
   },
   "outputs": [],
   "source": [
    "def chunks(path_original, path_chunked, threshold):\n",
    "    mtd = pd.read_csv(path_original+'metadata.csv')\n",
    "    label_flag = False\n",
    "    if 'label' in list(mtd.columns):\n",
    "        label_flag = True\n",
    "        \n",
    "    if label_flag:    \n",
    "        new_metadata_chunked = pd.DataFrame(columns=['file_name', 'label'])\n",
    "    else:\n",
    "        new_metadata_chunked = pd.DataFrame(columns=['file_name'])\n",
    "    \n",
    "    \n",
    "    for i in tqdm(range(len(mtd))):\n",
    "        file_name = mtd.iloc[[i]]['file_name'].values[0]\n",
    "        if label_flag:\n",
    "            label = mtd.iloc[[i]]['label'].values[0]\n",
    "        audio = AudioSegment.from_wav(path_original+file_name)\n",
    "        length = len(audio)/1000\n",
    "        sec = threshold * 1000\n",
    "        if length > threshold:\n",
    "            n = int(length//threshold)\n",
    "            for j in range(0, n+1):\n",
    "                new_audio = audio[sec*j:sec*(j+1)]\n",
    "                new_filename = f'{file_name[:-4]}'+'_cut'+str(j)+'.wav'\n",
    "                new_path = f'{path_chunked+new_filename}'\n",
    "                new_len = len(new_audio) / 1000 \n",
    "                if new_len >= 1:\n",
    "                    new_audio.export(path_chunked+new_filename, format=\"wav\")\n",
    "                    if label_flag:\n",
    "                        new_metadata_chunked.loc[len(new_metadata_chunked)] = [new_filename, label]\n",
    "                    else:\n",
    "                        new_metadata_chunked.loc[len(new_metadata_chunked)] = [new_filename]                 \n",
    "        else:\n",
    "            audio.export(path_chunked + file_name, format=\"wav\")\n",
    "            if label_flag:\n",
    "                new_metadata_chunked.loc[len(new_metadata_chunked)] = [file_name, label]\n",
    "            else:\n",
    "                new_metadata_chunked.loc[len(new_metadata_chunked)] = [new_filename]            \n",
    "    return new_metadata_chunked                      "
   ]
  },
  {
   "cell_type": "code",
   "execution_count": 54,
   "id": "2296a87f-0929-4049-b3ec-bfde46abbb4e",
   "metadata": {
    "tags": []
   },
   "outputs": [
    {
     "name": "stderr",
     "output_type": "stream",
     "text": [
      "100%|██████████| 556/556 [01:53<00:00,  4.90it/s]\n"
     ]
    }
   ],
   "source": [
    "new_metadata_tst_chunked = chunks(path_original='data/test/', path_chunked='data/data_chunks_5sec/test_chunked/', threshold=5)"
   ]
  },
  {
   "cell_type": "code",
   "execution_count": 55,
   "id": "beabd107-d62a-4355-8259-3f59d313cd6f",
   "metadata": {
    "tags": []
   },
   "outputs": [
    {
     "data": {
      "text/html": [
       "<div>\n",
       "<style scoped>\n",
       "    .dataframe tbody tr th:only-of-type {\n",
       "        vertical-align: middle;\n",
       "    }\n",
       "\n",
       "    .dataframe tbody tr th {\n",
       "        vertical-align: top;\n",
       "    }\n",
       "\n",
       "    .dataframe thead th {\n",
       "        text-align: right;\n",
       "    }\n",
       "</style>\n",
       "<table border=\"1\" class=\"dataframe\">\n",
       "  <thead>\n",
       "    <tr style=\"text-align: right;\">\n",
       "      <th></th>\n",
       "      <th>file_name</th>\n",
       "    </tr>\n",
       "  </thead>\n",
       "  <tbody>\n",
       "    <tr>\n",
       "      <th>0</th>\n",
       "      <td>0_cut0.wav</td>\n",
       "    </tr>\n",
       "    <tr>\n",
       "      <th>1</th>\n",
       "      <td>0_cut1.wav</td>\n",
       "    </tr>\n",
       "    <tr>\n",
       "      <th>2</th>\n",
       "      <td>0_cut1.wav</td>\n",
       "    </tr>\n",
       "    <tr>\n",
       "      <th>3</th>\n",
       "      <td>2_cut0.wav</td>\n",
       "    </tr>\n",
       "    <tr>\n",
       "      <th>4</th>\n",
       "      <td>2_cut1.wav</td>\n",
       "    </tr>\n",
       "    <tr>\n",
       "      <th>...</th>\n",
       "      <td>...</td>\n",
       "    </tr>\n",
       "    <tr>\n",
       "      <th>3105</th>\n",
       "      <td>554_cut3.wav</td>\n",
       "    </tr>\n",
       "    <tr>\n",
       "      <th>3106</th>\n",
       "      <td>554_cut4.wav</td>\n",
       "    </tr>\n",
       "    <tr>\n",
       "      <th>3107</th>\n",
       "      <td>555_cut0.wav</td>\n",
       "    </tr>\n",
       "    <tr>\n",
       "      <th>3108</th>\n",
       "      <td>555_cut1.wav</td>\n",
       "    </tr>\n",
       "    <tr>\n",
       "      <th>3109</th>\n",
       "      <td>555_cut2.wav</td>\n",
       "    </tr>\n",
       "  </tbody>\n",
       "</table>\n",
       "<p>3110 rows × 1 columns</p>\n",
       "</div>"
      ],
      "text/plain": [
       "         file_name\n",
       "0       0_cut0.wav\n",
       "1       0_cut1.wav\n",
       "2       0_cut1.wav\n",
       "3       2_cut0.wav\n",
       "4       2_cut1.wav\n",
       "...            ...\n",
       "3105  554_cut3.wav\n",
       "3106  554_cut4.wav\n",
       "3107  555_cut0.wav\n",
       "3108  555_cut1.wav\n",
       "3109  555_cut2.wav\n",
       "\n",
       "[3110 rows x 1 columns]"
      ]
     },
     "execution_count": 55,
     "metadata": {},
     "output_type": "execute_result"
    }
   ],
   "source": [
    "new_metadata_tst_chunked"
   ]
  },
  {
   "cell_type": "code",
   "execution_count": 56,
   "id": "fe326d26-9527-461c-92cb-0f31f2e3e991",
   "metadata": {
    "tags": []
   },
   "outputs": [],
   "source": [
    "new_metadata_tst_chunked.to_csv(path_tst_chunked + 'metadata.csv', index=False)"
   ]
  },
  {
   "cell_type": "code",
   "execution_count": null,
   "id": "5e771eac-4dac-4dd8-ab15-4dbb81babf85",
   "metadata": {},
   "outputs": [],
   "source": []
  }
 ],
 "metadata": {
  "availableInstances": [
   {
    "_defaultOrder": 0,
    "_isFastLaunch": true,
    "category": "General purpose",
    "gpuNum": 0,
    "hideHardwareSpecs": false,
    "memoryGiB": 4,
    "name": "ml.t3.medium",
    "vcpuNum": 2
   },
   {
    "_defaultOrder": 1,
    "_isFastLaunch": false,
    "category": "General purpose",
    "gpuNum": 0,
    "hideHardwareSpecs": false,
    "memoryGiB": 8,
    "name": "ml.t3.large",
    "vcpuNum": 2
   },
   {
    "_defaultOrder": 2,
    "_isFastLaunch": false,
    "category": "General purpose",
    "gpuNum": 0,
    "hideHardwareSpecs": false,
    "memoryGiB": 16,
    "name": "ml.t3.xlarge",
    "vcpuNum": 4
   },
   {
    "_defaultOrder": 3,
    "_isFastLaunch": false,
    "category": "General purpose",
    "gpuNum": 0,
    "hideHardwareSpecs": false,
    "memoryGiB": 32,
    "name": "ml.t3.2xlarge",
    "vcpuNum": 8
   },
   {
    "_defaultOrder": 4,
    "_isFastLaunch": true,
    "category": "General purpose",
    "gpuNum": 0,
    "hideHardwareSpecs": false,
    "memoryGiB": 8,
    "name": "ml.m5.large",
    "vcpuNum": 2
   },
   {
    "_defaultOrder": 5,
    "_isFastLaunch": false,
    "category": "General purpose",
    "gpuNum": 0,
    "hideHardwareSpecs": false,
    "memoryGiB": 16,
    "name": "ml.m5.xlarge",
    "vcpuNum": 4
   },
   {
    "_defaultOrder": 6,
    "_isFastLaunch": false,
    "category": "General purpose",
    "gpuNum": 0,
    "hideHardwareSpecs": false,
    "memoryGiB": 32,
    "name": "ml.m5.2xlarge",
    "vcpuNum": 8
   },
   {
    "_defaultOrder": 7,
    "_isFastLaunch": false,
    "category": "General purpose",
    "gpuNum": 0,
    "hideHardwareSpecs": false,
    "memoryGiB": 64,
    "name": "ml.m5.4xlarge",
    "vcpuNum": 16
   },
   {
    "_defaultOrder": 8,
    "_isFastLaunch": false,
    "category": "General purpose",
    "gpuNum": 0,
    "hideHardwareSpecs": false,
    "memoryGiB": 128,
    "name": "ml.m5.8xlarge",
    "vcpuNum": 32
   },
   {
    "_defaultOrder": 9,
    "_isFastLaunch": false,
    "category": "General purpose",
    "gpuNum": 0,
    "hideHardwareSpecs": false,
    "memoryGiB": 192,
    "name": "ml.m5.12xlarge",
    "vcpuNum": 48
   },
   {
    "_defaultOrder": 10,
    "_isFastLaunch": false,
    "category": "General purpose",
    "gpuNum": 0,
    "hideHardwareSpecs": false,
    "memoryGiB": 256,
    "name": "ml.m5.16xlarge",
    "vcpuNum": 64
   },
   {
    "_defaultOrder": 11,
    "_isFastLaunch": false,
    "category": "General purpose",
    "gpuNum": 0,
    "hideHardwareSpecs": false,
    "memoryGiB": 384,
    "name": "ml.m5.24xlarge",
    "vcpuNum": 96
   },
   {
    "_defaultOrder": 12,
    "_isFastLaunch": false,
    "category": "General purpose",
    "gpuNum": 0,
    "hideHardwareSpecs": false,
    "memoryGiB": 8,
    "name": "ml.m5d.large",
    "vcpuNum": 2
   },
   {
    "_defaultOrder": 13,
    "_isFastLaunch": false,
    "category": "General purpose",
    "gpuNum": 0,
    "hideHardwareSpecs": false,
    "memoryGiB": 16,
    "name": "ml.m5d.xlarge",
    "vcpuNum": 4
   },
   {
    "_defaultOrder": 14,
    "_isFastLaunch": false,
    "category": "General purpose",
    "gpuNum": 0,
    "hideHardwareSpecs": false,
    "memoryGiB": 32,
    "name": "ml.m5d.2xlarge",
    "vcpuNum": 8
   },
   {
    "_defaultOrder": 15,
    "_isFastLaunch": false,
    "category": "General purpose",
    "gpuNum": 0,
    "hideHardwareSpecs": false,
    "memoryGiB": 64,
    "name": "ml.m5d.4xlarge",
    "vcpuNum": 16
   },
   {
    "_defaultOrder": 16,
    "_isFastLaunch": false,
    "category": "General purpose",
    "gpuNum": 0,
    "hideHardwareSpecs": false,
    "memoryGiB": 128,
    "name": "ml.m5d.8xlarge",
    "vcpuNum": 32
   },
   {
    "_defaultOrder": 17,
    "_isFastLaunch": false,
    "category": "General purpose",
    "gpuNum": 0,
    "hideHardwareSpecs": false,
    "memoryGiB": 192,
    "name": "ml.m5d.12xlarge",
    "vcpuNum": 48
   },
   {
    "_defaultOrder": 18,
    "_isFastLaunch": false,
    "category": "General purpose",
    "gpuNum": 0,
    "hideHardwareSpecs": false,
    "memoryGiB": 256,
    "name": "ml.m5d.16xlarge",
    "vcpuNum": 64
   },
   {
    "_defaultOrder": 19,
    "_isFastLaunch": false,
    "category": "General purpose",
    "gpuNum": 0,
    "hideHardwareSpecs": false,
    "memoryGiB": 384,
    "name": "ml.m5d.24xlarge",
    "vcpuNum": 96
   },
   {
    "_defaultOrder": 20,
    "_isFastLaunch": false,
    "category": "General purpose",
    "gpuNum": 0,
    "hideHardwareSpecs": true,
    "memoryGiB": 0,
    "name": "ml.geospatial.interactive",
    "supportedImageNames": [
     "sagemaker-geospatial-v1-0"
    ],
    "vcpuNum": 0
   },
   {
    "_defaultOrder": 21,
    "_isFastLaunch": true,
    "category": "Compute optimized",
    "gpuNum": 0,
    "hideHardwareSpecs": false,
    "memoryGiB": 4,
    "name": "ml.c5.large",
    "vcpuNum": 2
   },
   {
    "_defaultOrder": 22,
    "_isFastLaunch": false,
    "category": "Compute optimized",
    "gpuNum": 0,
    "hideHardwareSpecs": false,
    "memoryGiB": 8,
    "name": "ml.c5.xlarge",
    "vcpuNum": 4
   },
   {
    "_defaultOrder": 23,
    "_isFastLaunch": false,
    "category": "Compute optimized",
    "gpuNum": 0,
    "hideHardwareSpecs": false,
    "memoryGiB": 16,
    "name": "ml.c5.2xlarge",
    "vcpuNum": 8
   },
   {
    "_defaultOrder": 24,
    "_isFastLaunch": false,
    "category": "Compute optimized",
    "gpuNum": 0,
    "hideHardwareSpecs": false,
    "memoryGiB": 32,
    "name": "ml.c5.4xlarge",
    "vcpuNum": 16
   },
   {
    "_defaultOrder": 25,
    "_isFastLaunch": false,
    "category": "Compute optimized",
    "gpuNum": 0,
    "hideHardwareSpecs": false,
    "memoryGiB": 72,
    "name": "ml.c5.9xlarge",
    "vcpuNum": 36
   },
   {
    "_defaultOrder": 26,
    "_isFastLaunch": false,
    "category": "Compute optimized",
    "gpuNum": 0,
    "hideHardwareSpecs": false,
    "memoryGiB": 96,
    "name": "ml.c5.12xlarge",
    "vcpuNum": 48
   },
   {
    "_defaultOrder": 27,
    "_isFastLaunch": false,
    "category": "Compute optimized",
    "gpuNum": 0,
    "hideHardwareSpecs": false,
    "memoryGiB": 144,
    "name": "ml.c5.18xlarge",
    "vcpuNum": 72
   },
   {
    "_defaultOrder": 28,
    "_isFastLaunch": false,
    "category": "Compute optimized",
    "gpuNum": 0,
    "hideHardwareSpecs": false,
    "memoryGiB": 192,
    "name": "ml.c5.24xlarge",
    "vcpuNum": 96
   },
   {
    "_defaultOrder": 29,
    "_isFastLaunch": true,
    "category": "Accelerated computing",
    "gpuNum": 1,
    "hideHardwareSpecs": false,
    "memoryGiB": 16,
    "name": "ml.g4dn.xlarge",
    "vcpuNum": 4
   },
   {
    "_defaultOrder": 30,
    "_isFastLaunch": false,
    "category": "Accelerated computing",
    "gpuNum": 1,
    "hideHardwareSpecs": false,
    "memoryGiB": 32,
    "name": "ml.g4dn.2xlarge",
    "vcpuNum": 8
   },
   {
    "_defaultOrder": 31,
    "_isFastLaunch": false,
    "category": "Accelerated computing",
    "gpuNum": 1,
    "hideHardwareSpecs": false,
    "memoryGiB": 64,
    "name": "ml.g4dn.4xlarge",
    "vcpuNum": 16
   },
   {
    "_defaultOrder": 32,
    "_isFastLaunch": false,
    "category": "Accelerated computing",
    "gpuNum": 1,
    "hideHardwareSpecs": false,
    "memoryGiB": 128,
    "name": "ml.g4dn.8xlarge",
    "vcpuNum": 32
   },
   {
    "_defaultOrder": 33,
    "_isFastLaunch": false,
    "category": "Accelerated computing",
    "gpuNum": 4,
    "hideHardwareSpecs": false,
    "memoryGiB": 192,
    "name": "ml.g4dn.12xlarge",
    "vcpuNum": 48
   },
   {
    "_defaultOrder": 34,
    "_isFastLaunch": false,
    "category": "Accelerated computing",
    "gpuNum": 1,
    "hideHardwareSpecs": false,
    "memoryGiB": 256,
    "name": "ml.g4dn.16xlarge",
    "vcpuNum": 64
   },
   {
    "_defaultOrder": 35,
    "_isFastLaunch": false,
    "category": "Accelerated computing",
    "gpuNum": 1,
    "hideHardwareSpecs": false,
    "memoryGiB": 61,
    "name": "ml.p3.2xlarge",
    "vcpuNum": 8
   },
   {
    "_defaultOrder": 36,
    "_isFastLaunch": false,
    "category": "Accelerated computing",
    "gpuNum": 4,
    "hideHardwareSpecs": false,
    "memoryGiB": 244,
    "name": "ml.p3.8xlarge",
    "vcpuNum": 32
   },
   {
    "_defaultOrder": 37,
    "_isFastLaunch": false,
    "category": "Accelerated computing",
    "gpuNum": 8,
    "hideHardwareSpecs": false,
    "memoryGiB": 488,
    "name": "ml.p3.16xlarge",
    "vcpuNum": 64
   },
   {
    "_defaultOrder": 38,
    "_isFastLaunch": false,
    "category": "Accelerated computing",
    "gpuNum": 8,
    "hideHardwareSpecs": false,
    "memoryGiB": 768,
    "name": "ml.p3dn.24xlarge",
    "vcpuNum": 96
   },
   {
    "_defaultOrder": 39,
    "_isFastLaunch": false,
    "category": "Memory Optimized",
    "gpuNum": 0,
    "hideHardwareSpecs": false,
    "memoryGiB": 16,
    "name": "ml.r5.large",
    "vcpuNum": 2
   },
   {
    "_defaultOrder": 40,
    "_isFastLaunch": false,
    "category": "Memory Optimized",
    "gpuNum": 0,
    "hideHardwareSpecs": false,
    "memoryGiB": 32,
    "name": "ml.r5.xlarge",
    "vcpuNum": 4
   },
   {
    "_defaultOrder": 41,
    "_isFastLaunch": false,
    "category": "Memory Optimized",
    "gpuNum": 0,
    "hideHardwareSpecs": false,
    "memoryGiB": 64,
    "name": "ml.r5.2xlarge",
    "vcpuNum": 8
   },
   {
    "_defaultOrder": 42,
    "_isFastLaunch": false,
    "category": "Memory Optimized",
    "gpuNum": 0,
    "hideHardwareSpecs": false,
    "memoryGiB": 128,
    "name": "ml.r5.4xlarge",
    "vcpuNum": 16
   },
   {
    "_defaultOrder": 43,
    "_isFastLaunch": false,
    "category": "Memory Optimized",
    "gpuNum": 0,
    "hideHardwareSpecs": false,
    "memoryGiB": 256,
    "name": "ml.r5.8xlarge",
    "vcpuNum": 32
   },
   {
    "_defaultOrder": 44,
    "_isFastLaunch": false,
    "category": "Memory Optimized",
    "gpuNum": 0,
    "hideHardwareSpecs": false,
    "memoryGiB": 384,
    "name": "ml.r5.12xlarge",
    "vcpuNum": 48
   },
   {
    "_defaultOrder": 45,
    "_isFastLaunch": false,
    "category": "Memory Optimized",
    "gpuNum": 0,
    "hideHardwareSpecs": false,
    "memoryGiB": 512,
    "name": "ml.r5.16xlarge",
    "vcpuNum": 64
   },
   {
    "_defaultOrder": 46,
    "_isFastLaunch": false,
    "category": "Memory Optimized",
    "gpuNum": 0,
    "hideHardwareSpecs": false,
    "memoryGiB": 768,
    "name": "ml.r5.24xlarge",
    "vcpuNum": 96
   },
   {
    "_defaultOrder": 47,
    "_isFastLaunch": false,
    "category": "Accelerated computing",
    "gpuNum": 1,
    "hideHardwareSpecs": false,
    "memoryGiB": 16,
    "name": "ml.g5.xlarge",
    "vcpuNum": 4
   },
   {
    "_defaultOrder": 48,
    "_isFastLaunch": false,
    "category": "Accelerated computing",
    "gpuNum": 1,
    "hideHardwareSpecs": false,
    "memoryGiB": 32,
    "name": "ml.g5.2xlarge",
    "vcpuNum": 8
   },
   {
    "_defaultOrder": 49,
    "_isFastLaunch": false,
    "category": "Accelerated computing",
    "gpuNum": 1,
    "hideHardwareSpecs": false,
    "memoryGiB": 64,
    "name": "ml.g5.4xlarge",
    "vcpuNum": 16
   },
   {
    "_defaultOrder": 50,
    "_isFastLaunch": false,
    "category": "Accelerated computing",
    "gpuNum": 1,
    "hideHardwareSpecs": false,
    "memoryGiB": 128,
    "name": "ml.g5.8xlarge",
    "vcpuNum": 32
   },
   {
    "_defaultOrder": 51,
    "_isFastLaunch": false,
    "category": "Accelerated computing",
    "gpuNum": 1,
    "hideHardwareSpecs": false,
    "memoryGiB": 256,
    "name": "ml.g5.16xlarge",
    "vcpuNum": 64
   },
   {
    "_defaultOrder": 52,
    "_isFastLaunch": false,
    "category": "Accelerated computing",
    "gpuNum": 4,
    "hideHardwareSpecs": false,
    "memoryGiB": 192,
    "name": "ml.g5.12xlarge",
    "vcpuNum": 48
   },
   {
    "_defaultOrder": 53,
    "_isFastLaunch": false,
    "category": "Accelerated computing",
    "gpuNum": 4,
    "hideHardwareSpecs": false,
    "memoryGiB": 384,
    "name": "ml.g5.24xlarge",
    "vcpuNum": 96
   },
   {
    "_defaultOrder": 54,
    "_isFastLaunch": false,
    "category": "Accelerated computing",
    "gpuNum": 8,
    "hideHardwareSpecs": false,
    "memoryGiB": 768,
    "name": "ml.g5.48xlarge",
    "vcpuNum": 192
   },
   {
    "_defaultOrder": 55,
    "_isFastLaunch": false,
    "category": "Accelerated computing",
    "gpuNum": 8,
    "hideHardwareSpecs": false,
    "memoryGiB": 1152,
    "name": "ml.p4d.24xlarge",
    "vcpuNum": 96
   },
   {
    "_defaultOrder": 56,
    "_isFastLaunch": false,
    "category": "Accelerated computing",
    "gpuNum": 8,
    "hideHardwareSpecs": false,
    "memoryGiB": 1152,
    "name": "ml.p4de.24xlarge",
    "vcpuNum": 96
   }
  ],
  "instance_type": "ml.t3.medium",
  "kernelspec": {
   "display_name": "GDSC (custom-gdsc/1)",
   "language": "python",
   "name": "python3__SAGEMAKER_INTERNAL__arn:aws:sagemaker:us-east-1:292159885427:image-version/custom-gdsc/1"
  },
  "language_info": {
   "codemirror_mode": {
    "name": "ipython",
    "version": 3
   },
   "file_extension": ".py",
   "mimetype": "text/x-python",
   "name": "python",
   "nbconvert_exporter": "python",
   "pygments_lexer": "ipython3",
   "version": "3.10.8"
  },
  "lcc_arn": "arn:aws:sagemaker:us-east-1:292159885427:studio-lifecycle-config/clean-trash"
 },
 "nbformat": 4,
 "nbformat_minor": 5
}
