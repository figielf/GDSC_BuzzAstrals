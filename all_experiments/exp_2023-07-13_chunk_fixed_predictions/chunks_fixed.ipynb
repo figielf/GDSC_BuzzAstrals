{
 "cells": [
  {
   "cell_type": "code",
   "execution_count": 3,
   "id": "f4af40a8-db6b-4624-93a4-2d335ee4afa5",
   "metadata": {
    "tags": []
   },
   "outputs": [
    {
     "name": "stdout",
     "output_type": "stream",
     "text": [
      "Collecting pydub\n",
      "  Downloading pydub-0.25.1-py2.py3-none-any.whl (32 kB)\n",
      "Installing collected packages: pydub\n",
      "Successfully installed pydub-0.25.1\n",
      "\u001b[33mWARNING: Running pip as the 'root' user can result in broken permissions and conflicting behaviour with the system package manager. It is recommended to use a virtual environment instead: https://pip.pypa.io/warnings/venv\u001b[0m\u001b[33m\n",
      "\u001b[0m"
     ]
    }
   ],
   "source": [
    "!pip install pydub"
   ]
  },
  {
   "cell_type": "code",
   "execution_count": 4,
   "id": "8fcf76e1-bba0-49ab-871a-8a8a08d848cf",
   "metadata": {
    "tags": []
   },
   "outputs": [],
   "source": [
    "import os\n",
    "import pandas as pd\n",
    "from tqdm import tqdm\n",
    "from pydub import AudioSegment\n",
    "from IPython.display import Audio as AudioI"
   ]
  },
  {
   "cell_type": "code",
   "execution_count": 5,
   "id": "1f63c794-4a19-4926-83d5-1899e8cf7061",
   "metadata": {
    "tags": []
   },
   "outputs": [
    {
     "data": {
      "text/plain": [
       "'/root/data/experiments/exp_2023-07-13_chunk_fixed'"
      ]
     },
     "execution_count": 5,
     "metadata": {},
     "output_type": "execute_result"
    }
   ],
   "source": [
    "os.getcwd()"
   ]
  },
  {
   "cell_type": "code",
   "execution_count": 6,
   "id": "d9cc9662-7c2b-4c1d-91b8-5716179a0ac2",
   "metadata": {
    "tags": []
   },
   "outputs": [],
   "source": [
    "os.chdir('../..')"
   ]
  },
  {
   "cell_type": "code",
   "execution_count": 7,
   "id": "1576305e-245e-4388-9c05-5c5781fa5715",
   "metadata": {
    "tags": []
   },
   "outputs": [
    {
     "data": {
      "text/plain": [
       "'/root/data'"
      ]
     },
     "execution_count": 7,
     "metadata": {},
     "output_type": "execute_result"
    }
   ],
   "source": [
    "os.getcwd()"
   ]
  },
  {
   "cell_type": "code",
   "execution_count": 8,
   "id": "f5dab44e-5bff-46ee-ab5d-5fb9410b09d5",
   "metadata": {
    "tags": []
   },
   "outputs": [],
   "source": [
    "metadata = pd.read_csv('data/metadata-BACKUP.csv')\n",
    "metadata_train = pd.read_csv('data/train/metadata.csv')\n",
    "metadata_val = pd.read_csv('data/val/metadata.csv')"
   ]
  },
  {
   "cell_type": "code",
   "execution_count": 9,
   "id": "ff0d3e0a-2dec-4de4-8b04-e45793b41142",
   "metadata": {
    "tags": []
   },
   "outputs": [
    {
     "data": {
      "text/html": [
       "<div>\n",
       "<style scoped>\n",
       "    .dataframe tbody tr th:only-of-type {\n",
       "        vertical-align: middle;\n",
       "    }\n",
       "\n",
       "    .dataframe tbody tr th {\n",
       "        vertical-align: top;\n",
       "    }\n",
       "\n",
       "    .dataframe thead th {\n",
       "        text-align: right;\n",
       "    }\n",
       "</style>\n",
       "<table border=\"1\" class=\"dataframe\">\n",
       "  <thead>\n",
       "    <tr style=\"text-align: right;\">\n",
       "      <th></th>\n",
       "      <th>file_name</th>\n",
       "      <th>unique_file</th>\n",
       "      <th>path</th>\n",
       "      <th>species</th>\n",
       "      <th>label</th>\n",
       "      <th>subset</th>\n",
       "      <th>sample_rate</th>\n",
       "      <th>num_frames</th>\n",
       "      <th>length</th>\n",
       "    </tr>\n",
       "  </thead>\n",
       "  <tbody>\n",
       "    <tr>\n",
       "      <th>0</th>\n",
       "      <td>Roeselianaroeselii_XC751814-dat028-019_edit1.wav</td>\n",
       "      <td>Roeselianaroeselii_XC751814-dat028-019</td>\n",
       "      <td>data/train/Roeselianaroeselii_XC751814-dat028-...</td>\n",
       "      <td>Roeselianaroeselii</td>\n",
       "      <td>56</td>\n",
       "      <td>train</td>\n",
       "      <td>44100</td>\n",
       "      <td>4586400</td>\n",
       "      <td>104.000000</td>\n",
       "    </tr>\n",
       "    <tr>\n",
       "      <th>1</th>\n",
       "      <td>Roeselianaroeselii_XC752367-dat006-010.wav</td>\n",
       "      <td>Roeselianaroeselii_XC752367-dat006-010</td>\n",
       "      <td>data/train/Roeselianaroeselii_XC752367-dat006-...</td>\n",
       "      <td>Roeselianaroeselii</td>\n",
       "      <td>56</td>\n",
       "      <td>train</td>\n",
       "      <td>44100</td>\n",
       "      <td>337571</td>\n",
       "      <td>7.654671</td>\n",
       "    </tr>\n",
       "    <tr>\n",
       "      <th>2</th>\n",
       "      <td>Yoyettacelis_GBIF2465208563_IN36000894_50988.wav</td>\n",
       "      <td>Yoyettacelis_GBIF2465208563_IN36000894_50988</td>\n",
       "      <td>data/train/Yoyettacelis_GBIF2465208563_IN36000...</td>\n",
       "      <td>Yoyettacelis</td>\n",
       "      <td>64</td>\n",
       "      <td>train</td>\n",
       "      <td>44100</td>\n",
       "      <td>220500</td>\n",
       "      <td>5.000000</td>\n",
       "    </tr>\n",
       "    <tr>\n",
       "      <th>3</th>\n",
       "      <td>Gomphocerippusrufus_XC752285-dat001-045.wav</td>\n",
       "      <td>Gomphocerippusrufus_XC752285-dat001-045</td>\n",
       "      <td>data/train/Gomphocerippusrufus_XC752285-dat001...</td>\n",
       "      <td>Gomphocerippusrufus</td>\n",
       "      <td>26</td>\n",
       "      <td>train</td>\n",
       "      <td>44100</td>\n",
       "      <td>693715</td>\n",
       "      <td>15.730499</td>\n",
       "    </tr>\n",
       "    <tr>\n",
       "      <th>4</th>\n",
       "      <td>Atrapsaltacorticina_GBIF2901504947_IN62966536_...</td>\n",
       "      <td>Atrapsaltacorticina_GBIF2901504947_IN62966536_...</td>\n",
       "      <td>data/val/Atrapsaltacorticina_GBIF2901504947_IN...</td>\n",
       "      <td>Atrapsaltacorticina</td>\n",
       "      <td>3</td>\n",
       "      <td>validation</td>\n",
       "      <td>44100</td>\n",
       "      <td>502740</td>\n",
       "      <td>11.400000</td>\n",
       "    </tr>\n",
       "  </tbody>\n",
       "</table>\n",
       "</div>"
      ],
      "text/plain": [
       "                                           file_name   \n",
       "0   Roeselianaroeselii_XC751814-dat028-019_edit1.wav  \\\n",
       "1         Roeselianaroeselii_XC752367-dat006-010.wav   \n",
       "2   Yoyettacelis_GBIF2465208563_IN36000894_50988.wav   \n",
       "3        Gomphocerippusrufus_XC752285-dat001-045.wav   \n",
       "4  Atrapsaltacorticina_GBIF2901504947_IN62966536_...   \n",
       "\n",
       "                                         unique_file   \n",
       "0             Roeselianaroeselii_XC751814-dat028-019  \\\n",
       "1             Roeselianaroeselii_XC752367-dat006-010   \n",
       "2       Yoyettacelis_GBIF2465208563_IN36000894_50988   \n",
       "3            Gomphocerippusrufus_XC752285-dat001-045   \n",
       "4  Atrapsaltacorticina_GBIF2901504947_IN62966536_...   \n",
       "\n",
       "                                                path              species   \n",
       "0  data/train/Roeselianaroeselii_XC751814-dat028-...   Roeselianaroeselii  \\\n",
       "1  data/train/Roeselianaroeselii_XC752367-dat006-...   Roeselianaroeselii   \n",
       "2  data/train/Yoyettacelis_GBIF2465208563_IN36000...         Yoyettacelis   \n",
       "3  data/train/Gomphocerippusrufus_XC752285-dat001...  Gomphocerippusrufus   \n",
       "4  data/val/Atrapsaltacorticina_GBIF2901504947_IN...  Atrapsaltacorticina   \n",
       "\n",
       "   label      subset  sample_rate  num_frames      length  \n",
       "0     56       train        44100     4586400  104.000000  \n",
       "1     56       train        44100      337571    7.654671  \n",
       "2     64       train        44100      220500    5.000000  \n",
       "3     26       train        44100      693715   15.730499  \n",
       "4      3  validation        44100      502740   11.400000  "
      ]
     },
     "execution_count": 9,
     "metadata": {},
     "output_type": "execute_result"
    }
   ],
   "source": [
    "metadata.head()"
   ]
  },
  {
   "cell_type": "code",
   "execution_count": 10,
   "id": "2085b10f-ad65-4491-af66-c340808e7968",
   "metadata": {
    "tags": []
   },
   "outputs": [
    {
     "data": {
      "text/html": [
       "<div>\n",
       "<style scoped>\n",
       "    .dataframe tbody tr th:only-of-type {\n",
       "        vertical-align: middle;\n",
       "    }\n",
       "\n",
       "    .dataframe tbody tr th {\n",
       "        vertical-align: top;\n",
       "    }\n",
       "\n",
       "    .dataframe thead th {\n",
       "        text-align: right;\n",
       "    }\n",
       "</style>\n",
       "<table border=\"1\" class=\"dataframe\">\n",
       "  <thead>\n",
       "    <tr style=\"text-align: right;\">\n",
       "      <th></th>\n",
       "      <th>file_name</th>\n",
       "      <th>label</th>\n",
       "    </tr>\n",
       "  </thead>\n",
       "  <tbody>\n",
       "    <tr>\n",
       "      <th>0</th>\n",
       "      <td>Atrapsaltacorticina_GBIF2901504947_IN62966536_...</td>\n",
       "      <td>3</td>\n",
       "    </tr>\n",
       "    <tr>\n",
       "      <th>1</th>\n",
       "      <td>Chorthippusbrunneus_XC751398-dat022-008_edit5.wav</td>\n",
       "      <td>10</td>\n",
       "    </tr>\n",
       "    <tr>\n",
       "      <th>2</th>\n",
       "      <td>Psaltodaplaga_GBIF3031797565_IN68469430_159997...</td>\n",
       "      <td>53</td>\n",
       "    </tr>\n",
       "    <tr>\n",
       "      <th>3</th>\n",
       "      <td>Omocestusviridulus_XC752267-dat013-003_edit2.wav</td>\n",
       "      <td>39</td>\n",
       "    </tr>\n",
       "    <tr>\n",
       "      <th>4</th>\n",
       "      <td>Omocestusviridulus_XC752263-dat012-007_edit1.wav</td>\n",
       "      <td>39</td>\n",
       "    </tr>\n",
       "  </tbody>\n",
       "</table>\n",
       "</div>"
      ],
      "text/plain": [
       "                                           file_name  label\n",
       "0  Atrapsaltacorticina_GBIF2901504947_IN62966536_...      3\n",
       "1  Chorthippusbrunneus_XC751398-dat022-008_edit5.wav     10\n",
       "2  Psaltodaplaga_GBIF3031797565_IN68469430_159997...     53\n",
       "3   Omocestusviridulus_XC752267-dat013-003_edit2.wav     39\n",
       "4   Omocestusviridulus_XC752263-dat012-007_edit1.wav     39"
      ]
     },
     "execution_count": 10,
     "metadata": {},
     "output_type": "execute_result"
    }
   ],
   "source": [
    "metadata_val.head()"
   ]
  },
  {
   "cell_type": "code",
   "execution_count": 17,
   "id": "3facbdc8-2f6c-42d3-9fbf-da1781695d26",
   "metadata": {
    "tags": []
   },
   "outputs": [],
   "source": [
    "new_metadata = pd.DataFrame(columns=['file_name', 'unique_file', 'path', 'species',\n",
    "                                    'label', 'subset', 'sample_rate', 'num_frames', 'length'])\n",
    "new_metadata_train = pd.DataFrame(columns=['file_name', 'label'])\n",
    "new_metadata_val = pd.DataFrame(columns=['file_name', 'label'])"
   ]
  },
  {
   "cell_type": "code",
   "execution_count": 20,
   "id": "49db9e47-7961-4e13-b68c-164f6e3e5742",
   "metadata": {
    "tags": []
   },
   "outputs": [],
   "source": [
    "threshold = 10"
   ]
  },
  {
   "cell_type": "code",
   "execution_count": 21,
   "id": "859403ca-4750-4cff-bbd1-4ec6258d0d1b",
   "metadata": {
    "tags": []
   },
   "outputs": [
    {
     "name": "stderr",
     "output_type": "stream",
     "text": [
      "100%|██████████| 2331/2331 [05:16<00:00,  7.37it/s]\n"
     ]
    }
   ],
   "source": [
    "for i in tqdm(range(len(metadata))):\n",
    "    file_name = metadata.iloc[[i]]['file_name'].values[0]\n",
    "    unique_file = metadata.iloc[[i]]['unique_file'].values[0]\n",
    "    path = metadata.iloc[[i]]['path'].values[0]\n",
    "    species = metadata.iloc[[i]]['species'].values[0]\n",
    "    label = metadata.iloc[[i]]['label'].values[0]\n",
    "    subset = metadata.iloc[[i]]['subset'].values[0]\n",
    "    sample_rate = metadata.iloc[[i]]['sample_rate'].values[0]\n",
    "    num_frames = metadata.iloc[[i]]['num_frames'].values[0]\n",
    "    length = metadata.iloc[[i]]['length'].values[0]\n",
    "    audio = AudioSegment.from_wav(path)\n",
    "    sec = 10000\n",
    "    \n",
    "    if subset == 'train':\n",
    "        if length > threshold:\n",
    "            n = int(length//10)\n",
    "            for i in range(0, n+1):\n",
    "                new_audio = audio[sec*i:sec*(i+1)]\n",
    "                new_filename = f'{file_name[:-4]}'+'_cut'+str(i)+'.wav'\n",
    "                new_path = f'data/data_chunks2/train/{new_filename}'\n",
    "                new_len = len(new_audio) / 1000 \n",
    "                new_frames = int(44100 * new_len)\n",
    "                if new_len >= 1:\n",
    "                    new_audio.export('data/data_chunks2/train/'+new_filename, format=\"wav\")\n",
    "                    new_metadata_train.loc[len(new_metadata_train)] = [new_filename, label]\n",
    "                    new_path = f'data/data_chunks2/train/{new_filename}'\n",
    "                    new_row = [new_filename, unique_file, new_path, species, label, subset,\n",
    "                               sample_rate, new_frames, new_len]\n",
    "                    new_metadata.loc[len(new_metadata)] = new_row\n",
    "        else:\n",
    "            audio.export('data/data_chunks2/train/'+file_name, format=\"wav\")\n",
    "            new_metadata_train.loc[len(new_metadata_train)] = [file_name, label]\n",
    "            new_path = f'data/data_chunks2/train/{file_name}'\n",
    "            new_row = [file_name, unique_file, new_path, species, label, subset,\n",
    "                       sample_rate, num_frames, length]\n",
    "            new_metadata.loc[len(new_metadata)] = new_row\n",
    "    \n",
    "    else:\n",
    "        audio.export('data/data_chunks2/val/'+file_name, format=\"wav\")\n",
    "        new_metadata_val.loc[len(new_metadata_val)] = [file_name, label]\n",
    "        new_path = f'data/data_chunks2/val/{file_name}'\n",
    "        new_row = [file_name, unique_file, new_path, species, label, subset,\n",
    "                   sample_rate, num_frames, length]\n",
    "        new_metadata.loc[len(new_metadata)] = new_row"
   ]
  },
  {
   "cell_type": "code",
   "execution_count": 22,
   "id": "ab0ceca0-45bd-4a0e-9b35-eda81eb21c69",
   "metadata": {
    "tags": []
   },
   "outputs": [
    {
     "data": {
      "text/html": [
       "<div>\n",
       "<style scoped>\n",
       "    .dataframe tbody tr th:only-of-type {\n",
       "        vertical-align: middle;\n",
       "    }\n",
       "\n",
       "    .dataframe tbody tr th {\n",
       "        vertical-align: top;\n",
       "    }\n",
       "\n",
       "    .dataframe thead th {\n",
       "        text-align: right;\n",
       "    }\n",
       "</style>\n",
       "<table border=\"1\" class=\"dataframe\">\n",
       "  <thead>\n",
       "    <tr style=\"text-align: right;\">\n",
       "      <th></th>\n",
       "      <th>file_name</th>\n",
       "      <th>unique_file</th>\n",
       "      <th>path</th>\n",
       "      <th>species</th>\n",
       "      <th>label</th>\n",
       "      <th>subset</th>\n",
       "      <th>sample_rate</th>\n",
       "      <th>num_frames</th>\n",
       "      <th>length</th>\n",
       "    </tr>\n",
       "  </thead>\n",
       "  <tbody>\n",
       "    <tr>\n",
       "      <th>0</th>\n",
       "      <td>Roeselianaroeselii_XC751814-dat028-019_edit1_c...</td>\n",
       "      <td>Roeselianaroeselii_XC751814-dat028-019</td>\n",
       "      <td>data/data_chunks2/train/Roeselianaroeselii_XC7...</td>\n",
       "      <td>Roeselianaroeselii</td>\n",
       "      <td>56</td>\n",
       "      <td>train</td>\n",
       "      <td>44100</td>\n",
       "      <td>441000</td>\n",
       "      <td>10.00000</td>\n",
       "    </tr>\n",
       "    <tr>\n",
       "      <th>1</th>\n",
       "      <td>Roeselianaroeselii_XC751814-dat028-019_edit1_c...</td>\n",
       "      <td>Roeselianaroeselii_XC751814-dat028-019</td>\n",
       "      <td>data/data_chunks2/train/Roeselianaroeselii_XC7...</td>\n",
       "      <td>Roeselianaroeselii</td>\n",
       "      <td>56</td>\n",
       "      <td>train</td>\n",
       "      <td>44100</td>\n",
       "      <td>441000</td>\n",
       "      <td>10.00000</td>\n",
       "    </tr>\n",
       "    <tr>\n",
       "      <th>2</th>\n",
       "      <td>Roeselianaroeselii_XC751814-dat028-019_edit1_c...</td>\n",
       "      <td>Roeselianaroeselii_XC751814-dat028-019</td>\n",
       "      <td>data/data_chunks2/train/Roeselianaroeselii_XC7...</td>\n",
       "      <td>Roeselianaroeselii</td>\n",
       "      <td>56</td>\n",
       "      <td>train</td>\n",
       "      <td>44100</td>\n",
       "      <td>441000</td>\n",
       "      <td>10.00000</td>\n",
       "    </tr>\n",
       "    <tr>\n",
       "      <th>3</th>\n",
       "      <td>Roeselianaroeselii_XC751814-dat028-019_edit1_c...</td>\n",
       "      <td>Roeselianaroeselii_XC751814-dat028-019</td>\n",
       "      <td>data/data_chunks2/train/Roeselianaroeselii_XC7...</td>\n",
       "      <td>Roeselianaroeselii</td>\n",
       "      <td>56</td>\n",
       "      <td>train</td>\n",
       "      <td>44100</td>\n",
       "      <td>441000</td>\n",
       "      <td>10.00000</td>\n",
       "    </tr>\n",
       "    <tr>\n",
       "      <th>4</th>\n",
       "      <td>Roeselianaroeselii_XC751814-dat028-019_edit1_c...</td>\n",
       "      <td>Roeselianaroeselii_XC751814-dat028-019</td>\n",
       "      <td>data/data_chunks2/train/Roeselianaroeselii_XC7...</td>\n",
       "      <td>Roeselianaroeselii</td>\n",
       "      <td>56</td>\n",
       "      <td>train</td>\n",
       "      <td>44100</td>\n",
       "      <td>441000</td>\n",
       "      <td>10.00000</td>\n",
       "    </tr>\n",
       "    <tr>\n",
       "      <th>...</th>\n",
       "      <td>...</td>\n",
       "      <td>...</td>\n",
       "      <td>...</td>\n",
       "      <td>...</td>\n",
       "      <td>...</td>\n",
       "      <td>...</td>\n",
       "      <td>...</td>\n",
       "      <td>...</td>\n",
       "      <td>...</td>\n",
       "    </tr>\n",
       "    <tr>\n",
       "      <th>7016</th>\n",
       "      <td>Pholidopteralittoralis_XC752439-dat049-001_edi...</td>\n",
       "      <td>Pholidopteralittoralis_XC752439-dat049-001</td>\n",
       "      <td>data/data_chunks2/train/Pholidopteralittoralis...</td>\n",
       "      <td>Pholidopteralittoralis</td>\n",
       "      <td>44</td>\n",
       "      <td>train</td>\n",
       "      <td>44100</td>\n",
       "      <td>88200</td>\n",
       "      <td>2.00000</td>\n",
       "    </tr>\n",
       "    <tr>\n",
       "      <th>7017</th>\n",
       "      <td>Gomphocerussibiricus_XC751796-dat187-005_edit2...</td>\n",
       "      <td>Gomphocerussibiricus_XC751796-dat187-005</td>\n",
       "      <td>data/data_chunks2/train/Gomphocerussibiricus_X...</td>\n",
       "      <td>Gomphocerussibiricus</td>\n",
       "      <td>27</td>\n",
       "      <td>train</td>\n",
       "      <td>44100</td>\n",
       "      <td>441000</td>\n",
       "      <td>10.00000</td>\n",
       "    </tr>\n",
       "    <tr>\n",
       "      <th>7018</th>\n",
       "      <td>Gomphocerussibiricus_XC751796-dat187-005_edit2...</td>\n",
       "      <td>Gomphocerussibiricus_XC751796-dat187-005</td>\n",
       "      <td>data/data_chunks2/train/Gomphocerussibiricus_X...</td>\n",
       "      <td>Gomphocerussibiricus</td>\n",
       "      <td>27</td>\n",
       "      <td>train</td>\n",
       "      <td>44100</td>\n",
       "      <td>441000</td>\n",
       "      <td>10.00000</td>\n",
       "    </tr>\n",
       "    <tr>\n",
       "      <th>7019</th>\n",
       "      <td>Gomphocerussibiricus_XC751796-dat187-005_edit2...</td>\n",
       "      <td>Gomphocerussibiricus_XC751796-dat187-005</td>\n",
       "      <td>data/data_chunks2/train/Gomphocerussibiricus_X...</td>\n",
       "      <td>Gomphocerussibiricus</td>\n",
       "      <td>27</td>\n",
       "      <td>train</td>\n",
       "      <td>44100</td>\n",
       "      <td>308700</td>\n",
       "      <td>7.00000</td>\n",
       "    </tr>\n",
       "    <tr>\n",
       "      <th>7020</th>\n",
       "      <td>Galangalabeculata_GBIF1978446126_IN19060805_28...</td>\n",
       "      <td>Galangalabeculata_GBIF1978446126_IN19060805_28347</td>\n",
       "      <td>data/data_chunks2/train/Galangalabeculata_GBIF...</td>\n",
       "      <td>Galangalabeculata</td>\n",
       "      <td>24</td>\n",
       "      <td>train</td>\n",
       "      <td>44100</td>\n",
       "      <td>266162</td>\n",
       "      <td>6.03542</td>\n",
       "    </tr>\n",
       "  </tbody>\n",
       "</table>\n",
       "<p>7021 rows × 9 columns</p>\n",
       "</div>"
      ],
      "text/plain": [
       "                                              file_name   \n",
       "0     Roeselianaroeselii_XC751814-dat028-019_edit1_c...  \\\n",
       "1     Roeselianaroeselii_XC751814-dat028-019_edit1_c...   \n",
       "2     Roeselianaroeselii_XC751814-dat028-019_edit1_c...   \n",
       "3     Roeselianaroeselii_XC751814-dat028-019_edit1_c...   \n",
       "4     Roeselianaroeselii_XC751814-dat028-019_edit1_c...   \n",
       "...                                                 ...   \n",
       "7016  Pholidopteralittoralis_XC752439-dat049-001_edi...   \n",
       "7017  Gomphocerussibiricus_XC751796-dat187-005_edit2...   \n",
       "7018  Gomphocerussibiricus_XC751796-dat187-005_edit2...   \n",
       "7019  Gomphocerussibiricus_XC751796-dat187-005_edit2...   \n",
       "7020  Galangalabeculata_GBIF1978446126_IN19060805_28...   \n",
       "\n",
       "                                            unique_file   \n",
       "0                Roeselianaroeselii_XC751814-dat028-019  \\\n",
       "1                Roeselianaroeselii_XC751814-dat028-019   \n",
       "2                Roeselianaroeselii_XC751814-dat028-019   \n",
       "3                Roeselianaroeselii_XC751814-dat028-019   \n",
       "4                Roeselianaroeselii_XC751814-dat028-019   \n",
       "...                                                 ...   \n",
       "7016         Pholidopteralittoralis_XC752439-dat049-001   \n",
       "7017           Gomphocerussibiricus_XC751796-dat187-005   \n",
       "7018           Gomphocerussibiricus_XC751796-dat187-005   \n",
       "7019           Gomphocerussibiricus_XC751796-dat187-005   \n",
       "7020  Galangalabeculata_GBIF1978446126_IN19060805_28347   \n",
       "\n",
       "                                                   path   \n",
       "0     data/data_chunks2/train/Roeselianaroeselii_XC7...  \\\n",
       "1     data/data_chunks2/train/Roeselianaroeselii_XC7...   \n",
       "2     data/data_chunks2/train/Roeselianaroeselii_XC7...   \n",
       "3     data/data_chunks2/train/Roeselianaroeselii_XC7...   \n",
       "4     data/data_chunks2/train/Roeselianaroeselii_XC7...   \n",
       "...                                                 ...   \n",
       "7016  data/data_chunks2/train/Pholidopteralittoralis...   \n",
       "7017  data/data_chunks2/train/Gomphocerussibiricus_X...   \n",
       "7018  data/data_chunks2/train/Gomphocerussibiricus_X...   \n",
       "7019  data/data_chunks2/train/Gomphocerussibiricus_X...   \n",
       "7020  data/data_chunks2/train/Galangalabeculata_GBIF...   \n",
       "\n",
       "                     species  label subset  sample_rate  num_frames    length  \n",
       "0         Roeselianaroeselii     56  train        44100      441000  10.00000  \n",
       "1         Roeselianaroeselii     56  train        44100      441000  10.00000  \n",
       "2         Roeselianaroeselii     56  train        44100      441000  10.00000  \n",
       "3         Roeselianaroeselii     56  train        44100      441000  10.00000  \n",
       "4         Roeselianaroeselii     56  train        44100      441000  10.00000  \n",
       "...                      ...    ...    ...          ...         ...       ...  \n",
       "7016  Pholidopteralittoralis     44  train        44100       88200   2.00000  \n",
       "7017    Gomphocerussibiricus     27  train        44100      441000  10.00000  \n",
       "7018    Gomphocerussibiricus     27  train        44100      441000  10.00000  \n",
       "7019    Gomphocerussibiricus     27  train        44100      308700   7.00000  \n",
       "7020       Galangalabeculata     24  train        44100      266162   6.03542  \n",
       "\n",
       "[7021 rows x 9 columns]"
      ]
     },
     "execution_count": 22,
     "metadata": {},
     "output_type": "execute_result"
    }
   ],
   "source": [
    "new_metadata"
   ]
  },
  {
   "cell_type": "code",
   "execution_count": 29,
   "id": "1d616f15-0888-4145-b202-e9407ceeeb5d",
   "metadata": {
    "tags": []
   },
   "outputs": [],
   "source": [
    "new_metadata.to_csv('new_metadata.csv', index=False)\n",
    "new_metadata_val.to_csv('new_metadata_val.csv', index=False)\n",
    "new_metadata_train.to_csv('new_metadata_train.csv', index=False)"
   ]
  }
 ],
 "metadata": {
  "availableInstances": [
   {
    "_defaultOrder": 0,
    "_isFastLaunch": true,
    "category": "General purpose",
    "gpuNum": 0,
    "hideHardwareSpecs": false,
    "memoryGiB": 4,
    "name": "ml.t3.medium",
    "vcpuNum": 2
   },
   {
    "_defaultOrder": 1,
    "_isFastLaunch": false,
    "category": "General purpose",
    "gpuNum": 0,
    "hideHardwareSpecs": false,
    "memoryGiB": 8,
    "name": "ml.t3.large",
    "vcpuNum": 2
   },
   {
    "_defaultOrder": 2,
    "_isFastLaunch": false,
    "category": "General purpose",
    "gpuNum": 0,
    "hideHardwareSpecs": false,
    "memoryGiB": 16,
    "name": "ml.t3.xlarge",
    "vcpuNum": 4
   },
   {
    "_defaultOrder": 3,
    "_isFastLaunch": false,
    "category": "General purpose",
    "gpuNum": 0,
    "hideHardwareSpecs": false,
    "memoryGiB": 32,
    "name": "ml.t3.2xlarge",
    "vcpuNum": 8
   },
   {
    "_defaultOrder": 4,
    "_isFastLaunch": true,
    "category": "General purpose",
    "gpuNum": 0,
    "hideHardwareSpecs": false,
    "memoryGiB": 8,
    "name": "ml.m5.large",
    "vcpuNum": 2
   },
   {
    "_defaultOrder": 5,
    "_isFastLaunch": false,
    "category": "General purpose",
    "gpuNum": 0,
    "hideHardwareSpecs": false,
    "memoryGiB": 16,
    "name": "ml.m5.xlarge",
    "vcpuNum": 4
   },
   {
    "_defaultOrder": 6,
    "_isFastLaunch": false,
    "category": "General purpose",
    "gpuNum": 0,
    "hideHardwareSpecs": false,
    "memoryGiB": 32,
    "name": "ml.m5.2xlarge",
    "vcpuNum": 8
   },
   {
    "_defaultOrder": 7,
    "_isFastLaunch": false,
    "category": "General purpose",
    "gpuNum": 0,
    "hideHardwareSpecs": false,
    "memoryGiB": 64,
    "name": "ml.m5.4xlarge",
    "vcpuNum": 16
   },
   {
    "_defaultOrder": 8,
    "_isFastLaunch": false,
    "category": "General purpose",
    "gpuNum": 0,
    "hideHardwareSpecs": false,
    "memoryGiB": 128,
    "name": "ml.m5.8xlarge",
    "vcpuNum": 32
   },
   {
    "_defaultOrder": 9,
    "_isFastLaunch": false,
    "category": "General purpose",
    "gpuNum": 0,
    "hideHardwareSpecs": false,
    "memoryGiB": 192,
    "name": "ml.m5.12xlarge",
    "vcpuNum": 48
   },
   {
    "_defaultOrder": 10,
    "_isFastLaunch": false,
    "category": "General purpose",
    "gpuNum": 0,
    "hideHardwareSpecs": false,
    "memoryGiB": 256,
    "name": "ml.m5.16xlarge",
    "vcpuNum": 64
   },
   {
    "_defaultOrder": 11,
    "_isFastLaunch": false,
    "category": "General purpose",
    "gpuNum": 0,
    "hideHardwareSpecs": false,
    "memoryGiB": 384,
    "name": "ml.m5.24xlarge",
    "vcpuNum": 96
   },
   {
    "_defaultOrder": 12,
    "_isFastLaunch": false,
    "category": "General purpose",
    "gpuNum": 0,
    "hideHardwareSpecs": false,
    "memoryGiB": 8,
    "name": "ml.m5d.large",
    "vcpuNum": 2
   },
   {
    "_defaultOrder": 13,
    "_isFastLaunch": false,
    "category": "General purpose",
    "gpuNum": 0,
    "hideHardwareSpecs": false,
    "memoryGiB": 16,
    "name": "ml.m5d.xlarge",
    "vcpuNum": 4
   },
   {
    "_defaultOrder": 14,
    "_isFastLaunch": false,
    "category": "General purpose",
    "gpuNum": 0,
    "hideHardwareSpecs": false,
    "memoryGiB": 32,
    "name": "ml.m5d.2xlarge",
    "vcpuNum": 8
   },
   {
    "_defaultOrder": 15,
    "_isFastLaunch": false,
    "category": "General purpose",
    "gpuNum": 0,
    "hideHardwareSpecs": false,
    "memoryGiB": 64,
    "name": "ml.m5d.4xlarge",
    "vcpuNum": 16
   },
   {
    "_defaultOrder": 16,
    "_isFastLaunch": false,
    "category": "General purpose",
    "gpuNum": 0,
    "hideHardwareSpecs": false,
    "memoryGiB": 128,
    "name": "ml.m5d.8xlarge",
    "vcpuNum": 32
   },
   {
    "_defaultOrder": 17,
    "_isFastLaunch": false,
    "category": "General purpose",
    "gpuNum": 0,
    "hideHardwareSpecs": false,
    "memoryGiB": 192,
    "name": "ml.m5d.12xlarge",
    "vcpuNum": 48
   },
   {
    "_defaultOrder": 18,
    "_isFastLaunch": false,
    "category": "General purpose",
    "gpuNum": 0,
    "hideHardwareSpecs": false,
    "memoryGiB": 256,
    "name": "ml.m5d.16xlarge",
    "vcpuNum": 64
   },
   {
    "_defaultOrder": 19,
    "_isFastLaunch": false,
    "category": "General purpose",
    "gpuNum": 0,
    "hideHardwareSpecs": false,
    "memoryGiB": 384,
    "name": "ml.m5d.24xlarge",
    "vcpuNum": 96
   },
   {
    "_defaultOrder": 20,
    "_isFastLaunch": false,
    "category": "General purpose",
    "gpuNum": 0,
    "hideHardwareSpecs": true,
    "memoryGiB": 0,
    "name": "ml.geospatial.interactive",
    "supportedImageNames": [
     "sagemaker-geospatial-v1-0"
    ],
    "vcpuNum": 0
   },
   {
    "_defaultOrder": 21,
    "_isFastLaunch": true,
    "category": "Compute optimized",
    "gpuNum": 0,
    "hideHardwareSpecs": false,
    "memoryGiB": 4,
    "name": "ml.c5.large",
    "vcpuNum": 2
   },
   {
    "_defaultOrder": 22,
    "_isFastLaunch": false,
    "category": "Compute optimized",
    "gpuNum": 0,
    "hideHardwareSpecs": false,
    "memoryGiB": 8,
    "name": "ml.c5.xlarge",
    "vcpuNum": 4
   },
   {
    "_defaultOrder": 23,
    "_isFastLaunch": false,
    "category": "Compute optimized",
    "gpuNum": 0,
    "hideHardwareSpecs": false,
    "memoryGiB": 16,
    "name": "ml.c5.2xlarge",
    "vcpuNum": 8
   },
   {
    "_defaultOrder": 24,
    "_isFastLaunch": false,
    "category": "Compute optimized",
    "gpuNum": 0,
    "hideHardwareSpecs": false,
    "memoryGiB": 32,
    "name": "ml.c5.4xlarge",
    "vcpuNum": 16
   },
   {
    "_defaultOrder": 25,
    "_isFastLaunch": false,
    "category": "Compute optimized",
    "gpuNum": 0,
    "hideHardwareSpecs": false,
    "memoryGiB": 72,
    "name": "ml.c5.9xlarge",
    "vcpuNum": 36
   },
   {
    "_defaultOrder": 26,
    "_isFastLaunch": false,
    "category": "Compute optimized",
    "gpuNum": 0,
    "hideHardwareSpecs": false,
    "memoryGiB": 96,
    "name": "ml.c5.12xlarge",
    "vcpuNum": 48
   },
   {
    "_defaultOrder": 27,
    "_isFastLaunch": false,
    "category": "Compute optimized",
    "gpuNum": 0,
    "hideHardwareSpecs": false,
    "memoryGiB": 144,
    "name": "ml.c5.18xlarge",
    "vcpuNum": 72
   },
   {
    "_defaultOrder": 28,
    "_isFastLaunch": false,
    "category": "Compute optimized",
    "gpuNum": 0,
    "hideHardwareSpecs": false,
    "memoryGiB": 192,
    "name": "ml.c5.24xlarge",
    "vcpuNum": 96
   },
   {
    "_defaultOrder": 29,
    "_isFastLaunch": true,
    "category": "Accelerated computing",
    "gpuNum": 1,
    "hideHardwareSpecs": false,
    "memoryGiB": 16,
    "name": "ml.g4dn.xlarge",
    "vcpuNum": 4
   },
   {
    "_defaultOrder": 30,
    "_isFastLaunch": false,
    "category": "Accelerated computing",
    "gpuNum": 1,
    "hideHardwareSpecs": false,
    "memoryGiB": 32,
    "name": "ml.g4dn.2xlarge",
    "vcpuNum": 8
   },
   {
    "_defaultOrder": 31,
    "_isFastLaunch": false,
    "category": "Accelerated computing",
    "gpuNum": 1,
    "hideHardwareSpecs": false,
    "memoryGiB": 64,
    "name": "ml.g4dn.4xlarge",
    "vcpuNum": 16
   },
   {
    "_defaultOrder": 32,
    "_isFastLaunch": false,
    "category": "Accelerated computing",
    "gpuNum": 1,
    "hideHardwareSpecs": false,
    "memoryGiB": 128,
    "name": "ml.g4dn.8xlarge",
    "vcpuNum": 32
   },
   {
    "_defaultOrder": 33,
    "_isFastLaunch": false,
    "category": "Accelerated computing",
    "gpuNum": 4,
    "hideHardwareSpecs": false,
    "memoryGiB": 192,
    "name": "ml.g4dn.12xlarge",
    "vcpuNum": 48
   },
   {
    "_defaultOrder": 34,
    "_isFastLaunch": false,
    "category": "Accelerated computing",
    "gpuNum": 1,
    "hideHardwareSpecs": false,
    "memoryGiB": 256,
    "name": "ml.g4dn.16xlarge",
    "vcpuNum": 64
   },
   {
    "_defaultOrder": 35,
    "_isFastLaunch": false,
    "category": "Accelerated computing",
    "gpuNum": 1,
    "hideHardwareSpecs": false,
    "memoryGiB": 61,
    "name": "ml.p3.2xlarge",
    "vcpuNum": 8
   },
   {
    "_defaultOrder": 36,
    "_isFastLaunch": false,
    "category": "Accelerated computing",
    "gpuNum": 4,
    "hideHardwareSpecs": false,
    "memoryGiB": 244,
    "name": "ml.p3.8xlarge",
    "vcpuNum": 32
   },
   {
    "_defaultOrder": 37,
    "_isFastLaunch": false,
    "category": "Accelerated computing",
    "gpuNum": 8,
    "hideHardwareSpecs": false,
    "memoryGiB": 488,
    "name": "ml.p3.16xlarge",
    "vcpuNum": 64
   },
   {
    "_defaultOrder": 38,
    "_isFastLaunch": false,
    "category": "Accelerated computing",
    "gpuNum": 8,
    "hideHardwareSpecs": false,
    "memoryGiB": 768,
    "name": "ml.p3dn.24xlarge",
    "vcpuNum": 96
   },
   {
    "_defaultOrder": 39,
    "_isFastLaunch": false,
    "category": "Memory Optimized",
    "gpuNum": 0,
    "hideHardwareSpecs": false,
    "memoryGiB": 16,
    "name": "ml.r5.large",
    "vcpuNum": 2
   },
   {
    "_defaultOrder": 40,
    "_isFastLaunch": false,
    "category": "Memory Optimized",
    "gpuNum": 0,
    "hideHardwareSpecs": false,
    "memoryGiB": 32,
    "name": "ml.r5.xlarge",
    "vcpuNum": 4
   },
   {
    "_defaultOrder": 41,
    "_isFastLaunch": false,
    "category": "Memory Optimized",
    "gpuNum": 0,
    "hideHardwareSpecs": false,
    "memoryGiB": 64,
    "name": "ml.r5.2xlarge",
    "vcpuNum": 8
   },
   {
    "_defaultOrder": 42,
    "_isFastLaunch": false,
    "category": "Memory Optimized",
    "gpuNum": 0,
    "hideHardwareSpecs": false,
    "memoryGiB": 128,
    "name": "ml.r5.4xlarge",
    "vcpuNum": 16
   },
   {
    "_defaultOrder": 43,
    "_isFastLaunch": false,
    "category": "Memory Optimized",
    "gpuNum": 0,
    "hideHardwareSpecs": false,
    "memoryGiB": 256,
    "name": "ml.r5.8xlarge",
    "vcpuNum": 32
   },
   {
    "_defaultOrder": 44,
    "_isFastLaunch": false,
    "category": "Memory Optimized",
    "gpuNum": 0,
    "hideHardwareSpecs": false,
    "memoryGiB": 384,
    "name": "ml.r5.12xlarge",
    "vcpuNum": 48
   },
   {
    "_defaultOrder": 45,
    "_isFastLaunch": false,
    "category": "Memory Optimized",
    "gpuNum": 0,
    "hideHardwareSpecs": false,
    "memoryGiB": 512,
    "name": "ml.r5.16xlarge",
    "vcpuNum": 64
   },
   {
    "_defaultOrder": 46,
    "_isFastLaunch": false,
    "category": "Memory Optimized",
    "gpuNum": 0,
    "hideHardwareSpecs": false,
    "memoryGiB": 768,
    "name": "ml.r5.24xlarge",
    "vcpuNum": 96
   },
   {
    "_defaultOrder": 47,
    "_isFastLaunch": false,
    "category": "Accelerated computing",
    "gpuNum": 1,
    "hideHardwareSpecs": false,
    "memoryGiB": 16,
    "name": "ml.g5.xlarge",
    "vcpuNum": 4
   },
   {
    "_defaultOrder": 48,
    "_isFastLaunch": false,
    "category": "Accelerated computing",
    "gpuNum": 1,
    "hideHardwareSpecs": false,
    "memoryGiB": 32,
    "name": "ml.g5.2xlarge",
    "vcpuNum": 8
   },
   {
    "_defaultOrder": 49,
    "_isFastLaunch": false,
    "category": "Accelerated computing",
    "gpuNum": 1,
    "hideHardwareSpecs": false,
    "memoryGiB": 64,
    "name": "ml.g5.4xlarge",
    "vcpuNum": 16
   },
   {
    "_defaultOrder": 50,
    "_isFastLaunch": false,
    "category": "Accelerated computing",
    "gpuNum": 1,
    "hideHardwareSpecs": false,
    "memoryGiB": 128,
    "name": "ml.g5.8xlarge",
    "vcpuNum": 32
   },
   {
    "_defaultOrder": 51,
    "_isFastLaunch": false,
    "category": "Accelerated computing",
    "gpuNum": 1,
    "hideHardwareSpecs": false,
    "memoryGiB": 256,
    "name": "ml.g5.16xlarge",
    "vcpuNum": 64
   },
   {
    "_defaultOrder": 52,
    "_isFastLaunch": false,
    "category": "Accelerated computing",
    "gpuNum": 4,
    "hideHardwareSpecs": false,
    "memoryGiB": 192,
    "name": "ml.g5.12xlarge",
    "vcpuNum": 48
   },
   {
    "_defaultOrder": 53,
    "_isFastLaunch": false,
    "category": "Accelerated computing",
    "gpuNum": 4,
    "hideHardwareSpecs": false,
    "memoryGiB": 384,
    "name": "ml.g5.24xlarge",
    "vcpuNum": 96
   },
   {
    "_defaultOrder": 54,
    "_isFastLaunch": false,
    "category": "Accelerated computing",
    "gpuNum": 8,
    "hideHardwareSpecs": false,
    "memoryGiB": 768,
    "name": "ml.g5.48xlarge",
    "vcpuNum": 192
   },
   {
    "_defaultOrder": 55,
    "_isFastLaunch": false,
    "category": "Accelerated computing",
    "gpuNum": 8,
    "hideHardwareSpecs": false,
    "memoryGiB": 1152,
    "name": "ml.p4d.24xlarge",
    "vcpuNum": 96
   },
   {
    "_defaultOrder": 56,
    "_isFastLaunch": false,
    "category": "Accelerated computing",
    "gpuNum": 8,
    "hideHardwareSpecs": false,
    "memoryGiB": 1152,
    "name": "ml.p4de.24xlarge",
    "vcpuNum": 96
   }
  ],
  "instance_type": "ml.r5.2xlarge",
  "kernelspec": {
   "display_name": "GDSC (custom-gdsc/1)",
   "language": "python",
   "name": "python3__SAGEMAKER_INTERNAL__arn:aws:sagemaker:us-east-1:292159885427:image-version/custom-gdsc/1"
  },
  "language_info": {
   "codemirror_mode": {
    "name": "ipython",
    "version": 3
   },
   "file_extension": ".py",
   "mimetype": "text/x-python",
   "name": "python",
   "nbconvert_exporter": "python",
   "pygments_lexer": "ipython3",
   "version": "3.10.8"
  },
  "lcc_arn": "arn:aws:sagemaker:us-east-1:292159885427:studio-lifecycle-config/clean-trash"
 },
 "nbformat": 4,
 "nbformat_minor": 5
}
