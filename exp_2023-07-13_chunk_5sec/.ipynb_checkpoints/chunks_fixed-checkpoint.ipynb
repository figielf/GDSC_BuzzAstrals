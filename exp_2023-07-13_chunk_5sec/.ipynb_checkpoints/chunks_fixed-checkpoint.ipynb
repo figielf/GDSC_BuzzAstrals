{
 "cells": [
  {
   "cell_type": "code",
   "execution_count": 2,
   "id": "f4af40a8-db6b-4624-93a4-2d335ee4afa5",
   "metadata": {
    "tags": []
   },
   "outputs": [
    {
     "name": "stdout",
     "output_type": "stream",
     "text": [
      "Collecting pydub\n",
      "  Downloading pydub-0.25.1-py2.py3-none-any.whl (32 kB)\n",
      "Installing collected packages: pydub\n",
      "Successfully installed pydub-0.25.1\n",
      "\u001b[33mWARNING: Running pip as the 'root' user can result in broken permissions and conflicting behaviour with the system package manager. It is recommended to use a virtual environment instead: https://pip.pypa.io/warnings/venv\u001b[0m\u001b[33m\n",
      "\u001b[0m"
     ]
    }
   ],
   "source": [
    "!pip install pydub"
   ]
  },
  {
   "cell_type": "code",
   "execution_count": 3,
   "id": "8fcf76e1-bba0-49ab-871a-8a8a08d848cf",
   "metadata": {
    "tags": []
   },
   "outputs": [],
   "source": [
    "import os\n",
    "import pandas as pd\n",
    "from tqdm import tqdm\n",
    "from pydub import AudioSegment\n",
    "from IPython.display import Audio as AudioI"
   ]
  },
  {
   "cell_type": "code",
   "execution_count": 4,
   "id": "1f63c794-4a19-4926-83d5-1899e8cf7061",
   "metadata": {
    "tags": []
   },
   "outputs": [
    {
     "data": {
      "text/plain": [
       "'/root/data/experiments/exp_2023-07-13_chunk_5sec'"
      ]
     },
     "execution_count": 4,
     "metadata": {},
     "output_type": "execute_result"
    }
   ],
   "source": [
    "os.getcwd()"
   ]
  },
  {
   "cell_type": "code",
   "execution_count": 5,
   "id": "d9cc9662-7c2b-4c1d-91b8-5716179a0ac2",
   "metadata": {
    "tags": []
   },
   "outputs": [],
   "source": [
    "os.chdir('../..')"
   ]
  },
  {
   "cell_type": "code",
   "execution_count": 6,
   "id": "1576305e-245e-4388-9c05-5c5781fa5715",
   "metadata": {
    "tags": []
   },
   "outputs": [
    {
     "data": {
      "text/plain": [
       "'/root/data'"
      ]
     },
     "execution_count": 6,
     "metadata": {},
     "output_type": "execute_result"
    }
   ],
   "source": [
    "os.getcwd()"
   ]
  },
  {
   "cell_type": "code",
   "execution_count": 7,
   "id": "f5dab44e-5bff-46ee-ab5d-5fb9410b09d5",
   "metadata": {
    "tags": []
   },
   "outputs": [],
   "source": [
    "metadata = pd.read_csv('data/metadata-BACKUP.csv')\n",
    "metadata_train = pd.read_csv('data/train/metadata.csv')\n",
    "metadata_val = pd.read_csv('data/val/metadata.csv')"
   ]
  },
  {
   "cell_type": "code",
   "execution_count": 8,
   "id": "ff0d3e0a-2dec-4de4-8b04-e45793b41142",
   "metadata": {
    "tags": []
   },
   "outputs": [
    {
     "data": {
      "text/html": [
       "<div>\n",
       "<style scoped>\n",
       "    .dataframe tbody tr th:only-of-type {\n",
       "        vertical-align: middle;\n",
       "    }\n",
       "\n",
       "    .dataframe tbody tr th {\n",
       "        vertical-align: top;\n",
       "    }\n",
       "\n",
       "    .dataframe thead th {\n",
       "        text-align: right;\n",
       "    }\n",
       "</style>\n",
       "<table border=\"1\" class=\"dataframe\">\n",
       "  <thead>\n",
       "    <tr style=\"text-align: right;\">\n",
       "      <th></th>\n",
       "      <th>file_name</th>\n",
       "      <th>unique_file</th>\n",
       "      <th>path</th>\n",
       "      <th>species</th>\n",
       "      <th>label</th>\n",
       "      <th>subset</th>\n",
       "      <th>sample_rate</th>\n",
       "      <th>num_frames</th>\n",
       "      <th>length</th>\n",
       "    </tr>\n",
       "  </thead>\n",
       "  <tbody>\n",
       "    <tr>\n",
       "      <th>0</th>\n",
       "      <td>Roeselianaroeselii_XC751814-dat028-019_edit1.wav</td>\n",
       "      <td>Roeselianaroeselii_XC751814-dat028-019</td>\n",
       "      <td>data/train/Roeselianaroeselii_XC751814-dat028-...</td>\n",
       "      <td>Roeselianaroeselii</td>\n",
       "      <td>56</td>\n",
       "      <td>train</td>\n",
       "      <td>44100</td>\n",
       "      <td>4586400</td>\n",
       "      <td>104.000000</td>\n",
       "    </tr>\n",
       "    <tr>\n",
       "      <th>1</th>\n",
       "      <td>Roeselianaroeselii_XC752367-dat006-010.wav</td>\n",
       "      <td>Roeselianaroeselii_XC752367-dat006-010</td>\n",
       "      <td>data/train/Roeselianaroeselii_XC752367-dat006-...</td>\n",
       "      <td>Roeselianaroeselii</td>\n",
       "      <td>56</td>\n",
       "      <td>train</td>\n",
       "      <td>44100</td>\n",
       "      <td>337571</td>\n",
       "      <td>7.654671</td>\n",
       "    </tr>\n",
       "    <tr>\n",
       "      <th>2</th>\n",
       "      <td>Yoyettacelis_GBIF2465208563_IN36000894_50988.wav</td>\n",
       "      <td>Yoyettacelis_GBIF2465208563_IN36000894_50988</td>\n",
       "      <td>data/train/Yoyettacelis_GBIF2465208563_IN36000...</td>\n",
       "      <td>Yoyettacelis</td>\n",
       "      <td>64</td>\n",
       "      <td>train</td>\n",
       "      <td>44100</td>\n",
       "      <td>220500</td>\n",
       "      <td>5.000000</td>\n",
       "    </tr>\n",
       "    <tr>\n",
       "      <th>3</th>\n",
       "      <td>Gomphocerippusrufus_XC752285-dat001-045.wav</td>\n",
       "      <td>Gomphocerippusrufus_XC752285-dat001-045</td>\n",
       "      <td>data/train/Gomphocerippusrufus_XC752285-dat001...</td>\n",
       "      <td>Gomphocerippusrufus</td>\n",
       "      <td>26</td>\n",
       "      <td>train</td>\n",
       "      <td>44100</td>\n",
       "      <td>693715</td>\n",
       "      <td>15.730499</td>\n",
       "    </tr>\n",
       "    <tr>\n",
       "      <th>4</th>\n",
       "      <td>Atrapsaltacorticina_GBIF2901504947_IN62966536_...</td>\n",
       "      <td>Atrapsaltacorticina_GBIF2901504947_IN62966536_...</td>\n",
       "      <td>data/val/Atrapsaltacorticina_GBIF2901504947_IN...</td>\n",
       "      <td>Atrapsaltacorticina</td>\n",
       "      <td>3</td>\n",
       "      <td>validation</td>\n",
       "      <td>44100</td>\n",
       "      <td>502740</td>\n",
       "      <td>11.400000</td>\n",
       "    </tr>\n",
       "  </tbody>\n",
       "</table>\n",
       "</div>"
      ],
      "text/plain": [
       "                                           file_name   \n",
       "0   Roeselianaroeselii_XC751814-dat028-019_edit1.wav  \\\n",
       "1         Roeselianaroeselii_XC752367-dat006-010.wav   \n",
       "2   Yoyettacelis_GBIF2465208563_IN36000894_50988.wav   \n",
       "3        Gomphocerippusrufus_XC752285-dat001-045.wav   \n",
       "4  Atrapsaltacorticina_GBIF2901504947_IN62966536_...   \n",
       "\n",
       "                                         unique_file   \n",
       "0             Roeselianaroeselii_XC751814-dat028-019  \\\n",
       "1             Roeselianaroeselii_XC752367-dat006-010   \n",
       "2       Yoyettacelis_GBIF2465208563_IN36000894_50988   \n",
       "3            Gomphocerippusrufus_XC752285-dat001-045   \n",
       "4  Atrapsaltacorticina_GBIF2901504947_IN62966536_...   \n",
       "\n",
       "                                                path              species   \n",
       "0  data/train/Roeselianaroeselii_XC751814-dat028-...   Roeselianaroeselii  \\\n",
       "1  data/train/Roeselianaroeselii_XC752367-dat006-...   Roeselianaroeselii   \n",
       "2  data/train/Yoyettacelis_GBIF2465208563_IN36000...         Yoyettacelis   \n",
       "3  data/train/Gomphocerippusrufus_XC752285-dat001...  Gomphocerippusrufus   \n",
       "4  data/val/Atrapsaltacorticina_GBIF2901504947_IN...  Atrapsaltacorticina   \n",
       "\n",
       "   label      subset  sample_rate  num_frames      length  \n",
       "0     56       train        44100     4586400  104.000000  \n",
       "1     56       train        44100      337571    7.654671  \n",
       "2     64       train        44100      220500    5.000000  \n",
       "3     26       train        44100      693715   15.730499  \n",
       "4      3  validation        44100      502740   11.400000  "
      ]
     },
     "execution_count": 8,
     "metadata": {},
     "output_type": "execute_result"
    }
   ],
   "source": [
    "metadata.head()"
   ]
  },
  {
   "cell_type": "code",
   "execution_count": 9,
   "id": "2085b10f-ad65-4491-af66-c340808e7968",
   "metadata": {
    "tags": []
   },
   "outputs": [
    {
     "data": {
      "text/html": [
       "<div>\n",
       "<style scoped>\n",
       "    .dataframe tbody tr th:only-of-type {\n",
       "        vertical-align: middle;\n",
       "    }\n",
       "\n",
       "    .dataframe tbody tr th {\n",
       "        vertical-align: top;\n",
       "    }\n",
       "\n",
       "    .dataframe thead th {\n",
       "        text-align: right;\n",
       "    }\n",
       "</style>\n",
       "<table border=\"1\" class=\"dataframe\">\n",
       "  <thead>\n",
       "    <tr style=\"text-align: right;\">\n",
       "      <th></th>\n",
       "      <th>file_name</th>\n",
       "      <th>label</th>\n",
       "    </tr>\n",
       "  </thead>\n",
       "  <tbody>\n",
       "    <tr>\n",
       "      <th>0</th>\n",
       "      <td>Atrapsaltacorticina_GBIF2901504947_IN62966536_...</td>\n",
       "      <td>3</td>\n",
       "    </tr>\n",
       "    <tr>\n",
       "      <th>1</th>\n",
       "      <td>Chorthippusbrunneus_XC751398-dat022-008_edit5.wav</td>\n",
       "      <td>10</td>\n",
       "    </tr>\n",
       "    <tr>\n",
       "      <th>2</th>\n",
       "      <td>Psaltodaplaga_GBIF3031797565_IN68469430_159997...</td>\n",
       "      <td>53</td>\n",
       "    </tr>\n",
       "    <tr>\n",
       "      <th>3</th>\n",
       "      <td>Omocestusviridulus_XC752267-dat013-003_edit2.wav</td>\n",
       "      <td>39</td>\n",
       "    </tr>\n",
       "    <tr>\n",
       "      <th>4</th>\n",
       "      <td>Omocestusviridulus_XC752263-dat012-007_edit1.wav</td>\n",
       "      <td>39</td>\n",
       "    </tr>\n",
       "  </tbody>\n",
       "</table>\n",
       "</div>"
      ],
      "text/plain": [
       "                                           file_name  label\n",
       "0  Atrapsaltacorticina_GBIF2901504947_IN62966536_...      3\n",
       "1  Chorthippusbrunneus_XC751398-dat022-008_edit5.wav     10\n",
       "2  Psaltodaplaga_GBIF3031797565_IN68469430_159997...     53\n",
       "3   Omocestusviridulus_XC752267-dat013-003_edit2.wav     39\n",
       "4   Omocestusviridulus_XC752263-dat012-007_edit1.wav     39"
      ]
     },
     "execution_count": 9,
     "metadata": {},
     "output_type": "execute_result"
    }
   ],
   "source": [
    "metadata_val.head()"
   ]
  },
  {
   "cell_type": "code",
   "execution_count": 10,
   "id": "3facbdc8-2f6c-42d3-9fbf-da1781695d26",
   "metadata": {
    "tags": []
   },
   "outputs": [],
   "source": [
    "new_metadata = pd.DataFrame(columns=['file_name', 'unique_file', 'path', 'species',\n",
    "                                    'label', 'subset', 'sample_rate', 'num_frames', 'length'])\n",
    "new_metadata_train_chunked = pd.DataFrame(columns=['file_name', 'label'])\n",
    "new_metadata_val_chunked = pd.DataFrame(columns=['file_name', 'label'])\n",
    "new_metadata_test_chunked = pd.DataFrame(columns=['file_name', 'label'])\n",
    "# new_metadata_val = pd.DataFrame(columns=['file_name', 'label'])\n",
    "# new_metadata_test = pd.DataFrame(columns=['file_name', 'label'])"
   ]
  },
  {
   "cell_type": "code",
   "execution_count": 11,
   "id": "49db9e47-7961-4e13-b68c-164f6e3e5742",
   "metadata": {
    "tags": []
   },
   "outputs": [],
   "source": [
    "threshold = 5\n",
    "path_metadata = 'data/data_chunks_5sec/'\n",
    "path_trn_chunked = 'data/data_chunks_5sec/train_chunked/'\n",
    "path_val_chunked = 'data/data_chunks_5sec/val_chunked/'\n",
    "path_tst_chunked = 'data/data_chunks_5sec/test_chunked/'\n",
    "# path_val = 'data/data_chunks_5sec/val/'\n",
    "# path_tst = 'data/data_chunks_5sec/test/'\n"
   ]
  },
  {
   "cell_type": "code",
   "execution_count": 12,
   "id": "94df5dd0-d156-4c5f-ac9c-d87c7ee7d644",
   "metadata": {
    "tags": []
   },
   "outputs": [],
   "source": [
    "# for i in tqdm(range(len(metadata))[:2]):\n",
    "#     file_name = metadata.iloc[[i]]['file_name'].values[0]\n",
    "#     unique_file = metadata.iloc[[i]]['unique_file'].values[0]\n",
    "#     path = metadata.iloc[[i]]['path'].values[0]\n",
    "#     species = metadata.iloc[[i]]['species'].values[0]\n",
    "#     label = metadata.iloc[[i]]['label'].values[0]\n",
    "#     subset = metadata.iloc[[i]]['subset'].values[0]\n",
    "#     sample_rate = metadata.iloc[[i]]['sample_rate'].values[0]\n",
    "#     num_frames = metadata.iloc[[i]]['num_frames'].values[0]\n",
    "#     length = metadata.iloc[[i]]['length'].values[0]\n",
    "#     audio = AudioSegment.from_wav(path)"
   ]
  },
  {
   "cell_type": "code",
   "execution_count": 12,
   "id": "644c43c3-9cdd-4887-a4d1-9f7395ea6aa5",
   "metadata": {
    "tags": []
   },
   "outputs": [
    {
     "data": {
      "text/plain": [
       "subset\n",
       "train         1752\n",
       "validation     579\n",
       "Name: count, dtype: int64"
      ]
     },
     "execution_count": 12,
     "metadata": {},
     "output_type": "execute_result"
    }
   ],
   "source": [
    "metadata.subset.value_counts()"
   ]
  },
  {
   "cell_type": "code",
   "execution_count": 14,
   "id": "859403ca-4750-4cff-bbd1-4ec6258d0d1b",
   "metadata": {
    "tags": []
   },
   "outputs": [],
   "source": [
    "# for i in tqdm(range(len(metadata))):\n",
    "#     file_name = metadata.iloc[[i]]['file_name'].values[0]\n",
    "#     unique_file = metadata.iloc[[i]]['unique_file'].values[0]\n",
    "#     path = metadata.iloc[[i]]['path'].values[0]\n",
    "#     species = metadata.iloc[[i]]['species'].values[0]\n",
    "#     label = metadata.iloc[[i]]['label'].values[0]\n",
    "#     subset = metadata.iloc[[i]]['subset'].values[0]\n",
    "#     sample_rate = metadata.iloc[[i]]['sample_rate'].values[0]\n",
    "#     num_frames = metadata.iloc[[i]]['num_frames'].values[0]\n",
    "#     length = metadata.iloc[[i]]['length'].values[0]\n",
    "#     audio = AudioSegment.from_wav(path)\n",
    "#     sec = threshold * 1000\n",
    "    \n",
    "#     if subset == 'train':\n",
    "#         if length > threshold:\n",
    "#             n = int(length//threshold)\n",
    "#             for i in range(0, n+1):\n",
    "#                 new_audio = audio[sec*i:sec*(i+1)]\n",
    "#                 new_filename = f'{file_name[:-4]}'+'_cut'+str(i)+'.wav'\n",
    "#                 new_path = f'{path_trn_chunked+new_filename}'\n",
    "#                 new_len = len(new_audio) / 1000 \n",
    "#                 new_frames = int(44100 * new_len)\n",
    "#                 if new_len >= 1:\n",
    "#                     new_audio.export(path_trn_chunked+new_filename, format=\"wav\")\n",
    "#                     new_metadata_train_chunked.loc[len(new_metadata_train_chunked)] = [new_filename, label]\n",
    "#                     new_path = f'{path_trn_chunked+new_filename}'\n",
    "#                     new_row = [new_filename, unique_file, new_path, species, label, subset,\n",
    "#                                sample_rate, new_frames, new_len]\n",
    "#                     new_metadata.loc[len(new_metadata)] = new_row\n",
    "#         else:\n",
    "#             audio.export(path_trn_chunked+file_name, format=\"wav\")\n",
    "#             new_metadata_train_chunked.loc[len(new_metadata_train_chunked)] = [file_name, label]\n",
    "#             new_path = f'{path_trn_chunked+file_name}'\n",
    "#             new_row = [file_name, unique_file, new_path, species, label, subset,\n",
    "#                        sample_rate, num_frames, length]\n",
    "#             new_metadata.loc[len(new_metadata)] = new_row\n",
    "    \n",
    "#     else:\n",
    "#         audio.export(path_val+file_name, format=\"wav\")\n",
    "#         new_metadata_val.loc[len(new_metadata_val)] = [file_name, label]\n",
    "#         new_path = f'{path_val+file_name}'\n",
    "#         new_row = [file_name, unique_file, new_path, species, label, subset,\n",
    "#                    sample_rate, num_frames, length]\n",
    "#         new_metadata.loc[len(new_metadata)] = new_row"
   ]
  },
  {
   "cell_type": "code",
   "execution_count": 16,
   "id": "d61b801b-e442-4c03-b6c9-bbd180f98c5c",
   "metadata": {
    "tags": []
   },
   "outputs": [
    {
     "name": "stderr",
     "output_type": "stream",
     "text": [
      "100%|██████████| 2331/2331 [08:49<00:00,  4.40it/s]\n"
     ]
    }
   ],
   "source": [
    "# path_chunked = path_trn_chunked if subset=='train' else (path_val_chunked if subset=='val' else path_tst_chunked)    \n",
    "# #path = path_val if subset=='val' else path_tst\n",
    "# path = path_trn_chunked if subset=='train' else (path_val if subset=='val' else path_tst) \n",
    "\n",
    "\n",
    "for i in tqdm(range(len(metadata))):\n",
    "    file_name = metadata.iloc[[i]]['file_name'].values[0]\n",
    "    unique_file = metadata.iloc[[i]]['unique_file'].values[0]\n",
    "    path = metadata.iloc[[i]]['path'].values[0]\n",
    "    species = metadata.iloc[[i]]['species'].values[0]\n",
    "    label = metadata.iloc[[i]]['label'].values[0]\n",
    "    subset = metadata.iloc[[i]]['subset'].values[0]\n",
    "    sample_rate = metadata.iloc[[i]]['sample_rate'].values[0]\n",
    "    num_frames = metadata.iloc[[i]]['num_frames'].values[0]\n",
    "    length = metadata.iloc[[i]]['length'].values[0]\n",
    "    audio = AudioSegment.from_wav(path)\n",
    "    sec = threshold * 1000\n",
    "    path_chunked = path_trn_chunked if subset=='train' else (path_val_chunked if subset=='validation' else path_tst_chunked) \n",
    "    if length > threshold:\n",
    "        n = int(length//threshold)\n",
    "        # if subset == 'val':\n",
    "        #     new_metadata_val.loc[len(new_metadata_val)] = [filename, label]\n",
    "        #     new_audio.export(path+filename, format=\"wav\")\n",
    "        # elif subset == 'test':\n",
    "        #     new_metadata_test.loc[len(new_metadata_test)] = [filename, label] \n",
    "        #     new_audio.export(path+filename, format=\"wav\")\n",
    "\n",
    "        for j in range(0, n+1):\n",
    "            new_audio = audio[sec*j:sec*(j+1)]\n",
    "            new_filename = f'{file_name[:-4]}'+'_cut'+str(j)+'.wav'\n",
    "            new_path = f'{path_chunked+new_filename}'\n",
    "            new_len = len(new_audio) / 1000 \n",
    "            new_frames = int(44100 * new_len)\n",
    "            if new_len >= 1:\n",
    "                new_audio.export(path_chunked+new_filename, format=\"wav\")\n",
    "                if subset == 'train':\n",
    "                    new_metadata_train_chunked.loc[len(new_metadata_train_chunked)] = [new_filename, label]\n",
    "                elif subset == 'val':\n",
    "                    new_metadata_val_chunked.loc[len(new_metadata_val_chunked)] = [new_filename, label] \n",
    "                else:\n",
    "                    new_metadata_test_chunked.loc[len(new_metadata_test_chunked)] = [new_filename, label]                 \n",
    "                new_path = f'{path_chunked+new_filename}'\n",
    "                new_row = [new_filename, unique_file, new_path, species, label, subset,\n",
    "                           sample_rate, new_frames, new_len]\n",
    "                new_metadata.loc[len(new_metadata)] = new_row\n",
    "    else:\n",
    "        audio.export(path_chunked + file_name, format=\"wav\")\n",
    "        if subset == 'train':\n",
    "            new_metadata_train_chunked.loc[len(new_metadata_train_chunked)] = [file_name, label]\n",
    "        elif subset == 'validation':\n",
    "            new_metadata_val_chunked.loc[len(new_metadata_val_chunked)] = [file_name, label]\n",
    "        else:\n",
    "            new_metadata_test_chunked.loc[len(new_metadata_test_chunked)] = [file_name, label] \n",
    "\n",
    "        new_path = f'{path + file_name}'\n",
    "        new_row = [file_name, unique_file, new_path, species, label, subset,\n",
    "                   sample_rate, num_frames, length]\n",
    "        new_metadata.loc[len(new_metadata)] = new_row\n"
   ]
  },
  {
   "cell_type": "code",
   "execution_count": 43,
   "id": "9d705c27-27f1-42cc-b036-b97275a26455",
   "metadata": {
    "tags": []
   },
   "outputs": [],
   "source": [
    "new_metadata = pd.DataFrame(columns=['file_name', 'unique_file', 'path', 'species',\n",
    "                                    'label', 'subset', 'sample_rate', 'num_frames', 'length'])\n",
    "new_metadata_train_chunked = pd.DataFrame(columns=['file_name', 'label'])\n",
    "new_metadata_val_chunked = pd.DataFrame(columns=['file_name', 'label'])\n",
    "new_metadata_test_chunked = pd.DataFrame(columns=['file_name', 'label'])"
   ]
  },
  {
   "cell_type": "code",
   "execution_count": 44,
   "id": "c928fe1b-ddb8-4ef4-9216-423eb3e39dfd",
   "metadata": {
    "tags": []
   },
   "outputs": [],
   "source": [
    "threshold=10"
   ]
  },
  {
   "cell_type": "code",
   "execution_count": 45,
   "id": "8614cfe0-666f-4b44-9c85-968b5f614fda",
   "metadata": {
    "tags": []
   },
   "outputs": [
    {
     "name": "stderr",
     "output_type": "stream",
     "text": [
      "100%|██████████| 2331/2331 [01:23<00:00, 27.81it/s]\n"
     ]
    }
   ],
   "source": [
    "for i in tqdm(range(len(metadata))):\n",
    "    file_name = metadata.iloc[[i]]['file_name'].values[0]\n",
    "    unique_file = metadata.iloc[[i]]['unique_file'].values[0]\n",
    "    path = metadata.iloc[[i]]['path'].values[0]\n",
    "    species = metadata.iloc[[i]]['species'].values[0]\n",
    "    label = metadata.iloc[[i]]['label'].values[0]\n",
    "    subset = metadata.iloc[[i]]['subset'].values[0]\n",
    "    sample_rate = metadata.iloc[[i]]['sample_rate'].values[0]\n",
    "    num_frames = metadata.iloc[[i]]['num_frames'].values[0]\n",
    "    length = metadata.iloc[[i]]['length'].values[0]\n",
    "    audio = AudioSegment.from_wav(path)\n",
    "    sec = threshold * 1000\n",
    "    path_chunked = path_trn_chunked if subset=='train' else (path_val_chunked if subset=='validation' else path_tst_chunked) \n",
    "    if length > threshold:\n",
    "        n = int(length//threshold)\n",
    "        # if subset == 'val':\n",
    "        #     new_metadata_val.loc[len(new_metadata_val)] = [filename, label]\n",
    "        #     new_audio.export(path+filename, format=\"wav\")\n",
    "        # elif subset == 'test':\n",
    "        #     new_metadata_test.loc[len(new_metadata_test)] = [filename, label] \n",
    "        #     new_audio.export(path+filename, format=\"wav\")\n",
    "\n",
    "        for j in range(0, n+1):\n",
    "            new_audio = audio[sec*j:sec*(j+1)]\n",
    "            new_filename = f'{file_name[:-4]}'+'_cut'+str(j)+'.wav'\n",
    "            new_path = f'{path_chunked+new_filename}'\n",
    "            new_len = len(new_audio) / 1000 \n",
    "            new_frames = int(44100 * new_len)\n",
    "            if new_len >= 1:\n",
    "               # new_audio.export(path_chunked+new_filename, format=\"wav\")\n",
    "                if subset == 'train':\n",
    "                    new_metadata_train_chunked.loc[len(new_metadata_train_chunked)] = [new_filename, label]\n",
    "                elif subset == 'validation':\n",
    "                    new_metadata_val_chunked.loc[len(new_metadata_val_chunked)] = [new_filename, label] \n",
    "                else:\n",
    "                    new_metadata_test_chunked.loc[len(new_metadata_test_chunked)] = [new_filename, label]                 \n",
    "                new_path = f'{path_chunked+new_filename}'\n",
    "                new_row = [new_filename, unique_file, new_path, species, label, subset,\n",
    "                           sample_rate, new_frames, new_len]\n",
    "                new_metadata.loc[len(new_metadata)] = new_row\n",
    "    else:\n",
    "      #  audio.export(path_chunked + file_name, format=\"wav\")\n",
    "        if subset == 'train':\n",
    "            new_metadata_train_chunked.loc[len(new_metadata_train_chunked)] = [file_name, label]\n",
    "        elif subset == 'validation':\n",
    "            new_metadata_val_chunked.loc[len(new_metadata_val_chunked)] = [file_name, label]\n",
    "        else:\n",
    "            new_metadata_test_chunked.loc[len(new_metadata_test_chunked)] = [file_name, label] \n",
    "\n",
    "        new_path = f'{path + file_name}'\n",
    "        new_row = [file_name, unique_file, new_path, species, label, subset,\n",
    "                   sample_rate, num_frames, length]\n",
    "        new_metadata.loc[len(new_metadata)] = new_row"
   ]
  },
  {
   "cell_type": "code",
   "execution_count": 41,
   "id": "709311b3-6540-4c29-b9d4-781bb557eee0",
   "metadata": {
    "tags": []
   },
   "outputs": [
    {
     "data": {
      "text/plain": [
       "((11910, 2), (3650, 2), (15560, 9))"
      ]
     },
     "execution_count": 41,
     "metadata": {},
     "output_type": "execute_result"
    }
   ],
   "source": [
    "new_metadata_train_chunked.shape, new_metadata_val_chunked.shape, new_metadata.shape"
   ]
  },
  {
   "cell_type": "code",
   "execution_count": 69,
   "id": "9f8cfc9d-02c1-4fd5-8a3c-3c5d7ab77ab6",
   "metadata": {
    "tags": []
   },
   "outputs": [
    {
     "data": {
      "text/plain": [
       "15560"
      ]
     },
     "execution_count": 69,
     "metadata": {},
     "output_type": "execute_result"
    }
   ],
   "source": [
    "11910+3650"
   ]
  },
  {
   "cell_type": "code",
   "execution_count": 49,
   "id": "ca75f37e-6684-461a-8492-810cac60eb21",
   "metadata": {
    "tags": []
   },
   "outputs": [],
   "source": [
    "def ile(x, t):\n",
    "  #  t = 10\n",
    "    if x <= t:\n",
    "        s = 1\n",
    "    else:\n",
    "        s = x//t + 1 if x%t >= 1 else 0\n",
    "    return int(s)"
   ]
  },
  {
   "cell_type": "code",
   "execution_count": 50,
   "id": "b39071b0-0860-4861-8e0a-3ac3919bb655",
   "metadata": {
    "tags": []
   },
   "outputs": [
    {
     "data": {
      "text/plain": [
       "(5580, 1744)"
      ]
     },
     "execution_count": 50,
     "metadata": {},
     "output_type": "execute_result"
    }
   ],
   "source": [
    "metadata[metadata.subset=='train'].length.apply(lambda x: ile(x, 10)).sum(), metadata[metadata.subset=='validation'].length.apply(lambda x: ile(x, 10)).sum()"
   ]
  },
  {
   "cell_type": "code",
   "execution_count": 51,
   "id": "001ae1e2-54fd-49f6-b8cf-18fabfb2a404",
   "metadata": {
    "tags": []
   },
   "outputs": [],
   "source": [
    "mtd_t = pd.read_csv('data/data_chunks2/train/metadata.csv')\n",
    "mtd_v = pd.read_csv('data/data_chunks2/val/metadata.csv')"
   ]
  },
  {
   "cell_type": "code",
   "execution_count": 52,
   "id": "220c03a2-9f8a-4cde-a043-ba16974a5d0b",
   "metadata": {
    "tags": []
   },
   "outputs": [
    {
     "data": {
      "text/plain": [
       "((6442, 2), (579, 2))"
      ]
     },
     "execution_count": 52,
     "metadata": {},
     "output_type": "execute_result"
    }
   ],
   "source": [
    "mtd_t.shape, mtd_v.shape"
   ]
  },
  {
   "cell_type": "code",
   "execution_count": 54,
   "id": "f189aede-056d-453d-81ac-7bb19299d49a",
   "metadata": {
    "tags": []
   },
   "outputs": [
    {
     "data": {
      "text/plain": [
       "(2, 11.0)"
      ]
     },
     "execution_count": 54,
     "metadata": {},
     "output_type": "execute_result"
    }
   ],
   "source": [
    "i = 68\n",
    "x=metadata[metadata.subset=='train'].length.apply(lambda x: ile(x, 10))\n",
    "x.iloc[i], metadata[metadata.subset=='train'].length.iloc[i]"
   ]
  },
  {
   "cell_type": "code",
   "execution_count": 56,
   "id": "5cb71974-4734-4602-83f2-2c605b50e72a",
   "metadata": {
    "tags": []
   },
   "outputs": [
    {
     "data": {
      "text/plain": [
       "0.9000000000000004"
      ]
     },
     "execution_count": 56,
     "metadata": {},
     "output_type": "execute_result"
    }
   ],
   "source": [
    "10.9%10"
   ]
  },
  {
   "cell_type": "code",
   "execution_count": 62,
   "id": "ab0ceca0-45bd-4a0e-9b35-eda81eb21c69",
   "metadata": {
    "tags": []
   },
   "outputs": [
    {
     "data": {
      "text/plain": [
       "(0     104.000000\n",
       " 1       7.654671\n",
       " 2       5.000000\n",
       " 3      15.730499\n",
       " 5       2.000000\n",
       " 6      16.000000\n",
       " 7      13.000000\n",
       " 8       5.000000\n",
       " 12      5.000000\n",
       " 13      6.022494\n",
       " Name: length, dtype: float64,\n",
       " 0     11\n",
       " 1      1\n",
       " 2      1\n",
       " 3      2\n",
       " 5      1\n",
       " 6      2\n",
       " 7      2\n",
       " 8      1\n",
       " 12     1\n",
       " 13     1\n",
       " Name: length, dtype: int64)"
      ]
     },
     "execution_count": 62,
     "metadata": {},
     "output_type": "execute_result"
    }
   ],
   "source": [
    "metadata[metadata.subset=='train'].length.head(10), metadata[metadata.subset=='train'].length.apply(lambda x: ile(x, 10)).head(10)"
   ]
  },
  {
   "cell_type": "code",
   "execution_count": 61,
   "id": "af940f1a-b192-42e6-bcad-8ab724e2af5b",
   "metadata": {
    "tags": []
   },
   "outputs": [
    {
     "data": {
      "text/plain": [
       "2.0"
      ]
     },
     "execution_count": 61,
     "metadata": {},
     "output_type": "execute_result"
    }
   ],
   "source": [
    "x=11.4\n",
    "t=10\n",
    "\n",
    "x//t + 1 if x%t >= 1 else 0"
   ]
  },
  {
   "cell_type": "code",
   "execution_count": 19,
   "id": "1d616f15-0888-4145-b202-e9407ceeeb5d",
   "metadata": {
    "tags": []
   },
   "outputs": [],
   "source": [
    "new_metadata.to_csv(path_metadata+'metadata.csv', index=False)\n",
    "new_metadata_val_chunked.to_csv(path_val_chunked+'metadata.csv', index=False)\n",
    "new_metadata_train_chunked.to_csv(path_trn_chunked+'metadatan.csv', index=False)"
   ]
  },
  {
   "cell_type": "code",
   "execution_count": 20,
   "id": "6bd47b3b-17ed-4ba4-a9d0-0b0475fba641",
   "metadata": {
    "tags": []
   },
   "outputs": [
    {
     "data": {
      "text/plain": [
       "((173, 2), (11946, 2))"
      ]
     },
     "execution_count": 20,
     "metadata": {},
     "output_type": "execute_result"
    }
   ],
   "source": [
    "new_metadata_val_chunked.shape, new_metadata_train_chunked.shape"
   ]
  },
  {
   "cell_type": "code",
   "execution_count": 24,
   "id": "1c84bd7d-123b-4cd1-8a24-ad1d6a0c527b",
   "metadata": {
    "tags": []
   },
   "outputs": [
    {
     "data": {
      "text/plain": [
       "label\n",
       "29    755\n",
       "19    546\n",
       "33    480\n",
       "61    451\n",
       "0     439\n",
       "     ... \n",
       "52     24\n",
       "3      19\n",
       "18     17\n",
       "51     14\n",
       "2      12\n",
       "Name: count, Length: 66, dtype: int64"
      ]
     },
     "execution_count": 24,
     "metadata": {},
     "output_type": "execute_result"
    }
   ],
   "source": [
    "new_metadata_train_chunked.label.value_counts()"
   ]
  },
  {
   "cell_type": "code",
   "execution_count": 26,
   "id": "ea4932c2-e475-4387-bf22-22525dcda7c1",
   "metadata": {
    "tags": []
   },
   "outputs": [
    {
     "data": {
      "text/plain": [
       "(579, 2)"
      ]
     },
     "execution_count": 26,
     "metadata": {},
     "output_type": "execute_result"
    }
   ],
   "source": [
    "metadata_val.shape"
   ]
  },
  {
   "cell_type": "code",
   "execution_count": 28,
   "id": "276e97c5-8294-4d20-ac6e-a9e5cb3efa99",
   "metadata": {
    "tags": []
   },
   "outputs": [
    {
     "data": {
      "text/html": [
       "<div>\n",
       "<style scoped>\n",
       "    .dataframe tbody tr th:only-of-type {\n",
       "        vertical-align: middle;\n",
       "    }\n",
       "\n",
       "    .dataframe tbody tr th {\n",
       "        vertical-align: top;\n",
       "    }\n",
       "\n",
       "    .dataframe thead th {\n",
       "        text-align: right;\n",
       "    }\n",
       "</style>\n",
       "<table border=\"1\" class=\"dataframe\">\n",
       "  <thead>\n",
       "    <tr style=\"text-align: right;\">\n",
       "      <th></th>\n",
       "      <th>file_name</th>\n",
       "      <th>label</th>\n",
       "    </tr>\n",
       "  </thead>\n",
       "  <tbody>\n",
       "    <tr>\n",
       "      <th>0</th>\n",
       "      <td>Roeselianaroeselii_XC751814-dat028-019_edit1.wav</td>\n",
       "      <td>56</td>\n",
       "    </tr>\n",
       "    <tr>\n",
       "      <th>1</th>\n",
       "      <td>Roeselianaroeselii_XC752367-dat006-010.wav</td>\n",
       "      <td>56</td>\n",
       "    </tr>\n",
       "    <tr>\n",
       "      <th>2</th>\n",
       "      <td>Yoyettacelis_GBIF2465208563_IN36000894_50988.wav</td>\n",
       "      <td>64</td>\n",
       "    </tr>\n",
       "    <tr>\n",
       "      <th>3</th>\n",
       "      <td>Gomphocerippusrufus_XC752285-dat001-045.wav</td>\n",
       "      <td>26</td>\n",
       "    </tr>\n",
       "    <tr>\n",
       "      <th>4</th>\n",
       "      <td>Phaneropteranana_XC755717-221013-Phaneroptera-...</td>\n",
       "      <td>41</td>\n",
       "    </tr>\n",
       "    <tr>\n",
       "      <th>...</th>\n",
       "      <td>...</td>\n",
       "      <td>...</td>\n",
       "    </tr>\n",
       "    <tr>\n",
       "      <th>1747</th>\n",
       "      <td>Conocephalusdorsalis_XC752036-dat004-002.wav</td>\n",
       "      <td>16</td>\n",
       "    </tr>\n",
       "    <tr>\n",
       "      <th>1748</th>\n",
       "      <td>Pseudochorthippusmontanus_XC752605-dat012-003_...</td>\n",
       "      <td>54</td>\n",
       "    </tr>\n",
       "    <tr>\n",
       "      <th>1749</th>\n",
       "      <td>Pholidopteralittoralis_XC752439-dat049-001_edi...</td>\n",
       "      <td>44</td>\n",
       "    </tr>\n",
       "    <tr>\n",
       "      <th>1750</th>\n",
       "      <td>Gomphocerussibiricus_XC751796-dat187-005_edit2...</td>\n",
       "      <td>27</td>\n",
       "    </tr>\n",
       "    <tr>\n",
       "      <th>1751</th>\n",
       "      <td>Galangalabeculata_GBIF1978446126_IN19060805_28...</td>\n",
       "      <td>24</td>\n",
       "    </tr>\n",
       "  </tbody>\n",
       "</table>\n",
       "<p>1752 rows × 2 columns</p>\n",
       "</div>"
      ],
      "text/plain": [
       "                                              file_name  label\n",
       "0      Roeselianaroeselii_XC751814-dat028-019_edit1.wav     56\n",
       "1            Roeselianaroeselii_XC752367-dat006-010.wav     56\n",
       "2      Yoyettacelis_GBIF2465208563_IN36000894_50988.wav     64\n",
       "3           Gomphocerippusrufus_XC752285-dat001-045.wav     26\n",
       "4     Phaneropteranana_XC755717-221013-Phaneroptera-...     41\n",
       "...                                                 ...    ...\n",
       "1747       Conocephalusdorsalis_XC752036-dat004-002.wav     16\n",
       "1748  Pseudochorthippusmontanus_XC752605-dat012-003_...     54\n",
       "1749  Pholidopteralittoralis_XC752439-dat049-001_edi...     44\n",
       "1750  Gomphocerussibiricus_XC751796-dat187-005_edit2...     27\n",
       "1751  Galangalabeculata_GBIF1978446126_IN19060805_28...     24\n",
       "\n",
       "[1752 rows x 2 columns]"
      ]
     },
     "execution_count": 28,
     "metadata": {},
     "output_type": "execute_result"
    }
   ],
   "source": [
    "metadata_train#.shape"
   ]
  },
  {
   "cell_type": "code",
   "execution_count": 67,
   "id": "bdbbd0d8-b592-4086-bff6-a09d8ed47b93",
   "metadata": {
    "tags": []
   },
   "outputs": [],
   "source": [
    "threshold=5\n",
    "new_metadata = pd.DataFrame(columns=['file_name', 'unique_file', 'path', 'species',\n",
    "                                    'label', 'subset', 'sample_rate', 'num_frames', 'length'])\n",
    "new_metadata_train = pd.DataFrame(columns=['file_name', 'label'])\n",
    "new_metadata_val = pd.DataFrame(columns=['file_name', 'label'])"
   ]
  },
  {
   "cell_type": "code",
   "execution_count": 68,
   "id": "a54c9076-f2f4-485c-8070-632778ad480b",
   "metadata": {
    "tags": []
   },
   "outputs": [
    {
     "name": "stderr",
     "output_type": "stream",
     "text": [
      "100%|██████████| 2331/2331 [01:36<00:00, 24.20it/s]\n"
     ]
    }
   ],
   "source": [
    "for i in tqdm(range(len(metadata))):\n",
    "    file_name = metadata.iloc[[i]]['file_name'].values[0]\n",
    "    unique_file = metadata.iloc[[i]]['unique_file'].values[0]\n",
    "    path = metadata.iloc[[i]]['path'].values[0]\n",
    "    species = metadata.iloc[[i]]['species'].values[0]\n",
    "    label = metadata.iloc[[i]]['label'].values[0]\n",
    "    subset = metadata.iloc[[i]]['subset'].values[0]\n",
    "    sample_rate = metadata.iloc[[i]]['sample_rate'].values[0]\n",
    "    num_frames = metadata.iloc[[i]]['num_frames'].values[0]\n",
    "    length = metadata.iloc[[i]]['length'].values[0]\n",
    "    audio = AudioSegment.from_wav(path)\n",
    "    sec = threshold*1000\n",
    "    \n",
    "    if subset == 'train':\n",
    "        if length > threshold:\n",
    "            n = int(length//threshold)\n",
    "            for i in range(0, n+1):\n",
    "                new_audio = audio[sec*i:sec*(i+1)]\n",
    "                new_filename = f'{file_name[:-4]}'+'_cut'+str(i)+'.wav'\n",
    "                new_path = f'data/data_chunks2/train/{new_filename}'\n",
    "                new_len = len(new_audio) / 1000 \n",
    "                new_frames = int(44100 * new_len)\n",
    "                if new_len >= 1:\n",
    "                  #  new_audio.export('data/data_chunks2/train/'+new_filename, format=\"wav\")\n",
    "                    new_metadata_train.loc[len(new_metadata_train)] = [new_filename, label]\n",
    "                    new_path = f'data/data_chunks2/train/{new_filename}'\n",
    "                    new_row = [new_filename, unique_file, new_path, species, label, subset,\n",
    "                               sample_rate, new_frames, new_len]\n",
    "                    new_metadata.loc[len(new_metadata)] = new_row\n",
    "        else:\n",
    "           # audio.export('data/data_chunks2/train/'+file_name, format=\"wav\")\n",
    "            new_metadata_train.loc[len(new_metadata_train)] = [file_name, label]\n",
    "            new_path = f'data/data_chunks2/train/{file_name}'\n",
    "            new_row = [file_name, unique_file, new_path, species, label, subset,\n",
    "                       sample_rate, num_frames, length]\n",
    "            new_metadata.loc[len(new_metadata)] = new_row\n",
    "    \n",
    "    else:\n",
    "       # audio.export('data/data_chunks2/val/'+file_name, format=\"wav\")\n",
    "        new_metadata_val.loc[len(new_metadata_val)] = [file_name, label]\n",
    "        new_path = f'data/data_chunks2/val/{file_name}'\n",
    "        new_row = [file_name, unique_file, new_path, species, label, subset,\n",
    "                   sample_rate, num_frames, length]\n",
    "        new_metadata.loc[len(new_metadata)] = new_row"
   ]
  },
  {
   "cell_type": "code",
   "execution_count": 70,
   "id": "20cd4d77-efe5-4053-b86f-c0196a67f539",
   "metadata": {
    "tags": []
   },
   "outputs": [
    {
     "data": {
      "text/plain": [
       "((579, 2), (11910, 2), (12489, 9))"
      ]
     },
     "execution_count": 70,
     "metadata": {},
     "output_type": "execute_result"
    }
   ],
   "source": [
    "new_metadata_val.shape, new_metadata_train.shape, new_metadata.shape"
   ]
  },
  {
   "cell_type": "code",
   "execution_count": 73,
   "id": "6e5c1a77-04d3-48be-a741-fa401eec7f68",
   "metadata": {
    "tags": []
   },
   "outputs": [
    {
     "data": {
      "text/plain": [
       "'Roeselianaroeselii_XC751814-dat028-019_edit1_cut0.wav'"
      ]
     },
     "execution_count": 73,
     "metadata": {},
     "output_type": "execute_result"
    }
   ],
   "source": [
    "new_metadata.file_name[0]\n",
    "new_metadata['file_name2'] = "
   ]
  },
  {
   "cell_type": "code",
   "execution_count": 74,
   "id": "fe001677-2d02-45d0-85f6-f9b7dd17ceab",
   "metadata": {
    "tags": []
   },
   "outputs": [
    {
     "data": {
      "text/plain": [
       "44"
      ]
     },
     "execution_count": 74,
     "metadata": {},
     "output_type": "execute_result"
    }
   ],
   "source": [
    "'Roeselianaroeselii_XC751814-dat028-019_edit1_cut0.wav'.find('_cut')"
   ]
  },
  {
   "cell_type": "code",
   "execution_count": 76,
   "id": "b4261aa2-3eaf-49bb-a034-dc7795af10d1",
   "metadata": {
    "tags": []
   },
   "outputs": [
    {
     "data": {
      "text/plain": [
       "'Roeselianaroeselii_XC751814-dat028-019_edit1'"
      ]
     },
     "execution_count": 76,
     "metadata": {},
     "output_type": "execute_result"
    }
   ],
   "source": [
    "'Roeselianaroeselii_XC751814-dat028-019_edit1_cut0.wav'[:44]"
   ]
  },
  {
   "cell_type": "code",
   "execution_count": 96,
   "id": "0e94bf9e-158c-4436-ba37-858e7cca6fbf",
   "metadata": {
    "tags": []
   },
   "outputs": [],
   "source": [
    "def fun(x):\n",
    "    i = x.find('_cut')\n",
    "    if i == -1:\n",
    "        out = x\n",
    "    else:\n",
    "        out = x[:i]+'.wav'\n",
    "    return out    "
   ]
  },
  {
   "cell_type": "code",
   "execution_count": 97,
   "id": "20b2c8bb-cb22-4964-9f34-0c7c8063c581",
   "metadata": {
    "tags": []
   },
   "outputs": [],
   "source": [
    "new_metadata['file_name2'] = new_metadata.file_name.apply(fun)"
   ]
  },
  {
   "cell_type": "code",
   "execution_count": 98,
   "id": "bff1a40e-724a-4095-a22e-725ca3f742b0",
   "metadata": {
    "tags": []
   },
   "outputs": [
    {
     "data": {
      "text/html": [
       "<div>\n",
       "<style scoped>\n",
       "    .dataframe tbody tr th:only-of-type {\n",
       "        vertical-align: middle;\n",
       "    }\n",
       "\n",
       "    .dataframe tbody tr th {\n",
       "        vertical-align: top;\n",
       "    }\n",
       "\n",
       "    .dataframe thead th {\n",
       "        text-align: right;\n",
       "    }\n",
       "</style>\n",
       "<table border=\"1\" class=\"dataframe\">\n",
       "  <thead>\n",
       "    <tr style=\"text-align: right;\">\n",
       "      <th></th>\n",
       "      <th>file_name2</th>\n",
       "      <th>count</th>\n",
       "    </tr>\n",
       "  </thead>\n",
       "  <tbody>\n",
       "    <tr>\n",
       "      <th>0</th>\n",
       "      <td>Chorthippusalbomarginatus_XC751405-dat024-001.wav</td>\n",
       "      <td>142</td>\n",
       "    </tr>\n",
       "    <tr>\n",
       "      <th>1</th>\n",
       "      <td>Chorthippusalbomarginatus_XC751400-dat023-001.wav</td>\n",
       "      <td>136</td>\n",
       "    </tr>\n",
       "    <tr>\n",
       "      <th>2</th>\n",
       "      <td>Myrmeleotettixmaculatus_XC751995-dat021-001 18...</td>\n",
       "      <td>126</td>\n",
       "    </tr>\n",
       "    <tr>\n",
       "      <th>3</th>\n",
       "      <td>Melanogryllusdesertus_XC752513-dat047-004.wav</td>\n",
       "      <td>114</td>\n",
       "    </tr>\n",
       "    <tr>\n",
       "      <th>4</th>\n",
       "      <td>Gampsocleisglabra_XC751681-dat008-026.wav</td>\n",
       "      <td>111</td>\n",
       "    </tr>\n",
       "    <tr>\n",
       "      <th>...</th>\n",
       "      <td>...</td>\n",
       "      <td>...</td>\n",
       "    </tr>\n",
       "    <tr>\n",
       "      <th>2326</th>\n",
       "      <td>Yoyettacelis_GBIF2456564212_IN35594673_50236.wav</td>\n",
       "      <td>1</td>\n",
       "    </tr>\n",
       "    <tr>\n",
       "      <th>2327</th>\n",
       "      <td>Platypleuracfcatenata_MHV%20608%20P.catenata%2...</td>\n",
       "      <td>1</td>\n",
       "    </tr>\n",
       "    <tr>\n",
       "      <th>2328</th>\n",
       "      <td>Pholidopteralittoralis_XC752438-dat048-002_edi...</td>\n",
       "      <td>1</td>\n",
       "    </tr>\n",
       "    <tr>\n",
       "      <th>2329</th>\n",
       "      <td>Yoyettacelis_GBIF1806359351_IN9614342_17380.wav</td>\n",
       "      <td>1</td>\n",
       "    </tr>\n",
       "    <tr>\n",
       "      <th>2330</th>\n",
       "      <td>Pseudochorthippusmontanus_XC752605-dat012-003_...</td>\n",
       "      <td>1</td>\n",
       "    </tr>\n",
       "  </tbody>\n",
       "</table>\n",
       "<p>2331 rows × 2 columns</p>\n",
       "</div>"
      ],
      "text/plain": [
       "                                             file_name2  count\n",
       "0     Chorthippusalbomarginatus_XC751405-dat024-001.wav    142\n",
       "1     Chorthippusalbomarginatus_XC751400-dat023-001.wav    136\n",
       "2     Myrmeleotettixmaculatus_XC751995-dat021-001 18...    126\n",
       "3         Melanogryllusdesertus_XC752513-dat047-004.wav    114\n",
       "4             Gampsocleisglabra_XC751681-dat008-026.wav    111\n",
       "...                                                 ...    ...\n",
       "2326   Yoyettacelis_GBIF2456564212_IN35594673_50236.wav      1\n",
       "2327  Platypleuracfcatenata_MHV%20608%20P.catenata%2...      1\n",
       "2328  Pholidopteralittoralis_XC752438-dat048-002_edi...      1\n",
       "2329    Yoyettacelis_GBIF1806359351_IN9614342_17380.wav      1\n",
       "2330  Pseudochorthippusmontanus_XC752605-dat012-003_...      1\n",
       "\n",
       "[2331 rows x 2 columns]"
      ]
     },
     "execution_count": 98,
     "metadata": {},
     "output_type": "execute_result"
    }
   ],
   "source": [
    "new_metadata.file_name2.value_counts().reset_index()"
   ]
  },
  {
   "cell_type": "code",
   "execution_count": 99,
   "id": "10f79603-db8d-484c-bab7-8451a70de6a5",
   "metadata": {
    "tags": []
   },
   "outputs": [],
   "source": [
    "metadata['multi'] = metadata.length.apply(lambda x: ile(x, 5))"
   ]
  },
  {
   "cell_type": "code",
   "execution_count": 100,
   "id": "b04dff69-27c6-4552-9a54-e7ea3c36208a",
   "metadata": {
    "tags": []
   },
   "outputs": [],
   "source": [
    "xx = pd.merge(metadata[['file_name', 'length', 'multi']], new_metadata.file_name2.value_counts().reset_index(), left_on='file_name', right_on='file_name2')"
   ]
  },
  {
   "cell_type": "code",
   "execution_count": 105,
   "id": "d899dcd0-e2c7-4c26-90c4-c34410ad4cb5",
   "metadata": {
    "tags": []
   },
   "outputs": [
    {
     "data": {
      "text/html": [
       "<div>\n",
       "<style scoped>\n",
       "    .dataframe tbody tr th:only-of-type {\n",
       "        vertical-align: middle;\n",
       "    }\n",
       "\n",
       "    .dataframe tbody tr th {\n",
       "        vertical-align: top;\n",
       "    }\n",
       "\n",
       "    .dataframe thead th {\n",
       "        text-align: right;\n",
       "    }\n",
       "</style>\n",
       "<table border=\"1\" class=\"dataframe\">\n",
       "  <thead>\n",
       "    <tr style=\"text-align: right;\">\n",
       "      <th></th>\n",
       "      <th>file_name</th>\n",
       "      <th>length</th>\n",
       "      <th>multi</th>\n",
       "      <th>file_name2</th>\n",
       "      <th>count</th>\n",
       "    </tr>\n",
       "  </thead>\n",
       "  <tbody>\n",
       "    <tr>\n",
       "      <th>3</th>\n",
       "      <td>Gomphocerippusrufus_XC752285-dat001-045.wav</td>\n",
       "      <td>15.730499</td>\n",
       "      <td>0</td>\n",
       "      <td>Gomphocerippusrufus_XC752285-dat001-045.wav</td>\n",
       "      <td>3</td>\n",
       "    </tr>\n",
       "    <tr>\n",
       "      <th>4</th>\n",
       "      <td>Atrapsaltacorticina_GBIF2901504947_IN62966536_...</td>\n",
       "      <td>11.400000</td>\n",
       "      <td>3</td>\n",
       "      <td>Atrapsaltacorticina_GBIF2901504947_IN62966536_...</td>\n",
       "      <td>1</td>\n",
       "    </tr>\n",
       "    <tr>\n",
       "      <th>10</th>\n",
       "      <td>Psaltodaplaga_GBIF3031797565_IN68469430_159997...</td>\n",
       "      <td>5.400000</td>\n",
       "      <td>0</td>\n",
       "      <td>Psaltodaplaga_GBIF3031797565_IN68469430_159997...</td>\n",
       "      <td>1</td>\n",
       "    </tr>\n",
       "    <tr>\n",
       "      <th>11</th>\n",
       "      <td>Omocestusviridulus_XC752267-dat013-003_edit2.wav</td>\n",
       "      <td>31.189048</td>\n",
       "      <td>7</td>\n",
       "      <td>Omocestusviridulus_XC752267-dat013-003_edit2.wav</td>\n",
       "      <td>1</td>\n",
       "    </tr>\n",
       "    <tr>\n",
       "      <th>15</th>\n",
       "      <td>Omocestusviridulus_XC752263-dat012-007_edit1.wav</td>\n",
       "      <td>22.000000</td>\n",
       "      <td>5</td>\n",
       "      <td>Omocestusviridulus_XC752263-dat012-007_edit1.wav</td>\n",
       "      <td>1</td>\n",
       "    </tr>\n",
       "    <tr>\n",
       "      <th>...</th>\n",
       "      <td>...</td>\n",
       "      <td>...</td>\n",
       "      <td>...</td>\n",
       "      <td>...</td>\n",
       "      <td>...</td>\n",
       "    </tr>\n",
       "    <tr>\n",
       "      <th>2303</th>\n",
       "      <td>Yoyettarepetens_GBIF2445036234_IN34812353_4912...</td>\n",
       "      <td>18.000000</td>\n",
       "      <td>4</td>\n",
       "      <td>Yoyettarepetens_GBIF2445036234_IN34812353_4912...</td>\n",
       "      <td>1</td>\n",
       "    </tr>\n",
       "    <tr>\n",
       "      <th>2306</th>\n",
       "      <td>Omocestusviridulus_XC752264-dat012-008_edit8.wav</td>\n",
       "      <td>20.000000</td>\n",
       "      <td>0</td>\n",
       "      <td>Omocestusviridulus_XC752264-dat012-008_edit8.wav</td>\n",
       "      <td>4</td>\n",
       "    </tr>\n",
       "    <tr>\n",
       "      <th>2309</th>\n",
       "      <td>Chorthippusbrunneus_XC751387-dat005-058_edit4.wav</td>\n",
       "      <td>20.000000</td>\n",
       "      <td>0</td>\n",
       "      <td>Chorthippusbrunneus_XC751387-dat005-058_edit4.wav</td>\n",
       "      <td>4</td>\n",
       "    </tr>\n",
       "    <tr>\n",
       "      <th>2315</th>\n",
       "      <td>Platycleisalbopunctata_XC751607-dat028-009.wav</td>\n",
       "      <td>67.312925</td>\n",
       "      <td>14</td>\n",
       "      <td>Platycleisalbopunctata_XC751607-dat028-009.wav</td>\n",
       "      <td>1</td>\n",
       "    </tr>\n",
       "    <tr>\n",
       "      <th>2316</th>\n",
       "      <td>Conocephalusfuscus_XC752066-dat037-014_edit2.wav</td>\n",
       "      <td>115.000000</td>\n",
       "      <td>0</td>\n",
       "      <td>Conocephalusfuscus_XC752066-dat037-014_edit2.wav</td>\n",
       "      <td>23</td>\n",
       "    </tr>\n",
       "  </tbody>\n",
       "</table>\n",
       "<p>702 rows × 5 columns</p>\n",
       "</div>"
      ],
      "text/plain": [
       "                                              file_name      length  multi   \n",
       "3           Gomphocerippusrufus_XC752285-dat001-045.wav   15.730499      0  \\\n",
       "4     Atrapsaltacorticina_GBIF2901504947_IN62966536_...   11.400000      3   \n",
       "10    Psaltodaplaga_GBIF3031797565_IN68469430_159997...    5.400000      0   \n",
       "11     Omocestusviridulus_XC752267-dat013-003_edit2.wav   31.189048      7   \n",
       "15     Omocestusviridulus_XC752263-dat012-007_edit1.wav   22.000000      5   \n",
       "...                                                 ...         ...    ...   \n",
       "2303  Yoyettarepetens_GBIF2445036234_IN34812353_4912...   18.000000      4   \n",
       "2306   Omocestusviridulus_XC752264-dat012-008_edit8.wav   20.000000      0   \n",
       "2309  Chorthippusbrunneus_XC751387-dat005-058_edit4.wav   20.000000      0   \n",
       "2315     Platycleisalbopunctata_XC751607-dat028-009.wav   67.312925     14   \n",
       "2316   Conocephalusfuscus_XC752066-dat037-014_edit2.wav  115.000000      0   \n",
       "\n",
       "                                             file_name2  count  \n",
       "3           Gomphocerippusrufus_XC752285-dat001-045.wav      3  \n",
       "4     Atrapsaltacorticina_GBIF2901504947_IN62966536_...      1  \n",
       "10    Psaltodaplaga_GBIF3031797565_IN68469430_159997...      1  \n",
       "11     Omocestusviridulus_XC752267-dat013-003_edit2.wav      1  \n",
       "15     Omocestusviridulus_XC752263-dat012-007_edit1.wav      1  \n",
       "...                                                 ...    ...  \n",
       "2303  Yoyettarepetens_GBIF2445036234_IN34812353_4912...      1  \n",
       "2306   Omocestusviridulus_XC752264-dat012-008_edit8.wav      4  \n",
       "2309  Chorthippusbrunneus_XC751387-dat005-058_edit4.wav      4  \n",
       "2315     Platycleisalbopunctata_XC751607-dat028-009.wav      1  \n",
       "2316   Conocephalusfuscus_XC752066-dat037-014_edit2.wav     23  \n",
       "\n",
       "[702 rows x 5 columns]"
      ]
     },
     "execution_count": 105,
     "metadata": {},
     "output_type": "execute_result"
    }
   ],
   "source": [
    "xx[xx.multi!=xx['count']]"
   ]
  },
  {
   "cell_type": "code",
   "execution_count": 103,
   "id": "79da3491-ea78-4070-89a1-5ab7aa0d2976",
   "metadata": {
    "tags": []
   },
   "outputs": [
    {
     "data": {
      "text/html": [
       "<div>\n",
       "<style scoped>\n",
       "    .dataframe tbody tr th:only-of-type {\n",
       "        vertical-align: middle;\n",
       "    }\n",
       "\n",
       "    .dataframe tbody tr th {\n",
       "        vertical-align: top;\n",
       "    }\n",
       "\n",
       "    .dataframe thead th {\n",
       "        text-align: right;\n",
       "    }\n",
       "</style>\n",
       "<table border=\"1\" class=\"dataframe\">\n",
       "  <thead>\n",
       "    <tr style=\"text-align: right;\">\n",
       "      <th></th>\n",
       "      <th>file_name</th>\n",
       "      <th>unique_file</th>\n",
       "      <th>path</th>\n",
       "      <th>species</th>\n",
       "      <th>label</th>\n",
       "      <th>subset</th>\n",
       "      <th>sample_rate</th>\n",
       "      <th>num_frames</th>\n",
       "      <th>length</th>\n",
       "      <th>multi</th>\n",
       "    </tr>\n",
       "  </thead>\n",
       "  <tbody>\n",
       "    <tr>\n",
       "      <th>4</th>\n",
       "      <td>Atrapsaltacorticina_GBIF2901504947_IN62966536_...</td>\n",
       "      <td>Atrapsaltacorticina_GBIF2901504947_IN62966536_...</td>\n",
       "      <td>data/val/Atrapsaltacorticina_GBIF2901504947_IN...</td>\n",
       "      <td>Atrapsaltacorticina</td>\n",
       "      <td>3</td>\n",
       "      <td>validation</td>\n",
       "      <td>44100</td>\n",
       "      <td>502740</td>\n",
       "      <td>11.4</td>\n",
       "      <td>3</td>\n",
       "    </tr>\n",
       "  </tbody>\n",
       "</table>\n",
       "</div>"
      ],
      "text/plain": [
       "                                           file_name   \n",
       "4  Atrapsaltacorticina_GBIF2901504947_IN62966536_...  \\\n",
       "\n",
       "                                         unique_file   \n",
       "4  Atrapsaltacorticina_GBIF2901504947_IN62966536_...  \\\n",
       "\n",
       "                                                path              species   \n",
       "4  data/val/Atrapsaltacorticina_GBIF2901504947_IN...  Atrapsaltacorticina  \\\n",
       "\n",
       "   label      subset  sample_rate  num_frames  length  multi  \n",
       "4      3  validation        44100      502740    11.4      3  "
      ]
     },
     "execution_count": 103,
     "metadata": {},
     "output_type": "execute_result"
    }
   ],
   "source": [
    "metadata[metadata.file_name=='Atrapsaltacorticina_GBIF2901504947_IN62966536_143690.wav']"
   ]
  },
  {
   "cell_type": "code",
   "execution_count": 110,
   "id": "b49aa91a-5a66-4e97-9474-2f68cd49f25c",
   "metadata": {
    "tags": []
   },
   "outputs": [
    {
     "data": {
      "text/plain": [
       "0"
      ]
     },
     "execution_count": 110,
     "metadata": {},
     "output_type": "execute_result"
    }
   ],
   "source": [
    "ile(15.730499, 5)"
   ]
  },
  {
   "cell_type": "code",
   "execution_count": 107,
   "id": "3b91d38e-07d6-4dfe-908b-92c9eda04c4e",
   "metadata": {
    "tags": []
   },
   "outputs": [],
   "source": [
    "x==15.730499\n",
    "t=5"
   ]
  },
  {
   "cell_type": "code",
   "execution_count": 109,
   "id": "4cc1a6f1-0ac4-439e-94a9-5f0dd28c1983",
   "metadata": {
    "tags": []
   },
   "outputs": [
    {
     "data": {
      "text/plain": [
       "3"
      ]
     },
     "execution_count": 109,
     "metadata": {},
     "output_type": "execute_result"
    }
   ],
   "source": [
    "int(x//t + 1 if x%t >= 1 else 0)"
   ]
  },
  {
   "cell_type": "code",
   "execution_count": null,
   "id": "c0dee5e5-97e8-4861-9356-b0fc5740cc5f",
   "metadata": {},
   "outputs": [],
   "source": [
    "def ile(x, t):\n",
    "  #  t = 10\n",
    "    if x <= t:\n",
    "        s = 1\n",
    "    else:\n",
    "        s = x//t + 1 if x%t >= 1 else 0\n",
    "    return int(s)"
   ]
  }
 ],
 "metadata": {
  "availableInstances": [
   {
    "_defaultOrder": 0,
    "_isFastLaunch": true,
    "category": "General purpose",
    "gpuNum": 0,
    "hideHardwareSpecs": false,
    "memoryGiB": 4,
    "name": "ml.t3.medium",
    "vcpuNum": 2
   },
   {
    "_defaultOrder": 1,
    "_isFastLaunch": false,
    "category": "General purpose",
    "gpuNum": 0,
    "hideHardwareSpecs": false,
    "memoryGiB": 8,
    "name": "ml.t3.large",
    "vcpuNum": 2
   },
   {
    "_defaultOrder": 2,
    "_isFastLaunch": false,
    "category": "General purpose",
    "gpuNum": 0,
    "hideHardwareSpecs": false,
    "memoryGiB": 16,
    "name": "ml.t3.xlarge",
    "vcpuNum": 4
   },
   {
    "_defaultOrder": 3,
    "_isFastLaunch": false,
    "category": "General purpose",
    "gpuNum": 0,
    "hideHardwareSpecs": false,
    "memoryGiB": 32,
    "name": "ml.t3.2xlarge",
    "vcpuNum": 8
   },
   {
    "_defaultOrder": 4,
    "_isFastLaunch": true,
    "category": "General purpose",
    "gpuNum": 0,
    "hideHardwareSpecs": false,
    "memoryGiB": 8,
    "name": "ml.m5.large",
    "vcpuNum": 2
   },
   {
    "_defaultOrder": 5,
    "_isFastLaunch": false,
    "category": "General purpose",
    "gpuNum": 0,
    "hideHardwareSpecs": false,
    "memoryGiB": 16,
    "name": "ml.m5.xlarge",
    "vcpuNum": 4
   },
   {
    "_defaultOrder": 6,
    "_isFastLaunch": false,
    "category": "General purpose",
    "gpuNum": 0,
    "hideHardwareSpecs": false,
    "memoryGiB": 32,
    "name": "ml.m5.2xlarge",
    "vcpuNum": 8
   },
   {
    "_defaultOrder": 7,
    "_isFastLaunch": false,
    "category": "General purpose",
    "gpuNum": 0,
    "hideHardwareSpecs": false,
    "memoryGiB": 64,
    "name": "ml.m5.4xlarge",
    "vcpuNum": 16
   },
   {
    "_defaultOrder": 8,
    "_isFastLaunch": false,
    "category": "General purpose",
    "gpuNum": 0,
    "hideHardwareSpecs": false,
    "memoryGiB": 128,
    "name": "ml.m5.8xlarge",
    "vcpuNum": 32
   },
   {
    "_defaultOrder": 9,
    "_isFastLaunch": false,
    "category": "General purpose",
    "gpuNum": 0,
    "hideHardwareSpecs": false,
    "memoryGiB": 192,
    "name": "ml.m5.12xlarge",
    "vcpuNum": 48
   },
   {
    "_defaultOrder": 10,
    "_isFastLaunch": false,
    "category": "General purpose",
    "gpuNum": 0,
    "hideHardwareSpecs": false,
    "memoryGiB": 256,
    "name": "ml.m5.16xlarge",
    "vcpuNum": 64
   },
   {
    "_defaultOrder": 11,
    "_isFastLaunch": false,
    "category": "General purpose",
    "gpuNum": 0,
    "hideHardwareSpecs": false,
    "memoryGiB": 384,
    "name": "ml.m5.24xlarge",
    "vcpuNum": 96
   },
   {
    "_defaultOrder": 12,
    "_isFastLaunch": false,
    "category": "General purpose",
    "gpuNum": 0,
    "hideHardwareSpecs": false,
    "memoryGiB": 8,
    "name": "ml.m5d.large",
    "vcpuNum": 2
   },
   {
    "_defaultOrder": 13,
    "_isFastLaunch": false,
    "category": "General purpose",
    "gpuNum": 0,
    "hideHardwareSpecs": false,
    "memoryGiB": 16,
    "name": "ml.m5d.xlarge",
    "vcpuNum": 4
   },
   {
    "_defaultOrder": 14,
    "_isFastLaunch": false,
    "category": "General purpose",
    "gpuNum": 0,
    "hideHardwareSpecs": false,
    "memoryGiB": 32,
    "name": "ml.m5d.2xlarge",
    "vcpuNum": 8
   },
   {
    "_defaultOrder": 15,
    "_isFastLaunch": false,
    "category": "General purpose",
    "gpuNum": 0,
    "hideHardwareSpecs": false,
    "memoryGiB": 64,
    "name": "ml.m5d.4xlarge",
    "vcpuNum": 16
   },
   {
    "_defaultOrder": 16,
    "_isFastLaunch": false,
    "category": "General purpose",
    "gpuNum": 0,
    "hideHardwareSpecs": false,
    "memoryGiB": 128,
    "name": "ml.m5d.8xlarge",
    "vcpuNum": 32
   },
   {
    "_defaultOrder": 17,
    "_isFastLaunch": false,
    "category": "General purpose",
    "gpuNum": 0,
    "hideHardwareSpecs": false,
    "memoryGiB": 192,
    "name": "ml.m5d.12xlarge",
    "vcpuNum": 48
   },
   {
    "_defaultOrder": 18,
    "_isFastLaunch": false,
    "category": "General purpose",
    "gpuNum": 0,
    "hideHardwareSpecs": false,
    "memoryGiB": 256,
    "name": "ml.m5d.16xlarge",
    "vcpuNum": 64
   },
   {
    "_defaultOrder": 19,
    "_isFastLaunch": false,
    "category": "General purpose",
    "gpuNum": 0,
    "hideHardwareSpecs": false,
    "memoryGiB": 384,
    "name": "ml.m5d.24xlarge",
    "vcpuNum": 96
   },
   {
    "_defaultOrder": 20,
    "_isFastLaunch": false,
    "category": "General purpose",
    "gpuNum": 0,
    "hideHardwareSpecs": true,
    "memoryGiB": 0,
    "name": "ml.geospatial.interactive",
    "supportedImageNames": [
     "sagemaker-geospatial-v1-0"
    ],
    "vcpuNum": 0
   },
   {
    "_defaultOrder": 21,
    "_isFastLaunch": true,
    "category": "Compute optimized",
    "gpuNum": 0,
    "hideHardwareSpecs": false,
    "memoryGiB": 4,
    "name": "ml.c5.large",
    "vcpuNum": 2
   },
   {
    "_defaultOrder": 22,
    "_isFastLaunch": false,
    "category": "Compute optimized",
    "gpuNum": 0,
    "hideHardwareSpecs": false,
    "memoryGiB": 8,
    "name": "ml.c5.xlarge",
    "vcpuNum": 4
   },
   {
    "_defaultOrder": 23,
    "_isFastLaunch": false,
    "category": "Compute optimized",
    "gpuNum": 0,
    "hideHardwareSpecs": false,
    "memoryGiB": 16,
    "name": "ml.c5.2xlarge",
    "vcpuNum": 8
   },
   {
    "_defaultOrder": 24,
    "_isFastLaunch": false,
    "category": "Compute optimized",
    "gpuNum": 0,
    "hideHardwareSpecs": false,
    "memoryGiB": 32,
    "name": "ml.c5.4xlarge",
    "vcpuNum": 16
   },
   {
    "_defaultOrder": 25,
    "_isFastLaunch": false,
    "category": "Compute optimized",
    "gpuNum": 0,
    "hideHardwareSpecs": false,
    "memoryGiB": 72,
    "name": "ml.c5.9xlarge",
    "vcpuNum": 36
   },
   {
    "_defaultOrder": 26,
    "_isFastLaunch": false,
    "category": "Compute optimized",
    "gpuNum": 0,
    "hideHardwareSpecs": false,
    "memoryGiB": 96,
    "name": "ml.c5.12xlarge",
    "vcpuNum": 48
   },
   {
    "_defaultOrder": 27,
    "_isFastLaunch": false,
    "category": "Compute optimized",
    "gpuNum": 0,
    "hideHardwareSpecs": false,
    "memoryGiB": 144,
    "name": "ml.c5.18xlarge",
    "vcpuNum": 72
   },
   {
    "_defaultOrder": 28,
    "_isFastLaunch": false,
    "category": "Compute optimized",
    "gpuNum": 0,
    "hideHardwareSpecs": false,
    "memoryGiB": 192,
    "name": "ml.c5.24xlarge",
    "vcpuNum": 96
   },
   {
    "_defaultOrder": 29,
    "_isFastLaunch": true,
    "category": "Accelerated computing",
    "gpuNum": 1,
    "hideHardwareSpecs": false,
    "memoryGiB": 16,
    "name": "ml.g4dn.xlarge",
    "vcpuNum": 4
   },
   {
    "_defaultOrder": 30,
    "_isFastLaunch": false,
    "category": "Accelerated computing",
    "gpuNum": 1,
    "hideHardwareSpecs": false,
    "memoryGiB": 32,
    "name": "ml.g4dn.2xlarge",
    "vcpuNum": 8
   },
   {
    "_defaultOrder": 31,
    "_isFastLaunch": false,
    "category": "Accelerated computing",
    "gpuNum": 1,
    "hideHardwareSpecs": false,
    "memoryGiB": 64,
    "name": "ml.g4dn.4xlarge",
    "vcpuNum": 16
   },
   {
    "_defaultOrder": 32,
    "_isFastLaunch": false,
    "category": "Accelerated computing",
    "gpuNum": 1,
    "hideHardwareSpecs": false,
    "memoryGiB": 128,
    "name": "ml.g4dn.8xlarge",
    "vcpuNum": 32
   },
   {
    "_defaultOrder": 33,
    "_isFastLaunch": false,
    "category": "Accelerated computing",
    "gpuNum": 4,
    "hideHardwareSpecs": false,
    "memoryGiB": 192,
    "name": "ml.g4dn.12xlarge",
    "vcpuNum": 48
   },
   {
    "_defaultOrder": 34,
    "_isFastLaunch": false,
    "category": "Accelerated computing",
    "gpuNum": 1,
    "hideHardwareSpecs": false,
    "memoryGiB": 256,
    "name": "ml.g4dn.16xlarge",
    "vcpuNum": 64
   },
   {
    "_defaultOrder": 35,
    "_isFastLaunch": false,
    "category": "Accelerated computing",
    "gpuNum": 1,
    "hideHardwareSpecs": false,
    "memoryGiB": 61,
    "name": "ml.p3.2xlarge",
    "vcpuNum": 8
   },
   {
    "_defaultOrder": 36,
    "_isFastLaunch": false,
    "category": "Accelerated computing",
    "gpuNum": 4,
    "hideHardwareSpecs": false,
    "memoryGiB": 244,
    "name": "ml.p3.8xlarge",
    "vcpuNum": 32
   },
   {
    "_defaultOrder": 37,
    "_isFastLaunch": false,
    "category": "Accelerated computing",
    "gpuNum": 8,
    "hideHardwareSpecs": false,
    "memoryGiB": 488,
    "name": "ml.p3.16xlarge",
    "vcpuNum": 64
   },
   {
    "_defaultOrder": 38,
    "_isFastLaunch": false,
    "category": "Accelerated computing",
    "gpuNum": 8,
    "hideHardwareSpecs": false,
    "memoryGiB": 768,
    "name": "ml.p3dn.24xlarge",
    "vcpuNum": 96
   },
   {
    "_defaultOrder": 39,
    "_isFastLaunch": false,
    "category": "Memory Optimized",
    "gpuNum": 0,
    "hideHardwareSpecs": false,
    "memoryGiB": 16,
    "name": "ml.r5.large",
    "vcpuNum": 2
   },
   {
    "_defaultOrder": 40,
    "_isFastLaunch": false,
    "category": "Memory Optimized",
    "gpuNum": 0,
    "hideHardwareSpecs": false,
    "memoryGiB": 32,
    "name": "ml.r5.xlarge",
    "vcpuNum": 4
   },
   {
    "_defaultOrder": 41,
    "_isFastLaunch": false,
    "category": "Memory Optimized",
    "gpuNum": 0,
    "hideHardwareSpecs": false,
    "memoryGiB": 64,
    "name": "ml.r5.2xlarge",
    "vcpuNum": 8
   },
   {
    "_defaultOrder": 42,
    "_isFastLaunch": false,
    "category": "Memory Optimized",
    "gpuNum": 0,
    "hideHardwareSpecs": false,
    "memoryGiB": 128,
    "name": "ml.r5.4xlarge",
    "vcpuNum": 16
   },
   {
    "_defaultOrder": 43,
    "_isFastLaunch": false,
    "category": "Memory Optimized",
    "gpuNum": 0,
    "hideHardwareSpecs": false,
    "memoryGiB": 256,
    "name": "ml.r5.8xlarge",
    "vcpuNum": 32
   },
   {
    "_defaultOrder": 44,
    "_isFastLaunch": false,
    "category": "Memory Optimized",
    "gpuNum": 0,
    "hideHardwareSpecs": false,
    "memoryGiB": 384,
    "name": "ml.r5.12xlarge",
    "vcpuNum": 48
   },
   {
    "_defaultOrder": 45,
    "_isFastLaunch": false,
    "category": "Memory Optimized",
    "gpuNum": 0,
    "hideHardwareSpecs": false,
    "memoryGiB": 512,
    "name": "ml.r5.16xlarge",
    "vcpuNum": 64
   },
   {
    "_defaultOrder": 46,
    "_isFastLaunch": false,
    "category": "Memory Optimized",
    "gpuNum": 0,
    "hideHardwareSpecs": false,
    "memoryGiB": 768,
    "name": "ml.r5.24xlarge",
    "vcpuNum": 96
   },
   {
    "_defaultOrder": 47,
    "_isFastLaunch": false,
    "category": "Accelerated computing",
    "gpuNum": 1,
    "hideHardwareSpecs": false,
    "memoryGiB": 16,
    "name": "ml.g5.xlarge",
    "vcpuNum": 4
   },
   {
    "_defaultOrder": 48,
    "_isFastLaunch": false,
    "category": "Accelerated computing",
    "gpuNum": 1,
    "hideHardwareSpecs": false,
    "memoryGiB": 32,
    "name": "ml.g5.2xlarge",
    "vcpuNum": 8
   },
   {
    "_defaultOrder": 49,
    "_isFastLaunch": false,
    "category": "Accelerated computing",
    "gpuNum": 1,
    "hideHardwareSpecs": false,
    "memoryGiB": 64,
    "name": "ml.g5.4xlarge",
    "vcpuNum": 16
   },
   {
    "_defaultOrder": 50,
    "_isFastLaunch": false,
    "category": "Accelerated computing",
    "gpuNum": 1,
    "hideHardwareSpecs": false,
    "memoryGiB": 128,
    "name": "ml.g5.8xlarge",
    "vcpuNum": 32
   },
   {
    "_defaultOrder": 51,
    "_isFastLaunch": false,
    "category": "Accelerated computing",
    "gpuNum": 1,
    "hideHardwareSpecs": false,
    "memoryGiB": 256,
    "name": "ml.g5.16xlarge",
    "vcpuNum": 64
   },
   {
    "_defaultOrder": 52,
    "_isFastLaunch": false,
    "category": "Accelerated computing",
    "gpuNum": 4,
    "hideHardwareSpecs": false,
    "memoryGiB": 192,
    "name": "ml.g5.12xlarge",
    "vcpuNum": 48
   },
   {
    "_defaultOrder": 53,
    "_isFastLaunch": false,
    "category": "Accelerated computing",
    "gpuNum": 4,
    "hideHardwareSpecs": false,
    "memoryGiB": 384,
    "name": "ml.g5.24xlarge",
    "vcpuNum": 96
   },
   {
    "_defaultOrder": 54,
    "_isFastLaunch": false,
    "category": "Accelerated computing",
    "gpuNum": 8,
    "hideHardwareSpecs": false,
    "memoryGiB": 768,
    "name": "ml.g5.48xlarge",
    "vcpuNum": 192
   },
   {
    "_defaultOrder": 55,
    "_isFastLaunch": false,
    "category": "Accelerated computing",
    "gpuNum": 8,
    "hideHardwareSpecs": false,
    "memoryGiB": 1152,
    "name": "ml.p4d.24xlarge",
    "vcpuNum": 96
   },
   {
    "_defaultOrder": 56,
    "_isFastLaunch": false,
    "category": "Accelerated computing",
    "gpuNum": 8,
    "hideHardwareSpecs": false,
    "memoryGiB": 1152,
    "name": "ml.p4de.24xlarge",
    "vcpuNum": 96
   }
  ],
  "instance_type": "ml.t3.medium",
  "kernelspec": {
   "display_name": "GDSC (custom-gdsc/1)",
   "language": "python",
   "name": "python3__SAGEMAKER_INTERNAL__arn:aws:sagemaker:us-east-1:292159885427:image-version/custom-gdsc/1"
  },
  "language_info": {
   "codemirror_mode": {
    "name": "ipython",
    "version": 3
   },
   "file_extension": ".py",
   "mimetype": "text/x-python",
   "name": "python",
   "nbconvert_exporter": "python",
   "pygments_lexer": "ipython3",
   "version": "3.10.8"
  },
  "lcc_arn": "arn:aws:sagemaker:us-east-1:292159885427:studio-lifecycle-config/clean-trash"
 },
 "nbformat": 4,
 "nbformat_minor": 5
}
