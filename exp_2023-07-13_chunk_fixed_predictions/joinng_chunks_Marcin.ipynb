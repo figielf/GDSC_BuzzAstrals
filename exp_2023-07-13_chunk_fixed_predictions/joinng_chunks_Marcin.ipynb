{
 "cells": [
  {
   "cell_type": "code",
   "execution_count": 2,
   "id": "91065bb7-2fac-45a4-9bf1-139ea950e3d5",
   "metadata": {
    "tags": []
   },
   "outputs": [],
   "source": [
    "import pandas as pd"
   ]
  },
  {
   "cell_type": "code",
   "execution_count": 3,
   "id": "d34edab7-1e24-4c16-aa35-35470af0c996",
   "metadata": {
    "tags": []
   },
   "outputs": [],
   "source": [
    "data = pd.read_csv('predictions_sm-training-custom-2023-07-13-09-09-10-608_checkpoint-11277_10_secs.csv')\n",
    "'predictions_sm-sm-training-custom-2023-07-13-21-52-21-077_checkpoint-8934_test_5_secs.csv'"
   ]
  },
  {
   "cell_type": "code",
   "execution_count": 11,
   "id": "f3a4501a-9719-4372-96b1-9ffeea443f96",
   "metadata": {
    "tags": []
   },
   "outputs": [
    {
     "data": {
      "text/plain": [
       "0.294300318"
      ]
     },
     "execution_count": 11,
     "metadata": {},
     "output_type": "execute_result"
    }
   ],
   "source": [
    "1.47150159e-01 + 1.47150159e-01"
   ]
  },
  {
   "cell_type": "code",
   "execution_count": 10,
   "id": "20ba3ba7-17df-4bfb-8f5d-ca818eb35475",
   "metadata": {
    "tags": []
   },
   "outputs": [
    {
     "data": {
      "text/html": [
       "<div>\n",
       "<style scoped>\n",
       "    .dataframe tbody tr th:only-of-type {\n",
       "        vertical-align: middle;\n",
       "    }\n",
       "\n",
       "    .dataframe tbody tr th {\n",
       "        vertical-align: top;\n",
       "    }\n",
       "\n",
       "    .dataframe thead th {\n",
       "        text-align: right;\n",
       "    }\n",
       "</style>\n",
       "<table border=\"1\" class=\"dataframe\">\n",
       "  <thead>\n",
       "    <tr style=\"text-align: right;\">\n",
       "      <th></th>\n",
       "      <th>file_name</th>\n",
       "      <th>predicted_class_id</th>\n",
       "      <th>logits</th>\n",
       "    </tr>\n",
       "  </thead>\n",
       "  <tbody>\n",
       "    <tr>\n",
       "      <th>297</th>\n",
       "      <td>197.wav</td>\n",
       "      <td>14</td>\n",
       "      <td>[ 1.47150159e-01 -1.48788226e+00 -1.00464880e+...</td>\n",
       "    </tr>\n",
       "    <tr>\n",
       "      <th>298</th>\n",
       "      <td>197.wav</td>\n",
       "      <td>14</td>\n",
       "      <td>[-0.04472693 -1.4548595  -0.9480818  -1.588484...</td>\n",
       "    </tr>\n",
       "  </tbody>\n",
       "</table>\n",
       "</div>"
      ],
      "text/plain": [
       "    file_name  predicted_class_id   \n",
       "297   197.wav                  14  \\\n",
       "298   197.wav                  14   \n",
       "\n",
       "                                                logits  \n",
       "297  [ 1.47150159e-01 -1.48788226e+00 -1.00464880e+...  \n",
       "298  [-0.04472693 -1.4548595  -0.9480818  -1.588484...  "
      ]
     },
     "execution_count": 10,
     "metadata": {},
     "output_type": "execute_result"
    }
   ],
   "source": [
    "data[data['file_name'] == '197.wav']"
   ]
  },
  {
   "cell_type": "code",
   "execution_count": 18,
   "id": "48e310cf-5ef2-4ef9-b65f-c27cf127ae43",
   "metadata": {
    "tags": []
   },
   "outputs": [],
   "source": [
    "data['logits2'] = data['logits'].apply(lambda x: [float(i) for i in x.strip('[').strip(']').replace('n', '').split(' ') if i != ''])"
   ]
  },
  {
   "cell_type": "code",
   "execution_count": 22,
   "id": "55b1b74f-8332-441f-87b0-68bf2a82372a",
   "metadata": {
    "tags": []
   },
   "outputs": [
    {
     "data": {
      "text/html": [
       "<div>\n",
       "<style scoped>\n",
       "    .dataframe tbody tr th:only-of-type {\n",
       "        vertical-align: middle;\n",
       "    }\n",
       "\n",
       "    .dataframe tbody tr th {\n",
       "        vertical-align: top;\n",
       "    }\n",
       "\n",
       "    .dataframe thead th {\n",
       "        text-align: right;\n",
       "    }\n",
       "</style>\n",
       "<table border=\"1\" class=\"dataframe\">\n",
       "  <thead>\n",
       "    <tr style=\"text-align: right;\">\n",
       "      <th></th>\n",
       "      <th>file_name</th>\n",
       "      <th>predicted_class_id</th>\n",
       "      <th>logits</th>\n",
       "      <th>logits2</th>\n",
       "    </tr>\n",
       "  </thead>\n",
       "  <tbody>\n",
       "    <tr>\n",
       "      <th>0</th>\n",
       "      <td>0.wav</td>\n",
       "      <td>14</td>\n",
       "      <td>[ 6.05013222e-02 -9.12684858e-01 -6.61898613e-...</td>\n",
       "      <td>[0.0605013222, -0.912684858, -0.661898613, -0....</td>\n",
       "    </tr>\n",
       "    <tr>\n",
       "      <th>1</th>\n",
       "      <td>1.wav</td>\n",
       "      <td>60</td>\n",
       "      <td>[-8.6006647e-01 -6.2891734e-01 -5.3756475e-02 ...</td>\n",
       "      <td>[-0.86006647, -0.62891734, -0.053756475, -1.43...</td>\n",
       "    </tr>\n",
       "    <tr>\n",
       "      <th>2</th>\n",
       "      <td>10.wav</td>\n",
       "      <td>26</td>\n",
       "      <td>[-5.4473144e-01  1.5131793e+00 -1.8988968e+00 ...</td>\n",
       "      <td>[-0.54473144, 1.5131793, -1.8988968, -0.905692...</td>\n",
       "    </tr>\n",
       "    <tr>\n",
       "      <th>3</th>\n",
       "      <td>100.wav</td>\n",
       "      <td>56</td>\n",
       "      <td>[-0.79928446  0.56703633 -0.897328   -0.821562...</td>\n",
       "      <td>[-0.79928446, 0.56703633, -0.897328, -0.821562...</td>\n",
       "    </tr>\n",
       "    <tr>\n",
       "      <th>4</th>\n",
       "      <td>100.wav</td>\n",
       "      <td>11</td>\n",
       "      <td>[-7.2833216e-01  1.9422457e-01 -1.1446620e+00 ...</td>\n",
       "      <td>[-0.72833216, 0.19422457, -1.144662, -0.725750...</td>\n",
       "    </tr>\n",
       "    <tr>\n",
       "      <th>...</th>\n",
       "      <td>...</td>\n",
       "      <td>...</td>\n",
       "      <td>...</td>\n",
       "      <td>...</td>\n",
       "    </tr>\n",
       "    <tr>\n",
       "      <th>1713</th>\n",
       "      <td>99.wav</td>\n",
       "      <td>39</td>\n",
       "      <td>[-8.21264744e-01 -7.18433976e-01  9.68227148e-...</td>\n",
       "      <td>[-0.821264744, -0.718433976, 0.968227148, -1.1...</td>\n",
       "    </tr>\n",
       "    <tr>\n",
       "      <th>1714</th>\n",
       "      <td>99.wav</td>\n",
       "      <td>39</td>\n",
       "      <td>[-7.6766485e-01 -9.0428454e-01  8.8611919e-01 ...</td>\n",
       "      <td>[-0.76766485, -0.90428454, 0.88611919, -1.1821...</td>\n",
       "    </tr>\n",
       "    <tr>\n",
       "      <th>1715</th>\n",
       "      <td>99.wav</td>\n",
       "      <td>39</td>\n",
       "      <td>[-9.0900415e-01 -9.0042472e-01  9.9352074e-01 ...</td>\n",
       "      <td>[-0.90900415, -0.90042472, 0.99352074, -1.1129...</td>\n",
       "    </tr>\n",
       "    <tr>\n",
       "      <th>1716</th>\n",
       "      <td>99.wav</td>\n",
       "      <td>39</td>\n",
       "      <td>[-0.924581   -0.7853614   0.87988967 -1.088124...</td>\n",
       "      <td>[-0.924581, -0.7853614, 0.87988967, -1.0881244...</td>\n",
       "    </tr>\n",
       "    <tr>\n",
       "      <th>1717</th>\n",
       "      <td>99.wav</td>\n",
       "      <td>39</td>\n",
       "      <td>[-8.0195129e-01 -5.8587688e-01  5.0061268e-01 ...</td>\n",
       "      <td>[-0.80195129, -0.58587688, 0.50061268, -0.7706...</td>\n",
       "    </tr>\n",
       "  </tbody>\n",
       "</table>\n",
       "<p>1718 rows × 4 columns</p>\n",
       "</div>"
      ],
      "text/plain": [
       "     file_name  predicted_class_id   \n",
       "0        0.wav                  14  \\\n",
       "1        1.wav                  60   \n",
       "2       10.wav                  26   \n",
       "3      100.wav                  56   \n",
       "4      100.wav                  11   \n",
       "...        ...                 ...   \n",
       "1713    99.wav                  39   \n",
       "1714    99.wav                  39   \n",
       "1715    99.wav                  39   \n",
       "1716    99.wav                  39   \n",
       "1717    99.wav                  39   \n",
       "\n",
       "                                                 logits   \n",
       "0     [ 6.05013222e-02 -9.12684858e-01 -6.61898613e-...  \\\n",
       "1     [-8.6006647e-01 -6.2891734e-01 -5.3756475e-02 ...   \n",
       "2     [-5.4473144e-01  1.5131793e+00 -1.8988968e+00 ...   \n",
       "3     [-0.79928446  0.56703633 -0.897328   -0.821562...   \n",
       "4     [-7.2833216e-01  1.9422457e-01 -1.1446620e+00 ...   \n",
       "...                                                 ...   \n",
       "1713  [-8.21264744e-01 -7.18433976e-01  9.68227148e-...   \n",
       "1714  [-7.6766485e-01 -9.0428454e-01  8.8611919e-01 ...   \n",
       "1715  [-9.0900415e-01 -9.0042472e-01  9.9352074e-01 ...   \n",
       "1716  [-0.924581   -0.7853614   0.87988967 -1.088124...   \n",
       "1717  [-8.0195129e-01 -5.8587688e-01  5.0061268e-01 ...   \n",
       "\n",
       "                                                logits2  \n",
       "0     [0.0605013222, -0.912684858, -0.661898613, -0....  \n",
       "1     [-0.86006647, -0.62891734, -0.053756475, -1.43...  \n",
       "2     [-0.54473144, 1.5131793, -1.8988968, -0.905692...  \n",
       "3     [-0.79928446, 0.56703633, -0.897328, -0.821562...  \n",
       "4     [-0.72833216, 0.19422457, -1.144662, -0.725750...  \n",
       "...                                                 ...  \n",
       "1713  [-0.821264744, -0.718433976, 0.968227148, -1.1...  \n",
       "1714  [-0.76766485, -0.90428454, 0.88611919, -1.1821...  \n",
       "1715  [-0.90900415, -0.90042472, 0.99352074, -1.1129...  \n",
       "1716  [-0.924581, -0.7853614, 0.87988967, -1.0881244...  \n",
       "1717  [-0.80195129, -0.58587688, 0.50061268, -0.7706...  \n",
       "\n",
       "[1718 rows x 4 columns]"
      ]
     },
     "execution_count": 22,
     "metadata": {},
     "output_type": "execute_result"
    }
   ],
   "source": [
    "data"
   ]
  },
  {
   "cell_type": "code",
   "execution_count": 21,
   "id": "772aaa5e-8d46-428d-a99b-d78bdca66f3e",
   "metadata": {
    "tags": []
   },
   "outputs": [
    {
     "data": {
      "text/plain": [
       "556"
      ]
     },
     "execution_count": 21,
     "metadata": {},
     "output_type": "execute_result"
    }
   ],
   "source": [
    "len(data.file_name.unique())"
   ]
  },
  {
   "cell_type": "code",
   "execution_count": 32,
   "id": "e462a4d3-e34b-46a6-bd29-08b6650a0fd8",
   "metadata": {
    "tags": []
   },
   "outputs": [],
   "source": [
    "test = data[data['file_name'] == '197.wav'].loc[297]['logits2']"
   ]
  },
  {
   "cell_type": "code",
   "execution_count": 28,
   "id": "b3284ec1-a3cb-4f53-9856-797187f1de96",
   "metadata": {
    "tags": []
   },
   "outputs": [
    {
     "data": {
      "text/plain": [
       "'[ 1.47150159e-01 -1.48788226e+00 -1.00464880e+00 -1.43624222e+00\\n  1.11030161e+00 -1.96916246e+00  8.41095090e-01 -6.33563995e-02\\n -2.92771220e-01 -8.75347257e-01 -1.06634223e+00 -2.20151544e+00\\n  8.37251902e-01  5.76067388e-01  1.42200069e+01 -1.92039028e-01\\n  2.68870890e-01 -5.62351048e-01  2.14600611e+00  2.01020050e+00\\n  1.10094047e+00  1.08667660e+00 -1.09782887e+00 -1.25524729e-01\\n -4.77604687e-01  2.65984416e-01 -1.81624517e-01 -4.90395576e-01\\n  8.03150117e-01 -1.86542019e-01  5.35703421e-01  1.83786225e+00\\n  1.24570167e+00  3.28924447e-01 -5.22040427e-01  5.34615815e-02\\n -2.11847186e+00  1.54371047e+00 -1.56319118e+00  1.49890989e-01\\n  1.17554486e-01 -5.81063807e-01 -6.12431765e-03 -2.26858884e-01\\n -4.10513818e-01  3.40107083e-02 -1.26752153e-01 -9.44504499e-01\\n  5.73577344e-01 -5.77696919e-01 -1.37565219e+00  2.17707300e+00\\n -5.82059503e-01 -3.80992889e-04 -3.16499949e-01  1.05974510e-01\\n -3.50477397e-01 -2.00846767e+00  5.33096671e-01 -3.18799466e-01\\n -1.05635345e-01 -1.61672711e+00  4.83250529e-01 -3.59349281e-01\\n -3.44544530e-01  3.95595312e-01][-0.04472693 -1.4548595  -0.9480818  -1.5884843   1.1427466  -1.927452\\n  0.8807508   0.18511362  0.01754469 -1.1376959  -1.689815   -1.9177126\\n  1.0401099   0.7830782  14.024228   -0.3066942   0.68645    -0.557724\\n  2.385354    2.0555005   1.1642957   1.208813   -0.9286325  -0.11792332\\n -0.7887276   0.3010168   0.6946707  -0.7941164   0.7013603  -0.09898284\\n  0.23045042  1.393918    1.2097431   0.46571788 -0.20617439  0.28432775\\n -1.9220271   1.4783156  -1.4620545   0.25656083  0.31151438 -0.7589713\\n -0.19328412 -0.18601932 -0.66728866 -0.22583744  0.09145242 -0.922977\\n  0.48276004 -0.41404533 -1.4083439   2.697407   -0.2982251  -0.1482822\\n -0.5978484  -0.15548067 -0.9279386  -2.1707563   0.82015955  0.03165621\\n -0.26246825 -1.9332114   0.6450564  -0.60319144 -0.49075246  0.08096127]'"
      ]
     },
     "execution_count": 28,
     "metadata": {},
     "output_type": "execute_result"
    }
   ],
   "source": [
    "data[data['file_name'] == '197.wav'].groupby('file_name').sum().loc['197.wav']['logits']"
   ]
  },
  {
   "cell_type": "code",
   "execution_count": 27,
   "id": "19295b7e-724f-4457-a6cb-71f5db151666",
   "metadata": {
    "tags": []
   },
   "outputs": [
    {
     "data": {
      "text/plain": [
       "[0.147150159,\n",
       " -1.48788226,\n",
       " -1.0046488,\n",
       " -1.43624222,\n",
       " 1.11030161,\n",
       " -1.96916246,\n",
       " 0.84109509,\n",
       " -0.0633563995,\n",
       " -0.29277122,\n",
       " -0.875347257,\n",
       " -1.06634223,\n",
       " -2.20151544,\n",
       " 0.837251902,\n",
       " 0.576067388,\n",
       " 14.2200069,\n",
       " -0.192039028,\n",
       " 0.26887089,\n",
       " -0.562351048,\n",
       " 2.14600611,\n",
       " 2.0102005,\n",
       " 1.10094047,\n",
       " 1.0866766,\n",
       " -1.09782887,\n",
       " -0.125524729,\n",
       " -0.477604687,\n",
       " 0.265984416,\n",
       " -0.181624517,\n",
       " -0.490395576,\n",
       " 0.803150117,\n",
       " -0.186542019,\n",
       " 0.535703421,\n",
       " 1.83786225,\n",
       " 1.24570167,\n",
       " 0.328924447,\n",
       " -0.522040427,\n",
       " 0.0534615815,\n",
       " -2.11847186,\n",
       " 1.54371047,\n",
       " -1.56319118,\n",
       " 0.149890989,\n",
       " 0.117554486,\n",
       " -0.581063807,\n",
       " -0.00612431765,\n",
       " -0.226858884,\n",
       " -0.410513818,\n",
       " 0.0340107083,\n",
       " -0.126752153,\n",
       " -0.944504499,\n",
       " 0.573577344,\n",
       " -0.577696919,\n",
       " -1.37565219,\n",
       " 2.177073,\n",
       " -0.582059503,\n",
       " -0.000380992889,\n",
       " -0.316499949,\n",
       " 0.10597451,\n",
       " -0.350477397,\n",
       " -2.00846767,\n",
       " 0.533096671,\n",
       " -0.318799466,\n",
       " -0.105635345,\n",
       " -1.61672711,\n",
       " 0.483250529,\n",
       " -0.359349281,\n",
       " -0.34454453,\n",
       " 0.395595312,\n",
       " -0.04472693,\n",
       " -1.4548595,\n",
       " -0.9480818,\n",
       " -1.5884843,\n",
       " 1.1427466,\n",
       " -1.927452,\n",
       " 0.8807508,\n",
       " 0.18511362,\n",
       " 0.01754469,\n",
       " -1.1376959,\n",
       " -1.689815,\n",
       " -1.9177126,\n",
       " 1.0401099,\n",
       " 0.7830782,\n",
       " 14.024228,\n",
       " -0.3066942,\n",
       " 0.68645,\n",
       " -0.557724,\n",
       " 2.385354,\n",
       " 2.0555005,\n",
       " 1.1642957,\n",
       " 1.208813,\n",
       " -0.9286325,\n",
       " -0.11792332,\n",
       " -0.7887276,\n",
       " 0.3010168,\n",
       " 0.6946707,\n",
       " -0.7941164,\n",
       " 0.7013603,\n",
       " -0.09898284,\n",
       " 0.23045042,\n",
       " 1.393918,\n",
       " 1.2097431,\n",
       " 0.46571788,\n",
       " -0.20617439,\n",
       " 0.28432775,\n",
       " -1.9220271,\n",
       " 1.4783156,\n",
       " -1.4620545,\n",
       " 0.25656083,\n",
       " 0.31151438,\n",
       " -0.7589713,\n",
       " -0.19328412,\n",
       " -0.18601932,\n",
       " -0.66728866,\n",
       " -0.22583744,\n",
       " 0.09145242,\n",
       " -0.922977,\n",
       " 0.48276004,\n",
       " -0.41404533,\n",
       " -1.4083439,\n",
       " 2.697407,\n",
       " -0.2982251,\n",
       " -0.1482822,\n",
       " -0.5978484,\n",
       " -0.15548067,\n",
       " -0.9279386,\n",
       " -2.1707563,\n",
       " 0.82015955,\n",
       " 0.03165621,\n",
       " -0.26246825,\n",
       " -1.9332114,\n",
       " 0.6450564,\n",
       " -0.60319144,\n",
       " -0.49075246,\n",
       " 0.08096127]"
      ]
     },
     "execution_count": 27,
     "metadata": {},
     "output_type": "execute_result"
    }
   ],
   "source": [
    "data[data['file_name'] == '197.wav'].groupby('file_name').sum().loc['197.wav']['logits2']"
   ]
  },
  {
   "cell_type": "code",
   "execution_count": 48,
   "id": "a73a27ef-6ce2-4a7d-8099-657366f69f8f",
   "metadata": {
    "tags": []
   },
   "outputs": [
    {
     "data": {
      "text/html": [
       "<div>\n",
       "<style scoped>\n",
       "    .dataframe tbody tr th:only-of-type {\n",
       "        vertical-align: middle;\n",
       "    }\n",
       "\n",
       "    .dataframe tbody tr th {\n",
       "        vertical-align: top;\n",
       "    }\n",
       "\n",
       "    .dataframe thead th {\n",
       "        text-align: right;\n",
       "    }\n",
       "</style>\n",
       "<table border=\"1\" class=\"dataframe\">\n",
       "  <thead>\n",
       "    <tr style=\"text-align: right;\">\n",
       "      <th></th>\n",
       "      <th>logits2</th>\n",
       "      <th>file_name</th>\n",
       "    </tr>\n",
       "  </thead>\n",
       "  <tbody>\n",
       "    <tr>\n",
       "      <th>297</th>\n",
       "      <td>[0.147150159, -1.48788226, -1.0046488, -1.4362...</td>\n",
       "      <td>197.wav</td>\n",
       "    </tr>\n",
       "    <tr>\n",
       "      <th>298</th>\n",
       "      <td>[-0.04472693, -1.4548595, -0.9480818, -1.58848...</td>\n",
       "      <td>197.wav</td>\n",
       "    </tr>\n",
       "  </tbody>\n",
       "</table>\n",
       "</div>"
      ],
      "text/plain": [
       "                                               logits2 file_name\n",
       "297  [0.147150159, -1.48788226, -1.0046488, -1.4362...   197.wav\n",
       "298  [-0.04472693, -1.4548595, -0.9480818, -1.58848...   197.wav"
      ]
     },
     "execution_count": 48,
     "metadata": {},
     "output_type": "execute_result"
    }
   ],
   "source": [
    "data[data['file_name'] == '197.wav'][['logits2', 'file_name']]"
   ]
  },
  {
   "cell_type": "code",
   "execution_count": 50,
   "id": "e1300dc4-cdc9-4637-b97c-2671ab508950",
   "metadata": {
    "tags": []
   },
   "outputs": [
    {
     "data": {
      "text/html": [
       "<div>\n",
       "<style scoped>\n",
       "    .dataframe tbody tr th:only-of-type {\n",
       "        vertical-align: middle;\n",
       "    }\n",
       "\n",
       "    .dataframe tbody tr th {\n",
       "        vertical-align: top;\n",
       "    }\n",
       "\n",
       "    .dataframe thead th {\n",
       "        text-align: right;\n",
       "    }\n",
       "</style>\n",
       "<table border=\"1\" class=\"dataframe\">\n",
       "  <thead>\n",
       "    <tr style=\"text-align: right;\">\n",
       "      <th></th>\n",
       "      <th>logits2</th>\n",
       "      <th>file_name</th>\n",
       "    </tr>\n",
       "  </thead>\n",
       "  <tbody>\n",
       "    <tr>\n",
       "      <th>297</th>\n",
       "      <td>[0.147150159, -1.48788226, -1.0046488, -1.4362...</td>\n",
       "      <td>197.wav</td>\n",
       "    </tr>\n",
       "    <tr>\n",
       "      <th>298</th>\n",
       "      <td>[-0.04472693, -1.4548595, -0.9480818, -1.58848...</td>\n",
       "      <td>197.wav</td>\n",
       "    </tr>\n",
       "  </tbody>\n",
       "</table>\n",
       "</div>"
      ],
      "text/plain": [
       "                                               logits2 file_name\n",
       "297  [0.147150159, -1.48788226, -1.0046488, -1.4362...   197.wav\n",
       "298  [-0.04472693, -1.4548595, -0.9480818, -1.58848...   197.wav"
      ]
     },
     "execution_count": 50,
     "metadata": {},
     "output_type": "execute_result"
    }
   ],
   "source": [
    "data[data['file_name'] == '197.wav'][['logits2', 'file_name']]"
   ]
  },
  {
   "cell_type": "code",
   "execution_count": 52,
   "id": "684cee9d-678c-47a0-bbf3-e932a2e92bb9",
   "metadata": {
    "tags": []
   },
   "outputs": [
    {
     "data": {
      "text/html": [
       "<div>\n",
       "<style scoped>\n",
       "    .dataframe tbody tr th:only-of-type {\n",
       "        vertical-align: middle;\n",
       "    }\n",
       "\n",
       "    .dataframe tbody tr th {\n",
       "        vertical-align: top;\n",
       "    }\n",
       "\n",
       "    .dataframe thead th {\n",
       "        text-align: right;\n",
       "    }\n",
       "</style>\n",
       "<table border=\"1\" class=\"dataframe\">\n",
       "  <thead>\n",
       "    <tr style=\"text-align: right;\">\n",
       "      <th></th>\n",
       "      <th>logits2</th>\n",
       "      <th>file_name</th>\n",
       "    </tr>\n",
       "  </thead>\n",
       "  <tbody>\n",
       "    <tr>\n",
       "      <th>297</th>\n",
       "      <td>[0.147150159, -1.48788226, -1.0046488, -1.4362...</td>\n",
       "      <td>197.wav</td>\n",
       "    </tr>\n",
       "    <tr>\n",
       "      <th>298</th>\n",
       "      <td>[-0.04472693, -1.4548595, -0.9480818, -1.58848...</td>\n",
       "      <td>197.wav</td>\n",
       "    </tr>\n",
       "  </tbody>\n",
       "</table>\n",
       "</div>"
      ],
      "text/plain": [
       "                                               logits2 file_name\n",
       "297  [0.147150159, -1.48788226, -1.0046488, -1.4362...   197.wav\n",
       "298  [-0.04472693, -1.4548595, -0.9480818, -1.58848...   197.wav"
      ]
     },
     "execution_count": 52,
     "metadata": {},
     "output_type": "execute_result"
    }
   ],
   "source": [
    "data[data['file_name'] == '197.wav'][['logits2', 'file_name']]"
   ]
  },
  {
   "cell_type": "code",
   "execution_count": null,
   "id": "9eb56fc4-e61b-445f-a142-e9da5653fbac",
   "metadata": {},
   "outputs": [],
   "source": [
    "[sum(i) for i in zip(x) if type(i[0]) != 'str']"
   ]
  },
  {
   "cell_type": "code",
   "execution_count": 68,
   "id": "6398ab20-5daa-4a95-9fae-eb46198dbae8",
   "metadata": {
    "tags": []
   },
   "outputs": [],
   "source": [
    "data[data['file_name'] == '197.wav'][['logits2', 'file_name']].groupby('file_name')"
   ]
  },
  {
   "cell_type": "code",
   "execution_count": 67,
   "id": "1fbd11c1-3aaa-4e61-8e93-3e6bdb0eb0f2",
   "metadata": {
    "tags": []
   },
   "outputs": [
    {
     "data": {
      "text/plain": [
       "file_name\n",
       "197.wav    <zip object at 0x7f58c62136c0>\n",
       "dtype: object"
      ]
     },
     "execution_count": 72,
     "metadata": {},
     "output_type": "execute_result"
    }
   ],
   "source": [
    "data[data['file_name'] == '197.wav'][['logits2', 'file_name']].groupby('file_name').apply(lambda x: x)"
   ]
  },
  {
   "cell_type": "code",
   "execution_count": 59,
   "id": "9b12c545-8295-4c49-b4e7-d921bcf09323",
   "metadata": {
    "tags": []
   },
   "outputs": [
    {
     "data": {
      "text/plain": [
       "[('logits2',), ('file_name',)]"
      ]
     },
     "execution_count": 59,
     "metadata": {},
     "output_type": "execute_result"
    }
   ],
   "source": [
    "test[0]"
   ]
  },
  {
   "cell_type": "code",
   "execution_count": 41,
   "id": "ac1c9a5c-9150-4876-88a9-b8f693fa71fd",
   "metadata": {
    "tags": []
   },
   "outputs": [
    {
     "data": {
      "text/plain": [
       "[0.147150159,\n",
       " -1.48788226,\n",
       " -1.0046488,\n",
       " -1.43624222,\n",
       " 1.11030161,\n",
       " -1.96916246,\n",
       " 0.84109509,\n",
       " -0.0633563995,\n",
       " -0.29277122,\n",
       " -0.875347257,\n",
       " -1.06634223,\n",
       " -2.20151544,\n",
       " 0.837251902,\n",
       " 0.576067388,\n",
       " 14.2200069,\n",
       " -0.192039028,\n",
       " 0.26887089,\n",
       " -0.562351048,\n",
       " 2.14600611,\n",
       " 2.0102005,\n",
       " 1.10094047,\n",
       " 1.0866766,\n",
       " -1.09782887,\n",
       " -0.125524729,\n",
       " -0.477604687,\n",
       " 0.265984416,\n",
       " -0.181624517,\n",
       " -0.490395576,\n",
       " 0.803150117,\n",
       " -0.186542019,\n",
       " 0.535703421,\n",
       " 1.83786225,\n",
       " 1.24570167,\n",
       " 0.328924447,\n",
       " -0.522040427,\n",
       " 0.0534615815,\n",
       " -2.11847186,\n",
       " 1.54371047,\n",
       " -1.56319118,\n",
       " 0.149890989,\n",
       " 0.117554486,\n",
       " -0.581063807,\n",
       " -0.00612431765,\n",
       " -0.226858884,\n",
       " -0.410513818,\n",
       " 0.0340107083,\n",
       " -0.126752153,\n",
       " -0.944504499,\n",
       " 0.573577344,\n",
       " -0.577696919,\n",
       " -1.37565219,\n",
       " 2.177073,\n",
       " -0.582059503,\n",
       " -0.000380992889,\n",
       " -0.316499949,\n",
       " 0.10597451,\n",
       " -0.350477397,\n",
       " -2.00846767,\n",
       " 0.533096671,\n",
       " -0.318799466,\n",
       " -0.105635345,\n",
       " -1.61672711,\n",
       " 0.483250529,\n",
       " -0.359349281,\n",
       " -0.34454453,\n",
       " 0.395595312]"
      ]
     },
     "execution_count": 41,
     "metadata": {},
     "output_type": "execute_result"
    }
   ],
   "source": [
    "[sum(x) for x in zip(test)]"
   ]
  }
 ],
 "metadata": {
  "availableInstances": [
   {
    "_defaultOrder": 0,
    "_isFastLaunch": true,
    "category": "General purpose",
    "gpuNum": 0,
    "hideHardwareSpecs": false,
    "memoryGiB": 4,
    "name": "ml.t3.medium",
    "vcpuNum": 2
   },
   {
    "_defaultOrder": 1,
    "_isFastLaunch": false,
    "category": "General purpose",
    "gpuNum": 0,
    "hideHardwareSpecs": false,
    "memoryGiB": 8,
    "name": "ml.t3.large",
    "vcpuNum": 2
   },
   {
    "_defaultOrder": 2,
    "_isFastLaunch": false,
    "category": "General purpose",
    "gpuNum": 0,
    "hideHardwareSpecs": false,
    "memoryGiB": 16,
    "name": "ml.t3.xlarge",
    "vcpuNum": 4
   },
   {
    "_defaultOrder": 3,
    "_isFastLaunch": false,
    "category": "General purpose",
    "gpuNum": 0,
    "hideHardwareSpecs": false,
    "memoryGiB": 32,
    "name": "ml.t3.2xlarge",
    "vcpuNum": 8
   },
   {
    "_defaultOrder": 4,
    "_isFastLaunch": true,
    "category": "General purpose",
    "gpuNum": 0,
    "hideHardwareSpecs": false,
    "memoryGiB": 8,
    "name": "ml.m5.large",
    "vcpuNum": 2
   },
   {
    "_defaultOrder": 5,
    "_isFastLaunch": false,
    "category": "General purpose",
    "gpuNum": 0,
    "hideHardwareSpecs": false,
    "memoryGiB": 16,
    "name": "ml.m5.xlarge",
    "vcpuNum": 4
   },
   {
    "_defaultOrder": 6,
    "_isFastLaunch": false,
    "category": "General purpose",
    "gpuNum": 0,
    "hideHardwareSpecs": false,
    "memoryGiB": 32,
    "name": "ml.m5.2xlarge",
    "vcpuNum": 8
   },
   {
    "_defaultOrder": 7,
    "_isFastLaunch": false,
    "category": "General purpose",
    "gpuNum": 0,
    "hideHardwareSpecs": false,
    "memoryGiB": 64,
    "name": "ml.m5.4xlarge",
    "vcpuNum": 16
   },
   {
    "_defaultOrder": 8,
    "_isFastLaunch": false,
    "category": "General purpose",
    "gpuNum": 0,
    "hideHardwareSpecs": false,
    "memoryGiB": 128,
    "name": "ml.m5.8xlarge",
    "vcpuNum": 32
   },
   {
    "_defaultOrder": 9,
    "_isFastLaunch": false,
    "category": "General purpose",
    "gpuNum": 0,
    "hideHardwareSpecs": false,
    "memoryGiB": 192,
    "name": "ml.m5.12xlarge",
    "vcpuNum": 48
   },
   {
    "_defaultOrder": 10,
    "_isFastLaunch": false,
    "category": "General purpose",
    "gpuNum": 0,
    "hideHardwareSpecs": false,
    "memoryGiB": 256,
    "name": "ml.m5.16xlarge",
    "vcpuNum": 64
   },
   {
    "_defaultOrder": 11,
    "_isFastLaunch": false,
    "category": "General purpose",
    "gpuNum": 0,
    "hideHardwareSpecs": false,
    "memoryGiB": 384,
    "name": "ml.m5.24xlarge",
    "vcpuNum": 96
   },
   {
    "_defaultOrder": 12,
    "_isFastLaunch": false,
    "category": "General purpose",
    "gpuNum": 0,
    "hideHardwareSpecs": false,
    "memoryGiB": 8,
    "name": "ml.m5d.large",
    "vcpuNum": 2
   },
   {
    "_defaultOrder": 13,
    "_isFastLaunch": false,
    "category": "General purpose",
    "gpuNum": 0,
    "hideHardwareSpecs": false,
    "memoryGiB": 16,
    "name": "ml.m5d.xlarge",
    "vcpuNum": 4
   },
   {
    "_defaultOrder": 14,
    "_isFastLaunch": false,
    "category": "General purpose",
    "gpuNum": 0,
    "hideHardwareSpecs": false,
    "memoryGiB": 32,
    "name": "ml.m5d.2xlarge",
    "vcpuNum": 8
   },
   {
    "_defaultOrder": 15,
    "_isFastLaunch": false,
    "category": "General purpose",
    "gpuNum": 0,
    "hideHardwareSpecs": false,
    "memoryGiB": 64,
    "name": "ml.m5d.4xlarge",
    "vcpuNum": 16
   },
   {
    "_defaultOrder": 16,
    "_isFastLaunch": false,
    "category": "General purpose",
    "gpuNum": 0,
    "hideHardwareSpecs": false,
    "memoryGiB": 128,
    "name": "ml.m5d.8xlarge",
    "vcpuNum": 32
   },
   {
    "_defaultOrder": 17,
    "_isFastLaunch": false,
    "category": "General purpose",
    "gpuNum": 0,
    "hideHardwareSpecs": false,
    "memoryGiB": 192,
    "name": "ml.m5d.12xlarge",
    "vcpuNum": 48
   },
   {
    "_defaultOrder": 18,
    "_isFastLaunch": false,
    "category": "General purpose",
    "gpuNum": 0,
    "hideHardwareSpecs": false,
    "memoryGiB": 256,
    "name": "ml.m5d.16xlarge",
    "vcpuNum": 64
   },
   {
    "_defaultOrder": 19,
    "_isFastLaunch": false,
    "category": "General purpose",
    "gpuNum": 0,
    "hideHardwareSpecs": false,
    "memoryGiB": 384,
    "name": "ml.m5d.24xlarge",
    "vcpuNum": 96
   },
   {
    "_defaultOrder": 20,
    "_isFastLaunch": false,
    "category": "General purpose",
    "gpuNum": 0,
    "hideHardwareSpecs": true,
    "memoryGiB": 0,
    "name": "ml.geospatial.interactive",
    "supportedImageNames": [
     "sagemaker-geospatial-v1-0"
    ],
    "vcpuNum": 0
   },
   {
    "_defaultOrder": 21,
    "_isFastLaunch": true,
    "category": "Compute optimized",
    "gpuNum": 0,
    "hideHardwareSpecs": false,
    "memoryGiB": 4,
    "name": "ml.c5.large",
    "vcpuNum": 2
   },
   {
    "_defaultOrder": 22,
    "_isFastLaunch": false,
    "category": "Compute optimized",
    "gpuNum": 0,
    "hideHardwareSpecs": false,
    "memoryGiB": 8,
    "name": "ml.c5.xlarge",
    "vcpuNum": 4
   },
   {
    "_defaultOrder": 23,
    "_isFastLaunch": false,
    "category": "Compute optimized",
    "gpuNum": 0,
    "hideHardwareSpecs": false,
    "memoryGiB": 16,
    "name": "ml.c5.2xlarge",
    "vcpuNum": 8
   },
   {
    "_defaultOrder": 24,
    "_isFastLaunch": false,
    "category": "Compute optimized",
    "gpuNum": 0,
    "hideHardwareSpecs": false,
    "memoryGiB": 32,
    "name": "ml.c5.4xlarge",
    "vcpuNum": 16
   },
   {
    "_defaultOrder": 25,
    "_isFastLaunch": false,
    "category": "Compute optimized",
    "gpuNum": 0,
    "hideHardwareSpecs": false,
    "memoryGiB": 72,
    "name": "ml.c5.9xlarge",
    "vcpuNum": 36
   },
   {
    "_defaultOrder": 26,
    "_isFastLaunch": false,
    "category": "Compute optimized",
    "gpuNum": 0,
    "hideHardwareSpecs": false,
    "memoryGiB": 96,
    "name": "ml.c5.12xlarge",
    "vcpuNum": 48
   },
   {
    "_defaultOrder": 27,
    "_isFastLaunch": false,
    "category": "Compute optimized",
    "gpuNum": 0,
    "hideHardwareSpecs": false,
    "memoryGiB": 144,
    "name": "ml.c5.18xlarge",
    "vcpuNum": 72
   },
   {
    "_defaultOrder": 28,
    "_isFastLaunch": false,
    "category": "Compute optimized",
    "gpuNum": 0,
    "hideHardwareSpecs": false,
    "memoryGiB": 192,
    "name": "ml.c5.24xlarge",
    "vcpuNum": 96
   },
   {
    "_defaultOrder": 29,
    "_isFastLaunch": true,
    "category": "Accelerated computing",
    "gpuNum": 1,
    "hideHardwareSpecs": false,
    "memoryGiB": 16,
    "name": "ml.g4dn.xlarge",
    "vcpuNum": 4
   },
   {
    "_defaultOrder": 30,
    "_isFastLaunch": false,
    "category": "Accelerated computing",
    "gpuNum": 1,
    "hideHardwareSpecs": false,
    "memoryGiB": 32,
    "name": "ml.g4dn.2xlarge",
    "vcpuNum": 8
   },
   {
    "_defaultOrder": 31,
    "_isFastLaunch": false,
    "category": "Accelerated computing",
    "gpuNum": 1,
    "hideHardwareSpecs": false,
    "memoryGiB": 64,
    "name": "ml.g4dn.4xlarge",
    "vcpuNum": 16
   },
   {
    "_defaultOrder": 32,
    "_isFastLaunch": false,
    "category": "Accelerated computing",
    "gpuNum": 1,
    "hideHardwareSpecs": false,
    "memoryGiB": 128,
    "name": "ml.g4dn.8xlarge",
    "vcpuNum": 32
   },
   {
    "_defaultOrder": 33,
    "_isFastLaunch": false,
    "category": "Accelerated computing",
    "gpuNum": 4,
    "hideHardwareSpecs": false,
    "memoryGiB": 192,
    "name": "ml.g4dn.12xlarge",
    "vcpuNum": 48
   },
   {
    "_defaultOrder": 34,
    "_isFastLaunch": false,
    "category": "Accelerated computing",
    "gpuNum": 1,
    "hideHardwareSpecs": false,
    "memoryGiB": 256,
    "name": "ml.g4dn.16xlarge",
    "vcpuNum": 64
   },
   {
    "_defaultOrder": 35,
    "_isFastLaunch": false,
    "category": "Accelerated computing",
    "gpuNum": 1,
    "hideHardwareSpecs": false,
    "memoryGiB": 61,
    "name": "ml.p3.2xlarge",
    "vcpuNum": 8
   },
   {
    "_defaultOrder": 36,
    "_isFastLaunch": false,
    "category": "Accelerated computing",
    "gpuNum": 4,
    "hideHardwareSpecs": false,
    "memoryGiB": 244,
    "name": "ml.p3.8xlarge",
    "vcpuNum": 32
   },
   {
    "_defaultOrder": 37,
    "_isFastLaunch": false,
    "category": "Accelerated computing",
    "gpuNum": 8,
    "hideHardwareSpecs": false,
    "memoryGiB": 488,
    "name": "ml.p3.16xlarge",
    "vcpuNum": 64
   },
   {
    "_defaultOrder": 38,
    "_isFastLaunch": false,
    "category": "Accelerated computing",
    "gpuNum": 8,
    "hideHardwareSpecs": false,
    "memoryGiB": 768,
    "name": "ml.p3dn.24xlarge",
    "vcpuNum": 96
   },
   {
    "_defaultOrder": 39,
    "_isFastLaunch": false,
    "category": "Memory Optimized",
    "gpuNum": 0,
    "hideHardwareSpecs": false,
    "memoryGiB": 16,
    "name": "ml.r5.large",
    "vcpuNum": 2
   },
   {
    "_defaultOrder": 40,
    "_isFastLaunch": false,
    "category": "Memory Optimized",
    "gpuNum": 0,
    "hideHardwareSpecs": false,
    "memoryGiB": 32,
    "name": "ml.r5.xlarge",
    "vcpuNum": 4
   },
   {
    "_defaultOrder": 41,
    "_isFastLaunch": false,
    "category": "Memory Optimized",
    "gpuNum": 0,
    "hideHardwareSpecs": false,
    "memoryGiB": 64,
    "name": "ml.r5.2xlarge",
    "vcpuNum": 8
   },
   {
    "_defaultOrder": 42,
    "_isFastLaunch": false,
    "category": "Memory Optimized",
    "gpuNum": 0,
    "hideHardwareSpecs": false,
    "memoryGiB": 128,
    "name": "ml.r5.4xlarge",
    "vcpuNum": 16
   },
   {
    "_defaultOrder": 43,
    "_isFastLaunch": false,
    "category": "Memory Optimized",
    "gpuNum": 0,
    "hideHardwareSpecs": false,
    "memoryGiB": 256,
    "name": "ml.r5.8xlarge",
    "vcpuNum": 32
   },
   {
    "_defaultOrder": 44,
    "_isFastLaunch": false,
    "category": "Memory Optimized",
    "gpuNum": 0,
    "hideHardwareSpecs": false,
    "memoryGiB": 384,
    "name": "ml.r5.12xlarge",
    "vcpuNum": 48
   },
   {
    "_defaultOrder": 45,
    "_isFastLaunch": false,
    "category": "Memory Optimized",
    "gpuNum": 0,
    "hideHardwareSpecs": false,
    "memoryGiB": 512,
    "name": "ml.r5.16xlarge",
    "vcpuNum": 64
   },
   {
    "_defaultOrder": 46,
    "_isFastLaunch": false,
    "category": "Memory Optimized",
    "gpuNum": 0,
    "hideHardwareSpecs": false,
    "memoryGiB": 768,
    "name": "ml.r5.24xlarge",
    "vcpuNum": 96
   },
   {
    "_defaultOrder": 47,
    "_isFastLaunch": false,
    "category": "Accelerated computing",
    "gpuNum": 1,
    "hideHardwareSpecs": false,
    "memoryGiB": 16,
    "name": "ml.g5.xlarge",
    "vcpuNum": 4
   },
   {
    "_defaultOrder": 48,
    "_isFastLaunch": false,
    "category": "Accelerated computing",
    "gpuNum": 1,
    "hideHardwareSpecs": false,
    "memoryGiB": 32,
    "name": "ml.g5.2xlarge",
    "vcpuNum": 8
   },
   {
    "_defaultOrder": 49,
    "_isFastLaunch": false,
    "category": "Accelerated computing",
    "gpuNum": 1,
    "hideHardwareSpecs": false,
    "memoryGiB": 64,
    "name": "ml.g5.4xlarge",
    "vcpuNum": 16
   },
   {
    "_defaultOrder": 50,
    "_isFastLaunch": false,
    "category": "Accelerated computing",
    "gpuNum": 1,
    "hideHardwareSpecs": false,
    "memoryGiB": 128,
    "name": "ml.g5.8xlarge",
    "vcpuNum": 32
   },
   {
    "_defaultOrder": 51,
    "_isFastLaunch": false,
    "category": "Accelerated computing",
    "gpuNum": 1,
    "hideHardwareSpecs": false,
    "memoryGiB": 256,
    "name": "ml.g5.16xlarge",
    "vcpuNum": 64
   },
   {
    "_defaultOrder": 52,
    "_isFastLaunch": false,
    "category": "Accelerated computing",
    "gpuNum": 4,
    "hideHardwareSpecs": false,
    "memoryGiB": 192,
    "name": "ml.g5.12xlarge",
    "vcpuNum": 48
   },
   {
    "_defaultOrder": 53,
    "_isFastLaunch": false,
    "category": "Accelerated computing",
    "gpuNum": 4,
    "hideHardwareSpecs": false,
    "memoryGiB": 384,
    "name": "ml.g5.24xlarge",
    "vcpuNum": 96
   },
   {
    "_defaultOrder": 54,
    "_isFastLaunch": false,
    "category": "Accelerated computing",
    "gpuNum": 8,
    "hideHardwareSpecs": false,
    "memoryGiB": 768,
    "name": "ml.g5.48xlarge",
    "vcpuNum": 192
   },
   {
    "_defaultOrder": 55,
    "_isFastLaunch": false,
    "category": "Accelerated computing",
    "gpuNum": 8,
    "hideHardwareSpecs": false,
    "memoryGiB": 1152,
    "name": "ml.p4d.24xlarge",
    "vcpuNum": 96
   },
   {
    "_defaultOrder": 56,
    "_isFastLaunch": false,
    "category": "Accelerated computing",
    "gpuNum": 8,
    "hideHardwareSpecs": false,
    "memoryGiB": 1152,
    "name": "ml.p4de.24xlarge",
    "vcpuNum": 96
   }
  ],
  "instance_type": "ml.m5.large",
  "kernelspec": {
   "display_name": "GDSC (custom-gdsc/1)",
   "language": "python",
   "name": "python3__SAGEMAKER_INTERNAL__arn:aws:sagemaker:us-east-1:292159885427:image-version/custom-gdsc/1"
  },
  "language_info": {
   "codemirror_mode": {
    "name": "ipython",
    "version": 3
   },
   "file_extension": ".py",
   "mimetype": "text/x-python",
   "name": "python",
   "nbconvert_exporter": "python",
   "pygments_lexer": "ipython3",
   "version": "3.10.8"
  },
  "lcc_arn": "arn:aws:sagemaker:us-east-1:292159885427:studio-lifecycle-config/clean-trash"
 },
 "nbformat": 4,
 "nbformat_minor": 5
}
